{
 "cells": [
  {
   "cell_type": "markdown",
   "id": "60e26f73",
   "metadata": {},
   "source": [
    "# SimpleRNN on SineWave"
   ]
  },
  {
   "cell_type": "markdown",
   "id": "e46d36a9",
   "metadata": {},
   "source": [
    "The goal of this project is to implement a simple Recurrent Neural Network (RNN) model to predict the values of a sine wave. The RNN will be trained on a sequence of sine wave data points and learn to predict the next value in the sequence."
   ]
  },
  {
   "cell_type": "markdown",
   "id": "a99a379b",
   "metadata": {},
   "source": [
    "# Importing Libraries"
   ]
  },
  {
   "cell_type": "markdown",
   "id": "de6072be",
   "metadata": {},
   "source": [
    "These are just a few examples of popular Python libraries. You can import any other library using the same import statement followed by the library name or alias:"
   ]
  },
  {
   "cell_type": "markdown",
   "id": "c5cac610",
   "metadata": {},
   "source": [
    "NumPy: for numerical operations and array manipulation\n",
    "\n",
    "Pandas: for data manipulation and analysis\n",
    "\n",
    "Matplotlib: for creating visualizations\n",
    "\n",
    "Scikit-learn: for machine learning algorithms"
   ]
  },
  {
   "cell_type": "code",
   "execution_count": 2,
   "id": "c3c223d3",
   "metadata": {},
   "outputs": [],
   "source": [
    "import pandas as pd\n",
    "import numpy as np\n",
    "import matplotlib.pyplot as plt\n",
    "import seaborn as sns\n",
    "%matplotlib inline"
   ]
  },
  {
   "cell_type": "markdown",
   "id": "a9ecd043",
   "metadata": {},
   "source": [
    "# Making DataFrame"
   ]
  },
  {
   "cell_type": "code",
   "execution_count": 3,
   "id": "1ea6c727",
   "metadata": {},
   "outputs": [],
   "source": [
    "x = np.linspace(0,50,501)\n",
    "y = np.sin(x)"
   ]
  },
  {
   "cell_type": "code",
   "execution_count": 4,
   "id": "e883d1eb",
   "metadata": {},
   "outputs": [
    {
     "data": {
      "text/plain": [
       "array([ 0. ,  0.1,  0.2,  0.3,  0.4,  0.5,  0.6,  0.7,  0.8,  0.9,  1. ,\n",
       "        1.1,  1.2,  1.3,  1.4,  1.5,  1.6,  1.7,  1.8,  1.9,  2. ,  2.1,\n",
       "        2.2,  2.3,  2.4,  2.5,  2.6,  2.7,  2.8,  2.9,  3. ,  3.1,  3.2,\n",
       "        3.3,  3.4,  3.5,  3.6,  3.7,  3.8,  3.9,  4. ,  4.1,  4.2,  4.3,\n",
       "        4.4,  4.5,  4.6,  4.7,  4.8,  4.9,  5. ,  5.1,  5.2,  5.3,  5.4,\n",
       "        5.5,  5.6,  5.7,  5.8,  5.9,  6. ,  6.1,  6.2,  6.3,  6.4,  6.5,\n",
       "        6.6,  6.7,  6.8,  6.9,  7. ,  7.1,  7.2,  7.3,  7.4,  7.5,  7.6,\n",
       "        7.7,  7.8,  7.9,  8. ,  8.1,  8.2,  8.3,  8.4,  8.5,  8.6,  8.7,\n",
       "        8.8,  8.9,  9. ,  9.1,  9.2,  9.3,  9.4,  9.5,  9.6,  9.7,  9.8,\n",
       "        9.9, 10. , 10.1, 10.2, 10.3, 10.4, 10.5, 10.6, 10.7, 10.8, 10.9,\n",
       "       11. , 11.1, 11.2, 11.3, 11.4, 11.5, 11.6, 11.7, 11.8, 11.9, 12. ,\n",
       "       12.1, 12.2, 12.3, 12.4, 12.5, 12.6, 12.7, 12.8, 12.9, 13. , 13.1,\n",
       "       13.2, 13.3, 13.4, 13.5, 13.6, 13.7, 13.8, 13.9, 14. , 14.1, 14.2,\n",
       "       14.3, 14.4, 14.5, 14.6, 14.7, 14.8, 14.9, 15. , 15.1, 15.2, 15.3,\n",
       "       15.4, 15.5, 15.6, 15.7, 15.8, 15.9, 16. , 16.1, 16.2, 16.3, 16.4,\n",
       "       16.5, 16.6, 16.7, 16.8, 16.9, 17. , 17.1, 17.2, 17.3, 17.4, 17.5,\n",
       "       17.6, 17.7, 17.8, 17.9, 18. , 18.1, 18.2, 18.3, 18.4, 18.5, 18.6,\n",
       "       18.7, 18.8, 18.9, 19. , 19.1, 19.2, 19.3, 19.4, 19.5, 19.6, 19.7,\n",
       "       19.8, 19.9, 20. , 20.1, 20.2, 20.3, 20.4, 20.5, 20.6, 20.7, 20.8,\n",
       "       20.9, 21. , 21.1, 21.2, 21.3, 21.4, 21.5, 21.6, 21.7, 21.8, 21.9,\n",
       "       22. , 22.1, 22.2, 22.3, 22.4, 22.5, 22.6, 22.7, 22.8, 22.9, 23. ,\n",
       "       23.1, 23.2, 23.3, 23.4, 23.5, 23.6, 23.7, 23.8, 23.9, 24. , 24.1,\n",
       "       24.2, 24.3, 24.4, 24.5, 24.6, 24.7, 24.8, 24.9, 25. , 25.1, 25.2,\n",
       "       25.3, 25.4, 25.5, 25.6, 25.7, 25.8, 25.9, 26. , 26.1, 26.2, 26.3,\n",
       "       26.4, 26.5, 26.6, 26.7, 26.8, 26.9, 27. , 27.1, 27.2, 27.3, 27.4,\n",
       "       27.5, 27.6, 27.7, 27.8, 27.9, 28. , 28.1, 28.2, 28.3, 28.4, 28.5,\n",
       "       28.6, 28.7, 28.8, 28.9, 29. , 29.1, 29.2, 29.3, 29.4, 29.5, 29.6,\n",
       "       29.7, 29.8, 29.9, 30. , 30.1, 30.2, 30.3, 30.4, 30.5, 30.6, 30.7,\n",
       "       30.8, 30.9, 31. , 31.1, 31.2, 31.3, 31.4, 31.5, 31.6, 31.7, 31.8,\n",
       "       31.9, 32. , 32.1, 32.2, 32.3, 32.4, 32.5, 32.6, 32.7, 32.8, 32.9,\n",
       "       33. , 33.1, 33.2, 33.3, 33.4, 33.5, 33.6, 33.7, 33.8, 33.9, 34. ,\n",
       "       34.1, 34.2, 34.3, 34.4, 34.5, 34.6, 34.7, 34.8, 34.9, 35. , 35.1,\n",
       "       35.2, 35.3, 35.4, 35.5, 35.6, 35.7, 35.8, 35.9, 36. , 36.1, 36.2,\n",
       "       36.3, 36.4, 36.5, 36.6, 36.7, 36.8, 36.9, 37. , 37.1, 37.2, 37.3,\n",
       "       37.4, 37.5, 37.6, 37.7, 37.8, 37.9, 38. , 38.1, 38.2, 38.3, 38.4,\n",
       "       38.5, 38.6, 38.7, 38.8, 38.9, 39. , 39.1, 39.2, 39.3, 39.4, 39.5,\n",
       "       39.6, 39.7, 39.8, 39.9, 40. , 40.1, 40.2, 40.3, 40.4, 40.5, 40.6,\n",
       "       40.7, 40.8, 40.9, 41. , 41.1, 41.2, 41.3, 41.4, 41.5, 41.6, 41.7,\n",
       "       41.8, 41.9, 42. , 42.1, 42.2, 42.3, 42.4, 42.5, 42.6, 42.7, 42.8,\n",
       "       42.9, 43. , 43.1, 43.2, 43.3, 43.4, 43.5, 43.6, 43.7, 43.8, 43.9,\n",
       "       44. , 44.1, 44.2, 44.3, 44.4, 44.5, 44.6, 44.7, 44.8, 44.9, 45. ,\n",
       "       45.1, 45.2, 45.3, 45.4, 45.5, 45.6, 45.7, 45.8, 45.9, 46. , 46.1,\n",
       "       46.2, 46.3, 46.4, 46.5, 46.6, 46.7, 46.8, 46.9, 47. , 47.1, 47.2,\n",
       "       47.3, 47.4, 47.5, 47.6, 47.7, 47.8, 47.9, 48. , 48.1, 48.2, 48.3,\n",
       "       48.4, 48.5, 48.6, 48.7, 48.8, 48.9, 49. , 49.1, 49.2, 49.3, 49.4,\n",
       "       49.5, 49.6, 49.7, 49.8, 49.9, 50. ])"
      ]
     },
     "execution_count": 4,
     "metadata": {},
     "output_type": "execute_result"
    }
   ],
   "source": [
    "x"
   ]
  },
  {
   "cell_type": "code",
   "execution_count": 5,
   "id": "3aba644f",
   "metadata": {
    "scrolled": false
   },
   "outputs": [
    {
     "data": {
      "text/plain": [
       "array([ 0.00000000e+00,  9.98334166e-02,  1.98669331e-01,  2.95520207e-01,\n",
       "        3.89418342e-01,  4.79425539e-01,  5.64642473e-01,  6.44217687e-01,\n",
       "        7.17356091e-01,  7.83326910e-01,  8.41470985e-01,  8.91207360e-01,\n",
       "        9.32039086e-01,  9.63558185e-01,  9.85449730e-01,  9.97494987e-01,\n",
       "        9.99573603e-01,  9.91664810e-01,  9.73847631e-01,  9.46300088e-01,\n",
       "        9.09297427e-01,  8.63209367e-01,  8.08496404e-01,  7.45705212e-01,\n",
       "        6.75463181e-01,  5.98472144e-01,  5.15501372e-01,  4.27379880e-01,\n",
       "        3.34988150e-01,  2.39249329e-01,  1.41120008e-01,  4.15806624e-02,\n",
       "       -5.83741434e-02, -1.57745694e-01, -2.55541102e-01, -3.50783228e-01,\n",
       "       -4.42520443e-01, -5.29836141e-01, -6.11857891e-01, -6.87766159e-01,\n",
       "       -7.56802495e-01, -8.18277111e-01, -8.71575772e-01, -9.16165937e-01,\n",
       "       -9.51602074e-01, -9.77530118e-01, -9.93691004e-01, -9.99923258e-01,\n",
       "       -9.96164609e-01, -9.82452613e-01, -9.58924275e-01, -9.25814682e-01,\n",
       "       -8.83454656e-01, -8.32267442e-01, -7.72764488e-01, -7.05540326e-01,\n",
       "       -6.31266638e-01, -5.50685543e-01, -4.64602179e-01, -3.73876665e-01,\n",
       "       -2.79415498e-01, -1.82162504e-01, -8.30894028e-02,  1.68139005e-02,\n",
       "        1.16549205e-01,  2.15119988e-01,  3.11541364e-01,  4.04849921e-01,\n",
       "        4.94113351e-01,  5.78439764e-01,  6.56986599e-01,  7.28969040e-01,\n",
       "        7.93667864e-01,  8.50436621e-01,  8.98708096e-01,  9.37999977e-01,\n",
       "        9.67919672e-01,  9.88168234e-01,  9.98543345e-01,  9.98941342e-01,\n",
       "        9.89358247e-01,  9.69889811e-01,  9.40730557e-01,  9.02171834e-01,\n",
       "        8.54598908e-01,  7.98487113e-01,  7.34397098e-01,  6.62969230e-01,\n",
       "        5.84917193e-01,  5.01020856e-01,  4.12118485e-01,  3.19098362e-01,\n",
       "        2.22889914e-01,  1.24454424e-01,  2.47754255e-02, -7.51511205e-02,\n",
       "       -1.74326781e-01, -2.71760626e-01, -3.66479129e-01, -4.57535894e-01,\n",
       "       -5.44021111e-01, -6.25070649e-01, -6.99874688e-01, -7.67685810e-01,\n",
       "       -8.27826469e-01, -8.79695760e-01, -9.22775422e-01, -9.56635016e-01,\n",
       "       -9.80936230e-01, -9.95436253e-01, -9.99990207e-01, -9.94552588e-01,\n",
       "       -9.79177729e-01, -9.54019250e-01, -9.19328526e-01, -8.75452175e-01,\n",
       "       -8.22828595e-01, -7.61983584e-01, -6.93525085e-01, -6.18137112e-01,\n",
       "       -5.36572918e-01, -4.49647465e-01, -3.58229282e-01, -2.63231791e-01,\n",
       "       -1.65604175e-01, -6.63218974e-02,  3.36230472e-02,  1.33232041e-01,\n",
       "        2.31509825e-01,  3.27474439e-01,  4.20167037e-01,  5.08661464e-01,\n",
       "        5.92073515e-01,  6.69569762e-01,  7.40375890e-01,  8.03784427e-01,\n",
       "        8.59161815e-01,  9.05954742e-01,  9.43695669e-01,  9.72007501e-01,\n",
       "        9.90607356e-01,  9.99309389e-01,  9.98026653e-01,  9.86771964e-01,\n",
       "        9.65657777e-01,  9.34895056e-01,  8.94791172e-01,  8.45746831e-01,\n",
       "        7.88252067e-01,  7.22881350e-01,  6.50287840e-01,  5.71196870e-01,\n",
       "        4.86398689e-01,  3.96740573e-01,  3.03118357e-01,  2.06467482e-01,\n",
       "        1.07753652e-01,  7.96318379e-03, -9.19068502e-02, -1.90858581e-01,\n",
       "       -2.87903317e-01, -3.82071417e-01, -4.72421986e-01, -5.58052271e-01,\n",
       "       -6.38106682e-01, -7.11785342e-01, -7.78352079e-01, -8.37141778e-01,\n",
       "       -8.87567034e-01, -9.29124013e-01, -9.61397492e-01, -9.84065005e-01,\n",
       "       -9.96900066e-01, -9.99774431e-01, -9.92659380e-01, -9.75626005e-01,\n",
       "       -9.48844498e-01, -9.12582450e-01, -8.67202179e-01, -8.13157112e-01,\n",
       "       -7.50987247e-01, -6.81313766e-01, -6.04832822e-01, -5.22308590e-01,\n",
       "       -4.34565622e-01, -3.42480618e-01, -2.46973662e-01, -1.48999026e-01,\n",
       "       -4.95356409e-02,  5.04226878e-02,  1.49877210e-01,  2.47834208e-01,\n",
       "        3.43314929e-01,  4.35365360e-01,  5.23065765e-01,  6.05539870e-01,\n",
       "        6.81963620e-01,  7.51573415e-01,  8.13673738e-01,  8.67644101e-01,\n",
       "        9.12945251e-01,  9.49124554e-01,  9.75820518e-01,  9.92766406e-01,\n",
       "        9.99792900e-01,  9.96829794e-01,  9.83906695e-01,  9.61152725e-01,\n",
       "        9.28795234e-01,  8.87157529e-01,  8.36655639e-01,  7.77794162e-01,\n",
       "        7.11161223e-01,  6.37422596e-01,  5.57315054e-01,  4.71639003e-01,\n",
       "        3.81250492e-01,  2.87052651e-01,  1.89986676e-01,  9.10224162e-02,\n",
       "       -8.85130929e-03, -1.08636595e-01, -2.07336421e-01, -3.03964609e-01,\n",
       "       -3.97555683e-01, -4.87174512e-01, -5.71925655e-01, -6.50962306e-01,\n",
       "       -7.23494756e-01, -7.88798286e-01, -8.46220404e-01, -8.95187368e-01,\n",
       "       -9.35209915e-01, -9.65888154e-01, -9.86915558e-01, -9.98082028e-01,\n",
       "       -9.99275992e-01, -9.90485521e-01, -9.71798446e-01, -9.43401482e-01,\n",
       "       -9.05578362e-01, -8.58707003e-01, -8.03255727e-01, -7.39778585e-01,\n",
       "       -6.68909820e-01, -5.91357530e-01, -5.07896590e-01, -4.19360916e-01,\n",
       "       -3.26635126e-01, -2.30645706e-01, -1.32351750e-01, -3.27353793e-02,\n",
       "        6.72080725e-02,  1.66480004e-01,  2.64088521e-01,  3.59058354e-01,\n",
       "        4.50440594e-01,  5.37322181e-01,  6.18835022e-01,  6.94164668e-01,\n",
       "        7.62558450e-01,  8.23333001e-01,  8.75881080e-01,  9.19677645e-01,\n",
       "        9.54285094e-01,  9.79357643e-01,  9.94644774e-01,  9.99993743e-01,\n",
       "        9.95351105e-01,  9.80763248e-01,  9.56375928e-01,  9.22432817e-01,\n",
       "        8.79273062e-01,  8.27327901e-01,  7.67116353e-01,  6.99240032e-01,\n",
       "        6.24377135e-01,  5.43275669e-01,  4.56745972e-01,  3.65652620e-01,\n",
       "        2.70905788e-01,  1.73452155e-01,  7.42654456e-02, -2.56632999e-02,\n",
       "       -1.25335626e-01, -2.23755640e-01, -3.19939962e-01, -4.12927549e-01,\n",
       "       -5.01789301e-01, -5.85637340e-01, -6.63633884e-01, -7.34999618e-01,\n",
       "       -7.99021479e-01, -8.55059781e-01, -9.02554608e-01, -9.41031408e-01,\n",
       "       -9.70105734e-01, -9.89487083e-01, -9.98981805e-01, -9.98495031e-01,\n",
       "       -9.88031624e-01, -9.67696132e-01, -9.37691740e-01, -8.98318243e-01,\n",
       "       -8.49969046e-01, -7.93127239e-01, -7.28360768e-01, -6.56316756e-01,\n",
       "       -5.77715044e-01, -4.93340995e-01, -4.04037645e-01, -3.10697285e-01,\n",
       "       -2.14252540e-01, -1.15667055e-01, -1.59258626e-02,  8.39744557e-02,\n",
       "        1.83035729e-01,  2.80268170e-01,  3.74700264e-01,  4.65388476e-01,\n",
       "        5.51426681e-01,  6.31955213e-01,  7.06169457e-01,  7.73327890e-01,\n",
       "        8.32759485e-01,  8.83870424e-01,  9.26150021e-01,  9.59175833e-01,\n",
       "        9.82617877e-01,  9.96241929e-01,  9.99911860e-01,  9.93591003e-01,\n",
       "        9.77342512e-01,  9.51328739e-01,  9.15809603e-01,  8.71140000e-01,\n",
       "        8.17766255e-01,  7.56221659e-01,  6.87121146e-01,  6.11155146e-01,\n",
       "        5.29082686e-01,  4.41723807e-01,  3.49951369e-01,  2.54682333e-01,\n",
       "        1.56868595e-01,  5.74874781e-02, -4.24680347e-02, -1.41999221e-01,\n",
       "       -2.40111598e-01, -3.35824859e-01, -4.28182669e-01, -5.16262220e-01,\n",
       "       -5.99183449e-01, -6.76117835e-01, -7.46296676e-01, -8.09018766e-01,\n",
       "       -8.63657409e-01, -9.09666672e-01, -9.46586846e-01, -9.74049038e-01,\n",
       "       -9.91778853e-01, -9.99599143e-01, -9.97431767e-01, -9.85298384e-01,\n",
       "       -9.63320224e-01, -9.31716888e-01, -8.90804144e-01, -8.40990780e-01,\n",
       "       -7.82774514e-01, -7.16737023e-01, -6.43538133e-01, -5.63909223e-01,\n",
       "       -4.78645919e-01, -3.88600142e-01, -2.94671602e-01, -1.97798800e-01,\n",
       "       -9.89496576e-02,  8.88156806e-04,  1.00717097e-01,  1.99539705e-01,\n",
       "        2.96368579e-01,  3.90236235e-01,  4.80204780e-01,  5.65375278e-01,\n",
       "        6.44896733e-01,  7.17974593e-01,  7.83878688e-01,  8.41950526e-01,\n",
       "        8.91609873e-01,  9.32360549e-01,  9.63795386e-01,  9.85600299e-01,\n",
       "        9.97557419e-01,  9.99547275e-01,  9.91549985e-01,  9.73645456e-01,\n",
       "        9.46012583e-01,  9.08927465e-01,  8.62760644e-01,  8.07973404e-01,\n",
       "        7.45113160e-01,  6.74807993e-01,  5.97760367e-01,  5.14740117e-01,\n",
       "        4.26576754e-01,  3.34151177e-01,  2.38386872e-01,  1.40240684e-01,\n",
       "        4.06932573e-02, -5.92607627e-02, -1.58622669e-01, -2.56399670e-01,\n",
       "       -3.51614810e-01, -4.43316731e-01, -5.30589178e-01, -6.12560153e-01,\n",
       "       -6.88410630e-01, -7.57382735e-01, -8.18787322e-01, -8.72010857e-01,\n",
       "       -9.16521548e-01, -9.51874658e-01, -9.77716952e-01, -9.93790221e-01,\n",
       "       -9.99933866e-01, -9.96086503e-01, -9.82286573e-01, -9.58671960e-01,\n",
       "       -9.25478614e-01, -8.83038191e-01, -8.31774743e-01, -7.72200476e-01,\n",
       "       -7.04910637e-01, -6.30577565e-01, -5.49943970e-01, -4.63815516e-01,\n",
       "       -3.73052771e-01, -2.78562606e-01, -1.81289136e-01, -8.22042844e-02,\n",
       "        1.77019251e-02,  1.17431263e-01,  2.15987266e-01,  3.12385196e-01,\n",
       "        4.05661877e-01,  4.94885318e-01,  5.79164028e-01,  6.57655923e-01,\n",
       "        7.29576737e-01,  7.94207862e-01,  8.50903525e-01,  8.99097240e-01,\n",
       "        9.38307473e-01,  9.68142448e-01,  9.88304064e-01,  9.98590872e-01,\n",
       "        9.98900091e-01,  9.89228630e-01,  9.69673123e-01,  9.40428963e-01,\n",
       "        9.01788348e-01,  8.54137361e-01,  7.97952117e-01,  7.33793998e-01,\n",
       "        6.62304053e-01,  5.84196584e-01,  5.00252017e-01,  4.11309096e-01,\n",
       "        3.18256511e-01,  2.22024012e-01,  1.23573123e-01,  2.38875315e-02,\n",
       "       -7.60367361e-02, -1.75201270e-01, -2.72615250e-01, -3.67305349e-01,\n",
       "       -4.58325454e-01, -5.44766123e-01, -6.25763669e-01, -7.00508791e-01,\n",
       "       -7.68254661e-01, -8.28324385e-01, -8.80117764e-01, -9.23117298e-01,\n",
       "       -9.56893350e-01, -9.81108439e-01, -9.95520616e-01, -9.99985881e-01,\n",
       "       -9.94459618e-01, -9.78997043e-01, -9.53752653e-01, -9.18978681e-01,\n",
       "       -8.75022579e-01, -8.22323540e-01, -7.61408116e-01, -6.92884954e-01,\n",
       "       -6.17438715e-01, -5.35823232e-01, -4.48853980e-01, -3.57399928e-01,\n",
       "       -2.62374854e-01])"
      ]
     },
     "execution_count": 5,
     "metadata": {},
     "output_type": "execute_result"
    }
   ],
   "source": [
    "y"
   ]
  },
  {
   "cell_type": "code",
   "execution_count": 6,
   "id": "2c5b9cd8",
   "metadata": {},
   "outputs": [
    {
     "data": {
      "text/plain": [
       "[<matplotlib.lines.Line2D at 0x22d12ba7970>]"
      ]
     },
     "execution_count": 6,
     "metadata": {},
     "output_type": "execute_result"
    },
    {
     "data": {
      "image/png": "[encoded data removed]",
      "text/plain": [
       "<Figure size 432x288 with 1 Axes>"
      ]
     },
     "metadata": {
      "needs_background": "light"
     },
     "output_type": "display_data"
    }
   ],
   "source": [
    "plt.plot(x, y)"
   ]
  },
  {
   "cell_type": "code",
   "execution_count": 7,
   "id": "c95b7462",
   "metadata": {},
   "outputs": [],
   "source": [
    "dataframe = pd.DataFrame(data = y, index = x, columns = ['Sine'])"
   ]
  },
  {
   "cell_type": "code",
   "execution_count": 8,
   "id": "9f495616",
   "metadata": {},
   "outputs": [
    {
     "data": {
      "text/html": [
       "<div>\n",
       "<style scoped>\n",
       "    .dataframe tbody tr th:only-of-type {\n",
       "        vertical-align: middle;\n",
       "    }\n",
       "\n",
       "    .dataframe tbody tr th {\n",
       "        vertical-align: top;\n",
       "    }\n",
       "\n",
       "    .dataframe thead th {\n",
       "        text-align: right;\n",
       "    }\n",
       "</style>\n",
       "<table border=\"1\" class=\"dataframe\">\n",
       "  <thead>\n",
       "    <tr style=\"text-align: right;\">\n",
       "      <th></th>\n",
       "      <th>Sine</th>\n",
       "    </tr>\n",
       "  </thead>\n",
       "  <tbody>\n",
       "    <tr>\n",
       "      <th>0.0</th>\n",
       "      <td>0.000000</td>\n",
       "    </tr>\n",
       "    <tr>\n",
       "      <th>0.1</th>\n",
       "      <td>0.099833</td>\n",
       "    </tr>\n",
       "    <tr>\n",
       "      <th>0.2</th>\n",
       "      <td>0.198669</td>\n",
       "    </tr>\n",
       "    <tr>\n",
       "      <th>0.3</th>\n",
       "      <td>0.295520</td>\n",
       "    </tr>\n",
       "    <tr>\n",
       "      <th>0.4</th>\n",
       "      <td>0.389418</td>\n",
       "    </tr>\n",
       "  </tbody>\n",
       "</table>\n",
       "</div>"
      ],
      "text/plain": [
       "         Sine\n",
       "0.0  0.000000\n",
       "0.1  0.099833\n",
       "0.2  0.198669\n",
       "0.3  0.295520\n",
       "0.4  0.389418"
      ]
     },
     "execution_count": 8,
     "metadata": {},
     "output_type": "execute_result"
    }
   ],
   "source": [
    "dataframe.head()"
   ]
  },
  {
   "cell_type": "code",
   "execution_count": 9,
   "id": "05e00169",
   "metadata": {},
   "outputs": [
    {
     "data": {
      "text/html": [
       "<div>\n",
       "<style scoped>\n",
       "    .dataframe tbody tr th:only-of-type {\n",
       "        vertical-align: middle;\n",
       "    }\n",
       "\n",
       "    .dataframe tbody tr th {\n",
       "        vertical-align: top;\n",
       "    }\n",
       "\n",
       "    .dataframe thead th {\n",
       "        text-align: right;\n",
       "    }\n",
       "</style>\n",
       "<table border=\"1\" class=\"dataframe\">\n",
       "  <thead>\n",
       "    <tr style=\"text-align: right;\">\n",
       "      <th></th>\n",
       "      <th>Sine</th>\n",
       "    </tr>\n",
       "  </thead>\n",
       "  <tbody>\n",
       "    <tr>\n",
       "      <th>49.6</th>\n",
       "      <td>-0.617439</td>\n",
       "    </tr>\n",
       "    <tr>\n",
       "      <th>49.7</th>\n",
       "      <td>-0.535823</td>\n",
       "    </tr>\n",
       "    <tr>\n",
       "      <th>49.8</th>\n",
       "      <td>-0.448854</td>\n",
       "    </tr>\n",
       "    <tr>\n",
       "      <th>49.9</th>\n",
       "      <td>-0.357400</td>\n",
       "    </tr>\n",
       "    <tr>\n",
       "      <th>50.0</th>\n",
       "      <td>-0.262375</td>\n",
       "    </tr>\n",
       "  </tbody>\n",
       "</table>\n",
       "</div>"
      ],
      "text/plain": [
       "          Sine\n",
       "49.6 -0.617439\n",
       "49.7 -0.535823\n",
       "49.8 -0.448854\n",
       "49.9 -0.357400\n",
       "50.0 -0.262375"
      ]
     },
     "execution_count": 9,
     "metadata": {},
     "output_type": "execute_result"
    }
   ],
   "source": [
    "dataframe.tail()"
   ]
  },
  {
   "cell_type": "code",
   "execution_count": 10,
   "id": "b98458f7",
   "metadata": {},
   "outputs": [],
   "source": [
    "test_percent = 0.1"
   ]
  },
  {
   "cell_type": "code",
   "execution_count": 12,
   "id": "4bb7ad6f",
   "metadata": {},
   "outputs": [],
   "source": [
    "test_point = np.round(len(dataframe)*test_percent)"
   ]
  },
  {
   "cell_type": "code",
   "execution_count": 13,
   "id": "cb119235",
   "metadata": {},
   "outputs": [],
   "source": [
    "test_index = int(len(dataframe) - test_point)"
   ]
  },
  {
   "cell_type": "code",
   "execution_count": 14,
   "id": "28911e13",
   "metadata": {},
   "outputs": [
    {
     "data": {
      "text/plain": [
       "451"
      ]
     },
     "execution_count": 14,
     "metadata": {},
     "output_type": "execute_result"
    }
   ],
   "source": [
    "test_index"
   ]
  },
  {
   "cell_type": "markdown",
   "id": "edabdcfc",
   "metadata": {},
   "source": [
    "# Splitting Dataset"
   ]
  },
  {
   "cell_type": "markdown",
   "id": "f4b68449",
   "metadata": {},
   "source": [
    "Dataset splitting is an important step in machine learning and data analysis. It involves dividing a dataset into two or more subsets to train and evaluate a model effectively. The most common type of dataset splitting is into training and testing subsets."
   ]
  },
  {
   "cell_type": "code",
   "execution_count": 15,
   "id": "59c0c73b",
   "metadata": {},
   "outputs": [],
   "source": [
    "train = dataframe.iloc[:test_index]\n",
    "test = dataframe.iloc[test_index:]"
   ]
  },
  {
   "cell_type": "markdown",
   "id": "e2457671",
   "metadata": {},
   "source": [
    "# Scaling"
   ]
  },
  {
   "cell_type": "markdown",
   "id": "5db26c7e",
   "metadata": {},
   "source": [
    "Scaling is a common preprocessing step in data analysis and machine learning. It involves transforming the features of a dataset to a standard scale, which can help improve the performance and stability of models"
   ]
  },
  {
   "cell_type": "markdown",
   "id": "f74dc065",
   "metadata": {},
   "source": [
    "MinMaxScaler is a popular scaling technique used in data preprocessing. It scales the features to a specified range, typically between 0 and 1. "
   ]
  },
  {
   "cell_type": "code",
   "execution_count": 16,
   "id": "19823214",
   "metadata": {},
   "outputs": [],
   "source": [
    "from sklearn.preprocessing import MinMaxScaler"
   ]
  },
  {
   "cell_type": "code",
   "execution_count": 17,
   "id": "152fd0ef",
   "metadata": {},
   "outputs": [],
   "source": [
    "scaler = MinMaxScaler()"
   ]
  },
  {
   "cell_type": "code",
   "execution_count": 18,
   "id": "f27cf4dc",
   "metadata": {},
   "outputs": [
    {
     "data": {
      "text/html": [
       "<style>#sk-container-id-1 {color: black;background-color: white;}#sk-container-id-1 pre{padding: 0;}#sk-container-id-1 div.sk-toggleable {background-color: white;}#sk-container-id-1 label.sk-toggleable__label {cursor: pointer;display: block;width: 100%;margin-bottom: 0;padding: 0.3em;box-sizing: border-box;text-align: center;}#sk-container-id-1 label.sk-toggleable__label-arrow:before {content: \"▸\";float: left;margin-right: 0.25em;color: #696969;}#sk-container-id-1 label.sk-toggleable__label-arrow:hover:before {color: black;}#sk-container-id-1 div.sk-estimator:hover label.sk-toggleable__label-arrow:before {color: black;}#sk-container-id-1 div.sk-toggleable__content {max-height: 0;max-width: 0;overflow: hidden;text-align: left;background-color: #f0f8ff;}#sk-container-id-1 div.sk-toggleable__content pre {margin: 0.2em;color: black;border-radius: 0.25em;background-color: #f0f8ff;}#sk-container-id-1 input.sk-toggleable__control:checked~div.sk-toggleable__content {max-height: 200px;max-width: 100%;overflow: auto;}#sk-container-id-1 input.sk-toggleable__control:checked~label.sk-toggleable__label-arrow:before {content: \"▾\";}#sk-container-id-1 div.sk-estimator input.sk-toggleable__control:checked~label.sk-toggleable__label {background-color: #d4ebff;}#sk-container-id-1 div.sk-label input.sk-toggleable__control:checked~label.sk-toggleable__label {background-color: #d4ebff;}#sk-container-id-1 input.sk-hidden--visually {border: 0;clip: rect(1px 1px 1px 1px);clip: rect(1px, 1px, 1px, 1px);height: 1px;margin: -1px;overflow: hidden;padding: 0;position: absolute;width: 1px;}#sk-container-id-1 div.sk-estimator {font-family: monospace;background-color: #f0f8ff;border: 1px dotted black;border-radius: 0.25em;box-sizing: border-box;margin-bottom: 0.5em;}#sk-container-id-1 div.sk-estimator:hover {background-color: #d4ebff;}#sk-container-id-1 div.sk-parallel-item::after {content: \"\";width: 100%;border-bottom: 1px solid gray;flex-grow: 1;}#sk-container-id-1 div.sk-label:hover label.sk-toggleable__label {background-color: #d4ebff;}#sk-container-id-1 div.sk-serial::before {content: \"\";position: absolute;border-left: 1px solid gray;box-sizing: border-box;top: 0;bottom: 0;left: 50%;z-index: 0;}#sk-container-id-1 div.sk-serial {display: flex;flex-direction: column;align-items: center;background-color: white;padding-right: 0.2em;padding-left: 0.2em;position: relative;}#sk-container-id-1 div.sk-item {position: relative;z-index: 1;}#sk-container-id-1 div.sk-parallel {display: flex;align-items: stretch;justify-content: center;background-color: white;position: relative;}#sk-container-id-1 div.sk-item::before, #sk-container-id-1 div.sk-parallel-item::before {content: \"\";position: absolute;border-left: 1px solid gray;box-sizing: border-box;top: 0;bottom: 0;left: 50%;z-index: -1;}#sk-container-id-1 div.sk-parallel-item {display: flex;flex-direction: column;z-index: 1;position: relative;background-color: white;}#sk-container-id-1 div.sk-parallel-item:first-child::after {align-self: flex-end;width: 50%;}#sk-container-id-1 div.sk-parallel-item:last-child::after {align-self: flex-start;width: 50%;}#sk-container-id-1 div.sk-parallel-item:only-child::after {width: 0;}#sk-container-id-1 div.sk-dashed-wrapped {border: 1px dashed gray;margin: 0 0.4em 0.5em 0.4em;box-sizing: border-box;padding-bottom: 0.4em;background-color: white;}#sk-container-id-1 div.sk-label label {font-family: monospace;font-weight: bold;display: inline-block;line-height: 1.2em;}#sk-container-id-1 div.sk-label-container {text-align: center;}#sk-container-id-1 div.sk-container {/* jupyter's `normalize.less` sets `[hidden] { display: none; }` but bootstrap.min.css set `[hidden] { display: none !important; }` so we also need the `!important` here to be able to override the default hidden behavior on the sphinx rendered scikit-learn.org. See: https://github.com/scikit-learn/scikit-learn/issues/21755 */display: inline-block !important;position: relative;}#sk-container-id-1 div.sk-text-repr-fallback {display: none;}</style><div id=\"sk-container-id-1\" class=\"sk-top-container\"><div class=\"sk-text-repr-fallback\"><pre>MinMaxScaler()</pre><b>In a Jupyter environment, please rerun this cell to show the HTML representation or trust the notebook. <br />On GitHub, the HTML representation is unable to render, please try loading this page with nbviewer.org.</b></div><div class=\"sk-container\" hidden><div class=\"sk-item\"><div class=\"sk-estimator sk-toggleable\"><input class=\"sk-toggleable__control sk-hidden--visually\" id=\"sk-estimator-id-1\" type=\"checkbox\" checked><label for=\"sk-estimator-id-1\" class=\"sk-toggleable__label sk-toggleable__label-arrow\">MinMaxScaler</label><div class=\"sk-toggleable__content\"><pre>MinMaxScaler()</pre></div></div></div></div></div>"
      ],
      "text/plain": [
       "MinMaxScaler()"
      ]
     },
     "execution_count": 18,
     "metadata": {},
     "output_type": "execute_result"
    }
   ],
   "source": [
    "scaler.fit(train)"
   ]
  },
  {
   "cell_type": "code",
   "execution_count": 19,
   "id": "6273bbed",
   "metadata": {},
   "outputs": [],
   "source": [
    "scaled_train = scaler.transform(train)\n",
    "scaled_test = scaler.transform(test)"
   ]
  },
  {
   "cell_type": "code",
   "execution_count": 20,
   "id": "c8ed1dae",
   "metadata": {
    "scrolled": true
   },
   "outputs": [
    {
     "data": {
      "text/plain": [
       "array([[4.99999116e-01],\n",
       "       [5.49916225e-01],\n",
       "       [5.99334579e-01],\n",
       "       [6.47760405e-01],\n",
       "       [6.94709850e-01],\n",
       "       [7.39713809e-01],\n",
       "       [7.82322618e-01],\n",
       "       [8.22110545e-01],\n",
       "       [8.58680040e-01],\n",
       "       [8.91665714e-01],\n",
       "       [9.20737985e-01],\n",
       "       [9.45606372e-01],\n",
       "       [9.66022399e-01],\n",
       "       [9.81782075e-01],\n",
       "       [9.92727935e-01],\n",
       "       [9.98750612e-01],\n",
       "       [9.99789928e-01],\n",
       "       [9.95835500e-01],\n",
       "       [9.86926839e-01],\n",
       "       [9.73152957e-01],\n",
       "       [9.54651478e-01],\n",
       "       [9.31607263e-01],\n",
       "       [9.04250562e-01],\n",
       "       [8.72854714e-01],\n",
       "       [8.37733417e-01],\n",
       "       [7.99237589e-01],\n",
       "       [7.57751870e-01],\n",
       "       [7.13690771e-01],\n",
       "       [6.67494535e-01],\n",
       "       [6.19624741e-01],\n",
       "       [5.70559686e-01],\n",
       "       [5.20789614e-01],\n",
       "       [4.70811810e-01],\n",
       "       [4.21125636e-01],\n",
       "       [3.72227539e-01],\n",
       "       [3.24606094e-01],\n",
       "       [2.78737119e-01],\n",
       "       [2.35078919e-01],\n",
       "       [1.94067715e-01],\n",
       "       [1.56113277e-01],\n",
       "       [1.21594831e-01],\n",
       "       [9.08572769e-02],\n",
       "       [6.42077324e-02],\n",
       "       [4.19124713e-02],\n",
       "       [2.41942605e-02],\n",
       "       [1.12301346e-02],\n",
       "       [3.14962674e-03],\n",
       "       [3.34747619e-05],\n",
       "       [1.91281421e-03],\n",
       "       [8.76886734e-03],\n",
       "       [2.05331307e-02],\n",
       "       [3.70880598e-02],\n",
       "       [5.82682430e-02],\n",
       "       [8.38620552e-02],\n",
       "       [1.13613771e-01],\n",
       "       [1.47226122e-01],\n",
       "       [1.84363264e-01],\n",
       "       [2.24654135e-01],\n",
       "       [2.67696162e-01],\n",
       "       [3.13059283e-01],\n",
       "       [3.60290246e-01],\n",
       "       [4.08917133e-01],\n",
       "       [4.58454081e-01],\n",
       "       [5.08406134e-01],\n",
       "       [5.58274186e-01],\n",
       "       [6.07559973e-01],\n",
       "       [6.55771048e-01],\n",
       "       [7.02425701e-01],\n",
       "       [7.47057774e-01],\n",
       "       [7.89221319e-01],\n",
       "       [8.28495052e-01],\n",
       "       [8.64486561e-01],\n",
       "       [8.96836233e-01],\n",
       "       [9.25220839e-01],\n",
       "       [9.49356770e-01],\n",
       "       [9.69002868e-01],\n",
       "       [9.83962836e-01],\n",
       "       [9.94087198e-01],\n",
       "       [9.99274795e-01],\n",
       "       [9.99473795e-01],\n",
       "       [9.94682209e-01],\n",
       "       [9.84947913e-01],\n",
       "       [9.70368169e-01],\n",
       "       [9.51088653e-01],\n",
       "       [9.27301999e-01],\n",
       "       [8.99245876e-01],\n",
       "       [8.67200612e-01],\n",
       "       [8.31486391e-01],\n",
       "       [7.92460059e-01],\n",
       "       [7.50511555e-01],\n",
       "       [7.06060012e-01],\n",
       "       [6.59549578e-01],\n",
       "       [6.11444967e-01],\n",
       "       [5.62226827e-01],\n",
       "       [5.12386928e-01],\n",
       "       [4.62423254e-01],\n",
       "       [4.12835026e-01],\n",
       "       [3.64117712e-01],\n",
       "       [3.16758081e-01],\n",
       "       [2.71229333e-01],\n",
       "       [2.27986377e-01],\n",
       "       [1.87461283e-01],\n",
       "       [1.50058964e-01],\n",
       "       [1.16153131e-01],\n",
       "       [8.60825596e-02],\n",
       "       [6.01477060e-02],\n",
       "       [3.86077023e-02],\n",
       "       [2.16777691e-02],\n",
       "       [9.52706470e-03],\n",
       "       [2.27699490e-03],\n",
       "       [0.00000000e+00],\n",
       "       [2.71883099e-03],\n",
       "       [1.04063222e-02],\n",
       "       [2.29856628e-02],\n",
       "       [4.03311641e-02],\n",
       "       [6.22695157e-02],\n",
       "       [8.85815167e-02],\n",
       "       [1.19004266e-01],\n",
       "       [1.53233791e-01],\n",
       "       [1.90928079e-01],\n",
       "       [2.31710504e-01],\n",
       "       [2.75173579e-01],\n",
       "       [3.20883037e-01],\n",
       "       [3.68382164e-01],\n",
       "       [4.17196364e-01],\n",
       "       [4.66837901e-01],\n",
       "       [5.16810774e-01],\n",
       "       [5.66615671e-01],\n",
       "       [6.15754957e-01],\n",
       "       [6.63737650e-01],\n",
       "       [7.10084320e-01],\n",
       "       [7.54331889e-01],\n",
       "       [7.96038249e-01],\n",
       "       [8.34786684e-01],\n",
       "       [8.70190032e-01],\n",
       "       [9.01894555e-01],\n",
       "       [9.29583471e-01],\n",
       "       [9.52980122e-01],\n",
       "       [9.71850737e-01],\n",
       "       [9.86006767e-01],\n",
       "       [9.95306769e-01],\n",
       "       [9.99657820e-01],\n",
       "       [9.99016447e-01],\n",
       "       [9.93389058e-01],\n",
       "       [9.82831879e-01],\n",
       "       [9.67450395e-01],\n",
       "       [9.47398292e-01],\n",
       "       [9.22875925e-01],\n",
       "       [8.94128313e-01],\n",
       "       [8.61442691e-01],\n",
       "       [8.25145645e-01],\n",
       "       [7.85599843e-01],\n",
       "       [7.43200412e-01],\n",
       "       [6.98370994e-01],\n",
       "       [6.51559511e-01],\n",
       "       [6.03233685e-01],\n",
       "       [5.53876374e-01],\n",
       "       [5.03980740e-01],\n",
       "       [4.54045322e-01],\n",
       "       [4.04569059e-01],\n",
       "       [3.56046302e-01],\n",
       "       [3.08961874e-01],\n",
       "       [2.63786227e-01],\n",
       "       [2.20970741e-01],\n",
       "       [1.80943214e-01],\n",
       "       [1.44103589e-01],\n",
       "       [1.10819953e-01],\n",
       "       [8.14248677e-02],\n",
       "       [5.62120376e-02],\n",
       "       [3.54333813e-02],\n",
       "       [1.92965122e-02],\n",
       "       [7.96266464e-03],\n",
       "       [1.54508265e-03],\n",
       "       [1.07888605e-04],\n",
       "       [3.66544246e-03],\n",
       "       [1.21821983e-02],\n",
       "       [2.55730595e-02],\n",
       "       [4.37042291e-02],\n",
       "       [6.63945464e-02],\n",
       "       [9.34172971e-02],\n",
       "       [1.24502479e-01],\n",
       "       [1.59339499e-01],\n",
       "       [1.97580278e-01],\n",
       "       [2.38842725e-01],\n",
       "       [2.82714561e-01],\n",
       "       [3.28757432e-01],\n",
       "       [3.76511294e-01],\n",
       "       [4.25499005e-01],\n",
       "       [4.75231097e-01],\n",
       "       [5.25210662e-01],\n",
       "       [5.74938322e-01],\n",
       "       [6.23917214e-01],\n",
       "       [6.71657958e-01],\n",
       "       [7.17683543e-01],\n",
       "       [7.61534097e-01],\n",
       "       [8.02771481e-01],\n",
       "       [8.40983662e-01],\n",
       "       [8.75788839e-01],\n",
       "       [9.06839250e-01],\n",
       "       [9.33824648e-01],\n",
       "       [9.56475405e-01],\n",
       "       [9.74565201e-01],\n",
       "       [9.87913290e-01],\n",
       "       [9.96386302e-01],\n",
       "       [9.99899578e-01],\n",
       "       [9.98418013e-01],\n",
       "       [9.91956411e-01],\n",
       "       [9.80579335e-01],\n",
       "       [9.64400460e-01],\n",
       "       [9.43581440e-01],\n",
       "       [9.18330292e-01],\n",
       "       [8.88899318e-01],\n",
       "       [8.55582581e-01],\n",
       "       [8.18712972e-01],\n",
       "       [7.78658879e-01],\n",
       "       [7.35820510e-01],\n",
       "       [6.90625892e-01],\n",
       "       [6.43526593e-01],\n",
       "       [5.94993216e-01],\n",
       "       [5.45510689e-01],\n",
       "       [4.95573426e-01],\n",
       "       [4.45680382e-01],\n",
       "       [3.96330074e-01],\n",
       "       [3.48015592e-01],\n",
       "       [3.01219679e-01],\n",
       "       [2.56409905e-01],\n",
       "       [2.14033993e-01],\n",
       "       [1.74515351e-01],\n",
       "       [1.38248835e-01],\n",
       "       [1.05596808e-01],\n",
       "       [7.68855182e-02],\n",
       "       [5.24018399e-02],\n",
       "       [3.23904056e-02],\n",
       "       [1.70511630e-02],\n",
       "       [6.53737668e-03],\n",
       "       [9.54096943e-04],\n",
       "       [3.57110073e-04],\n",
       "       [4.75238097e-03],\n",
       "       [1.40959935e-02],\n",
       "       [2.82945895e-02],\n",
       "       [4.72063011e-02],\n",
       "       [7.06421689e-02],\n",
       "       [9.83680294e-02],\n",
       "       [1.30106855e-01],\n",
       "       [1.65541522e-01],\n",
       "       [2.04317978e-01],\n",
       "       [2.46048783e-01],\n",
       "       [2.90316975e-01],\n",
       "       [3.36680242e-01],\n",
       "       [3.84675337e-01],\n",
       "       [4.33822710e-01],\n",
       "       [4.83631295e-01],\n",
       "       [5.33603422e-01],\n",
       "       [5.83239786e-01],\n",
       "       [6.32044436e-01],\n",
       "       [6.79529734e-01],\n",
       "       [7.25221221e-01],\n",
       "       [7.68662363e-01],\n",
       "       [8.09419110e-01],\n",
       "       [8.47084236e-01],\n",
       "       [8.81281401e-01],\n",
       "       [9.11668920e-01],\n",
       "       [9.37943170e-01],\n",
       "       [9.59841629e-01],\n",
       "       [9.77145492e-01],\n",
       "       [9.89681867e-01],\n",
       "       [9.97325494e-01],\n",
       "       [1.00000000e+00],\n",
       "       [9.97678662e-01],\n",
       "       [9.90384675e-01],\n",
       "       [9.78190918e-01],\n",
       "       [9.61219226e-01],\n",
       "       [9.39639175e-01],\n",
       "       [9.13666386e-01],\n",
       "       [8.83560370e-01],\n",
       "       [8.49621938e-01],\n",
       "       [8.12190189e-01],\n",
       "       [7.71639131e-01],\n",
       "       [7.28373935e-01],\n",
       "       [6.82826893e-01],\n",
       "       [6.35453097e-01],\n",
       "       [5.86725890e-01],\n",
       "       [5.37132137e-01],\n",
       "       [4.87167363e-01],\n",
       "       [4.37330800e-01],\n",
       "       [3.88120398e-01],\n",
       "       [3.40027851e-01],\n",
       "       [2.93533684e-01],\n",
       "       [2.49102452e-01],\n",
       "       [2.07178096e-01],\n",
       "       [1.68179511e-01],\n",
       "       [1.32496358e-01],\n",
       "       [1.00485170e-01],\n",
       "       [7.24657944e-02],\n",
       "       [4.87181901e-02],\n",
       "       [2.94796357e-02],\n",
       "       [1.49423563e-02],\n",
       "       [5.25160379e-03],\n",
       "       [5.04204848e-04],\n",
       "       [7.47593943e-04],\n",
       "       [5.97933921e-03],\n",
       "       [1.61471668e-02],\n",
       "       [3.11494831e-02],\n",
       "       [5.08363900e-02],\n",
       "       [7.50111823e-02],\n",
       "       [1.03432314e-01],\n",
       "       [1.35815809e-01],\n",
       "       [1.71838104e-01],\n",
       "       [2.11139276e-01],\n",
       "       [2.53326639e-01],\n",
       "       [2.97978672e-01],\n",
       "       [3.44649227e-01],\n",
       "       [3.92871986e-01],\n",
       "       [4.42165124e-01],\n",
       "       [4.92036121e-01],\n",
       "       [5.41986681e-01],\n",
       "       [5.91517715e-01],\n",
       "       [6.40134325e-01],\n",
       "       [6.87350751e-01],\n",
       "       [7.32695222e-01],\n",
       "       [7.75714669e-01],\n",
       "       [8.15979258e-01],\n",
       "       [8.53086678e-01],\n",
       "       [8.86666164e-01],\n",
       "       [9.16382200e-01],\n",
       "       [9.41937874e-01],\n",
       "       [9.63077843e-01],\n",
       "       [9.79590881e-01],\n",
       "       [9.91311998e-01],\n",
       "       [9.98124078e-01],\n",
       "       [9.99959058e-01],\n",
       "       [9.96798604e-01],\n",
       "       [9.88674294e-01],\n",
       "       [9.75667303e-01],\n",
       "       [9.57907592e-01],\n",
       "       [9.35572612e-01],\n",
       "       [9.08885525e-01],\n",
       "       [8.78112980e-01],\n",
       "       [8.43562446e-01],\n",
       "       [8.05579141e-01],\n",
       "       [7.64542582e-01],\n",
       "       [7.20862792e-01],\n",
       "       [6.74976205e-01],\n",
       "       [6.27341304e-01],\n",
       "       [5.78434043e-01],\n",
       "       [5.28743086e-01],\n",
       "       [4.78764928e-01],\n",
       "       [4.28998936e-01],\n",
       "       [3.79942353e-01],\n",
       "       [3.32085339e-01],\n",
       "       [2.85906063e-01],\n",
       "       [2.41865934e-01],\n",
       "       [2.00404987e-01],\n",
       "       [1.61937485e-01],\n",
       "       [1.26847783e-01],\n",
       "       [9.54864865e-02],\n",
       "       [6.81669460e-02],\n",
       "       [4.51621298e-02],\n",
       "       [2.67018944e-02],\n",
       "       [1.29706884e-02],\n",
       "       [4.10570950e-03],\n",
       "       [1.95533568e-04],\n",
       "       [1.27922981e-03],\n",
       "       [7.34597031e-03],\n",
       "       [1.83351382e-02],\n",
       "       [3.41369333e-02],\n",
       "       [5.45934694e-02],\n",
       "       [7.95003514e-02],\n",
       "       [1.08608718e-01],\n",
       "       [1.41627728e-01],\n",
       "       [1.78227467e-01],\n",
       "       [2.18042242e-01],\n",
       "       [2.60674236e-01],\n",
       "       [3.05697486e-01],\n",
       "       [3.52662133e-01],\n",
       "       [4.01098922e-01],\n",
       "       [4.50523890e-01],\n",
       "       [5.00443198e-01],\n",
       "       [5.50358069e-01],\n",
       "       [5.99769769e-01],\n",
       "       [6.48184595e-01],\n",
       "       [6.95118799e-01],\n",
       "       [7.40103433e-01],\n",
       "       [7.82689024e-01],\n",
       "       [8.22450070e-01],\n",
       "       [8.58989293e-01],\n",
       "       [8.91941605e-01],\n",
       "       [9.20977757e-01],\n",
       "       [9.45807630e-01],\n",
       "       [9.66183132e-01],\n",
       "       [9.81900676e-01],\n",
       "       [9.92803220e-01],\n",
       "       [9.98781828e-01],\n",
       "       [9.99776764e-01],\n",
       "       [9.95778087e-01],\n",
       "       [9.86825751e-01],\n",
       "       [9.73009203e-01],\n",
       "       [9.54466495e-01],\n",
       "       [9.31382900e-01],\n",
       "       [9.03989060e-01],\n",
       "       [8.72558686e-01],\n",
       "       [8.37405820e-01],\n",
       "       [7.98881698e-01],\n",
       "       [7.57371240e-01],\n",
       "       [7.13289205e-01],\n",
       "       [6.67076045e-01],\n",
       "       [6.19193508e-01],\n",
       "       [5.70120021e-01],\n",
       "       [5.20345908e-01],\n",
       "       [4.70368497e-01],\n",
       "       [4.20687145e-01],\n",
       "       [3.71798252e-01],\n",
       "       [3.24190300e-01],\n",
       "       [2.78338972e-01],\n",
       "       [2.34702398e-01],\n",
       "       [1.93716581e-01],\n",
       "       [1.55791039e-01],\n",
       "       [1.21304709e-01],\n",
       "       [9.06021693e-02],\n",
       "       [6.39901882e-02],\n",
       "       [4.17346643e-02],\n",
       "       [2.40579672e-02],\n",
       "       [1.11367167e-02],\n",
       "       [3.10001778e-03],\n",
       "       [2.81703720e-05],\n",
       "       [1.95186738e-03],\n",
       "       [8.85188786e-03],\n",
       "       [2.06592891e-02],\n",
       "       [3.72560954e-02],\n",
       "       [5.84764771e-02],\n",
       "       [8.41084070e-02],\n",
       "       [1.13895779e-01],\n",
       "       [1.47540969e-01],\n",
       "       [1.84707803e-01],\n",
       "       [2.25024924e-01],\n",
       "       [2.68089497e-01],\n",
       "       [3.13471233e-01],\n",
       "       [3.60716695e-01],\n",
       "       [4.09353821e-01],\n",
       "       [4.58896644e-01],\n",
       "       [5.08850150e-01],\n",
       "       [5.58715219e-01],\n",
       "       [6.07993616e-01],\n",
       "       [6.56192968e-01],\n",
       "       [7.02831682e-01],\n",
       "       [7.47443761e-01],\n",
       "       [7.89583454e-01],\n",
       "       [8.28829716e-01],\n",
       "       [8.64790412e-01],\n",
       "       [8.97106234e-01],\n",
       "       [9.25454293e-01]])"
      ]
     },
     "execution_count": 20,
     "metadata": {},
     "output_type": "execute_result"
    }
   ],
   "source": [
    "scaled_train"
   ]
  },
  {
   "cell_type": "code",
   "execution_count": 21,
   "id": "692a085a",
   "metadata": {
    "scrolled": true
   },
   "outputs": [
    {
     "data": {
      "text/plain": [
       "array([[9.49551344e-01],\n",
       "       [9.69156618e-01],\n",
       "       [9.84074225e-01],\n",
       "       [9.94155114e-01],\n",
       "       [9.99298559e-01],\n",
       "       [9.99453170e-01],\n",
       "       [9.94617400e-01],\n",
       "       [9.84839568e-01],\n",
       "       [9.70217371e-01],\n",
       "       [9.50896908e-01],\n",
       "       [9.27071224e-01],\n",
       "       [8.98978376e-01],\n",
       "       [8.66899060e-01],\n",
       "       [8.31153800e-01],\n",
       "       [7.92099752e-01],\n",
       "       [7.50127132e-01],\n",
       "       [7.05655314e-01],\n",
       "       [6.59128649e-01],\n",
       "       [6.11012013e-01],\n",
       "       [5.61786173e-01],\n",
       "       [5.11942978e-01],\n",
       "       [4.61980443e-01],\n",
       "       [4.12397778e-01],\n",
       "       [3.63690397e-01],\n",
       "       [3.16344967e-01],\n",
       "       [2.70834550e-01],\n",
       "       [2.27613868e-01],\n",
       "       [1.87114770e-01],\n",
       "       [1.49741909e-01],\n",
       "       [1.15868702e-01],\n",
       "       [8.58335998e-02],\n",
       "       [5.99367021e-02],\n",
       "       [3.84367625e-02],\n",
       "       [2.15486014e-02],\n",
       "       [9.44095974e-03],\n",
       "       [2.23481297e-03],\n",
       "       [2.16257798e-06],\n",
       "       [2.76531647e-03],\n",
       "       [1.04966661e-02],\n",
       "       [2.31189624e-02],\n",
       "       [4.05060876e-02],\n",
       "       [6.24843152e-02],\n",
       "       [8.88340461e-02],\n",
       "       [1.19292002e-01],\n",
       "       [1.53553858e-01],\n",
       "       [1.91277281e-01],\n",
       "       [2.32085350e-01],\n",
       "       [2.75570325e-01],\n",
       "       [3.21297718e-01],\n",
       "       [3.68810636e-01]])"
      ]
     },
     "execution_count": 21,
     "metadata": {},
     "output_type": "execute_result"
    }
   ],
   "source": [
    "scaled_test"
   ]
  },
  {
   "cell_type": "markdown",
   "id": "5d72f9d4",
   "metadata": {},
   "source": [
    "# Timeseries Generator"
   ]
  },
  {
   "cell_type": "markdown",
   "id": "52184371",
   "metadata": {},
   "source": [
    "In time series analysis, a common approach is to use a time series generator to generate batches of sequential data for training recurrent neural networks (RNNs) or other time-based models. This allows you to efficiently process and train models on large time series datasets. Here's an example of how you can create a time series generator using the TimeseriesGenerator calss."
   ]
  },
  {
   "cell_type": "code",
   "execution_count": 22,
   "id": "17ab6b0d",
   "metadata": {},
   "outputs": [],
   "source": [
    "from tensorflow.keras.preprocessing.sequence import TimeseriesGenerator"
   ]
  },
  {
   "cell_type": "code",
   "execution_count": 23,
   "id": "1272da4e",
   "metadata": {},
   "outputs": [],
   "source": [
    "length = 50 \n",
    "batch_size = 1 \n",
    "generator = TimeseriesGenerator(scaled_train, scaled_train, length=length, batch_size=batch_size)"
   ]
  },
  {
   "cell_type": "code",
   "execution_count": 25,
   "id": "df1516d7",
   "metadata": {},
   "outputs": [],
   "source": [
    "from tensorflow.keras.models import Sequential\n",
    "from tensorflow.keras.layers import Dense, SimpleRNN"
   ]
  },
  {
   "cell_type": "markdown",
   "id": "931b36be",
   "metadata": {},
   "source": [
    "# Building Model"
   ]
  },
  {
   "cell_type": "markdown",
   "id": "c342ef59",
   "metadata": {},
   "source": [
    "Creating a deep learning model involves defining the architecture and structure of the neural network, specifying the layers, and configuring the parameters for training."
   ]
  },
  {
   "cell_type": "code",
   "execution_count": 26,
   "id": "344970fd",
   "metadata": {},
   "outputs": [],
   "source": [
    "n_features = 1"
   ]
  },
  {
   "cell_type": "code",
   "execution_count": 27,
   "id": "4cf0902d",
   "metadata": {},
   "outputs": [],
   "source": [
    "model = Sequential()\n",
    "model.add(SimpleRNN(50, input_shape =(length, n_features)))\n",
    "model.add(Dense(1))"
   ]
  },
  {
   "cell_type": "markdown",
   "id": "0709afb4",
   "metadata": {},
   "source": [
    "# Compiling Model"
   ]
  },
  {
   "cell_type": "markdown",
   "id": "0f5cc780",
   "metadata": {},
   "source": [
    "Compiling the model in deep learning involves configuring essential components that define how the model will be trained."
   ]
  },
  {
   "cell_type": "code",
   "execution_count": 29,
   "id": "bdd99b2c",
   "metadata": {},
   "outputs": [],
   "source": [
    "model.compile(optimizer = 'adam', loss = 'mse')"
   ]
  },
  {
   "cell_type": "code",
   "execution_count": 30,
   "id": "ca024f0d",
   "metadata": {},
   "outputs": [
    {
     "name": "stdout",
     "output_type": "stream",
     "text": [
      "Model: \"sequential\"\n",
      "_________________________________________________________________\n",
      " Layer (type)                Output Shape              Param #   \n",
      "=================================================================\n",
      " simple_rnn (SimpleRNN)      (None, 50)                2600      \n",
      "                                                                 \n",
      " dense (Dense)               (None, 1)                 51        \n",
      "                                                                 \n",
      "=================================================================\n",
      "Total params: 2,651\n",
      "Trainable params: 2,651\n",
      "Non-trainable params: 0\n",
      "_________________________________________________________________\n"
     ]
    }
   ],
   "source": [
    "model.summary()"
   ]
  },
  {
   "cell_type": "markdown",
   "id": "f9f0731e",
   "metadata": {},
   "source": [
    "# Training The Model"
   ]
  },
  {
   "cell_type": "markdown",
   "id": "754b6c54",
   "metadata": {},
   "source": [
    "Training the model in deep learning involves the process of iteratively updating the model's parameters (weights and biases) based on the provided training data to minimize the loss function and improve the model's performance"
   ]
  },
  {
   "cell_type": "code",
   "execution_count": 31,
   "id": "8cf397b0",
   "metadata": {},
   "outputs": [
    {
     "name": "stderr",
     "output_type": "stream",
     "text": [
      "C:\\Users\\DELL\\AppData\\Local\\Temp\\ipykernel_2336\\3297226058.py:1: UserWarning: `Model.fit_generator` is deprecated and will be removed in a future version. Please use `Model.fit`, which supports generators.\n",
      "  model.fit_generator(generator, epochs = 10)\n"
     ]
    },
    {
     "name": "stdout",
     "output_type": "stream",
     "text": [
      "Epoch 1/10\n",
      "401/401 [==============================] - 19s 30ms/step - loss: 0.0053\n",
      "Epoch 2/10\n",
      "401/401 [==============================] - 13s 33ms/step - loss: 1.1053e-04\n",
      "Epoch 3/10\n",
      "401/401 [==============================] - 11s 27ms/step - loss: 1.4710e-04\n",
      "Epoch 4/10\n",
      "401/401 [==============================] - 9s 23ms/step - loss: 2.2643e-04\n",
      "Epoch 5/10\n",
      "401/401 [==============================] - 9s 23ms/step - loss: 2.3892e-04\n",
      "Epoch 6/10\n",
      "401/401 [==============================] - 9s 22ms/step - loss: 2.1591e-05\n",
      "Epoch 7/10\n",
      "401/401 [==============================] - 8s 20ms/step - loss: 2.6412e-05\n",
      "Epoch 8/10\n",
      "401/401 [==============================] - 7s 18ms/step - loss: 2.4016e-04\n",
      "Epoch 9/10\n",
      "401/401 [==============================] - 8s 19ms/step - loss: 1.3619e-05\n",
      "Epoch 10/10\n",
      "401/401 [==============================] - 8s 20ms/step - loss: 4.6278e-05\n"
     ]
    },
    {
     "data": {
      "text/plain": [
       "<keras.callbacks.History at 0x22d1f1a5b10>"
      ]
     },
     "execution_count": 31,
     "metadata": {},
     "output_type": "execute_result"
    }
   ],
   "source": [
    "model.fit_generator(generator, epochs = 10)"
   ]
  },
  {
   "cell_type": "code",
   "execution_count": 34,
   "id": "cc8fa0cb",
   "metadata": {},
   "outputs": [],
   "source": [
    "model.save('model_simpleRNN.h5')"
   ]
  },
  {
   "cell_type": "code",
   "execution_count": 35,
   "id": "a37d4d86",
   "metadata": {},
   "outputs": [],
   "source": [
    "loss = pd.DataFrame(model.history.history)"
   ]
  },
  {
   "cell_type": "code",
   "execution_count": 36,
   "id": "85b2f1ac",
   "metadata": {},
   "outputs": [
    {
     "data": {
      "text/plain": [
       "<AxesSubplot:>"
      ]
     },
     "execution_count": 36,
     "metadata": {},
     "output_type": "execute_result"
    },
    {
     "data": {
      "image/png": "[encoded data removed]",
      "text/plain": [
       "<Figure size 432x288 with 1 Axes>"
      ]
     },
     "metadata": {
      "needs_background": "light"
     },
     "output_type": "display_data"
    }
   ],
   "source": [
    "loss.plot()"
   ]
  },
  {
   "cell_type": "markdown",
   "id": "51378d67",
   "metadata": {},
   "source": [
    "# Predicting Values "
   ]
  },
  {
   "cell_type": "code",
   "execution_count": 38,
   "id": "6a5a0689",
   "metadata": {},
   "outputs": [
    {
     "name": "stdout",
     "output_type": "stream",
     "text": [
      "1/1 [==============================] - 1s 1s/step\n",
      "1/1 [==============================] - 0s 63ms/step\n",
      "1/1 [==============================] - 0s 115ms/step\n",
      "1/1 [==============================] - 0s 72ms/step\n",
      "1/1 [==============================] - 0s 66ms/step\n",
      "1/1 [==============================] - 0s 77ms/step\n",
      "1/1 [==============================] - 0s 90ms/step\n",
      "1/1 [==============================] - 0s 69ms/step\n",
      "1/1 [==============================] - 0s 105ms/step\n",
      "1/1 [==============================] - 0s 72ms/step\n",
      "1/1 [==============================] - 0s 128ms/step\n",
      "1/1 [==============================] - 0s 71ms/step\n",
      "1/1 [==============================] - 0s 78ms/step\n",
      "1/1 [==============================] - 0s 71ms/step\n",
      "1/1 [==============================] - 0s 114ms/step\n",
      "1/1 [==============================] - 0s 63ms/step\n",
      "1/1 [==============================] - 0s 64ms/step\n",
      "1/1 [==============================] - 0s 67ms/step\n",
      "1/1 [==============================] - 0s 107ms/step\n",
      "1/1 [==============================] - 0s 71ms/step\n",
      "1/1 [==============================] - 0s 88ms/step\n",
      "1/1 [==============================] - 0s 81ms/step\n",
      "1/1 [==============================] - 0s 120ms/step\n",
      "1/1 [==============================] - 0s 62ms/step\n",
      "1/1 [==============================] - 0s 71ms/step\n",
      "1/1 [==============================] - 0s 65ms/step\n",
      "1/1 [==============================] - 0s 58ms/step\n",
      "1/1 [==============================] - 0s 94ms/step\n",
      "1/1 [==============================] - 0s 62ms/step\n",
      "1/1 [==============================] - 0s 64ms/step\n",
      "1/1 [==============================] - 0s 60ms/step\n",
      "1/1 [==============================] - 0s 84ms/step\n",
      "1/1 [==============================] - 0s 56ms/step\n",
      "1/1 [==============================] - 0s 55ms/step\n",
      "1/1 [==============================] - 0s 55ms/step\n",
      "1/1 [==============================] - 0s 87ms/step\n",
      "1/1 [==============================] - 0s 55ms/step\n",
      "1/1 [==============================] - 0s 58ms/step\n",
      "1/1 [==============================] - 0s 58ms/step\n",
      "1/1 [==============================] - 0s 63ms/step\n",
      "1/1 [==============================] - 0s 94ms/step\n",
      "1/1 [==============================] - 0s 50ms/step\n",
      "1/1 [==============================] - 0s 62ms/step\n",
      "1/1 [==============================] - 0s 59ms/step\n",
      "1/1 [==============================] - 0s 59ms/step\n",
      "1/1 [==============================] - 0s 61ms/step\n",
      "1/1 [==============================] - 0s 55ms/step\n",
      "1/1 [==============================] - 0s 63ms/step\n",
      "1/1 [==============================] - 0s 49ms/step\n",
      "1/1 [==============================] - 0s 60ms/step\n"
     ]
    }
   ],
   "source": [
    "prediction = []\n",
    "evaluation_batch = scaled_train[-length:]\n",
    "current_batch = evaluation_batch.reshape(1, length, n_features)\n",
    "for i in range(len(test)):\n",
    "    current_prediction = model.predict(current_batch)[0]\n",
    "    prediction.append(current_prediction)\n",
    "    current_batch = np.append(current_batch[:, 1:, :], [[current_prediction]], axis = 1)"
   ]
  },
  {
   "cell_type": "code",
   "execution_count": 39,
   "id": "e49928e6",
   "metadata": {},
   "outputs": [
    {
     "data": {
      "text/plain": [
       "[array([0.95010334], dtype=float32),\n",
       " array([0.9698218], dtype=float32),\n",
       " array([0.98515165], dtype=float32),\n",
       " array([0.995809], dtype=float32),\n",
       " array([1.0017418], dtype=float32),\n",
       " array([1.002833], dtype=float32),\n",
       " array([0.99924654], dtype=float32),\n",
       " array([0.99109775], dtype=float32),\n",
       " array([0.9783467], dtype=float32),\n",
       " array([0.9612743], dtype=float32),\n",
       " array([0.94009846], dtype=float32),\n",
       " array([0.914953], dtype=float32),\n",
       " array([0.88616925], dtype=float32),\n",
       " array([0.85393786], dtype=float32),\n",
       " array([0.8186407], dtype=float32),\n",
       " array([0.78049284], dtype=float32),\n",
       " array([0.73996085], dtype=float32),\n",
       " array([0.69726783], dtype=float32),\n",
       " array([0.6527986], dtype=float32),\n",
       " array([0.6069862], dtype=float32),\n",
       " array([0.5601991], dtype=float32),\n",
       " array([0.5128526], dtype=float32),\n",
       " array([0.46549538], dtype=float32),\n",
       " array([0.41855025], dtype=float32),\n",
       " array([0.37252665], dtype=float32),\n",
       " array([0.3279713], dtype=float32),\n",
       " array([0.28544736], dtype=float32),\n",
       " array([0.24546511], dtype=float32),\n",
       " array([0.20852688], dtype=float32),\n",
       " array([0.17521527], dtype=float32),\n",
       " array([0.14587693], dtype=float32),\n",
       " array([0.12094438], dtype=float32),\n",
       " array([0.10075076], dtype=float32),\n",
       " array([0.08550901], dtype=float32),\n",
       " array([0.07533439], dtype=float32),\n",
       " array([0.07032266], dtype=float32),\n",
       " array([0.07041474], dtype=float32),\n",
       " array([0.07547044], dtype=float32),\n",
       " array([0.08532191], dtype=float32),\n",
       " array([0.09974818], dtype=float32),\n",
       " array([0.11842009], dtype=float32),\n",
       " array([0.14100553], dtype=float32),\n",
       " array([0.16718493], dtype=float32),\n",
       " array([0.19657044], dtype=float32),\n",
       " array([0.22881643], dtype=float32),\n",
       " array([0.26352185], dtype=float32),\n",
       " array([0.30035755], dtype=float32),\n",
       " array([0.33894008], dtype=float32),\n",
       " array([0.3789209], dtype=float32),\n",
       " array([0.41999218], dtype=float32)]"
      ]
     },
     "execution_count": 39,
     "metadata": {},
     "output_type": "execute_result"
    }
   ],
   "source": [
    "prediction"
   ]
  },
  {
   "cell_type": "code",
   "execution_count": 40,
   "id": "b1adf009",
   "metadata": {},
   "outputs": [],
   "source": [
    "prediction = scaler.inverse_transform(prediction)"
   ]
  },
  {
   "cell_type": "code",
   "execution_count": 41,
   "id": "d6e1142e",
   "metadata": {},
   "outputs": [
    {
     "data": {
      "text/plain": [
       "array([[ 0.90020123],\n",
       "       [ 0.93963785],\n",
       "       [ 0.97029728],\n",
       "       [ 0.99161185],\n",
       "       [ 1.00347725],\n",
       "       [ 1.00565971],\n",
       "       [ 0.99848683],\n",
       "       [ 0.98218938],\n",
       "       [ 0.9566875 ],\n",
       "       [ 0.92254302],\n",
       "       [ 0.88019163],\n",
       "       [ 0.82990109],\n",
       "       [ 0.77233408],\n",
       "       [ 0.70787182],\n",
       "       [ 0.63727807],\n",
       "       [ 0.56098295],\n",
       "       [ 0.47991962],\n",
       "       [ 0.39453426],\n",
       "       [ 0.3055965 ],\n",
       "       [ 0.2139725 ],\n",
       "       [ 0.12039897],\n",
       "       [ 0.02570678],\n",
       "       [-0.06900692],\n",
       "       [-0.16289642],\n",
       "       [-0.25494289],\n",
       "       [-0.34405285],\n",
       "       [-0.42910007],\n",
       "       [-0.50906392],\n",
       "       [-0.58293979],\n",
       "       [-0.64956247],\n",
       "       [-0.70823869],\n",
       "       [-0.75810339],\n",
       "       [-0.79849031],\n",
       "       [-0.82897356],\n",
       "       [-0.84932265],\n",
       "       [-0.85934601],\n",
       "       [-0.85916185],\n",
       "       [-0.84905054],\n",
       "       [-0.82934775],\n",
       "       [-0.80049545],\n",
       "       [-0.76315192],\n",
       "       [-0.71798141],\n",
       "       [-0.66562302],\n",
       "       [-0.60685248],\n",
       "       [-0.54236101],\n",
       "       [-0.47295074],\n",
       "       [-0.39927993],\n",
       "       [-0.32211548],\n",
       "       [-0.24215446],\n",
       "       [-0.16001259]])"
      ]
     },
     "execution_count": 41,
     "metadata": {},
     "output_type": "execute_result"
    }
   ],
   "source": [
    "prediction"
   ]
  },
  {
   "cell_type": "code",
   "execution_count": 42,
   "id": "95e165b8",
   "metadata": {},
   "outputs": [
    {
     "name": "stderr",
     "output_type": "stream",
     "text": [
      "C:\\Users\\DELL\\AppData\\Local\\Temp\\ipykernel_2336\\2031674796.py:1: SettingWithCopyWarning: \n",
      "A value is trying to be set on a copy of a slice from a DataFrame.\n",
      "Try using .loc[row_indexer,col_indexer] = value instead\n",
      "\n",
      "See the caveats in the documentation: https://pandas.pydata.org/pandas-docs/stable/user_guide/indexing.html#returning-a-view-versus-a-copy\n",
      "  test['Prediction'] = prediction\n"
     ]
    }
   ],
   "source": [
    "test['Prediction'] = prediction"
   ]
  },
  {
   "cell_type": "code",
   "execution_count": 43,
   "id": "b1dd0424",
   "metadata": {},
   "outputs": [
    {
     "data": {
      "text/html": [
       "<div>\n",
       "<style scoped>\n",
       "    .dataframe tbody tr th:only-of-type {\n",
       "        vertical-align: middle;\n",
       "    }\n",
       "\n",
       "    .dataframe tbody tr th {\n",
       "        vertical-align: top;\n",
       "    }\n",
       "\n",
       "    .dataframe thead th {\n",
       "        text-align: right;\n",
       "    }\n",
       "</style>\n",
       "<table border=\"1\" class=\"dataframe\">\n",
       "  <thead>\n",
       "    <tr style=\"text-align: right;\">\n",
       "      <th></th>\n",
       "      <th>Sine</th>\n",
       "      <th>Prediction</th>\n",
       "    </tr>\n",
       "  </thead>\n",
       "  <tbody>\n",
       "    <tr>\n",
       "      <th>45.1</th>\n",
       "      <td>0.899097</td>\n",
       "      <td>0.900201</td>\n",
       "    </tr>\n",
       "    <tr>\n",
       "      <th>45.2</th>\n",
       "      <td>0.938307</td>\n",
       "      <td>0.939638</td>\n",
       "    </tr>\n",
       "    <tr>\n",
       "      <th>45.3</th>\n",
       "      <td>0.968142</td>\n",
       "      <td>0.970297</td>\n",
       "    </tr>\n",
       "    <tr>\n",
       "      <th>45.4</th>\n",
       "      <td>0.988304</td>\n",
       "      <td>0.991612</td>\n",
       "    </tr>\n",
       "    <tr>\n",
       "      <th>45.5</th>\n",
       "      <td>0.998591</td>\n",
       "      <td>1.003477</td>\n",
       "    </tr>\n",
       "    <tr>\n",
       "      <th>45.6</th>\n",
       "      <td>0.998900</td>\n",
       "      <td>1.005660</td>\n",
       "    </tr>\n",
       "    <tr>\n",
       "      <th>45.7</th>\n",
       "      <td>0.989229</td>\n",
       "      <td>0.998487</td>\n",
       "    </tr>\n",
       "    <tr>\n",
       "      <th>45.8</th>\n",
       "      <td>0.969673</td>\n",
       "      <td>0.982189</td>\n",
       "    </tr>\n",
       "    <tr>\n",
       "      <th>45.9</th>\n",
       "      <td>0.940429</td>\n",
       "      <td>0.956688</td>\n",
       "    </tr>\n",
       "    <tr>\n",
       "      <th>46.0</th>\n",
       "      <td>0.901788</td>\n",
       "      <td>0.922543</td>\n",
       "    </tr>\n",
       "    <tr>\n",
       "      <th>46.1</th>\n",
       "      <td>0.854137</td>\n",
       "      <td>0.880192</td>\n",
       "    </tr>\n",
       "    <tr>\n",
       "      <th>46.2</th>\n",
       "      <td>0.797952</td>\n",
       "      <td>0.829901</td>\n",
       "    </tr>\n",
       "    <tr>\n",
       "      <th>46.3</th>\n",
       "      <td>0.733794</td>\n",
       "      <td>0.772334</td>\n",
       "    </tr>\n",
       "    <tr>\n",
       "      <th>46.4</th>\n",
       "      <td>0.662304</td>\n",
       "      <td>0.707872</td>\n",
       "    </tr>\n",
       "    <tr>\n",
       "      <th>46.5</th>\n",
       "      <td>0.584197</td>\n",
       "      <td>0.637278</td>\n",
       "    </tr>\n",
       "    <tr>\n",
       "      <th>46.6</th>\n",
       "      <td>0.500252</td>\n",
       "      <td>0.560983</td>\n",
       "    </tr>\n",
       "    <tr>\n",
       "      <th>46.7</th>\n",
       "      <td>0.411309</td>\n",
       "      <td>0.479920</td>\n",
       "    </tr>\n",
       "    <tr>\n",
       "      <th>46.8</th>\n",
       "      <td>0.318257</td>\n",
       "      <td>0.394534</td>\n",
       "    </tr>\n",
       "    <tr>\n",
       "      <th>46.9</th>\n",
       "      <td>0.222024</td>\n",
       "      <td>0.305597</td>\n",
       "    </tr>\n",
       "    <tr>\n",
       "      <th>47.0</th>\n",
       "      <td>0.123573</td>\n",
       "      <td>0.213973</td>\n",
       "    </tr>\n",
       "    <tr>\n",
       "      <th>47.1</th>\n",
       "      <td>0.023888</td>\n",
       "      <td>0.120399</td>\n",
       "    </tr>\n",
       "    <tr>\n",
       "      <th>47.2</th>\n",
       "      <td>-0.076037</td>\n",
       "      <td>0.025707</td>\n",
       "    </tr>\n",
       "    <tr>\n",
       "      <th>47.3</th>\n",
       "      <td>-0.175201</td>\n",
       "      <td>-0.069007</td>\n",
       "    </tr>\n",
       "    <tr>\n",
       "      <th>47.4</th>\n",
       "      <td>-0.272615</td>\n",
       "      <td>-0.162896</td>\n",
       "    </tr>\n",
       "    <tr>\n",
       "      <th>47.5</th>\n",
       "      <td>-0.367305</td>\n",
       "      <td>-0.254943</td>\n",
       "    </tr>\n",
       "    <tr>\n",
       "      <th>47.6</th>\n",
       "      <td>-0.458325</td>\n",
       "      <td>-0.344053</td>\n",
       "    </tr>\n",
       "    <tr>\n",
       "      <th>47.7</th>\n",
       "      <td>-0.544766</td>\n",
       "      <td>-0.429100</td>\n",
       "    </tr>\n",
       "    <tr>\n",
       "      <th>47.8</th>\n",
       "      <td>-0.625764</td>\n",
       "      <td>-0.509064</td>\n",
       "    </tr>\n",
       "    <tr>\n",
       "      <th>47.9</th>\n",
       "      <td>-0.700509</td>\n",
       "      <td>-0.582940</td>\n",
       "    </tr>\n",
       "    <tr>\n",
       "      <th>48.0</th>\n",
       "      <td>-0.768255</td>\n",
       "      <td>-0.649562</td>\n",
       "    </tr>\n",
       "    <tr>\n",
       "      <th>48.1</th>\n",
       "      <td>-0.828324</td>\n",
       "      <td>-0.708239</td>\n",
       "    </tr>\n",
       "    <tr>\n",
       "      <th>48.2</th>\n",
       "      <td>-0.880118</td>\n",
       "      <td>-0.758103</td>\n",
       "    </tr>\n",
       "    <tr>\n",
       "      <th>48.3</th>\n",
       "      <td>-0.923117</td>\n",
       "      <td>-0.798490</td>\n",
       "    </tr>\n",
       "    <tr>\n",
       "      <th>48.4</th>\n",
       "      <td>-0.956893</td>\n",
       "      <td>-0.828974</td>\n",
       "    </tr>\n",
       "    <tr>\n",
       "      <th>48.5</th>\n",
       "      <td>-0.981108</td>\n",
       "      <td>-0.849323</td>\n",
       "    </tr>\n",
       "    <tr>\n",
       "      <th>48.6</th>\n",
       "      <td>-0.995521</td>\n",
       "      <td>-0.859346</td>\n",
       "    </tr>\n",
       "    <tr>\n",
       "      <th>48.7</th>\n",
       "      <td>-0.999986</td>\n",
       "      <td>-0.859162</td>\n",
       "    </tr>\n",
       "    <tr>\n",
       "      <th>48.8</th>\n",
       "      <td>-0.994460</td>\n",
       "      <td>-0.849051</td>\n",
       "    </tr>\n",
       "    <tr>\n",
       "      <th>48.9</th>\n",
       "      <td>-0.978997</td>\n",
       "      <td>-0.829348</td>\n",
       "    </tr>\n",
       "    <tr>\n",
       "      <th>49.0</th>\n",
       "      <td>-0.953753</td>\n",
       "      <td>-0.800495</td>\n",
       "    </tr>\n",
       "    <tr>\n",
       "      <th>49.1</th>\n",
       "      <td>-0.918979</td>\n",
       "      <td>-0.763152</td>\n",
       "    </tr>\n",
       "    <tr>\n",
       "      <th>49.2</th>\n",
       "      <td>-0.875023</td>\n",
       "      <td>-0.717981</td>\n",
       "    </tr>\n",
       "    <tr>\n",
       "      <th>49.3</th>\n",
       "      <td>-0.822324</td>\n",
       "      <td>-0.665623</td>\n",
       "    </tr>\n",
       "    <tr>\n",
       "      <th>49.4</th>\n",
       "      <td>-0.761408</td>\n",
       "      <td>-0.606852</td>\n",
       "    </tr>\n",
       "    <tr>\n",
       "      <th>49.5</th>\n",
       "      <td>-0.692885</td>\n",
       "      <td>-0.542361</td>\n",
       "    </tr>\n",
       "    <tr>\n",
       "      <th>49.6</th>\n",
       "      <td>-0.617439</td>\n",
       "      <td>-0.472951</td>\n",
       "    </tr>\n",
       "    <tr>\n",
       "      <th>49.7</th>\n",
       "      <td>-0.535823</td>\n",
       "      <td>-0.399280</td>\n",
       "    </tr>\n",
       "    <tr>\n",
       "      <th>49.8</th>\n",
       "      <td>-0.448854</td>\n",
       "      <td>-0.322115</td>\n",
       "    </tr>\n",
       "    <tr>\n",
       "      <th>49.9</th>\n",
       "      <td>-0.357400</td>\n",
       "      <td>-0.242154</td>\n",
       "    </tr>\n",
       "    <tr>\n",
       "      <th>50.0</th>\n",
       "      <td>-0.262375</td>\n",
       "      <td>-0.160013</td>\n",
       "    </tr>\n",
       "  </tbody>\n",
       "</table>\n",
       "</div>"
      ],
      "text/plain": [
       "          Sine  Prediction\n",
       "45.1  0.899097    0.900201\n",
       "45.2  0.938307    0.939638\n",
       "45.3  0.968142    0.970297\n",
       "45.4  0.988304    0.991612\n",
       "45.5  0.998591    1.003477\n",
       "45.6  0.998900    1.005660\n",
       "45.7  0.989229    0.998487\n",
       "45.8  0.969673    0.982189\n",
       "45.9  0.940429    0.956688\n",
       "46.0  0.901788    0.922543\n",
       "46.1  0.854137    0.880192\n",
       "46.2  0.797952    0.829901\n",
       "46.3  0.733794    0.772334\n",
       "46.4  0.662304    0.707872\n",
       "46.5  0.584197    0.637278\n",
       "46.6  0.500252    0.560983\n",
       "46.7  0.411309    0.479920\n",
       "46.8  0.318257    0.394534\n",
       "46.9  0.222024    0.305597\n",
       "47.0  0.123573    0.213973\n",
       "47.1  0.023888    0.120399\n",
       "47.2 -0.076037    0.025707\n",
       "47.3 -0.175201   -0.069007\n",
       "47.4 -0.272615   -0.162896\n",
       "47.5 -0.367305   -0.254943\n",
       "47.6 -0.458325   -0.344053\n",
       "47.7 -0.544766   -0.429100\n",
       "47.8 -0.625764   -0.509064\n",
       "47.9 -0.700509   -0.582940\n",
       "48.0 -0.768255   -0.649562\n",
       "48.1 -0.828324   -0.708239\n",
       "48.2 -0.880118   -0.758103\n",
       "48.3 -0.923117   -0.798490\n",
       "48.4 -0.956893   -0.828974\n",
       "48.5 -0.981108   -0.849323\n",
       "48.6 -0.995521   -0.859346\n",
       "48.7 -0.999986   -0.859162\n",
       "48.8 -0.994460   -0.849051\n",
       "48.9 -0.978997   -0.829348\n",
       "49.0 -0.953753   -0.800495\n",
       "49.1 -0.918979   -0.763152\n",
       "49.2 -0.875023   -0.717981\n",
       "49.3 -0.822324   -0.665623\n",
       "49.4 -0.761408   -0.606852\n",
       "49.5 -0.692885   -0.542361\n",
       "49.6 -0.617439   -0.472951\n",
       "49.7 -0.535823   -0.399280\n",
       "49.8 -0.448854   -0.322115\n",
       "49.9 -0.357400   -0.242154\n",
       "50.0 -0.262375   -0.160013"
      ]
     },
     "execution_count": 43,
     "metadata": {},
     "output_type": "execute_result"
    }
   ],
   "source": [
    "test"
   ]
  },
  {
   "cell_type": "markdown",
   "id": "7c9ce9c3",
   "metadata": {},
   "source": [
    "# Chart Showing Predicted Value And Actual Value"
   ]
  },
  {
   "cell_type": "code",
   "execution_count": 46,
   "id": "b310f071",
   "metadata": {},
   "outputs": [
    {
     "data": {
      "text/plain": [
       "<AxesSubplot:>"
      ]
     },
     "execution_count": 46,
     "metadata": {},
     "output_type": "execute_result"
    },
    {
     "data": {
      "image/png": "[encoded data removed]",
      "text/plain": [
       "<Figure size 720x360 with 1 Axes>"
      ]
     },
     "metadata": {
      "needs_background": "light"
     },
     "output_type": "display_data"
    }
   ],
   "source": [
    "test.plot(figsize = (10, 5))"
   ]
  }
 ],
 "metadata": {
  "kernelspec": {
   "display_name": "Python 3 (ipykernel)",
   "language": "python",
   "name": "python3"
  },
  "language_info": {
   "codemirror_mode": {
    "name": "ipython",
    "version": 3
   },
   "file_extension": ".py",
   "mimetype": "text/x-python",
   "name": "python",
   "nbconvert_exporter": "python",
   "pygments_lexer": "ipython3",
   "version": "3.10.9"
  }
 },
 "nbformat": 4,
 "nbformat_minor": 5
}
