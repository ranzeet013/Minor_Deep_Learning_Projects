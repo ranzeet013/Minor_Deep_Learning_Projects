{
 "cells": [
  {
   "cell_type": "markdown",
   "id": "c796e47f",
   "metadata": {},
   "source": [
    "# LSTM on Cosine Wave"
   ]
  },
  {
   "cell_type": "markdown",
   "id": "8484fc4d",
   "metadata": {},
   "source": [
    "The goal of this project is to train an LSTM (Long Short-Term Memory) model to predict the next values in a cosine wave time series. The LSTM model will learn to capture the underlying patterns and dependencies in the data and generate accurate predictions."
   ]
  },
  {
   "cell_type": "markdown",
   "id": "b5088079",
   "metadata": {},
   "source": [
    "# Importing Libraries"
   ]
  },
  {
   "cell_type": "markdown",
   "id": "160fa982",
   "metadata": {},
   "source": [
    "These are just a few examples of popular Python libraries. You can import any other library using the same import statement followed by the library name or alias:\n",
    "\n",
    "NumPy: for numerical operations and array manipulation\n",
    "\n",
    "Pandas: for data manipulation and analysis\n",
    "\n",
    "Matplotlib: for creating visualizations\n",
    "\n",
    "Scikit-learn: for machine learning algorithms"
   ]
  },
  {
   "cell_type": "code",
   "execution_count": 2,
   "id": "c9f58ec6",
   "metadata": {},
   "outputs": [],
   "source": [
    "import pandas as pd\n",
    "import numpy as np\n",
    "import matplotlib.pyplot as plt\n",
    "import seaborn as sns\n",
    "\n",
    "%matplotlib inline"
   ]
  },
  {
   "cell_type": "markdown",
   "id": "0905db7a",
   "metadata": {},
   "source": [
    "# Generating Data Sequence"
   ]
  },
  {
   "cell_type": "markdown",
   "id": "bd97e8b0",
   "metadata": {},
   "source": [
    "To generate a data sequence for the cosine wave, you can use the numpy library in Python. "
   ]
  },
  {
   "cell_type": "code",
   "execution_count": 4,
   "id": "90320360",
   "metadata": {},
   "outputs": [],
   "source": [
    "x = np.linspace(0, 50, 501)\n",
    "y = np.cos(x)"
   ]
  },
  {
   "cell_type": "code",
   "execution_count": 5,
   "id": "2585a1ba",
   "metadata": {},
   "outputs": [
    {
     "data": {
      "text/plain": [
       "array([ 0. ,  0.1,  0.2,  0.3,  0.4,  0.5,  0.6,  0.7,  0.8,  0.9,  1. ,\n",
       "        1.1,  1.2,  1.3,  1.4,  1.5,  1.6,  1.7,  1.8,  1.9,  2. ,  2.1,\n",
       "        2.2,  2.3,  2.4,  2.5,  2.6,  2.7,  2.8,  2.9,  3. ,  3.1,  3.2,\n",
       "        3.3,  3.4,  3.5,  3.6,  3.7,  3.8,  3.9,  4. ,  4.1,  4.2,  4.3,\n",
       "        4.4,  4.5,  4.6,  4.7,  4.8,  4.9,  5. ,  5.1,  5.2,  5.3,  5.4,\n",
       "        5.5,  5.6,  5.7,  5.8,  5.9,  6. ,  6.1,  6.2,  6.3,  6.4,  6.5,\n",
       "        6.6,  6.7,  6.8,  6.9,  7. ,  7.1,  7.2,  7.3,  7.4,  7.5,  7.6,\n",
       "        7.7,  7.8,  7.9,  8. ,  8.1,  8.2,  8.3,  8.4,  8.5,  8.6,  8.7,\n",
       "        8.8,  8.9,  9. ,  9.1,  9.2,  9.3,  9.4,  9.5,  9.6,  9.7,  9.8,\n",
       "        9.9, 10. , 10.1, 10.2, 10.3, 10.4, 10.5, 10.6, 10.7, 10.8, 10.9,\n",
       "       11. , 11.1, 11.2, 11.3, 11.4, 11.5, 11.6, 11.7, 11.8, 11.9, 12. ,\n",
       "       12.1, 12.2, 12.3, 12.4, 12.5, 12.6, 12.7, 12.8, 12.9, 13. , 13.1,\n",
       "       13.2, 13.3, 13.4, 13.5, 13.6, 13.7, 13.8, 13.9, 14. , 14.1, 14.2,\n",
       "       14.3, 14.4, 14.5, 14.6, 14.7, 14.8, 14.9, 15. , 15.1, 15.2, 15.3,\n",
       "       15.4, 15.5, 15.6, 15.7, 15.8, 15.9, 16. , 16.1, 16.2, 16.3, 16.4,\n",
       "       16.5, 16.6, 16.7, 16.8, 16.9, 17. , 17.1, 17.2, 17.3, 17.4, 17.5,\n",
       "       17.6, 17.7, 17.8, 17.9, 18. , 18.1, 18.2, 18.3, 18.4, 18.5, 18.6,\n",
       "       18.7, 18.8, 18.9, 19. , 19.1, 19.2, 19.3, 19.4, 19.5, 19.6, 19.7,\n",
       "       19.8, 19.9, 20. , 20.1, 20.2, 20.3, 20.4, 20.5, 20.6, 20.7, 20.8,\n",
       "       20.9, 21. , 21.1, 21.2, 21.3, 21.4, 21.5, 21.6, 21.7, 21.8, 21.9,\n",
       "       22. , 22.1, 22.2, 22.3, 22.4, 22.5, 22.6, 22.7, 22.8, 22.9, 23. ,\n",
       "       23.1, 23.2, 23.3, 23.4, 23.5, 23.6, 23.7, 23.8, 23.9, 24. , 24.1,\n",
       "       24.2, 24.3, 24.4, 24.5, 24.6, 24.7, 24.8, 24.9, 25. , 25.1, 25.2,\n",
       "       25.3, 25.4, 25.5, 25.6, 25.7, 25.8, 25.9, 26. , 26.1, 26.2, 26.3,\n",
       "       26.4, 26.5, 26.6, 26.7, 26.8, 26.9, 27. , 27.1, 27.2, 27.3, 27.4,\n",
       "       27.5, 27.6, 27.7, 27.8, 27.9, 28. , 28.1, 28.2, 28.3, 28.4, 28.5,\n",
       "       28.6, 28.7, 28.8, 28.9, 29. , 29.1, 29.2, 29.3, 29.4, 29.5, 29.6,\n",
       "       29.7, 29.8, 29.9, 30. , 30.1, 30.2, 30.3, 30.4, 30.5, 30.6, 30.7,\n",
       "       30.8, 30.9, 31. , 31.1, 31.2, 31.3, 31.4, 31.5, 31.6, 31.7, 31.8,\n",
       "       31.9, 32. , 32.1, 32.2, 32.3, 32.4, 32.5, 32.6, 32.7, 32.8, 32.9,\n",
       "       33. , 33.1, 33.2, 33.3, 33.4, 33.5, 33.6, 33.7, 33.8, 33.9, 34. ,\n",
       "       34.1, 34.2, 34.3, 34.4, 34.5, 34.6, 34.7, 34.8, 34.9, 35. , 35.1,\n",
       "       35.2, 35.3, 35.4, 35.5, 35.6, 35.7, 35.8, 35.9, 36. , 36.1, 36.2,\n",
       "       36.3, 36.4, 36.5, 36.6, 36.7, 36.8, 36.9, 37. , 37.1, 37.2, 37.3,\n",
       "       37.4, 37.5, 37.6, 37.7, 37.8, 37.9, 38. , 38.1, 38.2, 38.3, 38.4,\n",
       "       38.5, 38.6, 38.7, 38.8, 38.9, 39. , 39.1, 39.2, 39.3, 39.4, 39.5,\n",
       "       39.6, 39.7, 39.8, 39.9, 40. , 40.1, 40.2, 40.3, 40.4, 40.5, 40.6,\n",
       "       40.7, 40.8, 40.9, 41. , 41.1, 41.2, 41.3, 41.4, 41.5, 41.6, 41.7,\n",
       "       41.8, 41.9, 42. , 42.1, 42.2, 42.3, 42.4, 42.5, 42.6, 42.7, 42.8,\n",
       "       42.9, 43. , 43.1, 43.2, 43.3, 43.4, 43.5, 43.6, 43.7, 43.8, 43.9,\n",
       "       44. , 44.1, 44.2, 44.3, 44.4, 44.5, 44.6, 44.7, 44.8, 44.9, 45. ,\n",
       "       45.1, 45.2, 45.3, 45.4, 45.5, 45.6, 45.7, 45.8, 45.9, 46. , 46.1,\n",
       "       46.2, 46.3, 46.4, 46.5, 46.6, 46.7, 46.8, 46.9, 47. , 47.1, 47.2,\n",
       "       47.3, 47.4, 47.5, 47.6, 47.7, 47.8, 47.9, 48. , 48.1, 48.2, 48.3,\n",
       "       48.4, 48.5, 48.6, 48.7, 48.8, 48.9, 49. , 49.1, 49.2, 49.3, 49.4,\n",
       "       49.5, 49.6, 49.7, 49.8, 49.9, 50. ])"
      ]
     },
     "execution_count": 5,
     "metadata": {},
     "output_type": "execute_result"
    }
   ],
   "source": [
    "x"
   ]
  },
  {
   "cell_type": "code",
   "execution_count": 6,
   "id": "6ca2f85d",
   "metadata": {},
   "outputs": [
    {
     "data": {
      "text/plain": [
       "array([ 1.        ,  0.99500417,  0.98006658,  0.95533649,  0.92106099,\n",
       "        0.87758256,  0.82533561,  0.76484219,  0.69670671,  0.62160997,\n",
       "        0.54030231,  0.45359612,  0.36235775,  0.26749883,  0.16996714,\n",
       "        0.0707372 , -0.02919952, -0.12884449, -0.22720209, -0.32328957,\n",
       "       -0.41614684, -0.5048461 , -0.58850112, -0.66627602, -0.73739372,\n",
       "       -0.80114362, -0.85688875, -0.90407214, -0.94222234, -0.97095817,\n",
       "       -0.9899925 , -0.99913515, -0.99829478, -0.98747977, -0.96679819,\n",
       "       -0.93645669, -0.89675842, -0.84810003, -0.79096771, -0.7259323 ,\n",
       "       -0.65364362, -0.57482395, -0.49026082, -0.40079917, -0.30733287,\n",
       "       -0.2107958 , -0.11215253, -0.01238866,  0.08749898,  0.18651237,\n",
       "        0.28366219,  0.37797774,  0.46851667,  0.55437434,  0.63469288,\n",
       "        0.70866977,  0.77556588,  0.83471278,  0.88551952,  0.92747843,\n",
       "        0.96017029,  0.98326844,  0.9965421 ,  0.99985864,  0.99318492,\n",
       "        0.97658763,  0.95023259,  0.91438315,  0.86939749,  0.8157251 ,\n",
       "        0.75390225,  0.68454667,  0.60835131,  0.52607752,  0.43854733,\n",
       "        0.34663532,  0.25125984,  0.15337386,  0.05395542, -0.04600213,\n",
       "       -0.14550003, -0.24354415, -0.33915486, -0.43137684, -0.51928865,\n",
       "       -0.6020119 , -0.67872005, -0.74864665, -0.81109301, -0.86543521,\n",
       "       -0.91113026, -0.9477216 , -0.97484362, -0.99222533, -0.99969304,\n",
       "       -0.99717216, -0.98468786, -0.96236488, -0.93042627, -0.88919115,\n",
       "       -0.83907153, -0.78056818, -0.71426565, -0.64082642, -0.56098426,\n",
       "       -0.47553693, -0.38533819, -0.29128928, -0.19432991, -0.09542885,\n",
       "        0.0044257 ,  0.10423603,  0.20300486,  0.29974534,  0.39349087,\n",
       "        0.48330476,  0.56828963,  0.64759634,  0.72043248,  0.7860703 ,\n",
       "        0.84385396,  0.89320611,  0.93363364,  0.96473262,  0.9861923 ,\n",
       "        0.99779828,  0.99943459,  0.99108487,  0.97283257,  0.94486004,\n",
       "        0.90744678,  0.86096662,  0.80588396,  0.74274917,  0.67219308,\n",
       "        0.59492066,  0.51170399,  0.42337454,  0.33081488,  0.23494982,\n",
       "        0.13673722,  0.03715838, -0.06279172, -0.16211444, -0.25981736,\n",
       "       -0.35492427, -0.44648489, -0.53358439, -0.61535248, -0.69097218,\n",
       "       -0.75968791, -0.82081309, -0.87373698, -0.91793078, -0.95295292,\n",
       "       -0.97845346, -0.99417763, -0.99996829, -0.99576761, -0.98161754,\n",
       "       -0.95765948, -0.9241328 , -0.88137249, -0.8298058 , -0.76994796,\n",
       "       -0.70239706, -0.62782804, -0.54698596, -0.46067859, -0.36976826,\n",
       "       -0.27516334, -0.17780907, -0.07867819,  0.02123881,  0.1209436 ,\n",
       "        0.21943996,  0.31574375,  0.40889274,  0.4979562 ,  0.58204425,\n",
       "        0.66031671,  0.7319915 ,  0.79635247,  0.85275655,  0.90064017,\n",
       "        0.93952489,  0.96902219,  0.98883734,  0.99877236,  0.99872797,\n",
       "        0.98870462,  0.96880246,  0.93922035,  0.90025385,  0.85229232,\n",
       "        0.79581497,  0.7313861 ,  0.65964945,  0.58132181,  0.49718579,\n",
       "        0.40808206,  0.31490091,  0.21857337,  0.12006192,  0.02035084,\n",
       "       -0.07956357, -0.17868301, -0.2760171 , -0.37059333, -0.4614667 ,\n",
       "       -0.54772926, -0.62851909, -0.70302896, -0.7705144 , -0.83030111,\n",
       "       -0.88179173, -0.92447177, -0.95791481, -0.98178667, -0.99584884,\n",
       "       -0.99996083, -0.99408153, -0.9782697 , -0.95268332, -0.91757805,\n",
       "       -0.87330464, -0.82030546, -0.75911006, -0.69032988, -0.61465215,\n",
       "       -0.53283302, -0.44569   , -0.35409379, -0.2589596 , -0.16123796,\n",
       "       -0.06190529,  0.03804591,  0.13761698,  0.23581302,  0.3316529 ,\n",
       "        0.42417901,  0.51246686,  0.59563432,  0.67285039,  0.74334356,\n",
       "        0.80640949,  0.86141805,  0.9078196 ,  0.94515051,  0.9730378 ,\n",
       "        0.99120281,  0.99946405,  0.99773898,  0.98604483,  0.96449845,\n",
       "        0.93331511,  0.8928064 ,  0.84337707,  0.78552098,  0.71981624,\n",
       "        0.64691932,  0.5675586 ,  0.48252703,  0.3926742 ,  0.29889791,\n",
       "        0.20213512,  0.10335267,  0.00353755, -0.09631292, -0.19520105,\n",
       "       -0.29213881, -0.38615761, -0.47631805, -0.56171928, -0.64150799,\n",
       "       -0.71488697, -0.78112303, -0.83955437, -0.88959717, -0.9307514 ,\n",
       "       -0.96260587, -0.9848423 , -0.99723851, -0.99967064, -0.9921144 ,\n",
       "       -0.97464528, -0.94743782, -0.91076388, -0.86498988, -0.8105732 ,\n",
       "       -0.74805753, -0.67806752, -0.60130248, -0.51852943, -0.4305754 ,\n",
       "       -0.33831921, -0.24268264, -0.14462127, -0.04511489,  0.05484226,\n",
       "        0.15425145,  0.25211941,  0.34746827,  0.43934535,  0.52683263,\n",
       "        0.60905598,  0.68519384,  0.75448546,  0.81623852,  0.869836  ,\n",
       "        0.91474236,  0.95050891,  0.9767783 ,  0.99328804,  0.99987318,\n",
       "        0.99646791,  0.98310626,  0.95992174,  0.927146  ,  0.88510653,\n",
       "        0.83422336,  0.77500491,  0.70804286,  0.63400629,  0.55363493,\n",
       "        0.46773184,  0.37715533,  0.2828104 ,  0.18563972,  0.0866142 ,\n",
       "       -0.01327675, -0.11303504, -0.21166392, -0.30817792, -0.40161271,\n",
       "       -0.49103472, -0.57555048, -0.65431552, -0.72654286, -0.79151083,\n",
       "       -0.84857027, -0.89715109, -0.93676787, -0.96702477, -0.98761948,\n",
       "       -0.99834623, -0.99909783, -0.98986677, -0.97074529, -0.94192445,\n",
       "       -0.90369221, -0.85643057, -0.80061176, -0.73679351, -0.66561346,\n",
       "       -0.58778281, -0.50407924, -0.41533907, -0.32244898, -0.22633708,\n",
       "       -0.12796369, -0.02831173,  0.07162311,  0.17084231,  0.26835451,\n",
       "        0.36318541,  0.45438747,  0.54104945,  0.62230544,  0.69734356,\n",
       "        0.76541405,  0.82583678,  0.87800802,  0.9214065 ,  0.95559858,\n",
       "        0.98024264,  0.99509244,  0.99999961,  0.99491511,  0.97988974,\n",
       "        0.95507364,  0.92071477,  0.87715641,  0.8248338 ,  0.76426972,\n",
       "        0.69606931,  0.62091401,  0.53955473,  0.45280441,  0.36152981,\n",
       "        0.26664293,  0.16909184,  0.06985124, -0.03008729, -0.1297252 ,\n",
       "       -0.22806693, -0.3241299 , -0.41695427, -0.50561257, -0.58921896,\n",
       "       -0.66693806, -0.73799334, -0.80167484, -0.85734626, -0.90445137,\n",
       "       -0.94251949, -0.97117027, -0.99011744, -0.99917169, -0.99824254,\n",
       "       -0.98733928, -0.96657085, -0.93614477, -0.89636504, -0.84762912,\n",
       "       -0.79042397, -0.72532117, -0.6529712 , -0.57409696, -0.48948653,\n",
       "       -0.39998531, -0.30648758, -0.20992752, -0.11126993, -0.01150057,\n",
       "        0.0883837 ,  0.18738487,  0.28451375,  0.37879986,  0.46930113,\n",
       "        0.5551133 ,  0.63537896,  0.70929613,  0.77612624,  0.83520155,\n",
       "        0.88593181,  0.92781013,  0.96041807,  0.98342984,  0.9966155 ,\n",
       "        0.99984331,  0.99308101,  0.97639618,  0.94995552,  0.91402322,\n",
       "        0.8689583 ,  0.81521103,  0.75331845,  0.68389896,  0.60764617,\n",
       "        0.52532199,  0.43774896,  0.34580209,  0.25040008,  0.15249615,\n",
       "        0.05306854, -0.04688932, -0.14637868, -0.24440547, -0.33999024,\n",
       "       -0.43217794, -0.52004747, -0.60272085, -0.67937204, -0.74923517,\n",
       "       -0.81161219, -0.86587985, -0.91149593, -0.94800464, -0.9750412 ,\n",
       "       -0.99233547, -0.99971465, -0.99710502, -0.98453264, -0.96212313,\n",
       "       -0.93010041, -0.88878444, -0.83858802, -0.78001271, -0.71364377,\n",
       "       -0.64014434, -0.5602488 , -0.47475543, -0.38451847, -0.29043952,\n",
       "       -0.1934586 , -0.09454471,  0.00531384,  0.1051193 ,  0.20387445,\n",
       "        0.30059254,  0.39430722,  0.48408211,  0.56902021,  0.64827284,\n",
       "        0.72104815,  0.78661899,  0.84433019,  0.89360512,  0.93395144,\n",
       "        0.96496603])"
      ]
     },
     "execution_count": 6,
     "metadata": {},
     "output_type": "execute_result"
    }
   ],
   "source": [
    "y"
   ]
  },
  {
   "cell_type": "markdown",
   "id": "405afd11",
   "metadata": {},
   "source": [
    "# Data Visualization"
   ]
  },
  {
   "cell_type": "markdown",
   "id": "10b562f3",
   "metadata": {},
   "source": [
    "\n",
    "To visualize the generated data sequence representing a cosine wave, you can use the matplotlib library in Python. "
   ]
  },
  {
   "cell_type": "code",
   "execution_count": 19,
   "id": "29cb0684",
   "metadata": {},
   "outputs": [
    {
     "data": {
      "text/plain": [
       "[<matplotlib.lines.Line2D at 0x1fd85515a80>]"
      ]
     },
     "execution_count": 19,
     "metadata": {},
     "output_type": "execute_result"
    },
    {
     "data": {
      "image/png": "[encoded data removed]",
      "text/plain": [
       "<Figure size 432x288 with 1 Axes>"
      ]
     },
     "metadata": {
      "needs_background": "light"
     },
     "output_type": "display_data"
    }
   ],
   "source": [
    "plt.plot(x, y)"
   ]
  },
  {
   "cell_type": "code",
   "execution_count": 7,
   "id": "0d34744b",
   "metadata": {},
   "outputs": [
    {
     "data": {
      "text/plain": [
       "((501,), (501,))"
      ]
     },
     "execution_count": 7,
     "metadata": {},
     "output_type": "execute_result"
    }
   ],
   "source": [
    "x.shape, y.shape"
   ]
  },
  {
   "cell_type": "markdown",
   "id": "f10e58cf",
   "metadata": {},
   "source": [
    "# Creating Dataframe"
   ]
  },
  {
   "cell_type": "code",
   "execution_count": 9,
   "id": "6fc1ed9c",
   "metadata": {},
   "outputs": [],
   "source": [
    "dataframe = pd.DataFrame(data = y, \n",
    "                         index = x, \n",
    "                         columns = ['Cosine'])"
   ]
  },
  {
   "cell_type": "code",
   "execution_count": 10,
   "id": "ba3c8ee3",
   "metadata": {},
   "outputs": [
    {
     "data": {
      "text/html": [
       "<div>\n",
       "<style scoped>\n",
       "    .dataframe tbody tr th:only-of-type {\n",
       "        vertical-align: middle;\n",
       "    }\n",
       "\n",
       "    .dataframe tbody tr th {\n",
       "        vertical-align: top;\n",
       "    }\n",
       "\n",
       "    .dataframe thead th {\n",
       "        text-align: right;\n",
       "    }\n",
       "</style>\n",
       "<table border=\"1\" class=\"dataframe\">\n",
       "  <thead>\n",
       "    <tr style=\"text-align: right;\">\n",
       "      <th></th>\n",
       "      <th>Cosine</th>\n",
       "    </tr>\n",
       "  </thead>\n",
       "  <tbody>\n",
       "    <tr>\n",
       "      <th>0.0</th>\n",
       "      <td>1.000000</td>\n",
       "    </tr>\n",
       "    <tr>\n",
       "      <th>0.1</th>\n",
       "      <td>0.995004</td>\n",
       "    </tr>\n",
       "    <tr>\n",
       "      <th>0.2</th>\n",
       "      <td>0.980067</td>\n",
       "    </tr>\n",
       "    <tr>\n",
       "      <th>0.3</th>\n",
       "      <td>0.955336</td>\n",
       "    </tr>\n",
       "    <tr>\n",
       "      <th>0.4</th>\n",
       "      <td>0.921061</td>\n",
       "    </tr>\n",
       "  </tbody>\n",
       "</table>\n",
       "</div>"
      ],
      "text/plain": [
       "       Cosine\n",
       "0.0  1.000000\n",
       "0.1  0.995004\n",
       "0.2  0.980067\n",
       "0.3  0.955336\n",
       "0.4  0.921061"
      ]
     },
     "execution_count": 10,
     "metadata": {},
     "output_type": "execute_result"
    }
   ],
   "source": [
    "dataframe.head()"
   ]
  },
  {
   "cell_type": "code",
   "execution_count": 11,
   "id": "dd154f5e",
   "metadata": {},
   "outputs": [
    {
     "data": {
      "text/html": [
       "<div>\n",
       "<style scoped>\n",
       "    .dataframe tbody tr th:only-of-type {\n",
       "        vertical-align: middle;\n",
       "    }\n",
       "\n",
       "    .dataframe tbody tr th {\n",
       "        vertical-align: top;\n",
       "    }\n",
       "\n",
       "    .dataframe thead th {\n",
       "        text-align: right;\n",
       "    }\n",
       "</style>\n",
       "<table border=\"1\" class=\"dataframe\">\n",
       "  <thead>\n",
       "    <tr style=\"text-align: right;\">\n",
       "      <th></th>\n",
       "      <th>Cosine</th>\n",
       "    </tr>\n",
       "  </thead>\n",
       "  <tbody>\n",
       "    <tr>\n",
       "      <th>49.6</th>\n",
       "      <td>0.786619</td>\n",
       "    </tr>\n",
       "    <tr>\n",
       "      <th>49.7</th>\n",
       "      <td>0.844330</td>\n",
       "    </tr>\n",
       "    <tr>\n",
       "      <th>49.8</th>\n",
       "      <td>0.893605</td>\n",
       "    </tr>\n",
       "    <tr>\n",
       "      <th>49.9</th>\n",
       "      <td>0.933951</td>\n",
       "    </tr>\n",
       "    <tr>\n",
       "      <th>50.0</th>\n",
       "      <td>0.964966</td>\n",
       "    </tr>\n",
       "  </tbody>\n",
       "</table>\n",
       "</div>"
      ],
      "text/plain": [
       "        Cosine\n",
       "49.6  0.786619\n",
       "49.7  0.844330\n",
       "49.8  0.893605\n",
       "49.9  0.933951\n",
       "50.0  0.964966"
      ]
     },
     "execution_count": 11,
     "metadata": {},
     "output_type": "execute_result"
    }
   ],
   "source": [
    "dataframe.tail()"
   ]
  },
  {
   "cell_type": "markdown",
   "id": "836fd90f",
   "metadata": {},
   "source": [
    "Calculating the test index for a given dataset taking the test percentage is 0.1 (10%), we can perform the following ways:"
   ]
  },
  {
   "cell_type": "code",
   "execution_count": 12,
   "id": "804eb22c",
   "metadata": {},
   "outputs": [],
   "source": [
    "test_precent = 0.1"
   ]
  },
  {
   "cell_type": "code",
   "execution_count": 13,
   "id": "16882891",
   "metadata": {},
   "outputs": [
    {
     "data": {
      "text/plain": [
       "50.1"
      ]
     },
     "execution_count": 13,
     "metadata": {},
     "output_type": "execute_result"
    }
   ],
   "source": [
    "len(dataframe)*test_precent"
   ]
  },
  {
   "cell_type": "code",
   "execution_count": 15,
   "id": "2b00f263",
   "metadata": {},
   "outputs": [],
   "source": [
    "test_point = np.round(len(dataframe)*test_precent)"
   ]
  },
  {
   "cell_type": "code",
   "execution_count": 16,
   "id": "7b723269",
   "metadata": {},
   "outputs": [
    {
     "data": {
      "text/plain": [
       "50.0"
      ]
     },
     "execution_count": 16,
     "metadata": {},
     "output_type": "execute_result"
    }
   ],
   "source": [
    "test_point"
   ]
  },
  {
   "cell_type": "code",
   "execution_count": 17,
   "id": "5848b0de",
   "metadata": {},
   "outputs": [],
   "source": [
    "test_index = int(len(dataframe) - test_point)"
   ]
  },
  {
   "cell_type": "code",
   "execution_count": 18,
   "id": "bd190919",
   "metadata": {},
   "outputs": [
    {
     "data": {
      "text/plain": [
       "451"
      ]
     },
     "execution_count": 18,
     "metadata": {},
     "output_type": "execute_result"
    }
   ],
   "source": [
    "test_index"
   ]
  },
  {
   "cell_type": "markdown",
   "id": "fc35c30b",
   "metadata": {},
   "source": [
    "# Splitting Dataset"
   ]
  },
  {
   "cell_type": "markdown",
   "id": "db0634f1",
   "metadata": {},
   "source": [
    "Splitting a dataset refers to the process of dividing a given dataset into two or more subsets for training and evaluation purposes. The most common type of split is between the training set and the testing (or validation) set. This division allows us to assess the performance of a machine learning model on unseen data and evaluate its generalization capabilities.\n",
    "\n",
    "Train-Test Split: This is the most basic type of split, where the dataset is divided into a training set and a testing set. The training set is used to train the machine learning model, while the testing set is used to evaluate its performance. The split is typically done using a fixed ratio, such as 80% for training and 20% for testing."
   ]
  },
  {
   "cell_type": "code",
   "execution_count": 20,
   "id": "4b4a2987",
   "metadata": {},
   "outputs": [],
   "source": [
    "train_data = dataframe.iloc[:test_index]\n",
    "test_data = dataframe.iloc[test_index:]"
   ]
  },
  {
   "cell_type": "code",
   "execution_count": 21,
   "id": "b54f5183",
   "metadata": {},
   "outputs": [
    {
     "data": {
      "text/html": [
       "<div>\n",
       "<style scoped>\n",
       "    .dataframe tbody tr th:only-of-type {\n",
       "        vertical-align: middle;\n",
       "    }\n",
       "\n",
       "    .dataframe tbody tr th {\n",
       "        vertical-align: top;\n",
       "    }\n",
       "\n",
       "    .dataframe thead th {\n",
       "        text-align: right;\n",
       "    }\n",
       "</style>\n",
       "<table border=\"1\" class=\"dataframe\">\n",
       "  <thead>\n",
       "    <tr style=\"text-align: right;\">\n",
       "      <th></th>\n",
       "      <th>Cosine</th>\n",
       "    </tr>\n",
       "  </thead>\n",
       "  <tbody>\n",
       "    <tr>\n",
       "      <th>0.0</th>\n",
       "      <td>1.000000</td>\n",
       "    </tr>\n",
       "    <tr>\n",
       "      <th>0.1</th>\n",
       "      <td>0.995004</td>\n",
       "    </tr>\n",
       "    <tr>\n",
       "      <th>0.2</th>\n",
       "      <td>0.980067</td>\n",
       "    </tr>\n",
       "    <tr>\n",
       "      <th>0.3</th>\n",
       "      <td>0.955336</td>\n",
       "    </tr>\n",
       "    <tr>\n",
       "      <th>0.4</th>\n",
       "      <td>0.921061</td>\n",
       "    </tr>\n",
       "    <tr>\n",
       "      <th>...</th>\n",
       "      <td>...</td>\n",
       "    </tr>\n",
       "    <tr>\n",
       "      <th>44.6</th>\n",
       "      <td>0.815211</td>\n",
       "    </tr>\n",
       "    <tr>\n",
       "      <th>44.7</th>\n",
       "      <td>0.753318</td>\n",
       "    </tr>\n",
       "    <tr>\n",
       "      <th>44.8</th>\n",
       "      <td>0.683899</td>\n",
       "    </tr>\n",
       "    <tr>\n",
       "      <th>44.9</th>\n",
       "      <td>0.607646</td>\n",
       "    </tr>\n",
       "    <tr>\n",
       "      <th>45.0</th>\n",
       "      <td>0.525322</td>\n",
       "    </tr>\n",
       "  </tbody>\n",
       "</table>\n",
       "<p>451 rows × 1 columns</p>\n",
       "</div>"
      ],
      "text/plain": [
       "        Cosine\n",
       "0.0   1.000000\n",
       "0.1   0.995004\n",
       "0.2   0.980067\n",
       "0.3   0.955336\n",
       "0.4   0.921061\n",
       "...        ...\n",
       "44.6  0.815211\n",
       "44.7  0.753318\n",
       "44.8  0.683899\n",
       "44.9  0.607646\n",
       "45.0  0.525322\n",
       "\n",
       "[451 rows x 1 columns]"
      ]
     },
     "execution_count": 21,
     "metadata": {},
     "output_type": "execute_result"
    }
   ],
   "source": [
    "train_data"
   ]
  },
  {
   "cell_type": "code",
   "execution_count": 22,
   "id": "645eca45",
   "metadata": {},
   "outputs": [
    {
     "data": {
      "text/html": [
       "<div>\n",
       "<style scoped>\n",
       "    .dataframe tbody tr th:only-of-type {\n",
       "        vertical-align: middle;\n",
       "    }\n",
       "\n",
       "    .dataframe tbody tr th {\n",
       "        vertical-align: top;\n",
       "    }\n",
       "\n",
       "    .dataframe thead th {\n",
       "        text-align: right;\n",
       "    }\n",
       "</style>\n",
       "<table border=\"1\" class=\"dataframe\">\n",
       "  <thead>\n",
       "    <tr style=\"text-align: right;\">\n",
       "      <th></th>\n",
       "      <th>Cosine</th>\n",
       "    </tr>\n",
       "  </thead>\n",
       "  <tbody>\n",
       "    <tr>\n",
       "      <th>45.1</th>\n",
       "      <td>0.437749</td>\n",
       "    </tr>\n",
       "    <tr>\n",
       "      <th>45.2</th>\n",
       "      <td>0.345802</td>\n",
       "    </tr>\n",
       "    <tr>\n",
       "      <th>45.3</th>\n",
       "      <td>0.250400</td>\n",
       "    </tr>\n",
       "    <tr>\n",
       "      <th>45.4</th>\n",
       "      <td>0.152496</td>\n",
       "    </tr>\n",
       "    <tr>\n",
       "      <th>45.5</th>\n",
       "      <td>0.053069</td>\n",
       "    </tr>\n",
       "    <tr>\n",
       "      <th>45.6</th>\n",
       "      <td>-0.046889</td>\n",
       "    </tr>\n",
       "    <tr>\n",
       "      <th>45.7</th>\n",
       "      <td>-0.146379</td>\n",
       "    </tr>\n",
       "    <tr>\n",
       "      <th>45.8</th>\n",
       "      <td>-0.244405</td>\n",
       "    </tr>\n",
       "    <tr>\n",
       "      <th>45.9</th>\n",
       "      <td>-0.339990</td>\n",
       "    </tr>\n",
       "    <tr>\n",
       "      <th>46.0</th>\n",
       "      <td>-0.432178</td>\n",
       "    </tr>\n",
       "    <tr>\n",
       "      <th>46.1</th>\n",
       "      <td>-0.520047</td>\n",
       "    </tr>\n",
       "    <tr>\n",
       "      <th>46.2</th>\n",
       "      <td>-0.602721</td>\n",
       "    </tr>\n",
       "    <tr>\n",
       "      <th>46.3</th>\n",
       "      <td>-0.679372</td>\n",
       "    </tr>\n",
       "    <tr>\n",
       "      <th>46.4</th>\n",
       "      <td>-0.749235</td>\n",
       "    </tr>\n",
       "    <tr>\n",
       "      <th>46.5</th>\n",
       "      <td>-0.811612</td>\n",
       "    </tr>\n",
       "    <tr>\n",
       "      <th>46.6</th>\n",
       "      <td>-0.865880</td>\n",
       "    </tr>\n",
       "    <tr>\n",
       "      <th>46.7</th>\n",
       "      <td>-0.911496</td>\n",
       "    </tr>\n",
       "    <tr>\n",
       "      <th>46.8</th>\n",
       "      <td>-0.948005</td>\n",
       "    </tr>\n",
       "    <tr>\n",
       "      <th>46.9</th>\n",
       "      <td>-0.975041</td>\n",
       "    </tr>\n",
       "    <tr>\n",
       "      <th>47.0</th>\n",
       "      <td>-0.992335</td>\n",
       "    </tr>\n",
       "    <tr>\n",
       "      <th>47.1</th>\n",
       "      <td>-0.999715</td>\n",
       "    </tr>\n",
       "    <tr>\n",
       "      <th>47.2</th>\n",
       "      <td>-0.997105</td>\n",
       "    </tr>\n",
       "    <tr>\n",
       "      <th>47.3</th>\n",
       "      <td>-0.984533</td>\n",
       "    </tr>\n",
       "    <tr>\n",
       "      <th>47.4</th>\n",
       "      <td>-0.962123</td>\n",
       "    </tr>\n",
       "    <tr>\n",
       "      <th>47.5</th>\n",
       "      <td>-0.930100</td>\n",
       "    </tr>\n",
       "    <tr>\n",
       "      <th>47.6</th>\n",
       "      <td>-0.888784</td>\n",
       "    </tr>\n",
       "    <tr>\n",
       "      <th>47.7</th>\n",
       "      <td>-0.838588</td>\n",
       "    </tr>\n",
       "    <tr>\n",
       "      <th>47.8</th>\n",
       "      <td>-0.780013</td>\n",
       "    </tr>\n",
       "    <tr>\n",
       "      <th>47.9</th>\n",
       "      <td>-0.713644</td>\n",
       "    </tr>\n",
       "    <tr>\n",
       "      <th>48.0</th>\n",
       "      <td>-0.640144</td>\n",
       "    </tr>\n",
       "    <tr>\n",
       "      <th>48.1</th>\n",
       "      <td>-0.560249</td>\n",
       "    </tr>\n",
       "    <tr>\n",
       "      <th>48.2</th>\n",
       "      <td>-0.474755</td>\n",
       "    </tr>\n",
       "    <tr>\n",
       "      <th>48.3</th>\n",
       "      <td>-0.384518</td>\n",
       "    </tr>\n",
       "    <tr>\n",
       "      <th>48.4</th>\n",
       "      <td>-0.290440</td>\n",
       "    </tr>\n",
       "    <tr>\n",
       "      <th>48.5</th>\n",
       "      <td>-0.193459</td>\n",
       "    </tr>\n",
       "    <tr>\n",
       "      <th>48.6</th>\n",
       "      <td>-0.094545</td>\n",
       "    </tr>\n",
       "    <tr>\n",
       "      <th>48.7</th>\n",
       "      <td>0.005314</td>\n",
       "    </tr>\n",
       "    <tr>\n",
       "      <th>48.8</th>\n",
       "      <td>0.105119</td>\n",
       "    </tr>\n",
       "    <tr>\n",
       "      <th>48.9</th>\n",
       "      <td>0.203874</td>\n",
       "    </tr>\n",
       "    <tr>\n",
       "      <th>49.0</th>\n",
       "      <td>0.300593</td>\n",
       "    </tr>\n",
       "    <tr>\n",
       "      <th>49.1</th>\n",
       "      <td>0.394307</td>\n",
       "    </tr>\n",
       "    <tr>\n",
       "      <th>49.2</th>\n",
       "      <td>0.484082</td>\n",
       "    </tr>\n",
       "    <tr>\n",
       "      <th>49.3</th>\n",
       "      <td>0.569020</td>\n",
       "    </tr>\n",
       "    <tr>\n",
       "      <th>49.4</th>\n",
       "      <td>0.648273</td>\n",
       "    </tr>\n",
       "    <tr>\n",
       "      <th>49.5</th>\n",
       "      <td>0.721048</td>\n",
       "    </tr>\n",
       "    <tr>\n",
       "      <th>49.6</th>\n",
       "      <td>0.786619</td>\n",
       "    </tr>\n",
       "    <tr>\n",
       "      <th>49.7</th>\n",
       "      <td>0.844330</td>\n",
       "    </tr>\n",
       "    <tr>\n",
       "      <th>49.8</th>\n",
       "      <td>0.893605</td>\n",
       "    </tr>\n",
       "    <tr>\n",
       "      <th>49.9</th>\n",
       "      <td>0.933951</td>\n",
       "    </tr>\n",
       "    <tr>\n",
       "      <th>50.0</th>\n",
       "      <td>0.964966</td>\n",
       "    </tr>\n",
       "  </tbody>\n",
       "</table>\n",
       "</div>"
      ],
      "text/plain": [
       "        Cosine\n",
       "45.1  0.437749\n",
       "45.2  0.345802\n",
       "45.3  0.250400\n",
       "45.4  0.152496\n",
       "45.5  0.053069\n",
       "45.6 -0.046889\n",
       "45.7 -0.146379\n",
       "45.8 -0.244405\n",
       "45.9 -0.339990\n",
       "46.0 -0.432178\n",
       "46.1 -0.520047\n",
       "46.2 -0.602721\n",
       "46.3 -0.679372\n",
       "46.4 -0.749235\n",
       "46.5 -0.811612\n",
       "46.6 -0.865880\n",
       "46.7 -0.911496\n",
       "46.8 -0.948005\n",
       "46.9 -0.975041\n",
       "47.0 -0.992335\n",
       "47.1 -0.999715\n",
       "47.2 -0.997105\n",
       "47.3 -0.984533\n",
       "47.4 -0.962123\n",
       "47.5 -0.930100\n",
       "47.6 -0.888784\n",
       "47.7 -0.838588\n",
       "47.8 -0.780013\n",
       "47.9 -0.713644\n",
       "48.0 -0.640144\n",
       "48.1 -0.560249\n",
       "48.2 -0.474755\n",
       "48.3 -0.384518\n",
       "48.4 -0.290440\n",
       "48.5 -0.193459\n",
       "48.6 -0.094545\n",
       "48.7  0.005314\n",
       "48.8  0.105119\n",
       "48.9  0.203874\n",
       "49.0  0.300593\n",
       "49.1  0.394307\n",
       "49.2  0.484082\n",
       "49.3  0.569020\n",
       "49.4  0.648273\n",
       "49.5  0.721048\n",
       "49.6  0.786619\n",
       "49.7  0.844330\n",
       "49.8  0.893605\n",
       "49.9  0.933951\n",
       "50.0  0.964966"
      ]
     },
     "execution_count": 22,
     "metadata": {},
     "output_type": "execute_result"
    }
   ],
   "source": [
    "test_data"
   ]
  },
  {
   "cell_type": "code",
   "execution_count": 23,
   "id": "2744927f",
   "metadata": {},
   "outputs": [
    {
     "data": {
      "text/plain": [
       "((451, 1), (50, 1))"
      ]
     },
     "execution_count": 23,
     "metadata": {},
     "output_type": "execute_result"
    }
   ],
   "source": [
    "train_data.shape, test_data.shape"
   ]
  },
  {
   "cell_type": "markdown",
   "id": "bace8d6e",
   "metadata": {},
   "source": [
    "# Scaling Dataset"
   ]
  },
  {
   "cell_type": "markdown",
   "id": "5c2083ec",
   "metadata": {},
   "source": [
    "Scaling is a preprocessing technique used in machine learning to transform the input features to a similar scale. It is often necessary because features can have different units, ranges, or magnitudes, which can affect the performance of certain algorithms. Scaling ensures that all features contribute equally to the learning process and prevents features with larger values from dominating those with smaller values."
   ]
  },
  {
   "cell_type": "markdown",
   "id": "31fe3dd5",
   "metadata": {},
   "source": [
    "MinMaxScaler is a popular scaling technique used in data preprocessing. It scales the features to a specified range, typically between 0 and 1."
   ]
  },
  {
   "cell_type": "code",
   "execution_count": 24,
   "id": "4bedc5be",
   "metadata": {},
   "outputs": [],
   "source": [
    "from sklearn.preprocessing import MinMaxScaler"
   ]
  },
  {
   "cell_type": "code",
   "execution_count": 25,
   "id": "6fda2c16",
   "metadata": {},
   "outputs": [],
   "source": [
    "scaler = MinMaxScaler()"
   ]
  },
  {
   "cell_type": "code",
   "execution_count": 26,
   "id": "e3756e94",
   "metadata": {},
   "outputs": [
    {
     "data": {
      "text/html": [
       "<style>#sk-container-id-1 {color: black;background-color: white;}#sk-container-id-1 pre{padding: 0;}#sk-container-id-1 div.sk-toggleable {background-color: white;}#sk-container-id-1 label.sk-toggleable__label {cursor: pointer;display: block;width: 100%;margin-bottom: 0;padding: 0.3em;box-sizing: border-box;text-align: center;}#sk-container-id-1 label.sk-toggleable__label-arrow:before {content: \"▸\";float: left;margin-right: 0.25em;color: #696969;}#sk-container-id-1 label.sk-toggleable__label-arrow:hover:before {color: black;}#sk-container-id-1 div.sk-estimator:hover label.sk-toggleable__label-arrow:before {color: black;}#sk-container-id-1 div.sk-toggleable__content {max-height: 0;max-width: 0;overflow: hidden;text-align: left;background-color: #f0f8ff;}#sk-container-id-1 div.sk-toggleable__content pre {margin: 0.2em;color: black;border-radius: 0.25em;background-color: #f0f8ff;}#sk-container-id-1 input.sk-toggleable__control:checked~div.sk-toggleable__content {max-height: 200px;max-width: 100%;overflow: auto;}#sk-container-id-1 input.sk-toggleable__control:checked~label.sk-toggleable__label-arrow:before {content: \"▾\";}#sk-container-id-1 div.sk-estimator input.sk-toggleable__control:checked~label.sk-toggleable__label {background-color: #d4ebff;}#sk-container-id-1 div.sk-label input.sk-toggleable__control:checked~label.sk-toggleable__label {background-color: #d4ebff;}#sk-container-id-1 input.sk-hidden--visually {border: 0;clip: rect(1px 1px 1px 1px);clip: rect(1px, 1px, 1px, 1px);height: 1px;margin: -1px;overflow: hidden;padding: 0;position: absolute;width: 1px;}#sk-container-id-1 div.sk-estimator {font-family: monospace;background-color: #f0f8ff;border: 1px dotted black;border-radius: 0.25em;box-sizing: border-box;margin-bottom: 0.5em;}#sk-container-id-1 div.sk-estimator:hover {background-color: #d4ebff;}#sk-container-id-1 div.sk-parallel-item::after {content: \"\";width: 100%;border-bottom: 1px solid gray;flex-grow: 1;}#sk-container-id-1 div.sk-label:hover label.sk-toggleable__label {background-color: #d4ebff;}#sk-container-id-1 div.sk-serial::before {content: \"\";position: absolute;border-left: 1px solid gray;box-sizing: border-box;top: 0;bottom: 0;left: 50%;z-index: 0;}#sk-container-id-1 div.sk-serial {display: flex;flex-direction: column;align-items: center;background-color: white;padding-right: 0.2em;padding-left: 0.2em;position: relative;}#sk-container-id-1 div.sk-item {position: relative;z-index: 1;}#sk-container-id-1 div.sk-parallel {display: flex;align-items: stretch;justify-content: center;background-color: white;position: relative;}#sk-container-id-1 div.sk-item::before, #sk-container-id-1 div.sk-parallel-item::before {content: \"\";position: absolute;border-left: 1px solid gray;box-sizing: border-box;top: 0;bottom: 0;left: 50%;z-index: -1;}#sk-container-id-1 div.sk-parallel-item {display: flex;flex-direction: column;z-index: 1;position: relative;background-color: white;}#sk-container-id-1 div.sk-parallel-item:first-child::after {align-self: flex-end;width: 50%;}#sk-container-id-1 div.sk-parallel-item:last-child::after {align-self: flex-start;width: 50%;}#sk-container-id-1 div.sk-parallel-item:only-child::after {width: 0;}#sk-container-id-1 div.sk-dashed-wrapped {border: 1px dashed gray;margin: 0 0.4em 0.5em 0.4em;box-sizing: border-box;padding-bottom: 0.4em;background-color: white;}#sk-container-id-1 div.sk-label label {font-family: monospace;font-weight: bold;display: inline-block;line-height: 1.2em;}#sk-container-id-1 div.sk-label-container {text-align: center;}#sk-container-id-1 div.sk-container {/* jupyter's `normalize.less` sets `[hidden] { display: none; }` but bootstrap.min.css set `[hidden] { display: none !important; }` so we also need the `!important` here to be able to override the default hidden behavior on the sphinx rendered scikit-learn.org. See: https://github.com/scikit-learn/scikit-learn/issues/21755 */display: inline-block !important;position: relative;}#sk-container-id-1 div.sk-text-repr-fallback {display: none;}</style><div id=\"sk-container-id-1\" class=\"sk-top-container\"><div class=\"sk-text-repr-fallback\"><pre>MinMaxScaler()</pre><b>In a Jupyter environment, please rerun this cell to show the HTML representation or trust the notebook. <br />On GitHub, the HTML representation is unable to render, please try loading this page with nbviewer.org.</b></div><div class=\"sk-container\" hidden><div class=\"sk-item\"><div class=\"sk-estimator sk-toggleable\"><input class=\"sk-toggleable__control sk-hidden--visually\" id=\"sk-estimator-id-1\" type=\"checkbox\" checked><label for=\"sk-estimator-id-1\" class=\"sk-toggleable__label sk-toggleable__label-arrow\">MinMaxScaler</label><div class=\"sk-toggleable__content\"><pre>MinMaxScaler()</pre></div></div></div></div></div>"
      ],
      "text/plain": [
       "MinMaxScaler()"
      ]
     },
     "execution_count": 26,
     "metadata": {},
     "output_type": "execute_result"
    }
   ],
   "source": [
    "scaler.fit(train_data)"
   ]
  },
  {
   "cell_type": "code",
   "execution_count": 27,
   "id": "0d373fbc",
   "metadata": {},
   "outputs": [],
   "source": [
    "scaled_train = scaler.transform(train_data)\n",
    "scaled_test = scaler.transform(test_data)"
   ]
  },
  {
   "cell_type": "code",
   "execution_count": 28,
   "id": "c9a9aff4",
   "metadata": {
    "scrolled": false
   },
   "outputs": [
    {
     "data": {
      "text/plain": [
       "array([[1.00000000e+00],\n",
       "       [9.97502043e-01],\n",
       "       [9.90033131e-01],\n",
       "       [9.77667891e-01],\n",
       "       [9.60529871e-01],\n",
       "       [9.38790311e-01],\n",
       "       [9.12666423e-01],\n",
       "       [8.82419230e-01],\n",
       "       [8.48350951e-01],\n",
       "       [8.10801985e-01],\n",
       "       [7.70147509e-01],\n",
       "       [7.26793729e-01],\n",
       "       [6.81173823e-01],\n",
       "       [6.33743608e-01],\n",
       "       [5.84976992e-01],\n",
       "       [5.35361235e-01],\n",
       "       [4.85392081e-01],\n",
       "       [4.35568805e-01],\n",
       "       [3.86389225e-01],\n",
       "       [3.38344727e-01],\n",
       "       [2.91915356e-01],\n",
       "       [2.47565019e-01],\n",
       "       [2.05736850e-01],\n",
       "       [1.66848781e-01],\n",
       "       [1.31289370e-01],\n",
       "       [9.94139149e-02],\n",
       "       [7.15409042e-02],\n",
       "       [4.79488358e-02],\n",
       "       [2.88734341e-02],\n",
       "       [1.45052941e-02],\n",
       "       [4.98797745e-03],\n",
       "       [4.16578142e-04],\n",
       "       [8.36772043e-04],\n",
       "       [6.24436071e-03],\n",
       "       [1.65853133e-02],\n",
       "       [3.17563065e-02],\n",
       "       [5.16057566e-02],\n",
       "       [7.59353346e-02],\n",
       "       [1.04501947e-01],\n",
       "       [1.37020167e-01],\n",
       "       [1.73165081e-01],\n",
       "       [2.12575543e-01],\n",
       "       [2.54857776e-01],\n",
       "       [2.99589310e-01],\n",
       "       [3.46323202e-01],\n",
       "       [3.94592503e-01],\n",
       "       [4.43914921e-01],\n",
       "       [4.93797643e-01],\n",
       "       [5.43742259e-01],\n",
       "       [5.93249736e-01],\n",
       "       [6.41825414e-01],\n",
       "       [6.88983941e-01],\n",
       "       [7.34254123e-01],\n",
       "       [7.77183636e-01],\n",
       "       [8.17343542e-01],\n",
       "       [8.54332578e-01],\n",
       "       [8.87781160e-01],\n",
       "       [9.17355082e-01],\n",
       "       [9.42758851e-01],\n",
       "       [9.63738641e-01],\n",
       "       [9.80084828e-01],\n",
       "       [9.91634087e-01],\n",
       "       [9.98271021e-01],\n",
       "       [9.99929317e-01],\n",
       "       [9.96592405e-01],\n",
       "       [9.88293627e-01],\n",
       "       [9.75115901e-01],\n",
       "       [9.57190895e-01],\n",
       "       [9.34697710e-01],\n",
       "       [9.07861089e-01],\n",
       "       [8.76949176e-01],\n",
       "       [8.42270833e-01],\n",
       "       [8.04172553e-01],\n",
       "       [7.63035002e-01],\n",
       "       [7.19269213e-01],\n",
       "       [6.73312480e-01],\n",
       "       [6.25623986e-01],\n",
       "       [5.76680220e-01],\n",
       "       [5.26970211e-01],\n",
       "       [4.76990646e-01],\n",
       "       [4.27240903e-01],\n",
       "       [3.78218066e-01],\n",
       "       [3.30411954e-01],\n",
       "       [2.84300231e-01],\n",
       "       [2.40343630e-01],\n",
       "       [1.98981350e-01],\n",
       "       [1.60626669e-01],\n",
       "       [1.25662816e-01],\n",
       "       [9.44391368e-02],\n",
       "       [6.72676085e-02],\n",
       "       [4.44197199e-02],\n",
       "       [2.61237598e-02],\n",
       "       [1.25625351e-02],\n",
       "       [3.87154533e-03],\n",
       "       [1.37627839e-04],\n",
       "       [1.39809074e-03],\n",
       "       [7.64033990e-03],\n",
       "       [1.88020048e-02],\n",
       "       [3.47715619e-02],\n",
       "       [5.53894485e-02],\n",
       "       [8.04496575e-02],\n",
       "       [1.09701796e-01],\n",
       "       [1.42853585e-01],\n",
       "       [1.79573785e-01],\n",
       "       [2.19495498e-01],\n",
       "       [2.62219840e-01],\n",
       "       [3.07319923e-01],\n",
       "       [3.54345123e-01],\n",
       "       [4.02825580e-01],\n",
       "       [4.52276891e-01],\n",
       "       [5.02204957e-01],\n",
       "       [5.52110913e-01],\n",
       "       [6.01496114e-01],\n",
       "       [6.49867121e-01],\n",
       "       [6.96740626e-01],\n",
       "       [7.41648284e-01],\n",
       "       [7.84141393e-01],\n",
       "       [8.23795376e-01],\n",
       "       [8.60214023e-01],\n",
       "       [8.93033452e-01],\n",
       "       [9.21925742e-01],\n",
       "       [9.46602209e-01],\n",
       "       [9.66816296e-01],\n",
       "       [9.82366029e-01],\n",
       "       [9.93096042e-01],\n",
       "       [9.98899122e-01],\n",
       "       [9.99717288e-01],\n",
       "       [9.95542365e-01],\n",
       "       [9.86416067e-01],\n",
       "       [9.72429582e-01],\n",
       "       [9.53722657e-01],\n",
       "       [9.30482206e-01],\n",
       "       [9.02940440e-01],\n",
       "       [8.71372547e-01],\n",
       "       [8.36093943e-01],\n",
       "       [7.97457121e-01],\n",
       "       [7.55848126e-01],\n",
       "       [7.11682701e-01],\n",
       "       [6.65402134e-01],\n",
       "       [6.17468845e-01],\n",
       "       [5.68361766e-01],\n",
       "       [5.18571560e-01],\n",
       "       [4.68595714e-01],\n",
       "       [4.18933570e-01],\n",
       "       [3.70081336e-01],\n",
       "       [3.22527126e-01],\n",
       "       [2.76746088e-01],\n",
       "       [2.33195650e-01],\n",
       "       [1.92310954e-01],\n",
       "       [1.54500506e-01],\n",
       "       [1.20142095e-01],\n",
       "       [8.95790196e-02],\n",
       "       [6.31166558e-02],\n",
       "       [4.10194068e-02],\n",
       "       [2.35080609e-02],\n",
       "       [1.07575858e-02],\n",
       "       [2.89537998e-03],\n",
       "       [0.00000000e+00],\n",
       "       [2.10037554e-03],\n",
       "       [9.17552033e-03],\n",
       "       [2.11547419e-02],\n",
       "       [3.79183478e-02],\n",
       "       [5.92988416e-02],\n",
       "       [8.50825965e-02],\n",
       "       [1.15011990e-01],\n",
       "       [1.48787977e-01],\n",
       "       [1.86073079e-01],\n",
       "       [2.26494756e-01],\n",
       "       [2.69649128e-01],\n",
       "       [3.15105010e-01],\n",
       "       [3.62408223e-01],\n",
       "       [4.11086128e-01],\n",
       "       [4.60652352e-01],\n",
       "       [5.10611646e-01],\n",
       "       [5.60464832e-01],\n",
       "       [6.09713794e-01],\n",
       "       [6.57866454e-01],\n",
       "       [7.04441684e-01],\n",
       "       [7.48974122e-01],\n",
       "       [7.91018813e-01],\n",
       "       [8.30155662e-01],\n",
       "       [8.65993624e-01],\n",
       "       [8.98174621e-01],\n",
       "       [9.26377109e-01],\n",
       "       [9.50319299e-01],\n",
       "       [9.69761968e-01],\n",
       "       [9.84510851e-01],\n",
       "       [9.94418583e-01],\n",
       "       [9.99386169e-01],\n",
       "       [9.99363974e-01],\n",
       "       [9.94352220e-01],\n",
       "       [9.84400982e-01],\n",
       "       [9.69609692e-01],\n",
       "       [9.50126137e-01],\n",
       "       [9.26144991e-01],\n",
       "       [8.97905866e-01],\n",
       "       [8.65690919e-01],\n",
       "       [8.29822029e-01],\n",
       "       [7.90657587e-01],\n",
       "       [7.48588912e-01],\n",
       "       [7.04036339e-01],\n",
       "       [6.57445023e-01],\n",
       "       [6.09280490e-01],\n",
       "       [5.60023982e-01],\n",
       "       [5.10167656e-01],\n",
       "       [4.60209659e-01],\n",
       "       [4.10649154e-01],\n",
       "       [3.61981335e-01],\n",
       "       [3.14692473e-01],\n",
       "       [2.69255063e-01],\n",
       "       [2.26123101e-01],\n",
       "       [1.85727548e-01],\n",
       "       [1.48472022e-01],\n",
       "       [1.14728768e-01],\n",
       "       [8.48349372e-02],\n",
       "       [5.90892197e-02],\n",
       "       [3.77488577e-02],\n",
       "       [2.10270771e-02],\n",
       "       [9.09095640e-03],\n",
       "       [2.05975742e-03],\n",
       "       [3.73353654e-06],\n",
       "       [2.94342787e-03],\n",
       "       [1.08494680e-02],\n",
       "       [2.36428593e-02],\n",
       "       [4.11957745e-02],\n",
       "       [6.33328307e-02],\n",
       "       [8.98328416e-02],\n",
       "       [1.20431028e-01],\n",
       "       [1.54821663e-01],\n",
       "       [1.92661127e-01],\n",
       "       [2.33571339e-01],\n",
       "       [2.77143540e-01],\n",
       "       [3.22942370e-01],\n",
       "       [3.70510221e-01],\n",
       "       [4.19371813e-01],\n",
       "       [4.69038936e-01],\n",
       "       [5.19015332e-01],\n",
       "       [5.68801654e-01],\n",
       "       [6.17900453e-01],\n",
       "       [6.65821151e-01],\n",
       "       [7.12084939e-01],\n",
       "       [7.56229566e-01],\n",
       "       [7.97813952e-01],\n",
       "       [8.36422601e-01],\n",
       "       [8.71669747e-01],\n",
       "       [9.03203212e-01],\n",
       "       [9.30707926e-01],\n",
       "       [9.53909068e-01],\n",
       "       [9.72574822e-01],\n",
       "       [9.86518686e-01],\n",
       "       [9.95601336e-01],\n",
       "       [9.99732023e-01],\n",
       "       [9.98869473e-01],\n",
       "       [9.93022305e-01],\n",
       "       [9.82248942e-01],\n",
       "       [9.66657027e-01],\n",
       "       [9.46402351e-01],\n",
       "       [9.21687291e-01],\n",
       "       [8.92758792e-01],\n",
       "       [8.59905897e-01],\n",
       "       [8.23456862e-01],\n",
       "       [7.83775875e-01],\n",
       "       [7.41259413e-01],\n",
       "       [6.96332287e-01],\n",
       "       [6.49443396e-01],\n",
       "       [6.01061236e-01],\n",
       "       [5.51669226e-01],\n",
       "       [5.01760875e-01],\n",
       "       [4.51834851e-01],\n",
       "       [4.02389998e-01],\n",
       "       [3.53920353e-01],\n",
       "       [3.06910208e-01],\n",
       "       [2.61829273e-01],\n",
       "       [2.19127983e-01],\n",
       "       [1.79232993e-01],\n",
       "       [1.42542922e-01],\n",
       "       [1.09424365e-01],\n",
       "       [8.02082311e-02],\n",
       "       [5.51864388e-02],\n",
       "       [3.46089973e-02],\n",
       "       [1.86815097e-02],\n",
       "       [7.56311811e-03],\n",
       "       [1.36491387e-03],\n",
       "       [1.48827393e-04],\n",
       "       [3.92700940e-03],\n",
       "       [1.26617095e-02],\n",
       "       [2.62656536e-02],\n",
       "       [4.46029154e-02],\n",
       "       [6.74902752e-02],\n",
       "       [9.46990500e-02],\n",
       "       [1.25957379e-01],\n",
       "       [1.60952938e-01],\n",
       "       [1.99336065e-01],\n",
       "       [2.40723247e-01],\n",
       "       [2.84700958e-01],\n",
       "       [3.30829786e-01],\n",
       "       [3.78648828e-01],\n",
       "       [4.27680291e-01],\n",
       "       [4.77434270e-01],\n",
       "       [5.27413639e-01],\n",
       "       [5.77119021e-01],\n",
       "       [6.26053776e-01],\n",
       "       [6.73728964e-01],\n",
       "       [7.19668230e-01],\n",
       "       [7.63412565e-01],\n",
       "       [8.04524889e-01],\n",
       "       [8.42594422e-01],\n",
       "       [8.77240786e-01],\n",
       "       [9.08117805e-01],\n",
       "       [9.34916967e-01],\n",
       "       [9.57370503e-01],\n",
       "       [9.75254065e-01],\n",
       "       [9.88388966e-01],\n",
       "       [9.96643967e-01],\n",
       "       [9.99936587e-01],\n",
       "       [9.98233926e-01],\n",
       "       [9.91552997e-01],\n",
       "       [9.79960554e-01],\n",
       "       [9.63572424e-01],\n",
       "       [9.42552353e-01],\n",
       "       [9.17110366e-01],\n",
       "       [8.87500671e-01],\n",
       "       [8.54019118e-01],\n",
       "       [8.17000244e-01],\n",
       "       [7.76813929e-01],\n",
       "       [7.33861701e-01],\n",
       "       [6.88572725e-01],\n",
       "       [6.41399514e-01],\n",
       "       [5.92813407e-01],\n",
       "       [5.43299859e-01],\n",
       "       [4.93353594e-01],\n",
       "       [4.43473659e-01],\n",
       "       [3.94158437e-01],\n",
       "       [3.45900670e-01],\n",
       "       [2.99182533e-01],\n",
       "       [2.54470819e-01],\n",
       "       [2.12212272e-01],\n",
       "       [1.72829125e-01],\n",
       "       [1.36714883e-01],\n",
       "       [1.04230386e-01],\n",
       "       [7.57002094e-02],\n",
       "       [5.14094166e-02],\n",
       "       [3.16007134e-02],\n",
       "       [1.64720219e-02],\n",
       "       [6.17450289e-03],\n",
       "       [8.11045808e-04],\n",
       "       [4.35240547e-04],\n",
       "       [5.05084203e-03],\n",
       "       [1.46117327e-02],\n",
       "       [2.90223833e-02],\n",
       "       [4.81388073e-02],\n",
       "       [7.17699998e-02],\n",
       "       [9.96798457e-02],\n",
       "       [1.31589479e-01],\n",
       "       [1.67180069e-01],\n",
       "       [2.06096007e-01],\n",
       "       [2.47948457e-01],\n",
       "       [2.92319244e-01],\n",
       "       [3.38765029e-01],\n",
       "       [3.86821741e-01],\n",
       "       [4.36009214e-01],\n",
       "       [4.85835982e-01],\n",
       "       [5.35804194e-01],\n",
       "       [5.85414582e-01],\n",
       "       [6.34171457e-01],\n",
       "       [6.81587656e-01],\n",
       "       [7.27189412e-01],\n",
       "       [7.70521087e-01],\n",
       "       [8.11149726e-01],\n",
       "       [8.48669381e-01],\n",
       "       [8.82705166e-01],\n",
       "       [9.12917010e-01],\n",
       "       [9.39003043e-01],\n",
       "       [9.60702625e-01],\n",
       "       [9.77798938e-01],\n",
       "       [9.90121164e-01],\n",
       "       [9.97546181e-01],\n",
       "       [9.99999803e-01],\n",
       "       [9.97457512e-01],\n",
       "       [9.89944711e-01],\n",
       "       [9.77536466e-01],\n",
       "       [9.60356755e-01],\n",
       "       [9.38577232e-01],\n",
       "       [9.12415511e-01],\n",
       "       [8.82132991e-01],\n",
       "       [8.48032246e-01],\n",
       "       [8.10453998e-01],\n",
       "       [7.69773717e-01],\n",
       "       [7.26397868e-01],\n",
       "       [6.80759846e-01],\n",
       "       [6.33315653e-01],\n",
       "       [5.84539335e-01],\n",
       "       [5.34918248e-01],\n",
       "       [4.84948190e-01],\n",
       "       [4.35128446e-01],\n",
       "       [3.85956798e-01],\n",
       "       [3.37924553e-01],\n",
       "       [2.91511633e-01],\n",
       "       [2.47181780e-01],\n",
       "       [2.05377924e-01],\n",
       "       [1.66517756e-01],\n",
       "       [1.30989552e-01],\n",
       "       [9.91483002e-02],\n",
       "       [7.13121465e-02],\n",
       "       [4.77592209e-02],\n",
       "       [2.87248565e-02],\n",
       "       [1.43992384e-02],\n",
       "       [4.92550334e-03],\n",
       "       [3.98309814e-04],\n",
       "       [8.62892023e-04],\n",
       "       [6.31460802e-03],\n",
       "       [1.66989861e-02],\n",
       "       [3.19122689e-02],\n",
       "       [5.18024504e-02],\n",
       "       [7.61707944e-02],\n",
       "       [1.04773821e-01],\n",
       "       [1.37325737e-01],\n",
       "       [1.73501295e-01],\n",
       "       [2.12939042e-01],\n",
       "       [2.55244927e-01],\n",
       "       [2.99996245e-01],\n",
       "       [3.46745855e-01],\n",
       "       [3.95026651e-01],\n",
       "       [4.44356227e-01],\n",
       "       [4.94241697e-01],\n",
       "       [5.44184623e-01],\n",
       "       [5.93685992e-01],\n",
       "       [6.42251203e-01],\n",
       "       [6.89395007e-01],\n",
       "       [7.34646360e-01],\n",
       "       [7.77553124e-01],\n",
       "       [8.17686591e-01],\n",
       "       [8.54645758e-01],\n",
       "       [8.88061344e-01],\n",
       "       [9.17599469e-01],\n",
       "       [9.42964999e-01],\n",
       "       [9.63904491e-01],\n",
       "       [9.80208723e-01],\n",
       "       [9.91714788e-01],\n",
       "       [9.98307723e-01],\n",
       "       [9.99921653e-01],\n",
       "       [9.96540452e-01],\n",
       "       [9.88197903e-01],\n",
       "       [9.74977363e-01],\n",
       "       [9.57010927e-01],\n",
       "       [9.34478110e-01],\n",
       "       [9.07604052e-01],\n",
       "       [8.76657270e-01],\n",
       "       [8.41946973e-01],\n",
       "       [8.03819976e-01],\n",
       "       [7.62657232e-01]])"
      ]
     },
     "execution_count": 28,
     "metadata": {},
     "output_type": "execute_result"
    }
   ],
   "source": [
    "scaled_train"
   ]
  },
  {
   "cell_type": "code",
   "execution_count": 29,
   "id": "6a0a135a",
   "metadata": {},
   "outputs": [
    {
     "data": {
      "text/plain": [
       "array([[7.18870024e-01],\n",
       "       [6.72895859e-01],\n",
       "       [6.25194098e-01],\n",
       "       [5.76241359e-01],\n",
       "       [5.26526762e-01],\n",
       "       [4.76547040e-01],\n",
       "       [4.26801572e-01],\n",
       "       [3.77787400e-01],\n",
       "       [3.29994256e-01],\n",
       "       [2.83899675e-01],\n",
       "       [2.39964217e-01],\n",
       "       [1.98626872e-01],\n",
       "       [1.60300668e-01],\n",
       "       [1.25368549e-01],\n",
       "       [9.41795436e-02],\n",
       "       [6.70452831e-02],\n",
       "       [4.42368838e-02],\n",
       "       [2.59822397e-02],\n",
       "       [1.24637452e-02],\n",
       "       [3.81647260e-03],\n",
       "       [1.26822581e-04],\n",
       "       [1.43166091e-03],\n",
       "       [7.71795008e-03],\n",
       "       [1.89228796e-02],\n",
       "       [3.49344934e-02],\n",
       "       [5.55928089e-02],\n",
       "       [8.06914149e-02],\n",
       "       [1.09979534e-01],\n",
       "       [1.43164530e-01],\n",
       "       [1.79914829e-01],\n",
       "       [2.19863234e-01],\n",
       "       [2.62610594e-01],\n",
       "       [3.07729790e-01],\n",
       "       [3.54770008e-01],\n",
       "       [4.03261237e-01],\n",
       "       [4.52718969e-01],\n",
       "       [5.02649038e-01],\n",
       "       [5.52552559e-01],\n",
       "       [6.01930913e-01],\n",
       "       [6.50290728e-01],\n",
       "       [6.97148808e-01],\n",
       "       [7.42036964e-01],\n",
       "       [7.84506687e-01],\n",
       "       [8.24133634e-01],\n",
       "       [8.60521866e-01],\n",
       "       [8.93307803e-01],\n",
       "       [9.22163859e-01],\n",
       "       [9.46801715e-01],\n",
       "       [9.66975196e-01],\n",
       "       [9.82482737e-01]])"
      ]
     },
     "execution_count": 29,
     "metadata": {},
     "output_type": "execute_result"
    }
   ],
   "source": [
    "scaled_test"
   ]
  },
  {
   "cell_type": "markdown",
   "id": "6beb728b",
   "metadata": {},
   "source": [
    "# Timeseries Generator"
   ]
  },
  {
   "cell_type": "markdown",
   "id": "a3e1d8d5",
   "metadata": {},
   "source": [
    "In time series analysis, a common approach is to use a time series generator to generate batches of sequential data for training recurrent neural networks (RNNs) or other time-based models. This allows you to efficiently process and train models on large time series datasets. Here's an example of how you can create a time series generator using the TimeseriesGenerator calss."
   ]
  },
  {
   "cell_type": "code",
   "execution_count": 30,
   "id": "97541d36",
   "metadata": {},
   "outputs": [],
   "source": [
    "from tensorflow.keras.preprocessing.sequence import TimeseriesGenerator"
   ]
  },
  {
   "cell_type": "code",
   "execution_count": 32,
   "id": "07b00d78",
   "metadata": {},
   "outputs": [],
   "source": [
    "from tensorflow.keras.models import Sequential\n",
    "from tensorflow.keras.layers import Dense, LSTM\n",
    "from tensorflow.keras.callbacks import EarlyStopping"
   ]
  },
  {
   "cell_type": "markdown",
   "id": "ac35945a",
   "metadata": {},
   "source": [
    "Early stopping is a technique commonly used in machine learning projects, including those involving neural networks such as LSTM, to prevent overfitting and determine the optimal number of training iterations. It allows you to monitor the model's performance during training and stop the training process when the model starts to show signs of overfitting or when further training is unlikely to improve the model's performance."
   ]
  },
  {
   "cell_type": "code",
   "execution_count": 33,
   "id": "679420b3",
   "metadata": {},
   "outputs": [],
   "source": [
    "early_stop = EarlyStopping(monitor='val_loss',patience=2)"
   ]
  },
  {
   "cell_type": "code",
   "execution_count": 34,
   "id": "0138cfd7",
   "metadata": {},
   "outputs": [],
   "source": [
    "length = 49\n",
    "generator = TimeseriesGenerator(scaled_train,scaled_train,\n",
    "                               length=length,batch_size=1)\n",
    "\n",
    "\n",
    "validation_generator = TimeseriesGenerator(scaled_test,scaled_test,\n",
    "                                          length=length,batch_size=1)"
   ]
  },
  {
   "cell_type": "code",
   "execution_count": 35,
   "id": "3988f451",
   "metadata": {},
   "outputs": [],
   "source": [
    "n_features = 1"
   ]
  },
  {
   "cell_type": "markdown",
   "id": "6d46b7c1",
   "metadata": {},
   "source": [
    "# Building Model"
   ]
  },
  {
   "cell_type": "markdown",
   "id": "96e7389e",
   "metadata": {},
   "source": [
    "Creating a deep learning model involves defining the architecture and structure of the neural network, specifying the layers, and configuring the parameters for training."
   ]
  },
  {
   "cell_type": "code",
   "execution_count": 36,
   "id": "a422d11e",
   "metadata": {},
   "outputs": [],
   "source": [
    "model = Sequential()\n",
    "model.add(LSTM(49, input_shape = (length, n_features)))\n",
    "model.add(Dense(1))"
   ]
  },
  {
   "cell_type": "markdown",
   "id": "e88ebd33",
   "metadata": {},
   "source": [
    "# Compiling Model"
   ]
  },
  {
   "cell_type": "markdown",
   "id": "625dd7eb",
   "metadata": {},
   "source": [
    "Compiling the model in deep learning involves configuring essential components that define how the model will be trained."
   ]
  },
  {
   "cell_type": "code",
   "execution_count": 37,
   "id": "5c58080b",
   "metadata": {},
   "outputs": [],
   "source": [
    "model.compile(optimizer = 'adam', loss = 'mse')"
   ]
  },
  {
   "cell_type": "markdown",
   "id": "00c1cdda",
   "metadata": {},
   "source": [
    "# Training Model"
   ]
  },
  {
   "cell_type": "markdown",
   "id": "ecece59a",
   "metadata": {},
   "source": [
    "Training the model in deep learning involves the process of iteratively updating the model's parameters (weights and biases) based on the provided training data to minimize the loss function and improve the model's performance"
   ]
  },
  {
   "cell_type": "code",
   "execution_count": 38,
   "id": "7c4cc96f",
   "metadata": {},
   "outputs": [
    {
     "name": "stderr",
     "output_type": "stream",
     "text": [
      "C:\\Users\\DELL\\AppData\\Local\\Temp\\ipykernel_13240\\2873715417.py:1: UserWarning: `Model.fit_generator` is deprecated and will be removed in a future version. Please use `Model.fit`, which supports generators.\n",
      "  model.fit_generator(generator, epochs = 10,\n"
     ]
    },
    {
     "name": "stdout",
     "output_type": "stream",
     "text": [
      "Epoch 1/10\n",
      "402/402 [==============================] - 28s 43ms/step - loss: 0.0256 - val_loss: 1.1629e-04\n",
      "Epoch 2/10\n",
      "402/402 [==============================] - 15s 36ms/step - loss: 1.5177e-04 - val_loss: 9.3613e-04\n",
      "Epoch 3/10\n",
      "402/402 [==============================] - 14s 34ms/step - loss: 1.2684e-04 - val_loss: 9.1914e-06\n",
      "Epoch 4/10\n",
      "402/402 [==============================] - 14s 34ms/step - loss: 4.1559e-04 - val_loss: 2.1737e-07\n",
      "Epoch 5/10\n",
      "402/402 [==============================] - 14s 35ms/step - loss: 5.5201e-05 - val_loss: 9.6246e-04\n",
      "Epoch 6/10\n",
      "402/402 [==============================] - 14s 35ms/step - loss: 6.3472e-05 - val_loss: 5.6882e-04\n"
     ]
    },
    {
     "data": {
      "text/plain": [
       "<keras.callbacks.History at 0x1fd91e20760>"
      ]
     },
     "execution_count": 38,
     "metadata": {},
     "output_type": "execute_result"
    }
   ],
   "source": [
    "model.fit_generator(generator, epochs = 10, \n",
    "                    validation_data = validation_generator, \n",
    "                    callbacks = [early_stop])"
   ]
  },
  {
   "cell_type": "code",
   "execution_count": 39,
   "id": "9b032cb8",
   "metadata": {},
   "outputs": [],
   "source": [
    "model.save('model_cosine_wave.h5')"
   ]
  },
  {
   "cell_type": "markdown",
   "id": "43988259",
   "metadata": {},
   "source": [
    "# Learning Curve for x-Test Data"
   ]
  },
  {
   "cell_type": "markdown",
   "id": "d04eb18f",
   "metadata": {},
   "source": [
    "The learning curve is a plot that shows how the loss and accuracy of a model change during training. It provides insights into how well the model is learning from the training data and how it generalizes to unseen data. The learning curve typically shows the training and validation loss/accuracy on the y-axis and the number of epochs on the x-axis. By analyzing the learning curve, you can identify if the model is overfitting (high training loss, low validation loss) or underfitting (high training and validation loss). It is a useful tool for monitoring and evaluating the performance of machine learning models."
   ]
  },
  {
   "cell_type": "code",
   "execution_count": 40,
   "id": "2952b745",
   "metadata": {},
   "outputs": [],
   "source": [
    "loss = pd.DataFrame(model.history.history)"
   ]
  },
  {
   "cell_type": "code",
   "execution_count": 41,
   "id": "db364d93",
   "metadata": {},
   "outputs": [
    {
     "data": {
      "text/html": [
       "<div>\n",
       "<style scoped>\n",
       "    .dataframe tbody tr th:only-of-type {\n",
       "        vertical-align: middle;\n",
       "    }\n",
       "\n",
       "    .dataframe tbody tr th {\n",
       "        vertical-align: top;\n",
       "    }\n",
       "\n",
       "    .dataframe thead th {\n",
       "        text-align: right;\n",
       "    }\n",
       "</style>\n",
       "<table border=\"1\" class=\"dataframe\">\n",
       "  <thead>\n",
       "    <tr style=\"text-align: right;\">\n",
       "      <th></th>\n",
       "      <th>loss</th>\n",
       "      <th>val_loss</th>\n",
       "    </tr>\n",
       "  </thead>\n",
       "  <tbody>\n",
       "    <tr>\n",
       "      <th>0</th>\n",
       "      <td>0.025635</td>\n",
       "      <td>1.162889e-04</td>\n",
       "    </tr>\n",
       "    <tr>\n",
       "      <th>1</th>\n",
       "      <td>0.000152</td>\n",
       "      <td>9.361273e-04</td>\n",
       "    </tr>\n",
       "    <tr>\n",
       "      <th>2</th>\n",
       "      <td>0.000127</td>\n",
       "      <td>9.191391e-06</td>\n",
       "    </tr>\n",
       "    <tr>\n",
       "      <th>3</th>\n",
       "      <td>0.000416</td>\n",
       "      <td>2.173681e-07</td>\n",
       "    </tr>\n",
       "    <tr>\n",
       "      <th>4</th>\n",
       "      <td>0.000055</td>\n",
       "      <td>9.624614e-04</td>\n",
       "    </tr>\n",
       "  </tbody>\n",
       "</table>\n",
       "</div>"
      ],
      "text/plain": [
       "       loss      val_loss\n",
       "0  0.025635  1.162889e-04\n",
       "1  0.000152  9.361273e-04\n",
       "2  0.000127  9.191391e-06\n",
       "3  0.000416  2.173681e-07\n",
       "4  0.000055  9.624614e-04"
      ]
     },
     "execution_count": 41,
     "metadata": {},
     "output_type": "execute_result"
    }
   ],
   "source": [
    "loss.head()"
   ]
  },
  {
   "cell_type": "code",
   "execution_count": 42,
   "id": "c0a5355b",
   "metadata": {},
   "outputs": [
    {
     "data": {
      "text/plain": [
       "<AxesSubplot:>"
      ]
     },
     "execution_count": 42,
     "metadata": {},
     "output_type": "execute_result"
    },
    {
     "data": {
      "image/png": "[encoded data removed]",
      "text/plain": [
       "<Figure size 432x288 with 1 Axes>"
      ]
     },
     "metadata": {
      "needs_background": "light"
     },
     "output_type": "display_data"
    }
   ],
   "source": [
    "loss.plot()"
   ]
  },
  {
   "cell_type": "markdown",
   "id": "bbbbbd5f",
   "metadata": {},
   "source": [
    "# Predicting On x-Test Data"
   ]
  },
  {
   "cell_type": "code",
   "execution_count": 44,
   "id": "e06aef97",
   "metadata": {},
   "outputs": [
    {
     "name": "stdout",
     "output_type": "stream",
     "text": [
      "1/1 [==============================] - 1s 1s/step\n",
      "1/1 [==============================] - 0s 58ms/step\n",
      "1/1 [==============================] - 0s 37ms/step\n",
      "1/1 [==============================] - 0s 31ms/step\n",
      "1/1 [==============================] - 0s 47ms/step\n",
      "1/1 [==============================] - 0s 114ms/step\n",
      "1/1 [==============================] - 0s 47ms/step\n",
      "1/1 [==============================] - 0s 31ms/step\n",
      "1/1 [==============================] - 0s 59ms/step\n",
      "1/1 [==============================] - 0s 44ms/step\n",
      "1/1 [==============================] - 0s 31ms/step\n",
      "1/1 [==============================] - 0s 83ms/step\n",
      "1/1 [==============================] - 0s 38ms/step\n",
      "1/1 [==============================] - 0s 88ms/step\n",
      "1/1 [==============================] - 0s 56ms/step\n",
      "1/1 [==============================] - 0s 31ms/step\n",
      "1/1 [==============================] - 0s 31ms/step\n",
      "1/1 [==============================] - 0s 47ms/step\n",
      "1/1 [==============================] - 0s 48ms/step\n",
      "1/1 [==============================] - 0s 51ms/step\n",
      "1/1 [==============================] - 0s 45ms/step\n",
      "1/1 [==============================] - 0s 46ms/step\n",
      "1/1 [==============================] - 0s 39ms/step\n",
      "1/1 [==============================] - 0s 47ms/step\n",
      "1/1 [==============================] - 0s 31ms/step\n",
      "1/1 [==============================] - 0s 47ms/step\n",
      "1/1 [==============================] - 0s 39ms/step\n",
      "1/1 [==============================] - 0s 47ms/step\n",
      "1/1 [==============================] - 0s 47ms/step\n",
      "1/1 [==============================] - 0s 31ms/step\n",
      "1/1 [==============================] - 0s 47ms/step\n",
      "1/1 [==============================] - 0s 47ms/step\n",
      "1/1 [==============================] - 0s 47ms/step\n",
      "1/1 [==============================] - 0s 47ms/step\n",
      "1/1 [==============================] - 0s 49ms/step\n",
      "1/1 [==============================] - 0s 31ms/step\n",
      "1/1 [==============================] - 0s 47ms/step\n",
      "1/1 [==============================] - 0s 31ms/step\n",
      "1/1 [==============================] - 0s 47ms/step\n",
      "1/1 [==============================] - 0s 62ms/step\n",
      "1/1 [==============================] - 0s 47ms/step\n",
      "1/1 [==============================] - 0s 62ms/step\n",
      "1/1 [==============================] - 0s 31ms/step\n",
      "1/1 [==============================] - 0s 47ms/step\n",
      "1/1 [==============================] - 0s 62ms/step\n",
      "1/1 [==============================] - 0s 47ms/step\n",
      "1/1 [==============================] - 0s 47ms/step\n",
      "1/1 [==============================] - 0s 47ms/step\n",
      "1/1 [==============================] - 0s 66ms/step\n",
      "1/1 [==============================] - 0s 47ms/step\n"
     ]
    }
   ],
   "source": [
    "prediction = []\n",
    "evaluation_batch = scaled_train[-length:]\n",
    "current_batch = evaluation_batch.reshape(1, length, n_features)\n",
    "for i in range (len(test_data)):\n",
    "    current_prediction = model.predict(current_batch)[0]\n",
    "    prediction.append(current_prediction)\n",
    "    current_batch = np.append(current_batch[:, 1:, :], [[current_prediction]], axis = 1)"
   ]
  },
  {
   "cell_type": "code",
   "execution_count": 45,
   "id": "63db44f4",
   "metadata": {},
   "outputs": [],
   "source": [
    "prediction = scaler.inverse_transform(prediction)"
   ]
  },
  {
   "cell_type": "code",
   "execution_count": 46,
   "id": "9cc8e242",
   "metadata": {},
   "outputs": [
    {
     "data": {
      "text/plain": [
       "array([[ 0.36635819],\n",
       "       [ 0.27397103],\n",
       "       [ 0.17533751],\n",
       "       [ 0.07272819],\n",
       "       [-0.03212705],\n",
       "       [-0.13772514],\n",
       "       [-0.24270436],\n",
       "       [-0.34580779],\n",
       "       [-0.44586351],\n",
       "       [-0.54178062],\n",
       "       [-0.63254748],\n",
       "       [-0.71723022],\n",
       "       [-0.7949684 ],\n",
       "       [-0.86496883],\n",
       "       [-0.92649799],\n",
       "       [-0.97887878],\n",
       "       [-1.02149553],\n",
       "       [-1.05381046],\n",
       "       [-1.07539031],\n",
       "       [-1.08593681],\n",
       "       [-1.08531581],\n",
       "       [-1.07357213],\n",
       "       [-1.05093183],\n",
       "       [-1.01778577],\n",
       "       [-0.97466369],\n",
       "       [-0.92220097],\n",
       "       [-0.86110774],\n",
       "       [-0.79214265],\n",
       "       [-0.71609465],\n",
       "       [-0.63377228],\n",
       "       [-0.54600103],\n",
       "       [-0.45362516],\n",
       "       [-0.35751205],\n",
       "       [-0.25855906],\n",
       "       [-0.15769721],\n",
       "       [-0.05589367],\n",
       "       [ 0.04585014],\n",
       "       [ 0.14650256],\n",
       "       [ 0.24501376],\n",
       "       [ 0.34032783],\n",
       "       [ 0.43139811],\n",
       "       [ 0.51720514],\n",
       "       [ 0.59677215],\n",
       "       [ 0.66918206],\n",
       "       [ 0.73359101],\n",
       "       [ 0.78924036],\n",
       "       [ 0.83546756],\n",
       "       [ 0.87171663],\n",
       "       [ 0.89754768],\n",
       "       [ 0.91264541]])"
      ]
     },
     "execution_count": 46,
     "metadata": {},
     "output_type": "execute_result"
    }
   ],
   "source": [
    "prediction"
   ]
  },
  {
   "cell_type": "code",
   "execution_count": 47,
   "id": "fdd2ef4a",
   "metadata": {},
   "outputs": [
    {
     "name": "stderr",
     "output_type": "stream",
     "text": [
      "C:\\Users\\DELL\\AppData\\Local\\Temp\\ipykernel_13240\\319166890.py:1: SettingWithCopyWarning: \n",
      "A value is trying to be set on a copy of a slice from a DataFrame.\n",
      "Try using .loc[row_indexer,col_indexer] = value instead\n",
      "\n",
      "See the caveats in the documentation: https://pandas.pydata.org/pandas-docs/stable/user_guide/indexing.html#returning-a-view-versus-a-copy\n",
      "  test_data['Prediction'] = prediction\n"
     ]
    }
   ],
   "source": [
    "test_data['Prediction'] = prediction"
   ]
  },
  {
   "cell_type": "code",
   "execution_count": 48,
   "id": "b5a7d9bf",
   "metadata": {},
   "outputs": [
    {
     "data": {
      "text/html": [
       "<div>\n",
       "<style scoped>\n",
       "    .dataframe tbody tr th:only-of-type {\n",
       "        vertical-align: middle;\n",
       "    }\n",
       "\n",
       "    .dataframe tbody tr th {\n",
       "        vertical-align: top;\n",
       "    }\n",
       "\n",
       "    .dataframe thead th {\n",
       "        text-align: right;\n",
       "    }\n",
       "</style>\n",
       "<table border=\"1\" class=\"dataframe\">\n",
       "  <thead>\n",
       "    <tr style=\"text-align: right;\">\n",
       "      <th></th>\n",
       "      <th>Cosine</th>\n",
       "      <th>Prediction</th>\n",
       "    </tr>\n",
       "  </thead>\n",
       "  <tbody>\n",
       "    <tr>\n",
       "      <th>45.1</th>\n",
       "      <td>0.437749</td>\n",
       "      <td>0.366358</td>\n",
       "    </tr>\n",
       "    <tr>\n",
       "      <th>45.2</th>\n",
       "      <td>0.345802</td>\n",
       "      <td>0.273971</td>\n",
       "    </tr>\n",
       "    <tr>\n",
       "      <th>45.3</th>\n",
       "      <td>0.250400</td>\n",
       "      <td>0.175338</td>\n",
       "    </tr>\n",
       "    <tr>\n",
       "      <th>45.4</th>\n",
       "      <td>0.152496</td>\n",
       "      <td>0.072728</td>\n",
       "    </tr>\n",
       "    <tr>\n",
       "      <th>45.5</th>\n",
       "      <td>0.053069</td>\n",
       "      <td>-0.032127</td>\n",
       "    </tr>\n",
       "  </tbody>\n",
       "</table>\n",
       "</div>"
      ],
      "text/plain": [
       "        Cosine  Prediction\n",
       "45.1  0.437749    0.366358\n",
       "45.2  0.345802    0.273971\n",
       "45.3  0.250400    0.175338\n",
       "45.4  0.152496    0.072728\n",
       "45.5  0.053069   -0.032127"
      ]
     },
     "execution_count": 48,
     "metadata": {},
     "output_type": "execute_result"
    }
   ],
   "source": [
    "test_data.head()"
   ]
  },
  {
   "cell_type": "markdown",
   "id": "680f388c",
   "metadata": {},
   "source": [
    "# Predicted x-Test Value And Actual Value"
   ]
  },
  {
   "cell_type": "code",
   "execution_count": 49,
   "id": "b8193fa5",
   "metadata": {},
   "outputs": [
    {
     "data": {
      "text/plain": [
       "<AxesSubplot:>"
      ]
     },
     "execution_count": 49,
     "metadata": {},
     "output_type": "execute_result"
    },
    {
     "data": {
      "image/png": "[encoded data removed]",
      "text/plain": [
       "<Figure size 864x360 with 1 Axes>"
      ]
     },
     "metadata": {
      "needs_background": "light"
     },
     "output_type": "display_data"
    }
   ],
   "source": [
    "test_data.plot(figsize = (12, 5))"
   ]
  },
  {
   "cell_type": "markdown",
   "id": "79ca220d",
   "metadata": {},
   "source": [
    "# Predicting For Full Dataframe"
   ]
  },
  {
   "cell_type": "code",
   "execution_count": 50,
   "id": "57c82f07",
   "metadata": {},
   "outputs": [],
   "source": [
    "full_scaler = MinMaxScaler()"
   ]
  },
  {
   "cell_type": "code",
   "execution_count": 51,
   "id": "2def30ff",
   "metadata": {},
   "outputs": [
    {
     "name": "stdout",
     "output_type": "stream",
     "text": [
      "Epoch 1/6\n"
     ]
    },
    {
     "name": "stderr",
     "output_type": "stream",
     "text": [
      "C:\\Users\\DELL\\AppData\\Local\\Temp\\ipykernel_13240\\3729857326.py:8: UserWarning: `Model.fit_generator` is deprecated and will be removed in a future version. Please use `Model.fit`, which supports generators.\n",
      "  model.fit_generator(generator,epochs=6)\n"
     ]
    },
    {
     "name": "stdout",
     "output_type": "stream",
     "text": [
      "451/451 [==============================] - 22s 35ms/step - loss: 0.0114\n",
      "Epoch 2/6\n",
      "451/451 [==============================] - 18s 39ms/step - loss: 1.1194e-04\n",
      "Epoch 3/6\n",
      "451/451 [==============================] - 16s 35ms/step - loss: 2.2217e-04\n",
      "Epoch 4/6\n",
      "451/451 [==============================] - 16s 35ms/step - loss: 1.2069e-04\n",
      "Epoch 5/6\n",
      "451/451 [==============================] - 16s 36ms/step - loss: 1.4240e-04\n",
      "Epoch 6/6\n",
      "451/451 [==============================] - 16s 35ms/step - loss: 1.3765e-04\n"
     ]
    },
    {
     "data": {
      "text/plain": [
       "<keras.callbacks.History at 0x1fd96a64d00>"
      ]
     },
     "execution_count": 51,
     "metadata": {},
     "output_type": "execute_result"
    }
   ],
   "source": [
    "full_data_scale = scaler.transform(dataframe)\n",
    "length = 50 \n",
    "generator = TimeseriesGenerator(full_data_scale, full_data_scale, length=length, batch_size=1)\n",
    "model = Sequential()\n",
    "model.add(LSTM(50, input_shape=(length, n_features)))\n",
    "model.add(Dense(1))\n",
    "model.compile(optimizer='adam', loss='mse')\n",
    "model.fit_generator(generator,epochs=6)"
   ]
  },
  {
   "cell_type": "code",
   "execution_count": 52,
   "id": "95bb7561",
   "metadata": {},
   "outputs": [],
   "source": [
    "model.save('model_full_cosine.h5')"
   ]
  },
  {
   "cell_type": "code",
   "execution_count": 53,
   "id": "8a86fcb8",
   "metadata": {},
   "outputs": [],
   "source": [
    "losses = pd.DataFrame(model.history.history)"
   ]
  },
  {
   "cell_type": "code",
   "execution_count": 54,
   "id": "f684a3c7",
   "metadata": {},
   "outputs": [
    {
     "data": {
      "text/html": [
       "<div>\n",
       "<style scoped>\n",
       "    .dataframe tbody tr th:only-of-type {\n",
       "        vertical-align: middle;\n",
       "    }\n",
       "\n",
       "    .dataframe tbody tr th {\n",
       "        vertical-align: top;\n",
       "    }\n",
       "\n",
       "    .dataframe thead th {\n",
       "        text-align: right;\n",
       "    }\n",
       "</style>\n",
       "<table border=\"1\" class=\"dataframe\">\n",
       "  <thead>\n",
       "    <tr style=\"text-align: right;\">\n",
       "      <th></th>\n",
       "      <th>loss</th>\n",
       "    </tr>\n",
       "  </thead>\n",
       "  <tbody>\n",
       "    <tr>\n",
       "      <th>0</th>\n",
       "      <td>0.011387</td>\n",
       "    </tr>\n",
       "    <tr>\n",
       "      <th>1</th>\n",
       "      <td>0.000112</td>\n",
       "    </tr>\n",
       "    <tr>\n",
       "      <th>2</th>\n",
       "      <td>0.000222</td>\n",
       "    </tr>\n",
       "    <tr>\n",
       "      <th>3</th>\n",
       "      <td>0.000121</td>\n",
       "    </tr>\n",
       "    <tr>\n",
       "      <th>4</th>\n",
       "      <td>0.000142</td>\n",
       "    </tr>\n",
       "  </tbody>\n",
       "</table>\n",
       "</div>"
      ],
      "text/plain": [
       "       loss\n",
       "0  0.011387\n",
       "1  0.000112\n",
       "2  0.000222\n",
       "3  0.000121\n",
       "4  0.000142"
      ]
     },
     "execution_count": 54,
     "metadata": {},
     "output_type": "execute_result"
    }
   ],
   "source": [
    "losses.head()"
   ]
  },
  {
   "cell_type": "code",
   "execution_count": 55,
   "id": "185945d1",
   "metadata": {},
   "outputs": [
    {
     "data": {
      "text/plain": [
       "<AxesSubplot:>"
      ]
     },
     "execution_count": 55,
     "metadata": {},
     "output_type": "execute_result"
    },
    {
     "data": {
      "image/png": "[encoded data removed]",
      "text/plain": [
       "<Figure size 432x288 with 1 Axes>"
      ]
     },
     "metadata": {
      "needs_background": "light"
     },
     "output_type": "display_data"
    }
   ],
   "source": [
    "losses.plot()"
   ]
  },
  {
   "cell_type": "code",
   "execution_count": 57,
   "id": "3c6a88c4",
   "metadata": {},
   "outputs": [
    {
     "name": "stdout",
     "output_type": "stream",
     "text": [
      "1/1 [==============================] - 1s 1s/step\n",
      "1/1 [==============================] - 0s 31ms/step\n",
      "1/1 [==============================] - 0s 50ms/step\n",
      "1/1 [==============================] - 0s 31ms/step\n",
      "1/1 [==============================] - 0s 104ms/step\n",
      "1/1 [==============================] - 0s 48ms/step\n",
      "1/1 [==============================] - 0s 31ms/step\n",
      "1/1 [==============================] - 0s 38ms/step\n",
      "1/1 [==============================] - 0s 84ms/step\n",
      "1/1 [==============================] - 0s 68ms/step\n",
      "1/1 [==============================] - 0s 46ms/step\n",
      "1/1 [==============================] - 0s 70ms/step\n",
      "1/1 [==============================] - 0s 31ms/step\n",
      "1/1 [==============================] - 0s 47ms/step\n",
      "1/1 [==============================] - 0s 47ms/step\n",
      "1/1 [==============================] - 0s 47ms/step\n",
      "1/1 [==============================] - 0s 47ms/step\n",
      "1/1 [==============================] - 0s 46ms/step\n",
      "1/1 [==============================] - 0s 47ms/step\n",
      "1/1 [==============================] - 0s 47ms/step\n",
      "1/1 [==============================] - 0s 47ms/step\n",
      "1/1 [==============================] - 0s 47ms/step\n",
      "1/1 [==============================] - 0s 47ms/step\n",
      "1/1 [==============================] - 0s 47ms/step\n",
      "1/1 [==============================] - 0s 31ms/step\n",
      "1/1 [==============================] - 0s 41ms/step\n",
      "1/1 [==============================] - 0s 31ms/step\n",
      "1/1 [==============================] - 0s 47ms/step\n",
      "1/1 [==============================] - 0s 47ms/step\n",
      "1/1 [==============================] - 0s 47ms/step\n",
      "1/1 [==============================] - 0s 47ms/step\n",
      "1/1 [==============================] - 0s 47ms/step\n",
      "1/1 [==============================] - 0s 43ms/step\n",
      "1/1 [==============================] - 0s 64ms/step\n",
      "1/1 [==============================] - 0s 49ms/step\n",
      "1/1 [==============================] - 0s 31ms/step\n",
      "1/1 [==============================] - 0s 31ms/step\n",
      "1/1 [==============================] - 0s 47ms/step\n",
      "1/1 [==============================] - 0s 47ms/step\n",
      "1/1 [==============================] - 0s 31ms/step\n",
      "1/1 [==============================] - 0s 38ms/step\n",
      "1/1 [==============================] - 0s 57ms/step\n",
      "1/1 [==============================] - 0s 39ms/step\n",
      "1/1 [==============================] - 0s 56ms/step\n",
      "1/1 [==============================] - 0s 43ms/step\n",
      "1/1 [==============================] - 0s 64ms/step\n",
      "1/1 [==============================] - 0s 36ms/step\n",
      "1/1 [==============================] - 0s 44ms/step\n",
      "1/1 [==============================] - 0s 54ms/step\n",
      "1/1 [==============================] - 0s 31ms/step\n"
     ]
    }
   ],
   "source": [
    "prediction = []\n",
    "evaluation_batch = full_data_scale[-length:]\n",
    "current_batch = evaluation_batch.reshape(1, length, n_features)\n",
    "for i in range (len(test_data)):\n",
    "    current_prediction = model.predict(current_batch)[0]\n",
    "    prediction.append(current_prediction)\n",
    "    current_batch = np.append(current_batch[:, 1:, :], [[current_prediction]], axis = 1)"
   ]
  },
  {
   "cell_type": "code",
   "execution_count": 58,
   "id": "d1ef0788",
   "metadata": {},
   "outputs": [],
   "source": [
    "prediction = scaler.inverse_transform(prediction)"
   ]
  },
  {
   "cell_type": "code",
   "execution_count": 60,
   "id": "e3e2d3bb",
   "metadata": {},
   "outputs": [
    {
     "data": {
      "text/plain": [
       "array([[ 0.9523478 ],\n",
       "       [ 0.95739742],\n",
       "       [ 0.9510898 ],\n",
       "       [ 0.93375621],\n",
       "       [ 0.90589088],\n",
       "       [ 0.86803288],\n",
       "       [ 0.82076989],\n",
       "       [ 0.76473859],\n",
       "       [ 0.70062647],\n",
       "       [ 0.62916891],\n",
       "       [ 0.55114468],\n",
       "       [ 0.46737657],\n",
       "       [ 0.37872632],\n",
       "       [ 0.28609382],\n",
       "       [ 0.1904157 ],\n",
       "       [ 0.09266265],\n",
       "       [-0.00616499],\n",
       "       [-0.10504252],\n",
       "       [-0.20292819],\n",
       "       [-0.2987741 ],\n",
       "       [-0.39153772],\n",
       "       [-0.48019792],\n",
       "       [-0.56377149],\n",
       "       [-0.64132931],\n",
       "       [-0.71201513],\n",
       "       [-0.77506035],\n",
       "       [-0.82979705],\n",
       "       [-0.87566911],\n",
       "       [-0.91223768],\n",
       "       [-0.93918462],\n",
       "       [-0.95631139],\n",
       "       [-0.96353659],\n",
       "       [-0.96088994],\n",
       "       [-0.94850605],\n",
       "       [-0.92661688],\n",
       "       [-0.89554447],\n",
       "       [-0.85569307],\n",
       "       [-0.80754261],\n",
       "       [-0.75164173],\n",
       "       [-0.68860208],\n",
       "       [-0.61909302],\n",
       "       [-0.54383679],\n",
       "       [-0.46360414],\n",
       "       [-0.37921042],\n",
       "       [-0.29151103],\n",
       "       [-0.20139768],\n",
       "       [-0.10979246],\n",
       "       [-0.01764282],\n",
       "       [ 0.07408692],\n",
       "       [ 0.16442253]])"
      ]
     },
     "execution_count": 60,
     "metadata": {},
     "output_type": "execute_result"
    }
   ],
   "source": [
    "prediction"
   ]
  },
  {
   "cell_type": "markdown",
   "id": "79a0469f",
   "metadata": {},
   "source": [
    "# Predicted Value Along With Actual Value"
   ]
  },
  {
   "cell_type": "code",
   "execution_count": 61,
   "id": "d16bef3a",
   "metadata": {},
   "outputs": [],
   "source": [
    "prediction_index = np.arange(50.1,55.1,step=0.1)"
   ]
  },
  {
   "cell_type": "code",
   "execution_count": 63,
   "id": "4b64e6b0",
   "metadata": {},
   "outputs": [
    {
     "data": {
      "text/plain": [
       "[<matplotlib.lines.Line2D at 0x1fda00eeb00>]"
      ]
     },
     "execution_count": 63,
     "metadata": {},
     "output_type": "execute_result"
    },
    {
     "data": {
      "image/png": "[encoded data removed]",
      "text/plain": [
       "<Figure size 432x288 with 1 Axes>"
      ]
     },
     "metadata": {
      "needs_background": "light"
     },
     "output_type": "display_data"
    }
   ],
   "source": [
    "plt.plot(dataframe.index,dataframe['Cosine'])\n",
    "plt.plot(prediction_index,prediction)"
   ]
  },
  {
   "cell_type": "markdown",
   "id": "e8792c17",
   "metadata": {},
   "source": [
    "# Thanks !"
   ]
  }
 ],
 "metadata": {
  "kernelspec": {
   "display_name": "Python 3 (ipykernel)",
   "language": "python",
   "name": "python3"
  },
  "language_info": {
   "codemirror_mode": {
    "name": "ipython",
    "version": 3
   },
   "file_extension": ".py",
   "mimetype": "text/x-python",
   "name": "python",
   "nbconvert_exporter": "python",
   "pygments_lexer": "ipython3",
   "version": "3.10.9"
  }
 },
 "nbformat": 4,
 "nbformat_minor": 5
}
