{
 "cells": [
  {
   "cell_type": "markdown",
   "id": "dc5bbf59",
   "metadata": {},
   "source": [
    "# Heart Disease Classification with CNN"
   ]
  },
  {
   "cell_type": "markdown",
   "id": "1a6319f2",
   "metadata": {},
   "source": [
    "The aim of this project is to develop a Convolutional Neural Network (CNN) model for classifying heart disease. Heart disease is a significant global health issue, and early detection and accurate classification of different heart conditions can greatly assist in providing timely treatment and improving patient outcomes. CNNs are well-suited for image classification tasks and can effectively learn features from medical imaging data such as electrocardiograms (ECGs) or echocardiograms."
   ]
  },
  {
   "cell_type": "markdown",
   "id": "5594d988",
   "metadata": {},
   "source": [
    "# Importing Libraries"
   ]
  },
  {
   "cell_type": "markdown",
   "id": "90589252",
   "metadata": {},
   "source": [
    "These are just a few examples of popular Python libraries. You can import any other library using the same import statement followed by the library name or alias:\n",
    "\n",
    "NumPy: for numerical operations and array manipulation\n",
    "\n",
    "Pandas: for data manipulation and analysis\n",
    "\n",
    "Matplotlib: for creating visualizations\n",
    "\n",
    "Scikit-learn: for machine learning algorithms."
   ]
  },
  {
   "cell_type": "code",
   "execution_count": 1,
   "id": "9804e2dd",
   "metadata": {},
   "outputs": [],
   "source": [
    "import pandas as pd\n",
    "import numpy as np\n",
    "import matplotlib.pyplot as plt\n",
    "import seaborn as sns\n",
    "\n",
    "%matplotlib inline"
   ]
  },
  {
   "cell_type": "markdown",
   "id": "75cab78e",
   "metadata": {},
   "source": [
    "# Importing Dataset"
   ]
  },
  {
   "cell_type": "code",
   "execution_count": 2,
   "id": "95951b86",
   "metadata": {},
   "outputs": [],
   "source": [
    "dataframe = pd.read_csv('heart.csv')"
   ]
  },
  {
   "cell_type": "markdown",
   "id": "c6209316",
   "metadata": {},
   "source": [
    "# Exploratory Analysis"
   ]
  },
  {
   "cell_type": "markdown",
   "id": "f5833902",
   "metadata": {},
   "source": [
    "Before building the CNN model, it is essential to perform exploratory analysis on the dataset to gain insights and understand the underlying patterns and characteristics of the data"
   ]
  },
  {
   "cell_type": "code",
   "execution_count": 3,
   "id": "7a47afe9",
   "metadata": {},
   "outputs": [
    {
     "data": {
      "text/html": [
       "<div>\n",
       "<style scoped>\n",
       "    .dataframe tbody tr th:only-of-type {\n",
       "        vertical-align: middle;\n",
       "    }\n",
       "\n",
       "    .dataframe tbody tr th {\n",
       "        vertical-align: top;\n",
       "    }\n",
       "\n",
       "    .dataframe thead th {\n",
       "        text-align: right;\n",
       "    }\n",
       "</style>\n",
       "<table border=\"1\" class=\"dataframe\">\n",
       "  <thead>\n",
       "    <tr style=\"text-align: right;\">\n",
       "      <th></th>\n",
       "      <th>age</th>\n",
       "      <th>sex</th>\n",
       "      <th>cp</th>\n",
       "      <th>trestbps</th>\n",
       "      <th>chol</th>\n",
       "      <th>fbs</th>\n",
       "      <th>restecg</th>\n",
       "      <th>thalach</th>\n",
       "      <th>exang</th>\n",
       "      <th>oldpeak</th>\n",
       "      <th>slope</th>\n",
       "      <th>ca</th>\n",
       "      <th>thal</th>\n",
       "      <th>target</th>\n",
       "    </tr>\n",
       "  </thead>\n",
       "  <tbody>\n",
       "    <tr>\n",
       "      <th>0</th>\n",
       "      <td>52</td>\n",
       "      <td>1</td>\n",
       "      <td>0</td>\n",
       "      <td>125</td>\n",
       "      <td>212</td>\n",
       "      <td>0</td>\n",
       "      <td>1</td>\n",
       "      <td>168</td>\n",
       "      <td>0</td>\n",
       "      <td>1.0</td>\n",
       "      <td>2</td>\n",
       "      <td>2</td>\n",
       "      <td>3</td>\n",
       "      <td>0</td>\n",
       "    </tr>\n",
       "    <tr>\n",
       "      <th>1</th>\n",
       "      <td>53</td>\n",
       "      <td>1</td>\n",
       "      <td>0</td>\n",
       "      <td>140</td>\n",
       "      <td>203</td>\n",
       "      <td>1</td>\n",
       "      <td>0</td>\n",
       "      <td>155</td>\n",
       "      <td>1</td>\n",
       "      <td>3.1</td>\n",
       "      <td>0</td>\n",
       "      <td>0</td>\n",
       "      <td>3</td>\n",
       "      <td>0</td>\n",
       "    </tr>\n",
       "    <tr>\n",
       "      <th>2</th>\n",
       "      <td>70</td>\n",
       "      <td>1</td>\n",
       "      <td>0</td>\n",
       "      <td>145</td>\n",
       "      <td>174</td>\n",
       "      <td>0</td>\n",
       "      <td>1</td>\n",
       "      <td>125</td>\n",
       "      <td>1</td>\n",
       "      <td>2.6</td>\n",
       "      <td>0</td>\n",
       "      <td>0</td>\n",
       "      <td>3</td>\n",
       "      <td>0</td>\n",
       "    </tr>\n",
       "    <tr>\n",
       "      <th>3</th>\n",
       "      <td>61</td>\n",
       "      <td>1</td>\n",
       "      <td>0</td>\n",
       "      <td>148</td>\n",
       "      <td>203</td>\n",
       "      <td>0</td>\n",
       "      <td>1</td>\n",
       "      <td>161</td>\n",
       "      <td>0</td>\n",
       "      <td>0.0</td>\n",
       "      <td>2</td>\n",
       "      <td>1</td>\n",
       "      <td>3</td>\n",
       "      <td>0</td>\n",
       "    </tr>\n",
       "    <tr>\n",
       "      <th>4</th>\n",
       "      <td>62</td>\n",
       "      <td>0</td>\n",
       "      <td>0</td>\n",
       "      <td>138</td>\n",
       "      <td>294</td>\n",
       "      <td>1</td>\n",
       "      <td>1</td>\n",
       "      <td>106</td>\n",
       "      <td>0</td>\n",
       "      <td>1.9</td>\n",
       "      <td>1</td>\n",
       "      <td>3</td>\n",
       "      <td>2</td>\n",
       "      <td>0</td>\n",
       "    </tr>\n",
       "  </tbody>\n",
       "</table>\n",
       "</div>"
      ],
      "text/plain": [
       "   age  sex  cp  trestbps  chol  fbs  restecg  thalach  exang  oldpeak  slope  \\\n",
       "0   52    1   0       125   212    0        1      168      0      1.0      2   \n",
       "1   53    1   0       140   203    1        0      155      1      3.1      0   \n",
       "2   70    1   0       145   174    0        1      125      1      2.6      0   \n",
       "3   61    1   0       148   203    0        1      161      0      0.0      2   \n",
       "4   62    0   0       138   294    1        1      106      0      1.9      1   \n",
       "\n",
       "   ca  thal  target  \n",
       "0   2     3       0  \n",
       "1   0     3       0  \n",
       "2   0     3       0  \n",
       "3   1     3       0  \n",
       "4   3     2       0  "
      ]
     },
     "execution_count": 3,
     "metadata": {},
     "output_type": "execute_result"
    }
   ],
   "source": [
    "dataframe.head()"
   ]
  },
  {
   "cell_type": "code",
   "execution_count": 4,
   "id": "66156885",
   "metadata": {},
   "outputs": [
    {
     "data": {
      "text/html": [
       "<div>\n",
       "<style scoped>\n",
       "    .dataframe tbody tr th:only-of-type {\n",
       "        vertical-align: middle;\n",
       "    }\n",
       "\n",
       "    .dataframe tbody tr th {\n",
       "        vertical-align: top;\n",
       "    }\n",
       "\n",
       "    .dataframe thead th {\n",
       "        text-align: right;\n",
       "    }\n",
       "</style>\n",
       "<table border=\"1\" class=\"dataframe\">\n",
       "  <thead>\n",
       "    <tr style=\"text-align: right;\">\n",
       "      <th></th>\n",
       "      <th>age</th>\n",
       "      <th>sex</th>\n",
       "      <th>cp</th>\n",
       "      <th>trestbps</th>\n",
       "      <th>chol</th>\n",
       "      <th>fbs</th>\n",
       "      <th>restecg</th>\n",
       "      <th>thalach</th>\n",
       "      <th>exang</th>\n",
       "      <th>oldpeak</th>\n",
       "      <th>slope</th>\n",
       "      <th>ca</th>\n",
       "      <th>thal</th>\n",
       "      <th>target</th>\n",
       "    </tr>\n",
       "  </thead>\n",
       "  <tbody>\n",
       "    <tr>\n",
       "      <th>1020</th>\n",
       "      <td>59</td>\n",
       "      <td>1</td>\n",
       "      <td>1</td>\n",
       "      <td>140</td>\n",
       "      <td>221</td>\n",
       "      <td>0</td>\n",
       "      <td>1</td>\n",
       "      <td>164</td>\n",
       "      <td>1</td>\n",
       "      <td>0.0</td>\n",
       "      <td>2</td>\n",
       "      <td>0</td>\n",
       "      <td>2</td>\n",
       "      <td>1</td>\n",
       "    </tr>\n",
       "    <tr>\n",
       "      <th>1021</th>\n",
       "      <td>60</td>\n",
       "      <td>1</td>\n",
       "      <td>0</td>\n",
       "      <td>125</td>\n",
       "      <td>258</td>\n",
       "      <td>0</td>\n",
       "      <td>0</td>\n",
       "      <td>141</td>\n",
       "      <td>1</td>\n",
       "      <td>2.8</td>\n",
       "      <td>1</td>\n",
       "      <td>1</td>\n",
       "      <td>3</td>\n",
       "      <td>0</td>\n",
       "    </tr>\n",
       "    <tr>\n",
       "      <th>1022</th>\n",
       "      <td>47</td>\n",
       "      <td>1</td>\n",
       "      <td>0</td>\n",
       "      <td>110</td>\n",
       "      <td>275</td>\n",
       "      <td>0</td>\n",
       "      <td>0</td>\n",
       "      <td>118</td>\n",
       "      <td>1</td>\n",
       "      <td>1.0</td>\n",
       "      <td>1</td>\n",
       "      <td>1</td>\n",
       "      <td>2</td>\n",
       "      <td>0</td>\n",
       "    </tr>\n",
       "    <tr>\n",
       "      <th>1023</th>\n",
       "      <td>50</td>\n",
       "      <td>0</td>\n",
       "      <td>0</td>\n",
       "      <td>110</td>\n",
       "      <td>254</td>\n",
       "      <td>0</td>\n",
       "      <td>0</td>\n",
       "      <td>159</td>\n",
       "      <td>0</td>\n",
       "      <td>0.0</td>\n",
       "      <td>2</td>\n",
       "      <td>0</td>\n",
       "      <td>2</td>\n",
       "      <td>1</td>\n",
       "    </tr>\n",
       "    <tr>\n",
       "      <th>1024</th>\n",
       "      <td>54</td>\n",
       "      <td>1</td>\n",
       "      <td>0</td>\n",
       "      <td>120</td>\n",
       "      <td>188</td>\n",
       "      <td>0</td>\n",
       "      <td>1</td>\n",
       "      <td>113</td>\n",
       "      <td>0</td>\n",
       "      <td>1.4</td>\n",
       "      <td>1</td>\n",
       "      <td>1</td>\n",
       "      <td>3</td>\n",
       "      <td>0</td>\n",
       "    </tr>\n",
       "  </tbody>\n",
       "</table>\n",
       "</div>"
      ],
      "text/plain": [
       "      age  sex  cp  trestbps  chol  fbs  restecg  thalach  exang  oldpeak  \\\n",
       "1020   59    1   1       140   221    0        1      164      1      0.0   \n",
       "1021   60    1   0       125   258    0        0      141      1      2.8   \n",
       "1022   47    1   0       110   275    0        0      118      1      1.0   \n",
       "1023   50    0   0       110   254    0        0      159      0      0.0   \n",
       "1024   54    1   0       120   188    0        1      113      0      1.4   \n",
       "\n",
       "      slope  ca  thal  target  \n",
       "1020      2   0     2       1  \n",
       "1021      1   1     3       0  \n",
       "1022      1   1     2       0  \n",
       "1023      2   0     2       1  \n",
       "1024      1   1     3       0  "
      ]
     },
     "execution_count": 4,
     "metadata": {},
     "output_type": "execute_result"
    }
   ],
   "source": [
    "dataframe.tail()"
   ]
  },
  {
   "cell_type": "code",
   "execution_count": 5,
   "id": "c9614c54",
   "metadata": {},
   "outputs": [
    {
     "data": {
      "text/plain": [
       "(1025, 14)"
      ]
     },
     "execution_count": 5,
     "metadata": {},
     "output_type": "execute_result"
    }
   ],
   "source": [
    "dataframe.shape"
   ]
  },
  {
   "cell_type": "code",
   "execution_count": 6,
   "id": "d8a7d803",
   "metadata": {},
   "outputs": [
    {
     "name": "stdout",
     "output_type": "stream",
     "text": [
      "<class 'pandas.core.frame.DataFrame'>\n",
      "RangeIndex: 1025 entries, 0 to 1024\n",
      "Data columns (total 14 columns):\n",
      " #   Column    Non-Null Count  Dtype  \n",
      "---  ------    --------------  -----  \n",
      " 0   age       1025 non-null   int64  \n",
      " 1   sex       1025 non-null   int64  \n",
      " 2   cp        1025 non-null   int64  \n",
      " 3   trestbps  1025 non-null   int64  \n",
      " 4   chol      1025 non-null   int64  \n",
      " 5   fbs       1025 non-null   int64  \n",
      " 6   restecg   1025 non-null   int64  \n",
      " 7   thalach   1025 non-null   int64  \n",
      " 8   exang     1025 non-null   int64  \n",
      " 9   oldpeak   1025 non-null   float64\n",
      " 10  slope     1025 non-null   int64  \n",
      " 11  ca        1025 non-null   int64  \n",
      " 12  thal      1025 non-null   int64  \n",
      " 13  target    1025 non-null   int64  \n",
      "dtypes: float64(1), int64(13)\n",
      "memory usage: 112.2 KB\n"
     ]
    }
   ],
   "source": [
    "dataframe.info()"
   ]
  },
  {
   "cell_type": "code",
   "execution_count": 7,
   "id": "973b7596",
   "metadata": {},
   "outputs": [
    {
     "data": {
      "text/plain": [
       "age         0\n",
       "sex         0\n",
       "cp          0\n",
       "trestbps    0\n",
       "chol        0\n",
       "fbs         0\n",
       "restecg     0\n",
       "thalach     0\n",
       "exang       0\n",
       "oldpeak     0\n",
       "slope       0\n",
       "ca          0\n",
       "thal        0\n",
       "target      0\n",
       "dtype: int64"
      ]
     },
     "execution_count": 7,
     "metadata": {},
     "output_type": "execute_result"
    }
   ],
   "source": [
    "dataframe.isna().sum()"
   ]
  },
  {
   "cell_type": "markdown",
   "id": "a1e4d621",
   "metadata": {},
   "source": [
    "# Statical Info"
   ]
  },
  {
   "cell_type": "markdown",
   "id": "c20a93ed",
   "metadata": {},
   "source": [
    "Here are some statistical measures and techniques that can be applied during the exploratory analysis of the heart disease classification dataset:"
   ]
  },
  {
   "cell_type": "code",
   "execution_count": 8,
   "id": "a06195df",
   "metadata": {},
   "outputs": [
    {
     "data": {
      "text/html": [
       "<div>\n",
       "<style scoped>\n",
       "    .dataframe tbody tr th:only-of-type {\n",
       "        vertical-align: middle;\n",
       "    }\n",
       "\n",
       "    .dataframe tbody tr th {\n",
       "        vertical-align: top;\n",
       "    }\n",
       "\n",
       "    .dataframe thead th {\n",
       "        text-align: right;\n",
       "    }\n",
       "</style>\n",
       "<table border=\"1\" class=\"dataframe\">\n",
       "  <thead>\n",
       "    <tr style=\"text-align: right;\">\n",
       "      <th></th>\n",
       "      <th>age</th>\n",
       "      <th>sex</th>\n",
       "      <th>cp</th>\n",
       "      <th>trestbps</th>\n",
       "      <th>chol</th>\n",
       "      <th>fbs</th>\n",
       "      <th>restecg</th>\n",
       "      <th>thalach</th>\n",
       "      <th>exang</th>\n",
       "      <th>oldpeak</th>\n",
       "      <th>slope</th>\n",
       "      <th>ca</th>\n",
       "      <th>thal</th>\n",
       "      <th>target</th>\n",
       "    </tr>\n",
       "  </thead>\n",
       "  <tbody>\n",
       "    <tr>\n",
       "      <th>count</th>\n",
       "      <td>1025.000000</td>\n",
       "      <td>1025.000000</td>\n",
       "      <td>1025.000000</td>\n",
       "      <td>1025.000000</td>\n",
       "      <td>1025.00000</td>\n",
       "      <td>1025.000000</td>\n",
       "      <td>1025.000000</td>\n",
       "      <td>1025.000000</td>\n",
       "      <td>1025.000000</td>\n",
       "      <td>1025.000000</td>\n",
       "      <td>1025.000000</td>\n",
       "      <td>1025.000000</td>\n",
       "      <td>1025.000000</td>\n",
       "      <td>1025.000000</td>\n",
       "    </tr>\n",
       "    <tr>\n",
       "      <th>mean</th>\n",
       "      <td>54.434146</td>\n",
       "      <td>0.695610</td>\n",
       "      <td>0.942439</td>\n",
       "      <td>131.611707</td>\n",
       "      <td>246.00000</td>\n",
       "      <td>0.149268</td>\n",
       "      <td>0.529756</td>\n",
       "      <td>149.114146</td>\n",
       "      <td>0.336585</td>\n",
       "      <td>1.071512</td>\n",
       "      <td>1.385366</td>\n",
       "      <td>0.754146</td>\n",
       "      <td>2.323902</td>\n",
       "      <td>0.513171</td>\n",
       "    </tr>\n",
       "    <tr>\n",
       "      <th>std</th>\n",
       "      <td>9.072290</td>\n",
       "      <td>0.460373</td>\n",
       "      <td>1.029641</td>\n",
       "      <td>17.516718</td>\n",
       "      <td>51.59251</td>\n",
       "      <td>0.356527</td>\n",
       "      <td>0.527878</td>\n",
       "      <td>23.005724</td>\n",
       "      <td>0.472772</td>\n",
       "      <td>1.175053</td>\n",
       "      <td>0.617755</td>\n",
       "      <td>1.030798</td>\n",
       "      <td>0.620660</td>\n",
       "      <td>0.500070</td>\n",
       "    </tr>\n",
       "    <tr>\n",
       "      <th>min</th>\n",
       "      <td>29.000000</td>\n",
       "      <td>0.000000</td>\n",
       "      <td>0.000000</td>\n",
       "      <td>94.000000</td>\n",
       "      <td>126.00000</td>\n",
       "      <td>0.000000</td>\n",
       "      <td>0.000000</td>\n",
       "      <td>71.000000</td>\n",
       "      <td>0.000000</td>\n",
       "      <td>0.000000</td>\n",
       "      <td>0.000000</td>\n",
       "      <td>0.000000</td>\n",
       "      <td>0.000000</td>\n",
       "      <td>0.000000</td>\n",
       "    </tr>\n",
       "    <tr>\n",
       "      <th>25%</th>\n",
       "      <td>48.000000</td>\n",
       "      <td>0.000000</td>\n",
       "      <td>0.000000</td>\n",
       "      <td>120.000000</td>\n",
       "      <td>211.00000</td>\n",
       "      <td>0.000000</td>\n",
       "      <td>0.000000</td>\n",
       "      <td>132.000000</td>\n",
       "      <td>0.000000</td>\n",
       "      <td>0.000000</td>\n",
       "      <td>1.000000</td>\n",
       "      <td>0.000000</td>\n",
       "      <td>2.000000</td>\n",
       "      <td>0.000000</td>\n",
       "    </tr>\n",
       "    <tr>\n",
       "      <th>50%</th>\n",
       "      <td>56.000000</td>\n",
       "      <td>1.000000</td>\n",
       "      <td>1.000000</td>\n",
       "      <td>130.000000</td>\n",
       "      <td>240.00000</td>\n",
       "      <td>0.000000</td>\n",
       "      <td>1.000000</td>\n",
       "      <td>152.000000</td>\n",
       "      <td>0.000000</td>\n",
       "      <td>0.800000</td>\n",
       "      <td>1.000000</td>\n",
       "      <td>0.000000</td>\n",
       "      <td>2.000000</td>\n",
       "      <td>1.000000</td>\n",
       "    </tr>\n",
       "    <tr>\n",
       "      <th>75%</th>\n",
       "      <td>61.000000</td>\n",
       "      <td>1.000000</td>\n",
       "      <td>2.000000</td>\n",
       "      <td>140.000000</td>\n",
       "      <td>275.00000</td>\n",
       "      <td>0.000000</td>\n",
       "      <td>1.000000</td>\n",
       "      <td>166.000000</td>\n",
       "      <td>1.000000</td>\n",
       "      <td>1.800000</td>\n",
       "      <td>2.000000</td>\n",
       "      <td>1.000000</td>\n",
       "      <td>3.000000</td>\n",
       "      <td>1.000000</td>\n",
       "    </tr>\n",
       "    <tr>\n",
       "      <th>max</th>\n",
       "      <td>77.000000</td>\n",
       "      <td>1.000000</td>\n",
       "      <td>3.000000</td>\n",
       "      <td>200.000000</td>\n",
       "      <td>564.00000</td>\n",
       "      <td>1.000000</td>\n",
       "      <td>2.000000</td>\n",
       "      <td>202.000000</td>\n",
       "      <td>1.000000</td>\n",
       "      <td>6.200000</td>\n",
       "      <td>2.000000</td>\n",
       "      <td>4.000000</td>\n",
       "      <td>3.000000</td>\n",
       "      <td>1.000000</td>\n",
       "    </tr>\n",
       "  </tbody>\n",
       "</table>\n",
       "</div>"
      ],
      "text/plain": [
       "               age          sex           cp     trestbps        chol  \\\n",
       "count  1025.000000  1025.000000  1025.000000  1025.000000  1025.00000   \n",
       "mean     54.434146     0.695610     0.942439   131.611707   246.00000   \n",
       "std       9.072290     0.460373     1.029641    17.516718    51.59251   \n",
       "min      29.000000     0.000000     0.000000    94.000000   126.00000   \n",
       "25%      48.000000     0.000000     0.000000   120.000000   211.00000   \n",
       "50%      56.000000     1.000000     1.000000   130.000000   240.00000   \n",
       "75%      61.000000     1.000000     2.000000   140.000000   275.00000   \n",
       "max      77.000000     1.000000     3.000000   200.000000   564.00000   \n",
       "\n",
       "               fbs      restecg      thalach        exang      oldpeak  \\\n",
       "count  1025.000000  1025.000000  1025.000000  1025.000000  1025.000000   \n",
       "mean      0.149268     0.529756   149.114146     0.336585     1.071512   \n",
       "std       0.356527     0.527878    23.005724     0.472772     1.175053   \n",
       "min       0.000000     0.000000    71.000000     0.000000     0.000000   \n",
       "25%       0.000000     0.000000   132.000000     0.000000     0.000000   \n",
       "50%       0.000000     1.000000   152.000000     0.000000     0.800000   \n",
       "75%       0.000000     1.000000   166.000000     1.000000     1.800000   \n",
       "max       1.000000     2.000000   202.000000     1.000000     6.200000   \n",
       "\n",
       "             slope           ca         thal       target  \n",
       "count  1025.000000  1025.000000  1025.000000  1025.000000  \n",
       "mean      1.385366     0.754146     2.323902     0.513171  \n",
       "std       0.617755     1.030798     0.620660     0.500070  \n",
       "min       0.000000     0.000000     0.000000     0.000000  \n",
       "25%       1.000000     0.000000     2.000000     0.000000  \n",
       "50%       1.000000     0.000000     2.000000     1.000000  \n",
       "75%       2.000000     1.000000     3.000000     1.000000  \n",
       "max       2.000000     4.000000     3.000000     1.000000  "
      ]
     },
     "execution_count": 8,
     "metadata": {},
     "output_type": "execute_result"
    }
   ],
   "source": [
    "dataframe.describe()"
   ]
  },
  {
   "cell_type": "markdown",
   "id": "11be1000",
   "metadata": {},
   "source": [
    "# Correlation Matrix"
   ]
  },
  {
   "cell_type": "markdown",
   "id": "c3cd636e",
   "metadata": {},
   "source": [
    "A correlation matrix is a table that shows the pairwise correlations between variables in a dataset. Each cell in the table represents the correlation between two variables, and the strength and direction of the correlation is indicated by the color and magnitude of the cell.\n",
    "\n",
    "Correlation matrices are commonly used in data analysis to identify relationships between variables and to help understand the structure of the data. The values in the correlation matrix range from -1 to 1, with -1 indicating a perfect negative correlation, 1 indicating a perfect positive correlation, and 0 indicating no correlation."
   ]
  },
  {
   "cell_type": "code",
   "execution_count": 9,
   "id": "dac0271a",
   "metadata": {},
   "outputs": [],
   "source": [
    "corr_matrix = dataframe.corr()"
   ]
  },
  {
   "cell_type": "code",
   "execution_count": 10,
   "id": "d0637082",
   "metadata": {},
   "outputs": [
    {
     "data": {
      "text/html": [
       "<div>\n",
       "<style scoped>\n",
       "    .dataframe tbody tr th:only-of-type {\n",
       "        vertical-align: middle;\n",
       "    }\n",
       "\n",
       "    .dataframe tbody tr th {\n",
       "        vertical-align: top;\n",
       "    }\n",
       "\n",
       "    .dataframe thead th {\n",
       "        text-align: right;\n",
       "    }\n",
       "</style>\n",
       "<table border=\"1\" class=\"dataframe\">\n",
       "  <thead>\n",
       "    <tr style=\"text-align: right;\">\n",
       "      <th></th>\n",
       "      <th>age</th>\n",
       "      <th>sex</th>\n",
       "      <th>cp</th>\n",
       "      <th>trestbps</th>\n",
       "      <th>chol</th>\n",
       "      <th>fbs</th>\n",
       "      <th>restecg</th>\n",
       "      <th>thalach</th>\n",
       "      <th>exang</th>\n",
       "      <th>oldpeak</th>\n",
       "      <th>slope</th>\n",
       "      <th>ca</th>\n",
       "      <th>thal</th>\n",
       "      <th>target</th>\n",
       "    </tr>\n",
       "  </thead>\n",
       "  <tbody>\n",
       "    <tr>\n",
       "      <th>age</th>\n",
       "      <td>1.000000</td>\n",
       "      <td>-0.103240</td>\n",
       "      <td>-0.071966</td>\n",
       "      <td>0.271121</td>\n",
       "      <td>0.219823</td>\n",
       "      <td>0.121243</td>\n",
       "      <td>-0.132696</td>\n",
       "      <td>-0.390227</td>\n",
       "      <td>0.088163</td>\n",
       "      <td>0.208137</td>\n",
       "      <td>-0.169105</td>\n",
       "      <td>0.271551</td>\n",
       "      <td>0.072297</td>\n",
       "      <td>-0.229324</td>\n",
       "    </tr>\n",
       "    <tr>\n",
       "      <th>sex</th>\n",
       "      <td>-0.103240</td>\n",
       "      <td>1.000000</td>\n",
       "      <td>-0.041119</td>\n",
       "      <td>-0.078974</td>\n",
       "      <td>-0.198258</td>\n",
       "      <td>0.027200</td>\n",
       "      <td>-0.055117</td>\n",
       "      <td>-0.049365</td>\n",
       "      <td>0.139157</td>\n",
       "      <td>0.084687</td>\n",
       "      <td>-0.026666</td>\n",
       "      <td>0.111729</td>\n",
       "      <td>0.198424</td>\n",
       "      <td>-0.279501</td>\n",
       "    </tr>\n",
       "    <tr>\n",
       "      <th>cp</th>\n",
       "      <td>-0.071966</td>\n",
       "      <td>-0.041119</td>\n",
       "      <td>1.000000</td>\n",
       "      <td>0.038177</td>\n",
       "      <td>-0.081641</td>\n",
       "      <td>0.079294</td>\n",
       "      <td>0.043581</td>\n",
       "      <td>0.306839</td>\n",
       "      <td>-0.401513</td>\n",
       "      <td>-0.174733</td>\n",
       "      <td>0.131633</td>\n",
       "      <td>-0.176206</td>\n",
       "      <td>-0.163341</td>\n",
       "      <td>0.434854</td>\n",
       "    </tr>\n",
       "    <tr>\n",
       "      <th>trestbps</th>\n",
       "      <td>0.271121</td>\n",
       "      <td>-0.078974</td>\n",
       "      <td>0.038177</td>\n",
       "      <td>1.000000</td>\n",
       "      <td>0.127977</td>\n",
       "      <td>0.181767</td>\n",
       "      <td>-0.123794</td>\n",
       "      <td>-0.039264</td>\n",
       "      <td>0.061197</td>\n",
       "      <td>0.187434</td>\n",
       "      <td>-0.120445</td>\n",
       "      <td>0.104554</td>\n",
       "      <td>0.059276</td>\n",
       "      <td>-0.138772</td>\n",
       "    </tr>\n",
       "    <tr>\n",
       "      <th>chol</th>\n",
       "      <td>0.219823</td>\n",
       "      <td>-0.198258</td>\n",
       "      <td>-0.081641</td>\n",
       "      <td>0.127977</td>\n",
       "      <td>1.000000</td>\n",
       "      <td>0.026917</td>\n",
       "      <td>-0.147410</td>\n",
       "      <td>-0.021772</td>\n",
       "      <td>0.067382</td>\n",
       "      <td>0.064880</td>\n",
       "      <td>-0.014248</td>\n",
       "      <td>0.074259</td>\n",
       "      <td>0.100244</td>\n",
       "      <td>-0.099966</td>\n",
       "    </tr>\n",
       "    <tr>\n",
       "      <th>fbs</th>\n",
       "      <td>0.121243</td>\n",
       "      <td>0.027200</td>\n",
       "      <td>0.079294</td>\n",
       "      <td>0.181767</td>\n",
       "      <td>0.026917</td>\n",
       "      <td>1.000000</td>\n",
       "      <td>-0.104051</td>\n",
       "      <td>-0.008866</td>\n",
       "      <td>0.049261</td>\n",
       "      <td>0.010859</td>\n",
       "      <td>-0.061902</td>\n",
       "      <td>0.137156</td>\n",
       "      <td>-0.042177</td>\n",
       "      <td>-0.041164</td>\n",
       "    </tr>\n",
       "    <tr>\n",
       "      <th>restecg</th>\n",
       "      <td>-0.132696</td>\n",
       "      <td>-0.055117</td>\n",
       "      <td>0.043581</td>\n",
       "      <td>-0.123794</td>\n",
       "      <td>-0.147410</td>\n",
       "      <td>-0.104051</td>\n",
       "      <td>1.000000</td>\n",
       "      <td>0.048411</td>\n",
       "      <td>-0.065606</td>\n",
       "      <td>-0.050114</td>\n",
       "      <td>0.086086</td>\n",
       "      <td>-0.078072</td>\n",
       "      <td>-0.020504</td>\n",
       "      <td>0.134468</td>\n",
       "    </tr>\n",
       "    <tr>\n",
       "      <th>thalach</th>\n",
       "      <td>-0.390227</td>\n",
       "      <td>-0.049365</td>\n",
       "      <td>0.306839</td>\n",
       "      <td>-0.039264</td>\n",
       "      <td>-0.021772</td>\n",
       "      <td>-0.008866</td>\n",
       "      <td>0.048411</td>\n",
       "      <td>1.000000</td>\n",
       "      <td>-0.380281</td>\n",
       "      <td>-0.349796</td>\n",
       "      <td>0.395308</td>\n",
       "      <td>-0.207888</td>\n",
       "      <td>-0.098068</td>\n",
       "      <td>0.422895</td>\n",
       "    </tr>\n",
       "    <tr>\n",
       "      <th>exang</th>\n",
       "      <td>0.088163</td>\n",
       "      <td>0.139157</td>\n",
       "      <td>-0.401513</td>\n",
       "      <td>0.061197</td>\n",
       "      <td>0.067382</td>\n",
       "      <td>0.049261</td>\n",
       "      <td>-0.065606</td>\n",
       "      <td>-0.380281</td>\n",
       "      <td>1.000000</td>\n",
       "      <td>0.310844</td>\n",
       "      <td>-0.267335</td>\n",
       "      <td>0.107849</td>\n",
       "      <td>0.197201</td>\n",
       "      <td>-0.438029</td>\n",
       "    </tr>\n",
       "    <tr>\n",
       "      <th>oldpeak</th>\n",
       "      <td>0.208137</td>\n",
       "      <td>0.084687</td>\n",
       "      <td>-0.174733</td>\n",
       "      <td>0.187434</td>\n",
       "      <td>0.064880</td>\n",
       "      <td>0.010859</td>\n",
       "      <td>-0.050114</td>\n",
       "      <td>-0.349796</td>\n",
       "      <td>0.310844</td>\n",
       "      <td>1.000000</td>\n",
       "      <td>-0.575189</td>\n",
       "      <td>0.221816</td>\n",
       "      <td>0.202672</td>\n",
       "      <td>-0.438441</td>\n",
       "    </tr>\n",
       "    <tr>\n",
       "      <th>slope</th>\n",
       "      <td>-0.169105</td>\n",
       "      <td>-0.026666</td>\n",
       "      <td>0.131633</td>\n",
       "      <td>-0.120445</td>\n",
       "      <td>-0.014248</td>\n",
       "      <td>-0.061902</td>\n",
       "      <td>0.086086</td>\n",
       "      <td>0.395308</td>\n",
       "      <td>-0.267335</td>\n",
       "      <td>-0.575189</td>\n",
       "      <td>1.000000</td>\n",
       "      <td>-0.073440</td>\n",
       "      <td>-0.094090</td>\n",
       "      <td>0.345512</td>\n",
       "    </tr>\n",
       "    <tr>\n",
       "      <th>ca</th>\n",
       "      <td>0.271551</td>\n",
       "      <td>0.111729</td>\n",
       "      <td>-0.176206</td>\n",
       "      <td>0.104554</td>\n",
       "      <td>0.074259</td>\n",
       "      <td>0.137156</td>\n",
       "      <td>-0.078072</td>\n",
       "      <td>-0.207888</td>\n",
       "      <td>0.107849</td>\n",
       "      <td>0.221816</td>\n",
       "      <td>-0.073440</td>\n",
       "      <td>1.000000</td>\n",
       "      <td>0.149014</td>\n",
       "      <td>-0.382085</td>\n",
       "    </tr>\n",
       "    <tr>\n",
       "      <th>thal</th>\n",
       "      <td>0.072297</td>\n",
       "      <td>0.198424</td>\n",
       "      <td>-0.163341</td>\n",
       "      <td>0.059276</td>\n",
       "      <td>0.100244</td>\n",
       "      <td>-0.042177</td>\n",
       "      <td>-0.020504</td>\n",
       "      <td>-0.098068</td>\n",
       "      <td>0.197201</td>\n",
       "      <td>0.202672</td>\n",
       "      <td>-0.094090</td>\n",
       "      <td>0.149014</td>\n",
       "      <td>1.000000</td>\n",
       "      <td>-0.337838</td>\n",
       "    </tr>\n",
       "    <tr>\n",
       "      <th>target</th>\n",
       "      <td>-0.229324</td>\n",
       "      <td>-0.279501</td>\n",
       "      <td>0.434854</td>\n",
       "      <td>-0.138772</td>\n",
       "      <td>-0.099966</td>\n",
       "      <td>-0.041164</td>\n",
       "      <td>0.134468</td>\n",
       "      <td>0.422895</td>\n",
       "      <td>-0.438029</td>\n",
       "      <td>-0.438441</td>\n",
       "      <td>0.345512</td>\n",
       "      <td>-0.382085</td>\n",
       "      <td>-0.337838</td>\n",
       "      <td>1.000000</td>\n",
       "    </tr>\n",
       "  </tbody>\n",
       "</table>\n",
       "</div>"
      ],
      "text/plain": [
       "               age       sex        cp  trestbps      chol       fbs  \\\n",
       "age       1.000000 -0.103240 -0.071966  0.271121  0.219823  0.121243   \n",
       "sex      -0.103240  1.000000 -0.041119 -0.078974 -0.198258  0.027200   \n",
       "cp       -0.071966 -0.041119  1.000000  0.038177 -0.081641  0.079294   \n",
       "trestbps  0.271121 -0.078974  0.038177  1.000000  0.127977  0.181767   \n",
       "chol      0.219823 -0.198258 -0.081641  0.127977  1.000000  0.026917   \n",
       "fbs       0.121243  0.027200  0.079294  0.181767  0.026917  1.000000   \n",
       "restecg  -0.132696 -0.055117  0.043581 -0.123794 -0.147410 -0.104051   \n",
       "thalach  -0.390227 -0.049365  0.306839 -0.039264 -0.021772 -0.008866   \n",
       "exang     0.088163  0.139157 -0.401513  0.061197  0.067382  0.049261   \n",
       "oldpeak   0.208137  0.084687 -0.174733  0.187434  0.064880  0.010859   \n",
       "slope    -0.169105 -0.026666  0.131633 -0.120445 -0.014248 -0.061902   \n",
       "ca        0.271551  0.111729 -0.176206  0.104554  0.074259  0.137156   \n",
       "thal      0.072297  0.198424 -0.163341  0.059276  0.100244 -0.042177   \n",
       "target   -0.229324 -0.279501  0.434854 -0.138772 -0.099966 -0.041164   \n",
       "\n",
       "           restecg   thalach     exang   oldpeak     slope        ca  \\\n",
       "age      -0.132696 -0.390227  0.088163  0.208137 -0.169105  0.271551   \n",
       "sex      -0.055117 -0.049365  0.139157  0.084687 -0.026666  0.111729   \n",
       "cp        0.043581  0.306839 -0.401513 -0.174733  0.131633 -0.176206   \n",
       "trestbps -0.123794 -0.039264  0.061197  0.187434 -0.120445  0.104554   \n",
       "chol     -0.147410 -0.021772  0.067382  0.064880 -0.014248  0.074259   \n",
       "fbs      -0.104051 -0.008866  0.049261  0.010859 -0.061902  0.137156   \n",
       "restecg   1.000000  0.048411 -0.065606 -0.050114  0.086086 -0.078072   \n",
       "thalach   0.048411  1.000000 -0.380281 -0.349796  0.395308 -0.207888   \n",
       "exang    -0.065606 -0.380281  1.000000  0.310844 -0.267335  0.107849   \n",
       "oldpeak  -0.050114 -0.349796  0.310844  1.000000 -0.575189  0.221816   \n",
       "slope     0.086086  0.395308 -0.267335 -0.575189  1.000000 -0.073440   \n",
       "ca       -0.078072 -0.207888  0.107849  0.221816 -0.073440  1.000000   \n",
       "thal     -0.020504 -0.098068  0.197201  0.202672 -0.094090  0.149014   \n",
       "target    0.134468  0.422895 -0.438029 -0.438441  0.345512 -0.382085   \n",
       "\n",
       "              thal    target  \n",
       "age       0.072297 -0.229324  \n",
       "sex       0.198424 -0.279501  \n",
       "cp       -0.163341  0.434854  \n",
       "trestbps  0.059276 -0.138772  \n",
       "chol      0.100244 -0.099966  \n",
       "fbs      -0.042177 -0.041164  \n",
       "restecg  -0.020504  0.134468  \n",
       "thalach  -0.098068  0.422895  \n",
       "exang     0.197201 -0.438029  \n",
       "oldpeak   0.202672 -0.438441  \n",
       "slope    -0.094090  0.345512  \n",
       "ca        0.149014 -0.382085  \n",
       "thal      1.000000 -0.337838  \n",
       "target   -0.337838  1.000000  "
      ]
     },
     "execution_count": 10,
     "metadata": {},
     "output_type": "execute_result"
    }
   ],
   "source": [
    "corr_matrix"
   ]
  },
  {
   "cell_type": "code",
   "execution_count": 11,
   "id": "3cb69e12",
   "metadata": {},
   "outputs": [
    {
     "data": {
      "text/plain": [
       "<AxesSubplot:>"
      ]
     },
     "execution_count": 11,
     "metadata": {},
     "output_type": "execute_result"
    },
    {
     "data": {
      "image/png": "[encoded data removed]",
      "text/plain": [
       "<Figure size 1296x576 with 2 Axes>"
      ]
     },
     "metadata": {
      "needs_background": "light"
     },
     "output_type": "display_data"
    }
   ],
   "source": [
    "plt.figure(figsize = (18, 8))\n",
    "sns.heatmap(\n",
    "    corr_matrix, \n",
    "    annot = True, \n",
    "    cmap = 'coolwarm'\n",
    ")"
   ]
  },
  {
   "cell_type": "code",
   "execution_count": 12,
   "id": "33ca585e",
   "metadata": {},
   "outputs": [
    {
     "data": {
      "text/plain": [
       "Index(['age', 'sex', 'cp', 'trestbps', 'chol', 'fbs', 'restecg', 'thalach',\n",
       "       'exang', 'oldpeak', 'slope', 'ca', 'thal', 'target'],\n",
       "      dtype='object')"
      ]
     },
     "execution_count": 12,
     "metadata": {},
     "output_type": "execute_result"
    }
   ],
   "source": [
    "dataframe.columns"
   ]
  },
  {
   "cell_type": "code",
   "execution_count": 13,
   "id": "bdc8e4d8",
   "metadata": {},
   "outputs": [
    {
     "data": {
      "text/html": [
       "<div>\n",
       "<style scoped>\n",
       "    .dataframe tbody tr th:only-of-type {\n",
       "        vertical-align: middle;\n",
       "    }\n",
       "\n",
       "    .dataframe tbody tr th {\n",
       "        vertical-align: top;\n",
       "    }\n",
       "\n",
       "    .dataframe thead th {\n",
       "        text-align: right;\n",
       "    }\n",
       "</style>\n",
       "<table border=\"1\" class=\"dataframe\">\n",
       "  <thead>\n",
       "    <tr style=\"text-align: right;\">\n",
       "      <th></th>\n",
       "      <th>age</th>\n",
       "      <th>sex</th>\n",
       "      <th>cp</th>\n",
       "      <th>trestbps</th>\n",
       "      <th>chol</th>\n",
       "      <th>fbs</th>\n",
       "      <th>restecg</th>\n",
       "      <th>thalach</th>\n",
       "      <th>exang</th>\n",
       "      <th>oldpeak</th>\n",
       "      <th>slope</th>\n",
       "      <th>ca</th>\n",
       "      <th>thal</th>\n",
       "      <th>target</th>\n",
       "    </tr>\n",
       "  </thead>\n",
       "  <tbody>\n",
       "    <tr>\n",
       "      <th>0</th>\n",
       "      <td>52</td>\n",
       "      <td>1</td>\n",
       "      <td>0</td>\n",
       "      <td>125</td>\n",
       "      <td>212</td>\n",
       "      <td>0</td>\n",
       "      <td>1</td>\n",
       "      <td>168</td>\n",
       "      <td>0</td>\n",
       "      <td>1.0</td>\n",
       "      <td>2</td>\n",
       "      <td>2</td>\n",
       "      <td>3</td>\n",
       "      <td>0</td>\n",
       "    </tr>\n",
       "    <tr>\n",
       "      <th>1</th>\n",
       "      <td>53</td>\n",
       "      <td>1</td>\n",
       "      <td>0</td>\n",
       "      <td>140</td>\n",
       "      <td>203</td>\n",
       "      <td>1</td>\n",
       "      <td>0</td>\n",
       "      <td>155</td>\n",
       "      <td>1</td>\n",
       "      <td>3.1</td>\n",
       "      <td>0</td>\n",
       "      <td>0</td>\n",
       "      <td>3</td>\n",
       "      <td>0</td>\n",
       "    </tr>\n",
       "    <tr>\n",
       "      <th>2</th>\n",
       "      <td>70</td>\n",
       "      <td>1</td>\n",
       "      <td>0</td>\n",
       "      <td>145</td>\n",
       "      <td>174</td>\n",
       "      <td>0</td>\n",
       "      <td>1</td>\n",
       "      <td>125</td>\n",
       "      <td>1</td>\n",
       "      <td>2.6</td>\n",
       "      <td>0</td>\n",
       "      <td>0</td>\n",
       "      <td>3</td>\n",
       "      <td>0</td>\n",
       "    </tr>\n",
       "    <tr>\n",
       "      <th>3</th>\n",
       "      <td>61</td>\n",
       "      <td>1</td>\n",
       "      <td>0</td>\n",
       "      <td>148</td>\n",
       "      <td>203</td>\n",
       "      <td>0</td>\n",
       "      <td>1</td>\n",
       "      <td>161</td>\n",
       "      <td>0</td>\n",
       "      <td>0.0</td>\n",
       "      <td>2</td>\n",
       "      <td>1</td>\n",
       "      <td>3</td>\n",
       "      <td>0</td>\n",
       "    </tr>\n",
       "    <tr>\n",
       "      <th>4</th>\n",
       "      <td>62</td>\n",
       "      <td>0</td>\n",
       "      <td>0</td>\n",
       "      <td>138</td>\n",
       "      <td>294</td>\n",
       "      <td>1</td>\n",
       "      <td>1</td>\n",
       "      <td>106</td>\n",
       "      <td>0</td>\n",
       "      <td>1.9</td>\n",
       "      <td>1</td>\n",
       "      <td>3</td>\n",
       "      <td>2</td>\n",
       "      <td>0</td>\n",
       "    </tr>\n",
       "  </tbody>\n",
       "</table>\n",
       "</div>"
      ],
      "text/plain": [
       "   age  sex  cp  trestbps  chol  fbs  restecg  thalach  exang  oldpeak  slope  \\\n",
       "0   52    1   0       125   212    0        1      168      0      1.0      2   \n",
       "1   53    1   0       140   203    1        0      155      1      3.1      0   \n",
       "2   70    1   0       145   174    0        1      125      1      2.6      0   \n",
       "3   61    1   0       148   203    0        1      161      0      0.0      2   \n",
       "4   62    0   0       138   294    1        1      106      0      1.9      1   \n",
       "\n",
       "   ca  thal  target  \n",
       "0   2     3       0  \n",
       "1   0     3       0  \n",
       "2   0     3       0  \n",
       "3   1     3       0  \n",
       "4   3     2       0  "
      ]
     },
     "execution_count": 13,
     "metadata": {},
     "output_type": "execute_result"
    }
   ],
   "source": [
    "dataframe.head()"
   ]
  },
  {
   "cell_type": "code",
   "execution_count": 14,
   "id": "6c606c50",
   "metadata": {},
   "outputs": [],
   "source": [
    "x = dataframe.drop('target', axis = 1)\n",
    "y = dataframe['target']"
   ]
  },
  {
   "cell_type": "markdown",
   "id": "55353764",
   "metadata": {},
   "source": [
    "# Splitting Dataset"
   ]
  },
  {
   "cell_type": "markdown",
   "id": "c87221b2",
   "metadata": {},
   "source": [
    "Dataset splitting is an important step in machine learning and data analysis. It involves dividing a dataset into two or more subsets to train and evaluate a model effectively. The most common type of dataset splitting is into training and testing subsets.\n",
    "\n",
    "Train-Test Split: This is the most basic type of split, where the dataset is divided into a training set and a testing set. The training set is used to train the machine learning model, while the testing set is used to evaluate its performance. The split is typically done using a fixed ratio, such as 80% for training and 20% for testing."
   ]
  },
  {
   "cell_type": "code",
   "execution_count": 15,
   "id": "3cdf3841",
   "metadata": {},
   "outputs": [],
   "source": [
    "from sklearn.model_selection import train_test_split"
   ]
  },
  {
   "cell_type": "code",
   "execution_count": 16,
   "id": "d719fd19",
   "metadata": {},
   "outputs": [],
   "source": [
    "x_train, x_test, y_train, y_test = train_test_split(\n",
    "    x, \n",
    "    y, \n",
    "    test_size = 0.2, \n",
    "    random_state = 42\n",
    ")"
   ]
  },
  {
   "cell_type": "code",
   "execution_count": 17,
   "id": "ae44f01c",
   "metadata": {},
   "outputs": [
    {
     "data": {
      "text/plain": [
       "((820, 13), (205, 13), (820,), (205,))"
      ]
     },
     "execution_count": 17,
     "metadata": {},
     "output_type": "execute_result"
    }
   ],
   "source": [
    "x_train.shape, x_test.shape, y_train.shape, y_test.shape"
   ]
  },
  {
   "cell_type": "markdown",
   "id": "fec7cce9",
   "metadata": {},
   "source": [
    "# Scaling "
   ]
  },
  {
   "cell_type": "markdown",
   "id": "36e5b9a5",
   "metadata": {},
   "source": [
    "Scaling is a preprocessing step in machine learning that involves transforming the features or variables of your dataset to a consistent scale. It is important because many machine learning algorithms are sensitive to the scale of the input features. Scaling helps ensure that all features have a similar range and distribution, which can improve the performance and convergence of the model.\n",
    "\n",
    "StandardScaler is a popular scaling technique used in machine learning to standardize features by removing the mean and scaling to unit variance. It is available in the scikit-learn library, which provides a wide range of machine learning tools and preprocessing functions."
   ]
  },
  {
   "cell_type": "code",
   "execution_count": 18,
   "id": "247eee7b",
   "metadata": {},
   "outputs": [],
   "source": [
    "from sklearn.preprocessing import StandardScaler"
   ]
  },
  {
   "cell_type": "code",
   "execution_count": 19,
   "id": "5a5736e4",
   "metadata": {},
   "outputs": [],
   "source": [
    "scaler = StandardScaler()"
   ]
  },
  {
   "cell_type": "code",
   "execution_count": 20,
   "id": "abef2ab7",
   "metadata": {},
   "outputs": [],
   "source": [
    "x_train = scaler.fit_transform(x_train)\n",
    "x_test = scaler.transform(x_test)"
   ]
  },
  {
   "cell_type": "code",
   "execution_count": 21,
   "id": "dc5fe0f6",
   "metadata": {},
   "outputs": [
    {
     "data": {
      "text/plain": [
       "array([[-0.58584022,  0.65465367,  1.008275  , ...,  1.00526437,\n",
       "         2.17169136, -0.54519316],\n",
       "       [ 1.05147737, -1.52752523, -0.91672034, ...,  1.00526437,\n",
       "        -0.7254674 , -0.54519316],\n",
       "       [-0.04006769, -1.52752523,  1.008275  , ...,  1.00526437,\n",
       "        -0.7254674 , -0.54519316],\n",
       "       ...,\n",
       "       [-0.36753121,  0.65465367, -0.91672034, ...,  1.00526437,\n",
       "        -0.7254674 ,  1.11057867],\n",
       "       [-1.24076726,  0.65465367, -0.91672034, ...,  1.00526437,\n",
       "        -0.7254674 ,  1.11057867],\n",
       "       [-0.2583767 ,  0.65465367, -0.91672034, ...,  1.00526437,\n",
       "         0.24025219, -0.54519316]])"
      ]
     },
     "execution_count": 21,
     "metadata": {},
     "output_type": "execute_result"
    }
   ],
   "source": [
    "x_train"
   ]
  },
  {
   "cell_type": "code",
   "execution_count": 22,
   "id": "6d6793a1",
   "metadata": {},
   "outputs": [
    {
     "data": {
      "text/plain": [
       "array([[ 0.83316836, -1.52752523, -0.91672034, ...,  1.00526437,\n",
       "        -0.7254674 , -0.54519316],\n",
       "       [-0.1492222 , -1.52752523,  1.008275  , ...,  1.00526437,\n",
       "        -0.7254674 , -3.85673683],\n",
       "       [ 0.06908682,  0.65465367, -0.91672034, ..., -0.64007851,\n",
       "         0.24025219,  1.11057867],\n",
       "       ...,\n",
       "       [-1.13161275,  0.65465367,  1.008275  , ...,  1.00526437,\n",
       "        -0.7254674 , -0.54519316],\n",
       "       [ 0.72401385,  0.65465367, -0.91672034, ...,  1.00526437,\n",
       "         0.24025219,  1.11057867],\n",
       "       [ 0.39655033,  0.65465367,  1.008275  , ..., -0.64007851,\n",
       "         0.24025219,  1.11057867]])"
      ]
     },
     "execution_count": 22,
     "metadata": {},
     "output_type": "execute_result"
    }
   ],
   "source": [
    "x_test"
   ]
  },
  {
   "cell_type": "code",
   "execution_count": 23,
   "id": "b87175d8",
   "metadata": {},
   "outputs": [
    {
     "data": {
      "text/plain": [
       "((820, 13), (205, 13))"
      ]
     },
     "execution_count": 23,
     "metadata": {},
     "output_type": "execute_result"
    }
   ],
   "source": [
    "x_train.shape, x_test.shape"
   ]
  },
  {
   "cell_type": "markdown",
   "id": "1fc75e3b",
   "metadata": {},
   "source": [
    "# Reshaping"
   ]
  },
  {
   "cell_type": "markdown",
   "id": "bf7708de",
   "metadata": {},
   "source": [
    "Reshaping to 1D refers to transforming multidimensional data, such as images, into a 1-dimensional vector representation. In the context of heart disease classification with CNNs, reshaping to 1D is typically performed on the input data to prepare it for feeding into the neural network model."
   ]
  },
  {
   "cell_type": "code",
   "execution_count": 24,
   "id": "fa72c3db",
   "metadata": {},
   "outputs": [],
   "source": [
    "x_train = x_train.reshape(820, 13, 1)\n",
    "x_test = x_test.reshape(205, 13, 1)"
   ]
  },
  {
   "cell_type": "code",
   "execution_count": 25,
   "id": "bac666bd",
   "metadata": {},
   "outputs": [
    {
     "data": {
      "text/plain": [
       "((820, 13, 1), (205, 13, 1))"
      ]
     },
     "execution_count": 25,
     "metadata": {},
     "output_type": "execute_result"
    }
   ],
   "source": [
    "x_train.shape, x_test.shape"
   ]
  },
  {
   "cell_type": "markdown",
   "id": "1c5a98aa",
   "metadata": {},
   "source": [
    "# Building Model"
   ]
  },
  {
   "cell_type": "markdown",
   "id": "662b82f6",
   "metadata": {},
   "source": [
    "Creating a deep learning model involves defining the architecture and structure of the neural network, specifying the layers, and configuring the parameters for training."
   ]
  },
  {
   "cell_type": "code",
   "execution_count": 26,
   "id": "3339e05f",
   "metadata": {},
   "outputs": [],
   "source": [
    "from tensorflow.keras.models import Sequential\n",
    "from tensorflow.keras.layers import Dense, Conv1D, BatchNormalization\n",
    "from tensorflow.keras.layers import Flatten, Dropout\n",
    "from tensorflow.keras.callbacks import EarlyStopping, ModelCheckpoint, ReduceLROnPlateau\n",
    "from tensorflow.keras.optimizers import Adam"
   ]
  },
  {
   "cell_type": "code",
   "execution_count": 27,
   "id": "144e3fb6",
   "metadata": {},
   "outputs": [],
   "source": [
    "model = Sequential()\n",
    "model.add(Conv1D(filters = 32, kernel_size = 2,activation = 'relu', input_shape = (13, 1)))\n",
    "model.add(BatchNormalization())\n",
    "model.add(Dropout(0.2))\n",
    "\n",
    "model.add(Conv1D(filters = 64,kernel_size = 2, activation = 'relu'))\n",
    "model.add(BatchNormalization())\n",
    "model.add(Dropout(0.4))\n",
    "\n",
    "model.add(Flatten())\n",
    "\n",
    "model.add(Dense(64, activation = 'relu'))\n",
    "model.add(Dense(1, activation = 'sigmoid'))"
   ]
  },
  {
   "cell_type": "code",
   "execution_count": 28,
   "id": "b3901440",
   "metadata": {},
   "outputs": [
    {
     "name": "stdout",
     "output_type": "stream",
     "text": [
      "Model: \"sequential\"\n",
      "_________________________________________________________________\n",
      " Layer (type)                Output Shape              Param #   \n",
      "=================================================================\n",
      " conv1d (Conv1D)             (None, 12, 32)            96        \n",
      "                                                                 \n",
      " batch_normalization (BatchN  (None, 12, 32)           128       \n",
      " ormalization)                                                   \n",
      "                                                                 \n",
      " dropout (Dropout)           (None, 12, 32)            0         \n",
      "                                                                 \n",
      " conv1d_1 (Conv1D)           (None, 11, 64)            4160      \n",
      "                                                                 \n",
      " batch_normalization_1 (Batc  (None, 11, 64)           256       \n",
      " hNormalization)                                                 \n",
      "                                                                 \n",
      " dropout_1 (Dropout)         (None, 11, 64)            0         \n",
      "                                                                 \n",
      " flatten (Flatten)           (None, 704)               0         \n",
      "                                                                 \n",
      " dense (Dense)               (None, 64)                45120     \n",
      "                                                                 \n",
      " dense_1 (Dense)             (None, 1)                 65        \n",
      "                                                                 \n",
      "=================================================================\n",
      "Total params: 49,825\n",
      "Trainable params: 49,633\n",
      "Non-trainable params: 192\n",
      "_________________________________________________________________\n"
     ]
    }
   ],
   "source": [
    "model.summary()"
   ]
  },
  {
   "cell_type": "markdown",
   "id": "180a75f4",
   "metadata": {},
   "source": [
    "A model checkpoint, in the context of machine learning, refers to a saved copy of a trained model at a specific point during the training process. It includes the model's architecture, weights, and optimizer state."
   ]
  },
  {
   "cell_type": "code",
   "execution_count": 29,
   "id": "cd3bae53",
   "metadata": {},
   "outputs": [],
   "source": [
    "checkpoint_path = \"heart_disease_classificaion\"\n",
    "checkpoint_callback = ModelCheckpoint(\n",
    "    checkpoint_path, \n",
    "    save_weights_only = True, \n",
    "    monitor = 'val_accuracy',\n",
    "    save_best_only = True\n",
    ")"
   ]
  },
  {
   "cell_type": "markdown",
   "id": "b9c90482",
   "metadata": {},
   "source": [
    "Early stopping is a technique used during the training of machine learning models to prevent overfitting and find the optimal point at which to stop training. It involves monitoring the performance of the model on a validation dataset and stopping the training process when the model's performance on the validation dataset starts to degrade."
   ]
  },
  {
   "cell_type": "code",
   "execution_count": 30,
   "id": "05904c25",
   "metadata": {},
   "outputs": [],
   "source": [
    "early_stop = EarlyStopping(\n",
    "    monitor = 'val_loss',\n",
    "    patience = 5,\n",
    "    restore_best_weights = True\n",
    ")"
   ]
  },
  {
   "cell_type": "markdown",
   "id": "5a54e201",
   "metadata": {},
   "source": [
    "ReduceLROnPlateau\" is a learning rate scheduling technique commonly used in the training of deep learning models. It stands for \"Reduce Learning Rate on Plateau\" and is used to dynamically adjust the learning rate during training to optimize model performance."
   ]
  },
  {
   "cell_type": "code",
   "execution_count": 31,
   "id": "f015f9c9",
   "metadata": {},
   "outputs": [],
   "source": [
    "reduce_lr = ReduceLROnPlateau(\n",
    "    monitor = 'val_loss',\n",
    "    factor = 0.2,\n",
    "    patience = 3,\n",
    "    min_le = 1e-10\n",
    ")"
   ]
  },
  {
   "cell_type": "code",
   "execution_count": 32,
   "id": "a0c216ef",
   "metadata": {},
   "outputs": [],
   "source": [
    "from tensorflow.keras.callbacks import TensorBoard\n",
    "import datetime\n",
    "\n",
    "def create_tensorboard_callback(log_dir, experiment_name):\n",
    "    log_dir = log_dir + \"/\" + experiment_name + \"/\" + datetime.datetime.now().strftime(\"%Y%m%d-%H%M%S\")\n",
    "    tensorboard_callback = TensorBoard(log_dir=log_dir)\n",
    "    print(f\"Saving TensorBoard log files to: {log_dir}\")\n",
    "    return tensorboard_callback"
   ]
  },
  {
   "cell_type": "markdown",
   "id": "cc20c38e",
   "metadata": {},
   "source": [
    "# Compiling Model"
   ]
  },
  {
   "cell_type": "markdown",
   "id": "b6861699",
   "metadata": {},
   "source": [
    "Compiling the model in deep learning involves configuring essential components that define how the model will be trained."
   ]
  },
  {
   "cell_type": "code",
   "execution_count": 33,
   "id": "3792479e",
   "metadata": {},
   "outputs": [],
   "source": [
    "model.compile(optimizer = Adam(0.0001), loss = 'binary_crossentropy', metrics = ['accuracy'])"
   ]
  },
  {
   "cell_type": "markdown",
   "id": "a1e335eb",
   "metadata": {},
   "source": [
    "# Training Model"
   ]
  },
  {
   "cell_type": "markdown",
   "id": "3719f620",
   "metadata": {},
   "source": [
    "Training the model in deep learning involves the process of iteratively updating the model's parameters (weights and biases) based on the provided training data to minimize the loss function and improve the model's performance."
   ]
  },
  {
   "cell_type": "code",
   "execution_count": 34,
   "id": "9da67979",
   "metadata": {
    "scrolled": false
   },
   "outputs": [
    {
     "name": "stdout",
     "output_type": "stream",
     "text": [
      "Saving TensorBoard log files to: training log/heart_disease_classification/20230606-180707\n",
      "Epoch 1/250\n",
      "26/26 [==============================] - 8s 76ms/step - loss: 0.7575 - accuracy: 0.6256 - val_loss: 0.6599 - val_accuracy: 0.6927 - lr: 1.0000e-04\n",
      "Epoch 2/250\n",
      "26/26 [==============================] - 1s 22ms/step - loss: 0.5408 - accuracy: 0.7232 - val_loss: 0.6212 - val_accuracy: 0.7463 - lr: 1.0000e-04\n",
      "Epoch 3/250\n",
      "26/26 [==============================] - 1s 37ms/step - loss: 0.4598 - accuracy: 0.8037 - val_loss: 0.5970 - val_accuracy: 0.7220 - lr: 1.0000e-04\n",
      "Epoch 4/250\n",
      "26/26 [==============================] - 1s 21ms/step - loss: 0.4289 - accuracy: 0.8146 - val_loss: 0.5750 - val_accuracy: 0.7220 - lr: 1.0000e-04\n",
      "Epoch 5/250\n",
      "26/26 [==============================] - 0s 19ms/step - loss: 0.4107 - accuracy: 0.8085 - val_loss: 0.5555 - val_accuracy: 0.7220 - lr: 1.0000e-04\n",
      "Epoch 6/250\n",
      "26/26 [==============================] - 1s 24ms/step - loss: 0.4067 - accuracy: 0.8171 - val_loss: 0.5395 - val_accuracy: 0.7122 - lr: 1.0000e-04\n",
      "Epoch 7/250\n",
      "26/26 [==============================] - 0s 19ms/step - loss: 0.3468 - accuracy: 0.8390 - val_loss: 0.5194 - val_accuracy: 0.7317 - lr: 1.0000e-04\n",
      "Epoch 8/250\n",
      "26/26 [==============================] - 1s 46ms/step - loss: 0.3745 - accuracy: 0.8390 - val_loss: 0.5023 - val_accuracy: 0.7415 - lr: 1.0000e-04\n",
      "Epoch 9/250\n",
      "26/26 [==============================] - 1s 24ms/step - loss: 0.3501 - accuracy: 0.8488 - val_loss: 0.4751 - val_accuracy: 0.7659 - lr: 1.0000e-04\n",
      "Epoch 10/250\n",
      "26/26 [==============================] - 1s 47ms/step - loss: 0.3450 - accuracy: 0.8549 - val_loss: 0.4482 - val_accuracy: 0.7707 - lr: 1.0000e-04\n",
      "Epoch 11/250\n",
      "26/26 [==============================] - 1s 42ms/step - loss: 0.3242 - accuracy: 0.8549 - val_loss: 0.4237 - val_accuracy: 0.7951 - lr: 1.0000e-04\n",
      "Epoch 12/250\n",
      "26/26 [==============================] - 1s 39ms/step - loss: 0.3403 - accuracy: 0.8585 - val_loss: 0.4035 - val_accuracy: 0.8244 - lr: 1.0000e-04\n",
      "Epoch 13/250\n",
      "26/26 [==============================] - 1s 22ms/step - loss: 0.3262 - accuracy: 0.8720 - val_loss: 0.3884 - val_accuracy: 0.8341 - lr: 1.0000e-04\n",
      "Epoch 14/250\n",
      "26/26 [==============================] - 1s 24ms/step - loss: 0.3270 - accuracy: 0.8695 - val_loss: 0.3753 - val_accuracy: 0.8439 - lr: 1.0000e-04\n",
      "Epoch 15/250\n",
      "26/26 [==============================] - 1s 31ms/step - loss: 0.3005 - accuracy: 0.8683 - val_loss: 0.3628 - val_accuracy: 0.8634 - lr: 1.0000e-04\n",
      "Epoch 16/250\n",
      "26/26 [==============================] - 1s 22ms/step - loss: 0.2903 - accuracy: 0.8671 - val_loss: 0.3551 - val_accuracy: 0.8585 - lr: 1.0000e-04\n",
      "Epoch 17/250\n",
      "26/26 [==============================] - 0s 17ms/step - loss: 0.3140 - accuracy: 0.8683 - val_loss: 0.3489 - val_accuracy: 0.8634 - lr: 1.0000e-04\n",
      "Epoch 18/250\n",
      "26/26 [==============================] - 1s 24ms/step - loss: 0.3079 - accuracy: 0.8622 - val_loss: 0.3375 - val_accuracy: 0.8585 - lr: 1.0000e-04\n",
      "Epoch 19/250\n",
      "26/26 [==============================] - 1s 35ms/step - loss: 0.2808 - accuracy: 0.8732 - val_loss: 0.3318 - val_accuracy: 0.8634 - lr: 1.0000e-04\n",
      "Epoch 20/250\n",
      "26/26 [==============================] - 1s 44ms/step - loss: 0.2516 - accuracy: 0.8951 - val_loss: 0.3285 - val_accuracy: 0.8537 - lr: 1.0000e-04\n",
      "Epoch 21/250\n",
      "26/26 [==============================] - 1s 25ms/step - loss: 0.2765 - accuracy: 0.8841 - val_loss: 0.3229 - val_accuracy: 0.8585 - lr: 1.0000e-04\n",
      "Epoch 22/250\n",
      "26/26 [==============================] - 1s 23ms/step - loss: 0.2559 - accuracy: 0.8988 - val_loss: 0.3194 - val_accuracy: 0.8585 - lr: 1.0000e-04\n",
      "Epoch 23/250\n",
      "26/26 [==============================] - 1s 19ms/step - loss: 0.2536 - accuracy: 0.9012 - val_loss: 0.3145 - val_accuracy: 0.8537 - lr: 1.0000e-04\n",
      "Epoch 24/250\n",
      "26/26 [==============================] - 1s 28ms/step - loss: 0.2800 - accuracy: 0.8927 - val_loss: 0.3092 - val_accuracy: 0.8683 - lr: 1.0000e-04\n",
      "Epoch 25/250\n",
      "26/26 [==============================] - 1s 26ms/step - loss: 0.2743 - accuracy: 0.8817 - val_loss: 0.3036 - val_accuracy: 0.8683 - lr: 1.0000e-04\n",
      "Epoch 26/250\n",
      "26/26 [==============================] - 1s 40ms/step - loss: 0.2730 - accuracy: 0.8951 - val_loss: 0.3012 - val_accuracy: 0.8780 - lr: 1.0000e-04\n",
      "Epoch 27/250\n",
      "26/26 [==============================] - 1s 31ms/step - loss: 0.2426 - accuracy: 0.9049 - val_loss: 0.2990 - val_accuracy: 0.8732 - lr: 1.0000e-04\n",
      "Epoch 28/250\n",
      "26/26 [==============================] - 1s 44ms/step - loss: 0.2464 - accuracy: 0.9012 - val_loss: 0.2933 - val_accuracy: 0.8732 - lr: 1.0000e-04\n",
      "Epoch 29/250\n",
      "26/26 [==============================] - 1s 22ms/step - loss: 0.2624 - accuracy: 0.8890 - val_loss: 0.2902 - val_accuracy: 0.8683 - lr: 1.0000e-04\n",
      "Epoch 30/250\n",
      "26/26 [==============================] - 0s 18ms/step - loss: 0.2377 - accuracy: 0.9049 - val_loss: 0.2829 - val_accuracy: 0.8780 - lr: 1.0000e-04\n",
      "Epoch 31/250\n",
      "26/26 [==============================] - 1s 25ms/step - loss: 0.2495 - accuracy: 0.9000 - val_loss: 0.2776 - val_accuracy: 0.8878 - lr: 1.0000e-04\n",
      "Epoch 32/250\n",
      "26/26 [==============================] - 0s 17ms/step - loss: 0.2291 - accuracy: 0.9268 - val_loss: 0.2718 - val_accuracy: 0.8878 - lr: 1.0000e-04\n",
      "Epoch 33/250\n",
      "26/26 [==============================] - 1s 26ms/step - loss: 0.2265 - accuracy: 0.9085 - val_loss: 0.2696 - val_accuracy: 0.8683 - lr: 1.0000e-04\n",
      "Epoch 34/250\n",
      "26/26 [==============================] - 0s 16ms/step - loss: 0.2251 - accuracy: 0.9134 - val_loss: 0.2666 - val_accuracy: 0.8829 - lr: 1.0000e-04\n",
      "Epoch 35/250\n",
      "26/26 [==============================] - 0s 16ms/step - loss: 0.2380 - accuracy: 0.9049 - val_loss: 0.2658 - val_accuracy: 0.8780 - lr: 1.0000e-04\n",
      "Epoch 36/250\n",
      "26/26 [==============================] - 0s 18ms/step - loss: 0.2228 - accuracy: 0.9098 - val_loss: 0.2641 - val_accuracy: 0.8780 - lr: 1.0000e-04\n",
      "Epoch 37/250\n",
      "26/26 [==============================] - 1s 21ms/step - loss: 0.2079 - accuracy: 0.9171 - val_loss: 0.2605 - val_accuracy: 0.8683 - lr: 1.0000e-04\n",
      "Epoch 38/250\n",
      "26/26 [==============================] - 1s 28ms/step - loss: 0.2329 - accuracy: 0.8927 - val_loss: 0.2579 - val_accuracy: 0.8683 - lr: 1.0000e-04\n",
      "Epoch 39/250\n",
      "26/26 [==============================] - 0s 18ms/step - loss: 0.2318 - accuracy: 0.8976 - val_loss: 0.2519 - val_accuracy: 0.8732 - lr: 1.0000e-04\n",
      "Epoch 40/250\n",
      "26/26 [==============================] - 0s 17ms/step - loss: 0.2110 - accuracy: 0.9134 - val_loss: 0.2475 - val_accuracy: 0.8878 - lr: 1.0000e-04\n",
      "Epoch 41/250\n",
      "26/26 [==============================] - 0s 17ms/step - loss: 0.2012 - accuracy: 0.9049 - val_loss: 0.2449 - val_accuracy: 0.8878 - lr: 1.0000e-04\n",
      "Epoch 42/250\n",
      "26/26 [==============================] - 2s 70ms/step - loss: 0.2162 - accuracy: 0.9024 - val_loss: 0.2419 - val_accuracy: 0.8927 - lr: 1.0000e-04\n",
      "Epoch 43/250\n",
      "26/26 [==============================] - 3s 135ms/step - loss: 0.1995 - accuracy: 0.9220 - val_loss: 0.2383 - val_accuracy: 0.8927 - lr: 1.0000e-04\n",
      "Epoch 44/250\n",
      "26/26 [==============================] - 4s 153ms/step - loss: 0.1963 - accuracy: 0.9232 - val_loss: 0.2366 - val_accuracy: 0.8927 - lr: 1.0000e-04\n",
      "Epoch 45/250\n",
      "26/26 [==============================] - 1s 32ms/step - loss: 0.2017 - accuracy: 0.9220 - val_loss: 0.2324 - val_accuracy: 0.8878 - lr: 1.0000e-04\n",
      "Epoch 46/250\n",
      "26/26 [==============================] - 1s 38ms/step - loss: 0.1956 - accuracy: 0.9244 - val_loss: 0.2292 - val_accuracy: 0.8829 - lr: 1.0000e-04\n",
      "Epoch 47/250\n",
      "26/26 [==============================] - 1s 30ms/step - loss: 0.1943 - accuracy: 0.9220 - val_loss: 0.2276 - val_accuracy: 0.8829 - lr: 1.0000e-04\n",
      "Epoch 48/250\n",
      "26/26 [==============================] - 1s 22ms/step - loss: 0.2056 - accuracy: 0.9220 - val_loss: 0.2246 - val_accuracy: 0.8829 - lr: 1.0000e-04\n",
      "Epoch 49/250\n",
      "26/26 [==============================] - 3s 121ms/step - loss: 0.1928 - accuracy: 0.9256 - val_loss: 0.2204 - val_accuracy: 0.8829 - lr: 1.0000e-04\n",
      "Epoch 50/250\n",
      "26/26 [==============================] - 2s 72ms/step - loss: 0.1772 - accuracy: 0.9366 - val_loss: 0.2182 - val_accuracy: 0.8976 - lr: 1.0000e-04\n",
      "Epoch 51/250\n",
      "26/26 [==============================] - 5s 185ms/step - loss: 0.1839 - accuracy: 0.9268 - val_loss: 0.2152 - val_accuracy: 0.8976 - lr: 1.0000e-04\n"
     ]
    },
    {
     "name": "stdout",
     "output_type": "stream",
     "text": [
      "Epoch 52/250\n",
      "26/26 [==============================] - 3s 104ms/step - loss: 0.1821 - accuracy: 0.9329 - val_loss: 0.2128 - val_accuracy: 0.8976 - lr: 1.0000e-04\n",
      "Epoch 53/250\n",
      "26/26 [==============================] - 1s 25ms/step - loss: 0.1754 - accuracy: 0.9317 - val_loss: 0.2124 - val_accuracy: 0.8878 - lr: 1.0000e-04\n",
      "Epoch 54/250\n",
      "26/26 [==============================] - 1s 22ms/step - loss: 0.1826 - accuracy: 0.9354 - val_loss: 0.2107 - val_accuracy: 0.8878 - lr: 1.0000e-04\n",
      "Epoch 55/250\n",
      "26/26 [==============================] - 0s 17ms/step - loss: 0.1686 - accuracy: 0.9366 - val_loss: 0.2089 - val_accuracy: 0.8829 - lr: 1.0000e-04\n",
      "Epoch 56/250\n",
      "26/26 [==============================] - 0s 16ms/step - loss: 0.1642 - accuracy: 0.9463 - val_loss: 0.2060 - val_accuracy: 0.8878 - lr: 1.0000e-04\n",
      "Epoch 57/250\n",
      "26/26 [==============================] - 0s 14ms/step - loss: 0.1826 - accuracy: 0.9268 - val_loss: 0.2010 - val_accuracy: 0.8976 - lr: 1.0000e-04\n",
      "Epoch 58/250\n",
      "26/26 [==============================] - 0s 15ms/step - loss: 0.1663 - accuracy: 0.9366 - val_loss: 0.2007 - val_accuracy: 0.8878 - lr: 1.0000e-04\n",
      "Epoch 59/250\n",
      "26/26 [==============================] - 0s 17ms/step - loss: 0.1665 - accuracy: 0.9317 - val_loss: 0.1985 - val_accuracy: 0.8927 - lr: 1.0000e-04\n",
      "Epoch 60/250\n",
      "26/26 [==============================] - 0s 15ms/step - loss: 0.1864 - accuracy: 0.9220 - val_loss: 0.1963 - val_accuracy: 0.8829 - lr: 1.0000e-04\n",
      "Epoch 61/250\n",
      "26/26 [==============================] - 1s 20ms/step - loss: 0.1709 - accuracy: 0.9317 - val_loss: 0.1899 - val_accuracy: 0.9122 - lr: 1.0000e-04\n",
      "Epoch 62/250\n",
      "26/26 [==============================] - 1s 22ms/step - loss: 0.1654 - accuracy: 0.9354 - val_loss: 0.1898 - val_accuracy: 0.9024 - lr: 1.0000e-04\n",
      "Epoch 63/250\n",
      "26/26 [==============================] - 0s 18ms/step - loss: 0.1567 - accuracy: 0.9329 - val_loss: 0.1873 - val_accuracy: 0.9122 - lr: 1.0000e-04\n",
      "Epoch 64/250\n",
      "26/26 [==============================] - 0s 15ms/step - loss: 0.1587 - accuracy: 0.9354 - val_loss: 0.1866 - val_accuracy: 0.9122 - lr: 1.0000e-04\n",
      "Epoch 65/250\n",
      "26/26 [==============================] - 0s 15ms/step - loss: 0.1468 - accuracy: 0.9500 - val_loss: 0.1864 - val_accuracy: 0.9122 - lr: 1.0000e-04\n",
      "Epoch 66/250\n",
      "26/26 [==============================] - 0s 15ms/step - loss: 0.1565 - accuracy: 0.9329 - val_loss: 0.1831 - val_accuracy: 0.9122 - lr: 1.0000e-04\n",
      "Epoch 67/250\n",
      "26/26 [==============================] - 0s 15ms/step - loss: 0.1615 - accuracy: 0.9390 - val_loss: 0.1789 - val_accuracy: 0.9122 - lr: 1.0000e-04\n",
      "Epoch 68/250\n",
      "26/26 [==============================] - 1s 21ms/step - loss: 0.1546 - accuracy: 0.9354 - val_loss: 0.1766 - val_accuracy: 0.9268 - lr: 1.0000e-04\n",
      "Epoch 69/250\n",
      "26/26 [==============================] - 1s 33ms/step - loss: 0.1352 - accuracy: 0.9427 - val_loss: 0.1758 - val_accuracy: 0.9366 - lr: 1.0000e-04\n",
      "Epoch 70/250\n",
      "26/26 [==============================] - 0s 18ms/step - loss: 0.1401 - accuracy: 0.9451 - val_loss: 0.1749 - val_accuracy: 0.9220 - lr: 1.0000e-04\n",
      "Epoch 71/250\n",
      "26/26 [==============================] - 1s 20ms/step - loss: 0.1260 - accuracy: 0.9634 - val_loss: 0.1745 - val_accuracy: 0.9415 - lr: 1.0000e-04\n",
      "Epoch 72/250\n",
      "26/26 [==============================] - 0s 17ms/step - loss: 0.1471 - accuracy: 0.9366 - val_loss: 0.1734 - val_accuracy: 0.9415 - lr: 1.0000e-04\n",
      "Epoch 73/250\n",
      "26/26 [==============================] - 1s 22ms/step - loss: 0.1349 - accuracy: 0.9524 - val_loss: 0.1705 - val_accuracy: 0.9317 - lr: 1.0000e-04\n",
      "Epoch 74/250\n",
      "26/26 [==============================] - 1s 29ms/step - loss: 0.1382 - accuracy: 0.9439 - val_loss: 0.1701 - val_accuracy: 0.9317 - lr: 1.0000e-04\n",
      "Epoch 75/250\n",
      "26/26 [==============================] - 1s 21ms/step - loss: 0.1496 - accuracy: 0.9366 - val_loss: 0.1697 - val_accuracy: 0.9463 - lr: 1.0000e-04\n",
      "Epoch 76/250\n",
      "26/26 [==============================] - 0s 17ms/step - loss: 0.1419 - accuracy: 0.9463 - val_loss: 0.1676 - val_accuracy: 0.9463 - lr: 1.0000e-04\n",
      "Epoch 77/250\n",
      "26/26 [==============================] - 0s 18ms/step - loss: 0.1423 - accuracy: 0.9500 - val_loss: 0.1659 - val_accuracy: 0.9415 - lr: 1.0000e-04\n",
      "Epoch 78/250\n",
      "26/26 [==============================] - 1s 36ms/step - loss: 0.1438 - accuracy: 0.9476 - val_loss: 0.1661 - val_accuracy: 0.9463 - lr: 1.0000e-04\n",
      "Epoch 79/250\n",
      "26/26 [==============================] - 0s 16ms/step - loss: 0.1366 - accuracy: 0.9476 - val_loss: 0.1645 - val_accuracy: 0.9463 - lr: 1.0000e-04\n",
      "Epoch 80/250\n",
      "26/26 [==============================] - 0s 16ms/step - loss: 0.1406 - accuracy: 0.9476 - val_loss: 0.1655 - val_accuracy: 0.9415 - lr: 1.0000e-04\n",
      "Epoch 81/250\n",
      "26/26 [==============================] - 0s 17ms/step - loss: 0.1316 - accuracy: 0.9476 - val_loss: 0.1624 - val_accuracy: 0.9463 - lr: 1.0000e-04\n",
      "Epoch 82/250\n",
      "26/26 [==============================] - 0s 16ms/step - loss: 0.1375 - accuracy: 0.9402 - val_loss: 0.1609 - val_accuracy: 0.9463 - lr: 1.0000e-04\n",
      "Epoch 83/250\n",
      "26/26 [==============================] - 0s 15ms/step - loss: 0.1150 - accuracy: 0.9622 - val_loss: 0.1608 - val_accuracy: 0.9463 - lr: 1.0000e-04\n",
      "Epoch 84/250\n",
      "26/26 [==============================] - 1s 28ms/step - loss: 0.1228 - accuracy: 0.9512 - val_loss: 0.1589 - val_accuracy: 0.9561 - lr: 1.0000e-04\n",
      "Epoch 85/250\n",
      "26/26 [==============================] - 0s 14ms/step - loss: 0.1235 - accuracy: 0.9512 - val_loss: 0.1571 - val_accuracy: 0.9512 - lr: 1.0000e-04\n",
      "Epoch 86/250\n",
      "26/26 [==============================] - 0s 15ms/step - loss: 0.1260 - accuracy: 0.9524 - val_loss: 0.1576 - val_accuracy: 0.9561 - lr: 1.0000e-04\n",
      "Epoch 87/250\n",
      "26/26 [==============================] - 0s 18ms/step - loss: 0.1112 - accuracy: 0.9610 - val_loss: 0.1563 - val_accuracy: 0.9512 - lr: 1.0000e-04\n",
      "Epoch 88/250\n",
      "26/26 [==============================] - 1s 23ms/step - loss: 0.1126 - accuracy: 0.9646 - val_loss: 0.1536 - val_accuracy: 0.9561 - lr: 1.0000e-04\n",
      "Epoch 89/250\n",
      "26/26 [==============================] - 0s 15ms/step - loss: 0.1458 - accuracy: 0.9378 - val_loss: 0.1493 - val_accuracy: 0.9561 - lr: 1.0000e-04\n",
      "Epoch 90/250\n",
      "26/26 [==============================] - 0s 15ms/step - loss: 0.1144 - accuracy: 0.9512 - val_loss: 0.1489 - val_accuracy: 0.9561 - lr: 1.0000e-04\n",
      "Epoch 91/250\n",
      "26/26 [==============================] - 0s 14ms/step - loss: 0.1142 - accuracy: 0.9573 - val_loss: 0.1467 - val_accuracy: 0.9561 - lr: 1.0000e-04\n",
      "Epoch 92/250\n",
      "26/26 [==============================] - 0s 15ms/step - loss: 0.1230 - accuracy: 0.9537 - val_loss: 0.1469 - val_accuracy: 0.9561 - lr: 1.0000e-04\n",
      "Epoch 93/250\n",
      "26/26 [==============================] - 0s 15ms/step - loss: 0.1185 - accuracy: 0.9659 - val_loss: 0.1459 - val_accuracy: 0.9561 - lr: 1.0000e-04\n",
      "Epoch 94/250\n",
      "26/26 [==============================] - 1s 23ms/step - loss: 0.1186 - accuracy: 0.9561 - val_loss: 0.1449 - val_accuracy: 0.9561 - lr: 1.0000e-04\n",
      "Epoch 95/250\n",
      "26/26 [==============================] - 0s 14ms/step - loss: 0.1252 - accuracy: 0.9524 - val_loss: 0.1431 - val_accuracy: 0.9561 - lr: 1.0000e-04\n",
      "Epoch 96/250\n",
      "26/26 [==============================] - 0s 15ms/step - loss: 0.1074 - accuracy: 0.9634 - val_loss: 0.1460 - val_accuracy: 0.9512 - lr: 1.0000e-04\n",
      "Epoch 97/250\n",
      "26/26 [==============================] - 0s 15ms/step - loss: 0.1184 - accuracy: 0.9524 - val_loss: 0.1376 - val_accuracy: 0.9561 - lr: 1.0000e-04\n",
      "Epoch 98/250\n",
      "26/26 [==============================] - 0s 16ms/step - loss: 0.1124 - accuracy: 0.9573 - val_loss: 0.1363 - val_accuracy: 0.9561 - lr: 1.0000e-04\n",
      "Epoch 99/250\n",
      "26/26 [==============================] - 1s 23ms/step - loss: 0.1013 - accuracy: 0.9634 - val_loss: 0.1370 - val_accuracy: 0.9561 - lr: 1.0000e-04\n",
      "Epoch 100/250\n",
      "26/26 [==============================] - 1s 21ms/step - loss: 0.1107 - accuracy: 0.9524 - val_loss: 0.1384 - val_accuracy: 0.9610 - lr: 1.0000e-04\n",
      "Epoch 101/250\n",
      "26/26 [==============================] - 0s 16ms/step - loss: 0.1100 - accuracy: 0.9671 - val_loss: 0.1382 - val_accuracy: 0.9561 - lr: 1.0000e-04\n",
      "Epoch 102/250\n",
      "26/26 [==============================] - 1s 26ms/step - loss: 0.1106 - accuracy: 0.9659 - val_loss: 0.1389 - val_accuracy: 0.9561 - lr: 2.0000e-05\n",
      "Epoch 103/250\n"
     ]
    },
    {
     "name": "stdout",
     "output_type": "stream",
     "text": [
      "26/26 [==============================] - 1s 23ms/step - loss: 0.0968 - accuracy: 0.9720 - val_loss: 0.1391 - val_accuracy: 0.9512 - lr: 2.0000e-05\n"
     ]
    },
    {
     "data": {
      "text/plain": [
       "<keras.callbacks.History at 0x1d226d738e0>"
      ]
     },
     "execution_count": 34,
     "metadata": {},
     "output_type": "execute_result"
    }
   ],
   "source": [
    "model.fit(\n",
    "    x_train, y_train,\n",
    "    validation_data = (x_test, y_test),\n",
    "    epochs = 250, \n",
    "    callbacks = [early_stop, \n",
    "                 create_tensorboard_callback(\"training log\",\n",
    "                                            \"heart_disease_classification\"),\n",
    "                 checkpoint_callback, \n",
    "                 reduce_lr]\n",
    ")"
   ]
  },
  {
   "cell_type": "code",
   "execution_count": 35,
   "id": "5d9a8f46",
   "metadata": {},
   "outputs": [],
   "source": [
    "model.save('model_heart_disease_classification.h5')"
   ]
  },
  {
   "cell_type": "markdown",
   "id": "cc5eae51",
   "metadata": {},
   "source": [
    "# Learning Curve"
   ]
  },
  {
   "cell_type": "markdown",
   "id": "7d929c5a",
   "metadata": {},
   "source": [
    "The learning curve is a plot that shows how the loss and accuracy of a model change during training. It provides insights into how well the model is learning from the training data and how it generalizes to unseen data. The learning curve typically shows the training and validation loss/accuracy on the y-axis and the number of epochs on the x-axis. By analyzing the learning curve, you can identify if the model is overfitting (high training loss, low validation loss) or underfitting (high training and validation loss). It is a useful tool for monitoring and evaluating the performance of machine learning models."
   ]
  },
  {
   "cell_type": "code",
   "execution_count": 36,
   "id": "b4950e9e",
   "metadata": {},
   "outputs": [],
   "source": [
    "loss = pd.DataFrame(model.history.history)"
   ]
  },
  {
   "cell_type": "code",
   "execution_count": 37,
   "id": "da89d960",
   "metadata": {},
   "outputs": [
    {
     "data": {
      "text/html": [
       "<div>\n",
       "<style scoped>\n",
       "    .dataframe tbody tr th:only-of-type {\n",
       "        vertical-align: middle;\n",
       "    }\n",
       "\n",
       "    .dataframe tbody tr th {\n",
       "        vertical-align: top;\n",
       "    }\n",
       "\n",
       "    .dataframe thead th {\n",
       "        text-align: right;\n",
       "    }\n",
       "</style>\n",
       "<table border=\"1\" class=\"dataframe\">\n",
       "  <thead>\n",
       "    <tr style=\"text-align: right;\">\n",
       "      <th></th>\n",
       "      <th>loss</th>\n",
       "      <th>accuracy</th>\n",
       "      <th>val_loss</th>\n",
       "      <th>val_accuracy</th>\n",
       "      <th>lr</th>\n",
       "    </tr>\n",
       "  </thead>\n",
       "  <tbody>\n",
       "    <tr>\n",
       "      <th>0</th>\n",
       "      <td>0.757475</td>\n",
       "      <td>0.625610</td>\n",
       "      <td>0.659946</td>\n",
       "      <td>0.692683</td>\n",
       "      <td>0.0001</td>\n",
       "    </tr>\n",
       "    <tr>\n",
       "      <th>1</th>\n",
       "      <td>0.540822</td>\n",
       "      <td>0.723171</td>\n",
       "      <td>0.621182</td>\n",
       "      <td>0.746341</td>\n",
       "      <td>0.0001</td>\n",
       "    </tr>\n",
       "    <tr>\n",
       "      <th>2</th>\n",
       "      <td>0.459788</td>\n",
       "      <td>0.803659</td>\n",
       "      <td>0.597036</td>\n",
       "      <td>0.721951</td>\n",
       "      <td>0.0001</td>\n",
       "    </tr>\n",
       "    <tr>\n",
       "      <th>3</th>\n",
       "      <td>0.428870</td>\n",
       "      <td>0.814634</td>\n",
       "      <td>0.575027</td>\n",
       "      <td>0.721951</td>\n",
       "      <td>0.0001</td>\n",
       "    </tr>\n",
       "    <tr>\n",
       "      <th>4</th>\n",
       "      <td>0.410719</td>\n",
       "      <td>0.808537</td>\n",
       "      <td>0.555467</td>\n",
       "      <td>0.721951</td>\n",
       "      <td>0.0001</td>\n",
       "    </tr>\n",
       "  </tbody>\n",
       "</table>\n",
       "</div>"
      ],
      "text/plain": [
       "       loss  accuracy  val_loss  val_accuracy      lr\n",
       "0  0.757475  0.625610  0.659946      0.692683  0.0001\n",
       "1  0.540822  0.723171  0.621182      0.746341  0.0001\n",
       "2  0.459788  0.803659  0.597036      0.721951  0.0001\n",
       "3  0.428870  0.814634  0.575027      0.721951  0.0001\n",
       "4  0.410719  0.808537  0.555467      0.721951  0.0001"
      ]
     },
     "execution_count": 37,
     "metadata": {},
     "output_type": "execute_result"
    }
   ],
   "source": [
    "loss.head()"
   ]
  },
  {
   "cell_type": "code",
   "execution_count": 38,
   "id": "50718a7e",
   "metadata": {},
   "outputs": [
    {
     "data": {
      "text/plain": [
       "<AxesSubplot:>"
      ]
     },
     "execution_count": 38,
     "metadata": {},
     "output_type": "execute_result"
    },
    {
     "data": {
      "image/png": "[encoded data removed]",
      "text/plain": [
       "<Figure size 432x288 with 1 Axes>"
      ]
     },
     "metadata": {
      "needs_background": "light"
     },
     "output_type": "display_data"
    }
   ],
   "source": [
    "loss.plot()"
   ]
  },
  {
   "cell_type": "code",
   "execution_count": 39,
   "id": "a2c2ae13",
   "metadata": {},
   "outputs": [
    {
     "data": {
      "text/plain": [
       "<AxesSubplot:>"
      ]
     },
     "execution_count": 39,
     "metadata": {},
     "output_type": "execute_result"
    },
    {
     "data": {
      "image/png": "[encoded data removed]",
      "text/plain": [
       "<Figure size 432x288 with 1 Axes>"
      ]
     },
     "metadata": {
      "needs_background": "light"
     },
     "output_type": "display_data"
    }
   ],
   "source": [
    "loss[['loss', 'val_loss']].plot()"
   ]
  },
  {
   "cell_type": "code",
   "execution_count": 40,
   "id": "44f83aa6",
   "metadata": {},
   "outputs": [
    {
     "data": {
      "text/plain": [
       "<AxesSubplot:>"
      ]
     },
     "execution_count": 40,
     "metadata": {},
     "output_type": "execute_result"
    },
    {
     "data": {
      "image/png": "[encoded data removed]",
      "text/plain": [
       "<Figure size 432x288 with 1 Axes>"
      ]
     },
     "metadata": {
      "needs_background": "light"
     },
     "output_type": "display_data"
    }
   ],
   "source": [
    "loss[['accuracy', 'val_accuracy']].plot()"
   ]
  },
  {
   "cell_type": "markdown",
   "id": "89fe95cb",
   "metadata": {},
   "source": [
    "# Prediction "
   ]
  },
  {
   "cell_type": "code",
   "execution_count": 41,
   "id": "10043020",
   "metadata": {},
   "outputs": [
    {
     "name": "stdout",
     "output_type": "stream",
     "text": [
      "7/7 [==============================] - 0s 6ms/step\n"
     ]
    }
   ],
   "source": [
    "y_pred = model.predict(x_test)\n",
    "predict_class = y_pred.argmax(axis = 1)"
   ]
  },
  {
   "cell_type": "code",
   "execution_count": 42,
   "id": "c494786f",
   "metadata": {},
   "outputs": [
    {
     "name": "stdout",
     "output_type": "stream",
     "text": [
      "0\n",
      "0\n"
     ]
    },
    {
     "data": {
      "text/plain": [
       "(None, None)"
      ]
     },
     "execution_count": 42,
     "metadata": {},
     "output_type": "execute_result"
    }
   ],
   "source": [
    "print(y_test.iloc[4]), print(predict_class[4])"
   ]
  },
  {
   "cell_type": "markdown",
   "id": "66626007",
   "metadata": {},
   "source": [
    "# Error Analysis"
   ]
  },
  {
   "cell_type": "markdown",
   "id": "289492be",
   "metadata": {},
   "source": [
    "Error analysis is an important step in evaluating and improving the performance of a machine learning model. It involves analyzing the errors made by the model during prediction or classification tasks and gaining insights into the types of mistakes it is making. Error analysis can provide valuable information for model refinement and identifying areas for improvement"
   ]
  },
  {
   "cell_type": "markdown",
   "id": "0e390350",
   "metadata": {},
   "source": [
    "A confusion matrix is a tabular representation that visualizes the performance of a classification model by displaying the counts of true positive, true negative, false positive, and false negative predictions. It helps assess the effectiveness of the model's predictions and identify any patterns of misclassifications."
   ]
  },
  {
   "cell_type": "code",
   "execution_count": 43,
   "id": "4ed6a83e",
   "metadata": {},
   "outputs": [],
   "source": [
    "from sklearn.metrics import confusion_matrix"
   ]
  },
  {
   "cell_type": "code",
   "execution_count": 44,
   "id": "2d53327f",
   "metadata": {},
   "outputs": [],
   "source": [
    "confusion_matrix = confusion_matrix(y_test, predict_class)"
   ]
  },
  {
   "cell_type": "code",
   "execution_count": 45,
   "id": "92f281ca",
   "metadata": {},
   "outputs": [
    {
     "data": {
      "text/plain": [
       "array([[102,   0],\n",
       "       [103,   0]], dtype=int64)"
      ]
     },
     "execution_count": 45,
     "metadata": {},
     "output_type": "execute_result"
    }
   ],
   "source": [
    "confusion_matrix"
   ]
  }
 ],
 "metadata": {
  "kernelspec": {
   "display_name": "Python 3 (ipykernel)",
   "language": "python",
   "name": "python3"
  },
  "language_info": {
   "codemirror_mode": {
    "name": "ipython",
    "version": 3
   },
   "file_extension": ".py",
   "mimetype": "text/x-python",
   "name": "python",
   "nbconvert_exporter": "python",
   "pygments_lexer": "ipython3",
   "version": "3.10.9"
  }
 },
 "nbformat": 4,
 "nbformat_minor": 5
}
