{
 "cells": [
  {
   "cell_type": "markdown",
   "id": "48bfabba",
   "metadata": {},
   "source": [
    "# Activation Functions On Minst Dataset :"
   ]
  },
  {
   "cell_type": "markdown",
   "id": "6d008bbd",
   "metadata": {},
   "source": [
    "This project aims to investigate the impact of different activation functions on the performance of neural networks for the task of MNIST handwritten digit recognition. The MNIST dataset is a widely used benchmark in the field of computer vision and machine learning, making it an ideal candidate for studying the effects of activation functions on model accuracy and convergence."
   ]
  },
  {
   "cell_type": "markdown",
   "id": "7656f06d",
   "metadata": {},
   "source": [
    "### Importing Libraries :"
   ]
  },
  {
   "cell_type": "markdown",
   "id": "34f9ab77",
   "metadata": {},
   "source": [
    "NumPy: NumPy is package for scientific computing in Python. It provides support for large, multi-dimensional arrays and matrices, as well as a wide range of mathematical functions to operate on these arrays efficiently.It is widely used for tasks such as numerical computations, data manipulation, and linear algebra operations.\n",
    "\n",
    "pandas: pandas is a powerful data manipulation and analysis library for Python. It offers data structures like DataFrames and Series, which allow you to store, manipulate, and analyze tabular data easily. pandas provides tools for data cleaning, transformation, aggregation, and exploration, making it an essential library for working with structured data.\n",
    "\n",
    "Matplotlib: Matplotlib is a popular plotting library that enables you to create a wide range of static, animated, and interactive visualizations. It provides a MATLAB-like interface and supports various types of plots, including line plots, scatter plots, bar plots, histograms, and more. Matplotlib gives you extensive control over plot customization, including labels, colors, legends, and annotations, allowing you to effectively communicate insights from your data\n",
    "\n",
    "Seaborn: Seaborn is a statistical data visualization library built on top of Matplotlib. It offers a higher-level interface for creating informative and attractive statistical graphics. Seaborn simplifies the process of creating complex visualizations, such as heatmaps, violin plots, and pair plots, by providing high-level functions with sensible default settings."
   ]
  },
  {
   "cell_type": "code",
   "execution_count": 1,
   "id": "0dd50ec7",
   "metadata": {},
   "outputs": [],
   "source": [
    "import numpy as np\n",
    "import pandas as pd\n",
    "import seaborn as sns\n",
    "import matplotlib.pyplot as plt\n",
    "\n",
    "%matplotlib inline"
   ]
  },
  {
   "cell_type": "code",
   "execution_count": 2,
   "id": "a555b9e4",
   "metadata": {},
   "outputs": [],
   "source": [
    "import warnings\n",
    "warnings.filterwarnings('ignore')"
   ]
  },
  {
   "cell_type": "code",
   "execution_count": 3,
   "id": "dc6d70a4",
   "metadata": {},
   "outputs": [],
   "source": [
    "from tensorflow.keras.datasets import mnist\n",
    "from tensorflow.keras.models import Sequential\n",
    "from tensorflow.keras.layers import Dense, Dropout\n",
    "from tensorflow.keras.optimizers import RMSprop\n",
    "from tensorflow.keras.layers import LeakyReLU"
   ]
  },
  {
   "cell_type": "markdown",
   "id": "921a2f4d",
   "metadata": {},
   "source": [
    "### Splitting Dataset :"
   ]
  },
  {
   "cell_type": "markdown",
   "id": "54899d46",
   "metadata": {},
   "source": [
    "Splitting the data refers to dividing the dataset into separate subsets for training, validation, and testing purposes. This division is essential to assess the performance of a machine learning model on unseen data and prevent overfitting. Here are the common types of data splits:\n",
    "\n",
    "Train-Test Split: This is the most basic type of split, where the dataset is divided into a training set and a testing set. The training set is used to train the machine learning model, while the testing set is used to evaluate its performance. The split is typically done using a fixed ratio, such as 80% for training and 20% for testing."
   ]
  },
  {
   "cell_type": "code",
   "execution_count": 4,
   "id": "c0e56fe5",
   "metadata": {},
   "outputs": [],
   "source": [
    "(x_train, y_train), (x_test, y_test) = mnist.load_data()"
   ]
  },
  {
   "cell_type": "code",
   "execution_count": 5,
   "id": "95a6258f",
   "metadata": {},
   "outputs": [
    {
     "data": {
      "text/plain": [
       "((60000, 28, 28), (60000,), (10000, 28, 28), (10000,))"
      ]
     },
     "execution_count": 5,
     "metadata": {},
     "output_type": "execute_result"
    }
   ],
   "source": [
    "x_train.shape, y_train.shape, x_test.shape, y_test.shape"
   ]
  },
  {
   "cell_type": "markdown",
   "id": "868adc72",
   "metadata": {},
   "source": [
    "### Reshaping :"
   ]
  },
  {
   "cell_type": "markdown",
   "id": "759ceef4",
   "metadata": {},
   "source": [
    "Reshaping in the context of the MNIST dataset involves transforming the 2D grid of image pixels into a format suitable for machine learning. This can include flattening the image into a 1D array or maintaining the 2D structure, depending on the algorithm's requirements."
   ]
  },
  {
   "cell_type": "code",
   "execution_count": 6,
   "id": "ea53b9f3",
   "metadata": {},
   "outputs": [],
   "source": [
    "x_train = x_train.reshape(60000, 784)\n",
    "x_test = x_test.reshape(10000, 784)"
   ]
  },
  {
   "cell_type": "code",
   "execution_count": 7,
   "id": "6afed359",
   "metadata": {},
   "outputs": [
    {
     "data": {
      "text/plain": [
       "((60000, 784), (10000, 784))"
      ]
     },
     "execution_count": 7,
     "metadata": {},
     "output_type": "execute_result"
    }
   ],
   "source": [
    "x_train.shape, x_test.shape"
   ]
  },
  {
   "cell_type": "code",
   "execution_count": 8,
   "id": "acf4b63d",
   "metadata": {},
   "outputs": [],
   "source": [
    "x_train = x_train.astype('float32')\n",
    "x_test = x_test.astype('float32')"
   ]
  },
  {
   "cell_type": "code",
   "execution_count": 9,
   "id": "8cab9273",
   "metadata": {},
   "outputs": [
    {
     "data": {
      "text/plain": [
       "((60000, 784), (10000, 784))"
      ]
     },
     "execution_count": 9,
     "metadata": {},
     "output_type": "execute_result"
    }
   ],
   "source": [
    "x_train.shape, x_test.shape"
   ]
  },
  {
   "cell_type": "markdown",
   "id": "ba03c028",
   "metadata": {},
   "source": [
    "### Normalizing :"
   ]
  },
  {
   "cell_type": "markdown",
   "id": "5a4c1886",
   "metadata": {},
   "source": [
    "Normalizing a dataset involves scaling the data values to a common range, often between 0 and 1. For the MNIST dataset, this means dividing each pixel value by 255 to transform it into the [0, 1] range. This ensures consistent and optimal data representation for machine learning algorithms."
   ]
  },
  {
   "cell_type": "code",
   "execution_count": 10,
   "id": "361d8189",
   "metadata": {},
   "outputs": [],
   "source": [
    "x_train = x_train / 255\n",
    "x_test = x_test / 255"
   ]
  },
  {
   "cell_type": "code",
   "execution_count": 11,
   "id": "913b239d",
   "metadata": {},
   "outputs": [
    {
     "data": {
      "text/plain": [
       "((60000, 784), (10000, 784))"
      ]
     },
     "execution_count": 11,
     "metadata": {},
     "output_type": "execute_result"
    }
   ],
   "source": [
    "x_train.shape, x_test.shape"
   ]
  },
  {
   "cell_type": "markdown",
   "id": "18f00968",
   "metadata": {},
   "source": [
    "### To Categorical : "
   ]
  },
  {
   "cell_type": "markdown",
   "id": "24846d3d",
   "metadata": {},
   "source": [
    "Converting labels to categorical means representing class labels as binary vectors, where each class is uniquely identified by a 'hot' (1) bit while the rest are 'cold' (0). This transformation is used for multi-class classification tasks like MNIST to make labels compatible with machine learning algorithms."
   ]
  },
  {
   "cell_type": "code",
   "execution_count": 12,
   "id": "b2a996a7",
   "metadata": {},
   "outputs": [],
   "source": [
    "num_classes = 10\n",
    "\n",
    "from tensorflow.keras.utils import to_categorical\n",
    "y_train = to_categorical(y_train, num_classes)\n",
    "y_test = to_categorical(y_test, num_classes)"
   ]
  },
  {
   "cell_type": "code",
   "execution_count": 13,
   "id": "5ce7f406",
   "metadata": {},
   "outputs": [
    {
     "data": {
      "text/plain": [
       "array([[0., 0., 0., ..., 0., 0., 0.],\n",
       "       [1., 0., 0., ..., 0., 0., 0.],\n",
       "       [0., 0., 0., ..., 0., 0., 0.],\n",
       "       ...,\n",
       "       [0., 0., 0., ..., 0., 0., 0.],\n",
       "       [0., 0., 0., ..., 0., 0., 0.],\n",
       "       [0., 0., 0., ..., 0., 1., 0.]], dtype=float32)"
      ]
     },
     "execution_count": 13,
     "metadata": {},
     "output_type": "execute_result"
    }
   ],
   "source": [
    "y_train"
   ]
  },
  {
   "cell_type": "code",
   "execution_count": 14,
   "id": "b0a30309",
   "metadata": {},
   "outputs": [
    {
     "data": {
      "text/plain": [
       "array([[0., 0., 0., ..., 1., 0., 0.],\n",
       "       [0., 0., 1., ..., 0., 0., 0.],\n",
       "       [0., 1., 0., ..., 0., 0., 0.],\n",
       "       ...,\n",
       "       [0., 0., 0., ..., 0., 0., 0.],\n",
       "       [0., 0., 0., ..., 0., 0., 0.],\n",
       "       [0., 0., 0., ..., 0., 0., 0.]], dtype=float32)"
      ]
     },
     "execution_count": 14,
     "metadata": {},
     "output_type": "execute_result"
    }
   ],
   "source": [
    "y_test"
   ]
  },
  {
   "cell_type": "markdown",
   "id": "0d636237",
   "metadata": {},
   "source": [
    "### Building Model : "
   ]
  },
  {
   "cell_type": "markdown",
   "id": "a79bee93",
   "metadata": {},
   "source": [
    "To build a model for the MNIST classification project, a Convolutional Neural Network (CNN) is crafted. This architecture involves stacking convolutional and pooling layers for feature extraction, followed by fully connected layers for classification. The model is compiled with an optimizer (e.g., Adam), categorical cross-entropy loss, and accuracy metric to guide training. This design enables the model to effectively learn and classify numbers from the dataset,"
   ]
  },
  {
   "cell_type": "code",
   "execution_count": 15,
   "id": "98497838",
   "metadata": {},
   "outputs": [],
   "source": [
    "model = Sequential()\n",
    "model.add(Dense(512, activation = 'relu', input_shape = (784,)))\n",
    "model.add(Dense(num_classes, activation = 'softmax'))"
   ]
  },
  {
   "cell_type": "code",
   "execution_count": 16,
   "id": "dc7f32f0",
   "metadata": {},
   "outputs": [
    {
     "name": "stdout",
     "output_type": "stream",
     "text": [
      "Model: \"sequential\"\n",
      "_________________________________________________________________\n",
      " Layer (type)                Output Shape              Param #   \n",
      "=================================================================\n",
      " dense (Dense)               (None, 512)               401920    \n",
      "                                                                 \n",
      " dense_1 (Dense)             (None, 10)                5130      \n",
      "                                                                 \n",
      "=================================================================\n",
      "Total params: 407,050\n",
      "Trainable params: 407,050\n",
      "Non-trainable params: 0\n",
      "_________________________________________________________________\n"
     ]
    }
   ],
   "source": [
    "model.summary()"
   ]
  },
  {
   "cell_type": "code",
   "execution_count": 17,
   "id": "6be9b6ca",
   "metadata": {},
   "outputs": [],
   "source": [
    "batch_size = 128                                                #initializing batch size\n",
    "epochs = 5                                                      #initialize epoches"
   ]
  },
  {
   "cell_type": "markdown",
   "id": "bf948c97",
   "metadata": {},
   "source": [
    "### Compiling Model :"
   ]
  },
  {
   "cell_type": "markdown",
   "id": "6635aa24",
   "metadata": {},
   "source": [
    "Compiling the model for the MNIST classification project entails configuring the model's learning process. This involves selecting a loss function to measure prediction accuracy, choosing an optimizer to update model parameters, and specifying evaluation metrics such as accuracy to monitor its performance. This setup readies the model for effective training, guiding its adjustments towards making accurate predictions on the MNIST dataset."
   ]
  },
  {
   "cell_type": "code",
   "execution_count": 18,
   "id": "bcecb8bb",
   "metadata": {},
   "outputs": [],
   "source": [
    "model.compile(loss='categorical_crossentropy', optimizer=RMSprop(), metrics=['accuracy'])"
   ]
  },
  {
   "cell_type": "markdown",
   "id": "c4090601",
   "metadata": {},
   "source": [
    "### Training Model :"
   ]
  },
  {
   "cell_type": "markdown",
   "id": "5137b90e",
   "metadata": {},
   "source": [
    "To train a model for the MNIST classification project, you load and preprocess the dataset, create a CNN model architecture, compile it with loss and optimizer, train the model using the training data while monitoring validation, and evaluate its accuracy on the test set."
   ]
  },
  {
   "cell_type": "code",
   "execution_count": 19,
   "id": "2d479f85",
   "metadata": {},
   "outputs": [
    {
     "name": "stdout",
     "output_type": "stream",
     "text": [
      "Epoch 1/5\n",
      "469/469 [==============================] - 12s 22ms/step - loss: 0.2575 - accuracy: 0.9250 - val_loss: 0.1211 - val_accuracy: 0.9643\n",
      "Epoch 2/5\n",
      "469/469 [==============================] - 8s 17ms/step - loss: 0.1039 - accuracy: 0.9686 - val_loss: 0.0899 - val_accuracy: 0.9735\n",
      "Epoch 3/5\n",
      "469/469 [==============================] - 8s 17ms/step - loss: 0.0690 - accuracy: 0.9794 - val_loss: 0.0816 - val_accuracy: 0.9747\n",
      "Epoch 4/5\n",
      "469/469 [==============================] - 7s 16ms/step - loss: 0.0503 - accuracy: 0.9845 - val_loss: 0.0654 - val_accuracy: 0.9807\n",
      "Epoch 5/5\n",
      "469/469 [==============================] - 8s 17ms/step - loss: 0.0386 - accuracy: 0.9885 - val_loss: 0.0644 - val_accuracy: 0.9809\n"
     ]
    }
   ],
   "source": [
    "history = model.fit(x_train, y_train,\n",
    "                    batch_size=batch_size,\n",
    "                    epochs=epochs,\n",
    "                    verbose=1,\n",
    "                    validation_data=(x_test, y_test))"
   ]
  },
  {
   "cell_type": "markdown",
   "id": "645b9889",
   "metadata": {},
   "source": [
    "### Loss Curve :"
   ]
  },
  {
   "cell_type": "markdown",
   "id": "df3926e7",
   "metadata": {},
   "source": [
    "A loss curve represents how a model's error changes during training. It helps monitor convergence and identify overfitting. For the Fashion MNIST project, design a CNN, compile it, train over epochs, and plot the training and validation loss."
   ]
  },
  {
   "cell_type": "code",
   "execution_count": 20,
   "id": "49c493f2",
   "metadata": {},
   "outputs": [
    {
     "data": {
      "text/plain": [
       "<matplotlib.legend.Legend at 0x16fd039e7a0>"
      ]
     },
     "execution_count": 20,
     "metadata": {},
     "output_type": "execute_result"
    },
    {
     "data": {
      "image/png": "[encoded data removed]",
      "text/plain": [
       "<Figure size 432x288 with 1 Axes>"
      ]
     },
     "metadata": {
      "needs_background": "light"
     },
     "output_type": "display_data"
    }
   ],
   "source": [
    "plt.plot(history.history['loss'])\n",
    "plt.plot(history.history['val_loss'])\n",
    "plt.title('model loss')\n",
    "plt.ylabel('loss')\n",
    "plt.xlabel('epoch')\n",
    "plt.legend(['train', 'test'], loc='upper left')"
   ]
  },
  {
   "cell_type": "markdown",
   "id": "6d6ec9b5",
   "metadata": {},
   "source": [
    "### Building Neural Network With All Activation Functions"
   ]
  },
  {
   "cell_type": "markdown",
   "id": "5c25cd87",
   "metadata": {},
   "source": [
    "### Activation Function : "
   ]
  },
  {
   "cell_type": "markdown",
   "id": "1b616ad4",
   "metadata": {},
   "source": [
    "Activation function is a function used in a neural network to decide whether a neuron should \"fire\" or not based on the inputs it receives. It adds non-linearity to the network, helping it learn complex patterns. This function transforms the output of a neuron into a more useful form for the next layer of neurons. It's like the on/off switch for a neuron, determining if it should be active or not based on the input data."
   ]
  },
  {
   "cell_type": "markdown",
   "id": "f8c4f5bc",
   "metadata": {},
   "source": [
    "### Sigmoid Activation Function :"
   ]
  },
  {
   "cell_type": "markdown",
   "id": "9d97242c",
   "metadata": {},
   "source": [
    "The sigmoid activation function is a smooth curve that takes an input and maps it to a value between 0 and 1. It's used to model probabilities, especially in binary classification tasks. However, its tendency to make gradients vanish for extreme inputs can hinder training in deep networks. As a result, it's less commonly used in modern networks compared to alternatives like ReLU."
   ]
  },
  {
   "cell_type": "markdown",
   "id": "11350c26",
   "metadata": {},
   "source": [
    "### Tanh Activation Function :"
   ]
  },
  {
   "cell_type": "markdown",
   "id": "63a8455a",
   "metadata": {},
   "source": [
    "The tanh (hyperbolic tangent) activation function is a smooth curve that transforms an input to an output between -1 and 1. It's similar to the sigmoid but with a zero-centered output range. While useful for specific cases like zero-centered data or certain network architectures, it still faces the issue of vanishing gradients in deep networks, which can impact training effectiveness."
   ]
  },
  {
   "cell_type": "markdown",
   "id": "80426b86",
   "metadata": {},
   "source": [
    "### ReLu Activation Function :"
   ]
  },
  {
   "cell_type": "markdown",
   "id": "d6cd14aa",
   "metadata": {},
   "source": [
    "The ReLU (Rectified Linear Unit) activation function is a simple and widely used function in neural networks. It keeps positive input values unchanged and sets negative values to zero. ReLU helps address vanishing gradient issues, speeds up training, and is a popular choice for hidden layers. However, it can suffer from \"dying ReLU\" problem where some neurons become inactive. Variants like Leaky ReLU and others aim to overcome this limitation."
   ]
  },
  {
   "cell_type": "code",
   "execution_count": 21,
   "id": "3f0d20e7",
   "metadata": {
    "scrolled": false
   },
   "outputs": [
    {
     "name": "stdout",
     "output_type": "stream",
     "text": [
      "Epoch 1/20\n",
      "469/469 [==============================] - 10s 18ms/step - loss: 0.3818 - accuracy: 0.8909 - val_loss: 0.3326 - val_accuracy: 0.9011\n",
      "Epoch 2/20\n",
      "469/469 [==============================] - 8s 17ms/step - loss: 0.3088 - accuracy: 0.9130 - val_loss: 0.2943 - val_accuracy: 0.9153\n",
      "Epoch 3/20\n",
      "469/469 [==============================] - 7s 15ms/step - loss: 0.2949 - accuracy: 0.9178 - val_loss: 0.2938 - val_accuracy: 0.9169\n",
      "Epoch 4/20\n",
      "469/469 [==============================] - 8s 17ms/step - loss: 0.2903 - accuracy: 0.9193 - val_loss: 0.2963 - val_accuracy: 0.9160\n",
      "Epoch 5/20\n",
      "469/469 [==============================] - 7s 16ms/step - loss: 0.2829 - accuracy: 0.9215 - val_loss: 0.2900 - val_accuracy: 0.9184\n",
      "Epoch 6/20\n",
      "469/469 [==============================] - 8s 17ms/step - loss: 0.2797 - accuracy: 0.9227 - val_loss: 0.2982 - val_accuracy: 0.9165\n",
      "Epoch 7/20\n",
      "469/469 [==============================] - 7s 16ms/step - loss: 0.2755 - accuracy: 0.9236 - val_loss: 0.2832 - val_accuracy: 0.9226\n",
      "Epoch 8/20\n",
      "469/469 [==============================] - 8s 16ms/step - loss: 0.2723 - accuracy: 0.9245 - val_loss: 0.2991 - val_accuracy: 0.9143\n",
      "Epoch 9/20\n",
      "469/469 [==============================] - 8s 17ms/step - loss: 0.2715 - accuracy: 0.9239 - val_loss: 0.2907 - val_accuracy: 0.9211\n",
      "Epoch 10/20\n",
      "469/469 [==============================] - 10s 21ms/step - loss: 0.2684 - accuracy: 0.9257 - val_loss: 0.2787 - val_accuracy: 0.9247\n",
      "Epoch 11/20\n",
      "469/469 [==============================] - 8s 16ms/step - loss: 0.2684 - accuracy: 0.9257 - val_loss: 0.2887 - val_accuracy: 0.9202\n",
      "Epoch 12/20\n",
      "469/469 [==============================] - 9s 20ms/step - loss: 0.2667 - accuracy: 0.9259 - val_loss: 0.2824 - val_accuracy: 0.9214\n",
      "Epoch 13/20\n",
      "469/469 [==============================] - 8s 17ms/step - loss: 0.2641 - accuracy: 0.9261 - val_loss: 0.2783 - val_accuracy: 0.9238\n",
      "Epoch 14/20\n",
      "469/469 [==============================] - 9s 19ms/step - loss: 0.2639 - accuracy: 0.9267 - val_loss: 0.2847 - val_accuracy: 0.9214\n",
      "Epoch 15/20\n",
      "469/469 [==============================] - 7s 16ms/step - loss: 0.2619 - accuracy: 0.9262 - val_loss: 0.2834 - val_accuracy: 0.9237\n",
      "Epoch 16/20\n",
      "469/469 [==============================] - 7s 16ms/step - loss: 0.2626 - accuracy: 0.9273 - val_loss: 0.2767 - val_accuracy: 0.9261\n",
      "Epoch 17/20\n",
      "469/469 [==============================] - 7s 14ms/step - loss: 0.2604 - accuracy: 0.9273 - val_loss: 0.2899 - val_accuracy: 0.9201\n",
      "Epoch 18/20\n",
      "469/469 [==============================] - 8s 17ms/step - loss: 0.2593 - accuracy: 0.9284 - val_loss: 0.2765 - val_accuracy: 0.9237\n",
      "Epoch 19/20\n",
      "469/469 [==============================] - 7s 15ms/step - loss: 0.2589 - accuracy: 0.9288 - val_loss: 0.2841 - val_accuracy: 0.9198\n",
      "Epoch 20/20\n",
      "469/469 [==============================] - 7s 14ms/step - loss: 0.2581 - accuracy: 0.9278 - val_loss: 0.2886 - val_accuracy: 0.9213\n",
      "Epoch 1/20\n",
      "469/469 [==============================] - 9s 17ms/step - loss: 0.4246 - accuracy: 0.8851 - val_loss: 0.2784 - val_accuracy: 0.9177\n",
      "Epoch 2/20\n",
      "469/469 [==============================] - 7s 16ms/step - loss: 0.2351 - accuracy: 0.9318 - val_loss: 0.2105 - val_accuracy: 0.9378\n",
      "Epoch 3/20\n",
      "469/469 [==============================] - 7s 15ms/step - loss: 0.1760 - accuracy: 0.9489 - val_loss: 0.1589 - val_accuracy: 0.9515\n",
      "Epoch 4/20\n",
      "469/469 [==============================] - 7s 15ms/step - loss: 0.1379 - accuracy: 0.9599 - val_loss: 0.1280 - val_accuracy: 0.9604\n",
      "Epoch 5/20\n",
      "469/469 [==============================] - 8s 16ms/step - loss: 0.1100 - accuracy: 0.9677 - val_loss: 0.1095 - val_accuracy: 0.9669\n",
      "Epoch 6/20\n",
      "469/469 [==============================] - 7s 15ms/step - loss: 0.0908 - accuracy: 0.9739 - val_loss: 0.0917 - val_accuracy: 0.9722\n",
      "Epoch 7/20\n",
      "469/469 [==============================] - 8s 16ms/step - loss: 0.0766 - accuracy: 0.9772 - val_loss: 0.0860 - val_accuracy: 0.9733\n",
      "Epoch 8/20\n",
      "469/469 [==============================] - 7s 14ms/step - loss: 0.0656 - accuracy: 0.9812 - val_loss: 0.0857 - val_accuracy: 0.9743\n",
      "Epoch 9/20\n",
      "469/469 [==============================] - 8s 16ms/step - loss: 0.0561 - accuracy: 0.9835 - val_loss: 0.0765 - val_accuracy: 0.9765\n",
      "Epoch 10/20\n",
      "469/469 [==============================] - 7s 14ms/step - loss: 0.0489 - accuracy: 0.9857 - val_loss: 0.0751 - val_accuracy: 0.9784\n",
      "Epoch 11/20\n",
      "469/469 [==============================] - 8s 18ms/step - loss: 0.0421 - accuracy: 0.9876 - val_loss: 0.0702 - val_accuracy: 0.9786\n",
      "Epoch 12/20\n",
      "469/469 [==============================] - 7s 15ms/step - loss: 0.0367 - accuracy: 0.9896 - val_loss: 0.0664 - val_accuracy: 0.9802\n",
      "Epoch 13/20\n",
      "469/469 [==============================] - 8s 16ms/step - loss: 0.0323 - accuracy: 0.9908 - val_loss: 0.0632 - val_accuracy: 0.9812\n",
      "Epoch 14/20\n",
      "469/469 [==============================] - 7s 15ms/step - loss: 0.0281 - accuracy: 0.9928 - val_loss: 0.0604 - val_accuracy: 0.9821\n",
      "Epoch 15/20\n",
      "469/469 [==============================] - 8s 16ms/step - loss: 0.0246 - accuracy: 0.9935 - val_loss: 0.0597 - val_accuracy: 0.9825\n",
      "Epoch 16/20\n",
      "469/469 [==============================] - 7s 15ms/step - loss: 0.0215 - accuracy: 0.9944 - val_loss: 0.0607 - val_accuracy: 0.9816\n",
      "Epoch 17/20\n",
      "469/469 [==============================] - 8s 17ms/step - loss: 0.0186 - accuracy: 0.9954 - val_loss: 0.0615 - val_accuracy: 0.9801\n",
      "Epoch 18/20\n",
      "469/469 [==============================] - 8s 18ms/step - loss: 0.0161 - accuracy: 0.9963 - val_loss: 0.0691 - val_accuracy: 0.9789\n",
      "Epoch 19/20\n",
      "469/469 [==============================] - 7s 15ms/step - loss: 0.0140 - accuracy: 0.9970 - val_loss: 0.0615 - val_accuracy: 0.9819\n",
      "Epoch 20/20\n",
      "469/469 [==============================] - 7s 16ms/step - loss: 0.0122 - accuracy: 0.9972 - val_loss: 0.0629 - val_accuracy: 0.9811\n",
      "Epoch 1/20\n",
      "469/469 [==============================] - 9s 17ms/step - loss: 0.3406 - accuracy: 0.9003 - val_loss: 0.2198 - val_accuracy: 0.9320\n",
      "Epoch 2/20\n",
      "469/469 [==============================] - 7s 16ms/step - loss: 0.1771 - accuracy: 0.9480 - val_loss: 0.1420 - val_accuracy: 0.9586\n",
      "Epoch 3/20\n",
      "469/469 [==============================] - 8s 16ms/step - loss: 0.1167 - accuracy: 0.9655 - val_loss: 0.1071 - val_accuracy: 0.9674\n",
      "Epoch 4/20\n",
      "469/469 [==============================] - 8s 17ms/step - loss: 0.0858 - accuracy: 0.9750 - val_loss: 0.0875 - val_accuracy: 0.9725\n",
      "Epoch 5/20\n",
      "469/469 [==============================] - 8s 18ms/step - loss: 0.0648 - accuracy: 0.9816 - val_loss: 0.0798 - val_accuracy: 0.9758\n",
      "Epoch 6/20\n",
      "469/469 [==============================] - 8s 17ms/step - loss: 0.0515 - accuracy: 0.9848 - val_loss: 0.0776 - val_accuracy: 0.9755\n",
      "Epoch 7/20\n",
      "469/469 [==============================] - 7s 16ms/step - loss: 0.0408 - accuracy: 0.9872 - val_loss: 0.0708 - val_accuracy: 0.9792\n",
      "Epoch 8/20\n",
      "469/469 [==============================] - 8s 17ms/step - loss: 0.0326 - accuracy: 0.9903 - val_loss: 0.0677 - val_accuracy: 0.9798\n",
      "Epoch 9/20\n",
      "469/469 [==============================] - 8s 16ms/step - loss: 0.0257 - accuracy: 0.9930 - val_loss: 0.0676 - val_accuracy: 0.9796\n",
      "Epoch 10/20\n",
      "469/469 [==============================] - 8s 18ms/step - loss: 0.0203 - accuracy: 0.9947 - val_loss: 0.0664 - val_accuracy: 0.9797\n",
      "Epoch 11/20\n",
      "469/469 [==============================] - 8s 16ms/step - loss: 0.0160 - accuracy: 0.9958 - val_loss: 0.0634 - val_accuracy: 0.9816\n",
      "Epoch 12/20\n",
      "469/469 [==============================] - 9s 18ms/step - loss: 0.0127 - accuracy: 0.9966 - val_loss: 0.0652 - val_accuracy: 0.9821\n",
      "Epoch 13/20\n",
      "469/469 [==============================] - 7s 15ms/step - loss: 0.0096 - accuracy: 0.9979 - val_loss: 0.0633 - val_accuracy: 0.9820\n",
      "Epoch 14/20\n",
      "469/469 [==============================] - 10s 21ms/step - loss: 0.0080 - accuracy: 0.9983 - val_loss: 0.0671 - val_accuracy: 0.9820\n",
      "Epoch 15/20\n",
      "469/469 [==============================] - 9s 19ms/step - loss: 0.0059 - accuracy: 0.9986 - val_loss: 0.0652 - val_accuracy: 0.9825\n",
      "Epoch 16/20\n",
      "469/469 [==============================] - 7s 16ms/step - loss: 0.0047 - accuracy: 0.9990 - val_loss: 0.0678 - val_accuracy: 0.9825\n",
      "Epoch 17/20\n",
      "469/469 [==============================] - 7s 16ms/step - loss: 0.0034 - accuracy: 0.9994 - val_loss: 0.0696 - val_accuracy: 0.9823\n",
      "Epoch 18/20\n"
     ]
    },
    {
     "name": "stdout",
     "output_type": "stream",
     "text": [
      "469/469 [==============================] - 7s 16ms/step - loss: 0.0028 - accuracy: 0.9995 - val_loss: 0.0709 - val_accuracy: 0.9808\n",
      "Epoch 19/20\n",
      "469/469 [==============================] - 7s 14ms/step - loss: 0.0022 - accuracy: 0.9995 - val_loss: 0.0722 - val_accuracy: 0.9825\n",
      "Epoch 20/20\n",
      "469/469 [==============================] - 9s 19ms/step - loss: 0.0016 - accuracy: 0.9996 - val_loss: 0.0749 - val_accuracy: 0.9820\n",
      "Epoch 1/20\n",
      "469/469 [==============================] - 9s 16ms/step - loss: 0.2588 - accuracy: 0.9259 - val_loss: 0.1432 - val_accuracy: 0.9580\n",
      "Epoch 2/20\n",
      "469/469 [==============================] - 9s 19ms/step - loss: 0.1036 - accuracy: 0.9693 - val_loss: 0.0886 - val_accuracy: 0.9728\n",
      "Epoch 3/20\n",
      "469/469 [==============================] - 9s 18ms/step - loss: 0.0685 - accuracy: 0.9792 - val_loss: 0.0775 - val_accuracy: 0.9766\n",
      "Epoch 4/20\n",
      "469/469 [==============================] - 8s 17ms/step - loss: 0.0499 - accuracy: 0.9846 - val_loss: 0.0786 - val_accuracy: 0.9763\n",
      "Epoch 5/20\n",
      "469/469 [==============================] - 7s 15ms/step - loss: 0.0375 - accuracy: 0.9885 - val_loss: 0.0659 - val_accuracy: 0.9807\n",
      "Epoch 6/20\n",
      "469/469 [==============================] - 7s 15ms/step - loss: 0.0287 - accuracy: 0.9916 - val_loss: 0.0719 - val_accuracy: 0.9798\n",
      "Epoch 7/20\n",
      "469/469 [==============================] - 7s 16ms/step - loss: 0.0227 - accuracy: 0.9933 - val_loss: 0.0658 - val_accuracy: 0.9814\n",
      "Epoch 8/20\n",
      "469/469 [==============================] - 7s 15ms/step - loss: 0.0173 - accuracy: 0.9950 - val_loss: 0.0697 - val_accuracy: 0.9810\n",
      "Epoch 9/20\n",
      "469/469 [==============================] - 8s 17ms/step - loss: 0.0132 - accuracy: 0.9963 - val_loss: 0.0674 - val_accuracy: 0.9818\n",
      "Epoch 10/20\n",
      "469/469 [==============================] - 8s 16ms/step - loss: 0.0102 - accuracy: 0.9972 - val_loss: 0.0748 - val_accuracy: 0.9802\n",
      "Epoch 11/20\n",
      "469/469 [==============================] - 7s 15ms/step - loss: 0.0080 - accuracy: 0.9977 - val_loss: 0.0766 - val_accuracy: 0.9812\n",
      "Epoch 12/20\n",
      "469/469 [==============================] - 8s 16ms/step - loss: 0.0065 - accuracy: 0.9983 - val_loss: 0.0779 - val_accuracy: 0.9816\n",
      "Epoch 13/20\n",
      "469/469 [==============================] - 7s 14ms/step - loss: 0.0048 - accuracy: 0.9988 - val_loss: 0.0799 - val_accuracy: 0.9812\n",
      "Epoch 14/20\n",
      "469/469 [==============================] - 8s 17ms/step - loss: 0.0040 - accuracy: 0.9990 - val_loss: 0.0844 - val_accuracy: 0.9816\n",
      "Epoch 15/20\n",
      "469/469 [==============================] - 7s 15ms/step - loss: 0.0036 - accuracy: 0.9991 - val_loss: 0.0881 - val_accuracy: 0.9802\n",
      "Epoch 16/20\n",
      "469/469 [==============================] - 7s 16ms/step - loss: 0.0025 - accuracy: 0.9995 - val_loss: 0.0862 - val_accuracy: 0.9831\n",
      "Epoch 17/20\n",
      "469/469 [==============================] - 7s 16ms/step - loss: 0.0017 - accuracy: 0.9996 - val_loss: 0.0907 - val_accuracy: 0.9814\n",
      "Epoch 18/20\n",
      "469/469 [==============================] - 8s 16ms/step - loss: 0.0014 - accuracy: 0.9997 - val_loss: 0.0962 - val_accuracy: 0.9823\n",
      "Epoch 19/20\n",
      "469/469 [==============================] - 7s 16ms/step - loss: 0.0012 - accuracy: 0.9996 - val_loss: 0.0899 - val_accuracy: 0.9827\n",
      "Epoch 20/20\n",
      "469/469 [==============================] - 7s 15ms/step - loss: 8.7800e-04 - accuracy: 0.9998 - val_loss: 0.1009 - val_accuracy: 0.9822\n"
     ]
    },
    {
     "data": {
      "text/plain": [
       "<matplotlib.legend.Legend at 0x16fb3275ae0>"
      ]
     },
     "execution_count": 21,
     "metadata": {},
     "output_type": "execute_result"
    },
    {
     "data": {
      "image/png": "[encoded data removed]",
      "text/plain": [
       "<Figure size 432x288 with 1 Axes>"
      ]
     },
     "metadata": {
      "needs_background": "light"
     },
     "output_type": "display_data"
    }
   ],
   "source": [
    "epochs = 20\n",
    "\n",
    "for activation in [None, 'sigmoid', 'tanh', 'relu']:\n",
    "    model = Sequential()\n",
    "    model.add(Dense(512, activation=activation, input_shape=(784,)))\n",
    "    model.add(Dense(num_classes, activation='softmax'))\n",
    "    model.compile(loss='categorical_crossentropy',\n",
    "              optimizer=RMSprop(),\n",
    "              metrics=['accuracy'])\n",
    "    history = model.fit(x_train, y_train,\n",
    "                    batch_size=batch_size,\n",
    "                    epochs=epochs,\n",
    "                    verbose=1,\n",
    "                    validation_data=(x_test, y_test))\n",
    "    plt.plot(history.history['val_accuracy'])    \n",
    "plt.title('model loss')\n",
    "plt.ylabel('loss')\n",
    "plt.xlabel('epoch')\n",
    "plt.legend(['None', 'sigmoid', 'tanh', 'relu'], loc='upper left')"
   ]
  },
  {
   "cell_type": "code",
   "execution_count": null,
   "id": "4b38d903",
   "metadata": {},
   "outputs": [],
   "source": []
  }
 ],
 "metadata": {
  "kernelspec": {
   "display_name": "Python 3 (ipykernel)",
   "language": "python",
   "name": "python3"
  },
  "language_info": {
   "codemirror_mode": {
    "name": "ipython",
    "version": 3
   },
   "file_extension": ".py",
   "mimetype": "text/x-python",
   "name": "python",
   "nbconvert_exporter": "python",
   "pygments_lexer": "ipython3",
   "version": "3.10.9"
  }
 },
 "nbformat": 4,
 "nbformat_minor": 5
}
