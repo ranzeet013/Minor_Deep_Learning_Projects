{
 "cells": [
  {
   "cell_type": "markdown",
   "id": "03ec3351",
   "metadata": {},
   "source": [
    "# Importing Libraries"
   ]
  },
  {
   "cell_type": "markdown",
   "id": "114c8522",
   "metadata": {},
   "source": [
    "These are just a few examples of popular Python libraries. You can import any other library using the same import statement followed by the library name or alias:"
   ]
  },
  {
   "cell_type": "markdown",
   "id": "8f66bf37",
   "metadata": {},
   "source": [
    "NumPy: for numerical operations and array manipulation\n",
    "\n",
    "Pandas: for data manipulation and analysis\n",
    "\n",
    "Matplotlib: for creating visualizations\n",
    "\n",
    "Scikit-learn: for machine learning algorithms"
   ]
  },
  {
   "cell_type": "code",
   "execution_count": 1,
   "id": "783309f1",
   "metadata": {},
   "outputs": [],
   "source": [
    "import pandas as pd\n",
    "import numpy as np\n",
    "import matplotlib.pyplot as plt\n",
    "import seaborn as sns\n",
    "%matplotlib inline"
   ]
  },
  {
   "cell_type": "markdown",
   "id": "3826a591",
   "metadata": {},
   "source": [
    "# Reading Dataset"
   ]
  },
  {
   "cell_type": "code",
   "execution_count": 2,
   "id": "ac197893",
   "metadata": {},
   "outputs": [],
   "source": [
    "from tensorflow.keras.datasets import cifar10"
   ]
  },
  {
   "cell_type": "markdown",
   "id": "83f58cbe",
   "metadata": {},
   "source": [
    "# Splitting Dataset"
   ]
  },
  {
   "cell_type": "markdown",
   "id": "4439323c",
   "metadata": {},
   "source": [
    "Dataset splitting is an important step in machine learning and data analysis. It involves dividing a dataset into two or more subsets to train and evaluate a model effectively. The most common type of dataset splitting is into training and testing subsets."
   ]
  },
  {
   "cell_type": "markdown",
   "id": "1d481315",
   "metadata": {},
   "source": [
    "Train-Test Split: This is the most basic type of split, where the dataset is divided into a training set and a testing set. The training set is used to train the machine learning model, while the testing set is used to evaluate its performance. The split is typically done using a fixed ratio, such as 80% for training and 20% for testing."
   ]
  },
  {
   "cell_type": "code",
   "execution_count": 3,
   "id": "2a82bc30",
   "metadata": {},
   "outputs": [],
   "source": [
    "(x_train, y_train), (x_test, y_test) = cifar10.load_data()"
   ]
  },
  {
   "cell_type": "code",
   "execution_count": 5,
   "id": "c0d11d79",
   "metadata": {},
   "outputs": [
    {
     "data": {
      "text/plain": [
       "((50000, 32, 32, 3), (50000, 1), (10000, 32, 32, 3), (10000, 1))"
      ]
     },
     "execution_count": 5,
     "metadata": {},
     "output_type": "execute_result"
    }
   ],
   "source": [
    "x_train.shape, y_train.shape, x_test.shape, y_test.shape"
   ]
  },
  {
   "cell_type": "code",
   "execution_count": 6,
   "id": "13859243",
   "metadata": {},
   "outputs": [
    {
     "data": {
      "text/plain": [
       "<matplotlib.image.AxesImage at 0x1dba53a1870>"
      ]
     },
     "execution_count": 6,
     "metadata": {},
     "output_type": "execute_result"
    },
    {
     "data": {
      "image/png": "[encoded data removed]",
      "text/plain": [
       "<Figure size 432x288 with 1 Axes>"
      ]
     },
     "metadata": {
      "needs_background": "light"
     },
     "output_type": "display_data"
    }
   ],
   "source": [
    "plt.imshow(x_train[20])"
   ]
  },
  {
   "cell_type": "code",
   "execution_count": 7,
   "id": "29469ec9",
   "metadata": {},
   "outputs": [
    {
     "data": {
      "text/plain": [
       "array([[[153, 157, 155],\n",
       "        [174, 180, 188],\n",
       "        [155, 165, 172],\n",
       "        ...,\n",
       "        [122, 125, 123],\n",
       "        [138, 143, 141],\n",
       "        [ 97, 101,  97]],\n",
       "\n",
       "       [[160, 163, 165],\n",
       "        [164, 170, 180],\n",
       "        [150, 159, 169],\n",
       "        ...,\n",
       "        [137, 135, 129],\n",
       "        [160, 161, 157],\n",
       "        [103, 109, 107]],\n",
       "\n",
       "       [[140, 143, 147],\n",
       "        [147, 152, 166],\n",
       "        [136, 145, 158],\n",
       "        ...,\n",
       "        [104, 103,  99],\n",
       "        [125, 128, 125],\n",
       "        [ 93, 102, 101]],\n",
       "\n",
       "       ...,\n",
       "\n",
       "       [[175, 177, 179],\n",
       "        [170, 172, 174],\n",
       "        [170, 172, 174],\n",
       "        ...,\n",
       "        [193, 203, 212],\n",
       "        [197, 206, 214],\n",
       "        [199, 204, 213]],\n",
       "\n",
       "       [[174, 177, 181],\n",
       "        [173, 176, 180],\n",
       "        [171, 174, 178],\n",
       "        ...,\n",
       "        [200, 208, 216],\n",
       "        [202, 209, 218],\n",
       "        [208, 212, 221]],\n",
       "\n",
       "       [[168, 173, 180],\n",
       "        [164, 169, 175],\n",
       "        [166, 171, 177],\n",
       "        ...,\n",
       "        [204, 209, 217],\n",
       "        [204, 208, 217],\n",
       "        [206, 210, 219]]], dtype=uint8)"
      ]
     },
     "execution_count": 7,
     "metadata": {},
     "output_type": "execute_result"
    }
   ],
   "source": [
    "x_train[20]"
   ]
  },
  {
   "cell_type": "code",
   "execution_count": 8,
   "id": "03854f44",
   "metadata": {},
   "outputs": [
    {
     "data": {
      "text/plain": [
       "(0, 255)"
      ]
     },
     "execution_count": 8,
     "metadata": {},
     "output_type": "execute_result"
    }
   ],
   "source": [
    "x_train.min(), x_train.max()"
   ]
  },
  {
   "cell_type": "code",
   "execution_count": 9,
   "id": "7f0782a7",
   "metadata": {},
   "outputs": [],
   "source": [
    "x_train = x_train / 255\n",
    "x_test = x_test / 255"
   ]
  },
  {
   "cell_type": "code",
   "execution_count": 10,
   "id": "a6b6d7bc",
   "metadata": {},
   "outputs": [
    {
     "data": {
      "text/plain": [
       "((50000, 32, 32, 3), (10000, 32, 32, 3))"
      ]
     },
     "execution_count": 10,
     "metadata": {},
     "output_type": "execute_result"
    }
   ],
   "source": [
    "x_train.shape, x_test.shape"
   ]
  },
  {
   "cell_type": "markdown",
   "id": "26ce59c1",
   "metadata": {},
   "source": [
    "# Converting To Categorical"
   ]
  },
  {
   "cell_type": "markdown",
   "id": "d0f696ee",
   "metadata": {},
   "source": [
    "Converting data to categorical format is often necessary for certain machine learning tasks, especially when dealing with categorical or nominal variables. This conversion is typically performed to represent the categorical variables as numeric values that can be processed by machine learning algorithms."
   ]
  },
  {
   "cell_type": "code",
   "execution_count": 11,
   "id": "1922b1ba",
   "metadata": {},
   "outputs": [],
   "source": [
    "from tensorflow.keras.utils import to_categorical"
   ]
  },
  {
   "cell_type": "code",
   "execution_count": 12,
   "id": "1606dc52",
   "metadata": {},
   "outputs": [],
   "source": [
    "y_train_categorical = to_categorical(y_train)\n",
    "y_test_categorical = to_categorical(y_test)"
   ]
  },
  {
   "cell_type": "code",
   "execution_count": 13,
   "id": "48901dc4",
   "metadata": {},
   "outputs": [
    {
     "data": {
      "text/plain": [
       "array([[0., 0., 0., ..., 0., 0., 0.],\n",
       "       [0., 0., 0., ..., 0., 0., 1.],\n",
       "       [0., 0., 0., ..., 0., 0., 1.],\n",
       "       ...,\n",
       "       [0., 0., 0., ..., 0., 0., 1.],\n",
       "       [0., 1., 0., ..., 0., 0., 0.],\n",
       "       [0., 1., 0., ..., 0., 0., 0.]], dtype=float32)"
      ]
     },
     "execution_count": 13,
     "metadata": {},
     "output_type": "execute_result"
    }
   ],
   "source": [
    "y_train_categorical"
   ]
  },
  {
   "cell_type": "code",
   "execution_count": 14,
   "id": "636a0606",
   "metadata": {},
   "outputs": [
    {
     "data": {
      "text/plain": [
       "array([[0., 0., 0., ..., 0., 0., 0.],\n",
       "       [0., 0., 0., ..., 0., 1., 0.],\n",
       "       [0., 0., 0., ..., 0., 1., 0.],\n",
       "       ...,\n",
       "       [0., 0., 0., ..., 0., 0., 0.],\n",
       "       [0., 1., 0., ..., 0., 0., 0.],\n",
       "       [0., 0., 0., ..., 1., 0., 0.]], dtype=float32)"
      ]
     },
     "execution_count": 14,
     "metadata": {},
     "output_type": "execute_result"
    }
   ],
   "source": [
    "y_test_categorical"
   ]
  },
  {
   "cell_type": "markdown",
   "id": "6627ad52",
   "metadata": {},
   "source": [
    "# Buliding Model"
   ]
  },
  {
   "cell_type": "markdown",
   "id": "30f94fc7",
   "metadata": {},
   "source": [
    "Creating a deep learning model involves defining the architecture and structure of the neural network, specifying the layers, and configuring the parameters for training."
   ]
  },
  {
   "cell_type": "code",
   "execution_count": 15,
   "id": "2625278d",
   "metadata": {},
   "outputs": [],
   "source": [
    "from tensorflow.keras.models import Sequential\n",
    "from tensorflow.keras.layers import Conv2D, MaxPooling2D, Dense, Flatten"
   ]
  },
  {
   "cell_type": "code",
   "execution_count": 16,
   "id": "ea25d58e",
   "metadata": {},
   "outputs": [],
   "source": [
    "from tensorflow.keras.callbacks import EarlyStopping"
   ]
  },
  {
   "cell_type": "code",
   "execution_count": 17,
   "id": "6b5bb5da",
   "metadata": {},
   "outputs": [],
   "source": [
    "from sklearn.metrics import classification_report, confusion_matrix"
   ]
  },
  {
   "cell_type": "code",
   "execution_count": 18,
   "id": "194cc581",
   "metadata": {},
   "outputs": [],
   "source": [
    "model = Sequential()\n",
    "model.add(Conv2D(filters = 32, input_shape = (32, 32, 3), kernel_size = (4, 4), activation = 'relu'))\n",
    "model.add(MaxPooling2D(pool_size = (2, 2)))\n",
    "\n",
    "model.add(Conv2D(filters = 32, input_shape = (32, 32, 3), kernel_size = (4, 4), activation = 'relu'))\n",
    "model.add(MaxPooling2D(pool_size = (2, 2)))\n",
    "\n",
    "model.add(Flatten())\n",
    "\n",
    "model.add(Dense(256, activation = 'relu'))\n",
    "\n",
    "model.add(Dense(10, activation = 'softmax'))"
   ]
  },
  {
   "cell_type": "code",
   "execution_count": 19,
   "id": "2daeef04",
   "metadata": {},
   "outputs": [
    {
     "name": "stdout",
     "output_type": "stream",
     "text": [
      "Model: \"sequential\"\n",
      "_________________________________________________________________\n",
      " Layer (type)                Output Shape              Param #   \n",
      "=================================================================\n",
      " conv2d (Conv2D)             (None, 29, 29, 32)        1568      \n",
      "                                                                 \n",
      " max_pooling2d (MaxPooling2D  (None, 14, 14, 32)       0         \n",
      " )                                                               \n",
      "                                                                 \n",
      " conv2d_1 (Conv2D)           (None, 11, 11, 32)        16416     \n",
      "                                                                 \n",
      " max_pooling2d_1 (MaxPooling  (None, 5, 5, 32)         0         \n",
      " 2D)                                                             \n",
      "                                                                 \n",
      " flatten (Flatten)           (None, 800)               0         \n",
      "                                                                 \n",
      " dense (Dense)               (None, 256)               205056    \n",
      "                                                                 \n",
      " dense_1 (Dense)             (None, 10)                2570      \n",
      "                                                                 \n",
      "=================================================================\n",
      "Total params: 225,610\n",
      "Trainable params: 225,610\n",
      "Non-trainable params: 0\n",
      "_________________________________________________________________\n"
     ]
    }
   ],
   "source": [
    "model.summary()"
   ]
  },
  {
   "cell_type": "markdown",
   "id": "cc51a73c",
   "metadata": {},
   "source": [
    "# Compiling Model"
   ]
  },
  {
   "cell_type": "markdown",
   "id": "ee959e7d",
   "metadata": {},
   "source": [
    "Compiling the model in deep learning involves configuring essential components that define how the model will be trained."
   ]
  },
  {
   "cell_type": "code",
   "execution_count": 20,
   "id": "13f7b0c7",
   "metadata": {},
   "outputs": [],
   "source": [
    "model.compile(optimizer = 'rmsprop', loss = 'categorical_crossentropy', metrics = ['accuracy'])"
   ]
  },
  {
   "cell_type": "code",
   "execution_count": 21,
   "id": "2798aa02",
   "metadata": {},
   "outputs": [],
   "source": [
    "early_stopping = EarlyStopping(monitor = 'val_loss', patience = 3)"
   ]
  },
  {
   "cell_type": "markdown",
   "id": "1da4ef5e",
   "metadata": {},
   "source": [
    "# Training Model"
   ]
  },
  {
   "cell_type": "markdown",
   "id": "8488121c",
   "metadata": {},
   "source": [
    "Training the model in deep learning involves the process of iteratively updating the model's parameters (weights and biases) based on the provided training data to minimize the loss function and improve the model's performance"
   ]
  },
  {
   "cell_type": "code",
   "execution_count": 23,
   "id": "a7101ba5",
   "metadata": {},
   "outputs": [
    {
     "name": "stdout",
     "output_type": "stream",
     "text": [
      "Epoch 1/20\n",
      "1563/1563 [==============================] - 93s 52ms/step - loss: 1.5270 - accuracy: 0.4510 - val_loss: 1.3942 - val_accuracy: 0.5197\n",
      "Epoch 2/20\n",
      "1563/1563 [==============================] - 76s 48ms/step - loss: 1.1747 - accuracy: 0.5882 - val_loss: 1.2235 - val_accuracy: 0.5676\n",
      "Epoch 3/20\n",
      "1563/1563 [==============================] - 70s 45ms/step - loss: 1.0241 - accuracy: 0.6431 - val_loss: 1.0493 - val_accuracy: 0.6418\n",
      "Epoch 4/20\n",
      "1563/1563 [==============================] - 69s 44ms/step - loss: 0.9223 - accuracy: 0.6812 - val_loss: 1.0268 - val_accuracy: 0.6432\n",
      "Epoch 5/20\n",
      "1563/1563 [==============================] - 69s 44ms/step - loss: 0.8391 - accuracy: 0.7111 - val_loss: 1.0076 - val_accuracy: 0.6654\n",
      "Epoch 6/20\n",
      "1563/1563 [==============================] - 71s 45ms/step - loss: 0.7757 - accuracy: 0.7350 - val_loss: 1.1338 - val_accuracy: 0.6390\n",
      "Epoch 7/20\n",
      "1563/1563 [==============================] - 66s 42ms/step - loss: 0.7171 - accuracy: 0.7548 - val_loss: 1.1370 - val_accuracy: 0.6529\n",
      "Epoch 8/20\n",
      "1563/1563 [==============================] - 64s 41ms/step - loss: 0.6661 - accuracy: 0.7738 - val_loss: 1.0236 - val_accuracy: 0.6687\n"
     ]
    },
    {
     "data": {
      "text/plain": [
       "<keras.callbacks.History at 0x1dba628ad70>"
      ]
     },
     "execution_count": 23,
     "metadata": {},
     "output_type": "execute_result"
    }
   ],
   "source": [
    "model.fit(x_train, y_train_categorical,\n",
    "          validation_data = (x_test, y_test_categorical),\n",
    "          epochs = 20, \n",
    "          callbacks = [early_stopping])"
   ]
  },
  {
   "cell_type": "code",
   "execution_count": 24,
   "id": "9bd3f2bd",
   "metadata": {},
   "outputs": [],
   "source": [
    "model.save('CNN_model_for_CIFAR10.h5')"
   ]
  },
  {
   "cell_type": "code",
   "execution_count": 25,
   "id": "b4588321",
   "metadata": {},
   "outputs": [],
   "source": [
    "loss = pd.DataFrame(model.history.history)"
   ]
  },
  {
   "cell_type": "code",
   "execution_count": 26,
   "id": "4f580cee",
   "metadata": {},
   "outputs": [
    {
     "data": {
      "text/html": [
       "<div>\n",
       "<style scoped>\n",
       "    .dataframe tbody tr th:only-of-type {\n",
       "        vertical-align: middle;\n",
       "    }\n",
       "\n",
       "    .dataframe tbody tr th {\n",
       "        vertical-align: top;\n",
       "    }\n",
       "\n",
       "    .dataframe thead th {\n",
       "        text-align: right;\n",
       "    }\n",
       "</style>\n",
       "<table border=\"1\" class=\"dataframe\">\n",
       "  <thead>\n",
       "    <tr style=\"text-align: right;\">\n",
       "      <th></th>\n",
       "      <th>loss</th>\n",
       "      <th>accuracy</th>\n",
       "      <th>val_loss</th>\n",
       "      <th>val_accuracy</th>\n",
       "    </tr>\n",
       "  </thead>\n",
       "  <tbody>\n",
       "    <tr>\n",
       "      <th>0</th>\n",
       "      <td>1.527025</td>\n",
       "      <td>0.45100</td>\n",
       "      <td>1.394204</td>\n",
       "      <td>0.5197</td>\n",
       "    </tr>\n",
       "    <tr>\n",
       "      <th>1</th>\n",
       "      <td>1.174664</td>\n",
       "      <td>0.58818</td>\n",
       "      <td>1.223536</td>\n",
       "      <td>0.5676</td>\n",
       "    </tr>\n",
       "    <tr>\n",
       "      <th>2</th>\n",
       "      <td>1.024142</td>\n",
       "      <td>0.64308</td>\n",
       "      <td>1.049320</td>\n",
       "      <td>0.6418</td>\n",
       "    </tr>\n",
       "    <tr>\n",
       "      <th>3</th>\n",
       "      <td>0.922272</td>\n",
       "      <td>0.68118</td>\n",
       "      <td>1.026793</td>\n",
       "      <td>0.6432</td>\n",
       "    </tr>\n",
       "    <tr>\n",
       "      <th>4</th>\n",
       "      <td>0.839058</td>\n",
       "      <td>0.71106</td>\n",
       "      <td>1.007593</td>\n",
       "      <td>0.6654</td>\n",
       "    </tr>\n",
       "  </tbody>\n",
       "</table>\n",
       "</div>"
      ],
      "text/plain": [
       "       loss  accuracy  val_loss  val_accuracy\n",
       "0  1.527025   0.45100  1.394204        0.5197\n",
       "1  1.174664   0.58818  1.223536        0.5676\n",
       "2  1.024142   0.64308  1.049320        0.6418\n",
       "3  0.922272   0.68118  1.026793        0.6432\n",
       "4  0.839058   0.71106  1.007593        0.6654"
      ]
     },
     "execution_count": 26,
     "metadata": {},
     "output_type": "execute_result"
    }
   ],
   "source": [
    "loss.head()"
   ]
  },
  {
   "cell_type": "code",
   "execution_count": 27,
   "id": "8c6f25c6",
   "metadata": {},
   "outputs": [
    {
     "data": {
      "text/plain": [
       "<AxesSubplot:>"
      ]
     },
     "execution_count": 27,
     "metadata": {},
     "output_type": "execute_result"
    },
    {
     "data": {
      "image/png": "[encoded data removed]",
      "text/plain": [
       "<Figure size 432x288 with 1 Axes>"
      ]
     },
     "metadata": {
      "needs_background": "light"
     },
     "output_type": "display_data"
    }
   ],
   "source": [
    "loss.plot()"
   ]
  },
  {
   "cell_type": "code",
   "execution_count": 28,
   "id": "900bcfcb",
   "metadata": {},
   "outputs": [
    {
     "data": {
      "text/plain": [
       "<AxesSubplot:>"
      ]
     },
     "execution_count": 28,
     "metadata": {},
     "output_type": "execute_result"
    },
    {
     "data": {
      "image/png": "[encoded data removed]",
      "text/plain": [
       "<Figure size 432x288 with 1 Axes>"
      ]
     },
     "metadata": {
      "needs_background": "light"
     },
     "output_type": "display_data"
    }
   ],
   "source": [
    "loss[['loss', 'val_loss']].plot()"
   ]
  },
  {
   "cell_type": "code",
   "execution_count": 29,
   "id": "c4c9544d",
   "metadata": {},
   "outputs": [
    {
     "data": {
      "text/plain": [
       "<AxesSubplot:>"
      ]
     },
     "execution_count": 29,
     "metadata": {},
     "output_type": "execute_result"
    },
    {
     "data": {
      "image/png": "[encoded data removed]",
      "text/plain": [
       "<Figure size 432x288 with 1 Axes>"
      ]
     },
     "metadata": {
      "needs_background": "light"
     },
     "output_type": "display_data"
    }
   ],
   "source": [
    "loss[['accuracy', 'val_accuracy']].plot()"
   ]
  },
  {
   "cell_type": "code",
   "execution_count": 34,
   "id": "fe51f2e8",
   "metadata": {},
   "outputs": [
    {
     "name": "stdout",
     "output_type": "stream",
     "text": [
      "313/313 [==============================] - 5s 16ms/step\n"
     ]
    }
   ],
   "source": [
    "prediction = model.predict(x_test)\n",
    "prediction_classes = prediction.argmax(axis = 1)"
   ]
  },
  {
   "cell_type": "markdown",
   "id": "db44ab91",
   "metadata": {},
   "source": [
    "# Error Analysis"
   ]
  },
  {
   "cell_type": "markdown",
   "id": "e1649d61",
   "metadata": {},
   "source": [
    "Error analysis is an important step in evaluating and improving the performance of a machine learning model. It involves analyzing the errors made by the model during predictions to gain insights into the patterns, sources, and potential improvements."
   ]
  },
  {
   "cell_type": "code",
   "execution_count": 35,
   "id": "930c15b2",
   "metadata": {},
   "outputs": [
    {
     "name": "stdout",
     "output_type": "stream",
     "text": [
      "              precision    recall  f1-score   support\n",
      "\n",
      "           0       0.69      0.75      0.72      1000\n",
      "           1       0.79      0.82      0.81      1000\n",
      "           2       0.64      0.47      0.54      1000\n",
      "           3       0.38      0.69      0.49      1000\n",
      "           4       0.71      0.55      0.62      1000\n",
      "           5       0.63      0.43      0.51      1000\n",
      "           6       0.80      0.70      0.75      1000\n",
      "           7       0.71      0.76      0.74      1000\n",
      "           8       0.82      0.73      0.77      1000\n",
      "           9       0.73      0.79      0.76      1000\n",
      "\n",
      "    accuracy                           0.67     10000\n",
      "   macro avg       0.69      0.67      0.67     10000\n",
      "weighted avg       0.69      0.67      0.67     10000\n",
      "\n"
     ]
    }
   ],
   "source": [
    "print(classification_report(y_test, prediction_classes))"
   ]
  },
  {
   "cell_type": "code",
   "execution_count": 37,
   "id": "9b132692",
   "metadata": {},
   "outputs": [
    {
     "name": "stdout",
     "output_type": "stream",
     "text": [
      "[[750  18  79  26  30  15  12  25  94  37]\n",
      " [ 32 818  10  14   6   6  17   3  51  74]\n",
      " [ 40   6 466  38  58  37  36  19  14   9]\n",
      " [ 34  23 189 687 165 375 146  90  35  41]\n",
      " [ 12   3  77  40 551  28  35  27   2   3]\n",
      " [  5   6  54  86  35 431  23  30   4   7]\n",
      " [  9   7  56  31  27  22 697   7   9   2]\n",
      " [ 14   5  45  41 103  64  13 762   7  15]\n",
      " [ 61  19  10  15  15   8   8   3 731  18]\n",
      " [ 43  95  14  22  10  14  13  34  53 794]]\n"
     ]
    }
   ],
   "source": [
    "print(confusion_matrix(prediction_classes, y_test))"
   ]
  },
  {
   "cell_type": "code",
   "execution_count": 41,
   "id": "b591f773",
   "metadata": {},
   "outputs": [
    {
     "data": {
      "text/plain": [
       "<AxesSubplot:>"
      ]
     },
     "execution_count": 41,
     "metadata": {},
     "output_type": "execute_result"
    },
    {
     "data": {
      "image/png": "[encoded data removed]",
      "text/plain": [
       "<Figure size 864x432 with 2 Axes>"
      ]
     },
     "metadata": {
      "needs_background": "light"
     },
     "output_type": "display_data"
    }
   ],
   "source": [
    "plt.figure(figsize = (12, 6))\n",
    "sns.heatmap(confusion_matrix(prediction_classes, y_test),\n",
    "            annot = True, \n",
    "            cmap = 'coolwarm')"
   ]
  },
  {
   "cell_type": "markdown",
   "id": "bceaca59",
   "metadata": {},
   "source": [
    "# Prediction"
   ]
  },
  {
   "cell_type": "code",
   "execution_count": 57,
   "id": "61f50e6f",
   "metadata": {},
   "outputs": [],
   "source": [
    "prediction = x_train[5]"
   ]
  },
  {
   "cell_type": "code",
   "execution_count": 58,
   "id": "b72dac46",
   "metadata": {},
   "outputs": [
    {
     "data": {
      "text/plain": [
       "<matplotlib.image.AxesImage at 0x1dbfb395cc0>"
      ]
     },
     "execution_count": 58,
     "metadata": {},
     "output_type": "execute_result"
    },
    {
     "data": {
      "image/png": "[encoded data removed]",
      "text/plain": [
       "<Figure size 432x288 with 1 Axes>"
      ]
     },
     "metadata": {
      "needs_background": "light"
     },
     "output_type": "display_data"
    }
   ],
   "source": [
    "plt.imshow(prediction)"
   ]
  },
  {
   "cell_type": "code",
   "execution_count": 59,
   "id": "de342425",
   "metadata": {},
   "outputs": [
    {
     "name": "stdout",
     "output_type": "stream",
     "text": [
      "1/1 [==============================] - 0s 50ms/step\n",
      "Predicted class: 1\n"
     ]
    }
   ],
   "source": [
    "predictions = model.predict(prediction.reshape(1, 32, 32, 3))\n",
    "predicted_class = np.argmax(predictions)\n",
    "\n",
    "print(\"Predicted class:\", predicted_class)"
   ]
  }
 ],
 "metadata": {
  "kernelspec": {
   "display_name": "Python 3 (ipykernel)",
   "language": "python",
   "name": "python3"
  },
  "language_info": {
   "codemirror_mode": {
    "name": "ipython",
    "version": 3
   },
   "file_extension": ".py",
   "mimetype": "text/x-python",
   "name": "python",
   "nbconvert_exporter": "python",
   "pygments_lexer": "ipython3",
   "version": "3.10.9"
  }
 },
 "nbformat": 4,
 "nbformat_minor": 5
}
