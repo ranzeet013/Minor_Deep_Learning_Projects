{
 "cells": [
  {
   "cell_type": "markdown",
   "metadata": {},
   "source": [
    "# Breast Cancer Classification With ANN"
   ]
  },
  {
   "cell_type": "markdown",
   "metadata": {},
   "source": [
    "Breast cancer classification using an Artificial Neural Network (ANN) involves training a model to predict whether a given breast tumor is benign or malignant based on a set of input features. The goal is to build an accurate model that can assist in diagnosing breast cancer."
   ]
  },
  {
   "cell_type": "markdown",
   "metadata": {},
   "source": [
    "# Importing Python Libraries"
   ]
  },
  {
   "cell_type": "code",
   "execution_count": 56,
   "metadata": {},
   "outputs": [],
   "source": [
    "import pandas as pd\n",
    "import numpy as np"
   ]
  },
  {
   "cell_type": "code",
   "execution_count": 57,
   "metadata": {},
   "outputs": [],
   "source": [
    "df = pd.read_csv('../DATA/cancer_classification.csv')"
   ]
  },
  {
   "cell_type": "code",
   "execution_count": 58,
   "metadata": {},
   "outputs": [
    {
     "name": "stdout",
     "output_type": "stream",
     "text": [
      "<class 'pandas.core.frame.DataFrame'>\n",
      "RangeIndex: 569 entries, 0 to 568\n",
      "Data columns (total 31 columns):\n",
      "mean radius                569 non-null float64\n",
      "mean texture               569 non-null float64\n",
      "mean perimeter             569 non-null float64\n",
      "mean area                  569 non-null float64\n",
      "mean smoothness            569 non-null float64\n",
      "mean compactness           569 non-null float64\n",
      "mean concavity             569 non-null float64\n",
      "mean concave points        569 non-null float64\n",
      "mean symmetry              569 non-null float64\n",
      "mean fractal dimension     569 non-null float64\n",
      "radius error               569 non-null float64\n",
      "texture error              569 non-null float64\n",
      "perimeter error            569 non-null float64\n",
      "area error                 569 non-null float64\n",
      "smoothness error           569 non-null float64\n",
      "compactness error          569 non-null float64\n",
      "concavity error            569 non-null float64\n",
      "concave points error       569 non-null float64\n",
      "symmetry error             569 non-null float64\n",
      "fractal dimension error    569 non-null float64\n",
      "worst radius               569 non-null float64\n",
      "worst texture              569 non-null float64\n",
      "worst perimeter            569 non-null float64\n",
      "worst area                 569 non-null float64\n",
      "worst smoothness           569 non-null float64\n",
      "worst compactness          569 non-null float64\n",
      "worst concavity            569 non-null float64\n",
      "worst concave points       569 non-null float64\n",
      "worst symmetry             569 non-null float64\n",
      "worst fractal dimension    569 non-null float64\n",
      "benign_0__mal_1            569 non-null int64\n",
      "dtypes: float64(30), int64(1)\n",
      "memory usage: 137.9 KB\n"
     ]
    }
   ],
   "source": [
    "df.info()"
   ]
  },
  {
   "cell_type": "code",
   "execution_count": 59,
   "metadata": {},
   "outputs": [
    {
     "data": {
      "text/html": [
       "<div>\n",
       "<style scoped>\n",
       "    .dataframe tbody tr th:only-of-type {\n",
       "        vertical-align: middle;\n",
       "    }\n",
       "\n",
       "    .dataframe tbody tr th {\n",
       "        vertical-align: top;\n",
       "    }\n",
       "\n",
       "    .dataframe thead th {\n",
       "        text-align: right;\n",
       "    }\n",
       "</style>\n",
       "<table border=\"1\" class=\"dataframe\">\n",
       "  <thead>\n",
       "    <tr style=\"text-align: right;\">\n",
       "      <th></th>\n",
       "      <th>count</th>\n",
       "      <th>mean</th>\n",
       "      <th>std</th>\n",
       "      <th>min</th>\n",
       "      <th>25%</th>\n",
       "      <th>50%</th>\n",
       "      <th>75%</th>\n",
       "      <th>max</th>\n",
       "    </tr>\n",
       "  </thead>\n",
       "  <tbody>\n",
       "    <tr>\n",
       "      <th>mean radius</th>\n",
       "      <td>569.0</td>\n",
       "      <td>14.127292</td>\n",
       "      <td>3.524049</td>\n",
       "      <td>6.981000</td>\n",
       "      <td>11.700000</td>\n",
       "      <td>13.370000</td>\n",
       "      <td>15.780000</td>\n",
       "      <td>28.11000</td>\n",
       "    </tr>\n",
       "    <tr>\n",
       "      <th>mean texture</th>\n",
       "      <td>569.0</td>\n",
       "      <td>19.289649</td>\n",
       "      <td>4.301036</td>\n",
       "      <td>9.710000</td>\n",
       "      <td>16.170000</td>\n",
       "      <td>18.840000</td>\n",
       "      <td>21.800000</td>\n",
       "      <td>39.28000</td>\n",
       "    </tr>\n",
       "    <tr>\n",
       "      <th>mean perimeter</th>\n",
       "      <td>569.0</td>\n",
       "      <td>91.969033</td>\n",
       "      <td>24.298981</td>\n",
       "      <td>43.790000</td>\n",
       "      <td>75.170000</td>\n",
       "      <td>86.240000</td>\n",
       "      <td>104.100000</td>\n",
       "      <td>188.50000</td>\n",
       "    </tr>\n",
       "    <tr>\n",
       "      <th>mean area</th>\n",
       "      <td>569.0</td>\n",
       "      <td>654.889104</td>\n",
       "      <td>351.914129</td>\n",
       "      <td>143.500000</td>\n",
       "      <td>420.300000</td>\n",
       "      <td>551.100000</td>\n",
       "      <td>782.700000</td>\n",
       "      <td>2501.00000</td>\n",
       "    </tr>\n",
       "    <tr>\n",
       "      <th>mean smoothness</th>\n",
       "      <td>569.0</td>\n",
       "      <td>0.096360</td>\n",
       "      <td>0.014064</td>\n",
       "      <td>0.052630</td>\n",
       "      <td>0.086370</td>\n",
       "      <td>0.095870</td>\n",
       "      <td>0.105300</td>\n",
       "      <td>0.16340</td>\n",
       "    </tr>\n",
       "    <tr>\n",
       "      <th>mean compactness</th>\n",
       "      <td>569.0</td>\n",
       "      <td>0.104341</td>\n",
       "      <td>0.052813</td>\n",
       "      <td>0.019380</td>\n",
       "      <td>0.064920</td>\n",
       "      <td>0.092630</td>\n",
       "      <td>0.130400</td>\n",
       "      <td>0.34540</td>\n",
       "    </tr>\n",
       "    <tr>\n",
       "      <th>mean concavity</th>\n",
       "      <td>569.0</td>\n",
       "      <td>0.088799</td>\n",
       "      <td>0.079720</td>\n",
       "      <td>0.000000</td>\n",
       "      <td>0.029560</td>\n",
       "      <td>0.061540</td>\n",
       "      <td>0.130700</td>\n",
       "      <td>0.42680</td>\n",
       "    </tr>\n",
       "    <tr>\n",
       "      <th>mean concave points</th>\n",
       "      <td>569.0</td>\n",
       "      <td>0.048919</td>\n",
       "      <td>0.038803</td>\n",
       "      <td>0.000000</td>\n",
       "      <td>0.020310</td>\n",
       "      <td>0.033500</td>\n",
       "      <td>0.074000</td>\n",
       "      <td>0.20120</td>\n",
       "    </tr>\n",
       "    <tr>\n",
       "      <th>mean symmetry</th>\n",
       "      <td>569.0</td>\n",
       "      <td>0.181162</td>\n",
       "      <td>0.027414</td>\n",
       "      <td>0.106000</td>\n",
       "      <td>0.161900</td>\n",
       "      <td>0.179200</td>\n",
       "      <td>0.195700</td>\n",
       "      <td>0.30400</td>\n",
       "    </tr>\n",
       "    <tr>\n",
       "      <th>mean fractal dimension</th>\n",
       "      <td>569.0</td>\n",
       "      <td>0.062798</td>\n",
       "      <td>0.007060</td>\n",
       "      <td>0.049960</td>\n",
       "      <td>0.057700</td>\n",
       "      <td>0.061540</td>\n",
       "      <td>0.066120</td>\n",
       "      <td>0.09744</td>\n",
       "    </tr>\n",
       "    <tr>\n",
       "      <th>radius error</th>\n",
       "      <td>569.0</td>\n",
       "      <td>0.405172</td>\n",
       "      <td>0.277313</td>\n",
       "      <td>0.111500</td>\n",
       "      <td>0.232400</td>\n",
       "      <td>0.324200</td>\n",
       "      <td>0.478900</td>\n",
       "      <td>2.87300</td>\n",
       "    </tr>\n",
       "    <tr>\n",
       "      <th>texture error</th>\n",
       "      <td>569.0</td>\n",
       "      <td>1.216853</td>\n",
       "      <td>0.551648</td>\n",
       "      <td>0.360200</td>\n",
       "      <td>0.833900</td>\n",
       "      <td>1.108000</td>\n",
       "      <td>1.474000</td>\n",
       "      <td>4.88500</td>\n",
       "    </tr>\n",
       "    <tr>\n",
       "      <th>perimeter error</th>\n",
       "      <td>569.0</td>\n",
       "      <td>2.866059</td>\n",
       "      <td>2.021855</td>\n",
       "      <td>0.757000</td>\n",
       "      <td>1.606000</td>\n",
       "      <td>2.287000</td>\n",
       "      <td>3.357000</td>\n",
       "      <td>21.98000</td>\n",
       "    </tr>\n",
       "    <tr>\n",
       "      <th>area error</th>\n",
       "      <td>569.0</td>\n",
       "      <td>40.337079</td>\n",
       "      <td>45.491006</td>\n",
       "      <td>6.802000</td>\n",
       "      <td>17.850000</td>\n",
       "      <td>24.530000</td>\n",
       "      <td>45.190000</td>\n",
       "      <td>542.20000</td>\n",
       "    </tr>\n",
       "    <tr>\n",
       "      <th>smoothness error</th>\n",
       "      <td>569.0</td>\n",
       "      <td>0.007041</td>\n",
       "      <td>0.003003</td>\n",
       "      <td>0.001713</td>\n",
       "      <td>0.005169</td>\n",
       "      <td>0.006380</td>\n",
       "      <td>0.008146</td>\n",
       "      <td>0.03113</td>\n",
       "    </tr>\n",
       "    <tr>\n",
       "      <th>compactness error</th>\n",
       "      <td>569.0</td>\n",
       "      <td>0.025478</td>\n",
       "      <td>0.017908</td>\n",
       "      <td>0.002252</td>\n",
       "      <td>0.013080</td>\n",
       "      <td>0.020450</td>\n",
       "      <td>0.032450</td>\n",
       "      <td>0.13540</td>\n",
       "    </tr>\n",
       "    <tr>\n",
       "      <th>concavity error</th>\n",
       "      <td>569.0</td>\n",
       "      <td>0.031894</td>\n",
       "      <td>0.030186</td>\n",
       "      <td>0.000000</td>\n",
       "      <td>0.015090</td>\n",
       "      <td>0.025890</td>\n",
       "      <td>0.042050</td>\n",
       "      <td>0.39600</td>\n",
       "    </tr>\n",
       "    <tr>\n",
       "      <th>concave points error</th>\n",
       "      <td>569.0</td>\n",
       "      <td>0.011796</td>\n",
       "      <td>0.006170</td>\n",
       "      <td>0.000000</td>\n",
       "      <td>0.007638</td>\n",
       "      <td>0.010930</td>\n",
       "      <td>0.014710</td>\n",
       "      <td>0.05279</td>\n",
       "    </tr>\n",
       "    <tr>\n",
       "      <th>symmetry error</th>\n",
       "      <td>569.0</td>\n",
       "      <td>0.020542</td>\n",
       "      <td>0.008266</td>\n",
       "      <td>0.007882</td>\n",
       "      <td>0.015160</td>\n",
       "      <td>0.018730</td>\n",
       "      <td>0.023480</td>\n",
       "      <td>0.07895</td>\n",
       "    </tr>\n",
       "    <tr>\n",
       "      <th>fractal dimension error</th>\n",
       "      <td>569.0</td>\n",
       "      <td>0.003795</td>\n",
       "      <td>0.002646</td>\n",
       "      <td>0.000895</td>\n",
       "      <td>0.002248</td>\n",
       "      <td>0.003187</td>\n",
       "      <td>0.004558</td>\n",
       "      <td>0.02984</td>\n",
       "    </tr>\n",
       "    <tr>\n",
       "      <th>worst radius</th>\n",
       "      <td>569.0</td>\n",
       "      <td>16.269190</td>\n",
       "      <td>4.833242</td>\n",
       "      <td>7.930000</td>\n",
       "      <td>13.010000</td>\n",
       "      <td>14.970000</td>\n",
       "      <td>18.790000</td>\n",
       "      <td>36.04000</td>\n",
       "    </tr>\n",
       "    <tr>\n",
       "      <th>worst texture</th>\n",
       "      <td>569.0</td>\n",
       "      <td>25.677223</td>\n",
       "      <td>6.146258</td>\n",
       "      <td>12.020000</td>\n",
       "      <td>21.080000</td>\n",
       "      <td>25.410000</td>\n",
       "      <td>29.720000</td>\n",
       "      <td>49.54000</td>\n",
       "    </tr>\n",
       "    <tr>\n",
       "      <th>worst perimeter</th>\n",
       "      <td>569.0</td>\n",
       "      <td>107.261213</td>\n",
       "      <td>33.602542</td>\n",
       "      <td>50.410000</td>\n",
       "      <td>84.110000</td>\n",
       "      <td>97.660000</td>\n",
       "      <td>125.400000</td>\n",
       "      <td>251.20000</td>\n",
       "    </tr>\n",
       "    <tr>\n",
       "      <th>worst area</th>\n",
       "      <td>569.0</td>\n",
       "      <td>880.583128</td>\n",
       "      <td>569.356993</td>\n",
       "      <td>185.200000</td>\n",
       "      <td>515.300000</td>\n",
       "      <td>686.500000</td>\n",
       "      <td>1084.000000</td>\n",
       "      <td>4254.00000</td>\n",
       "    </tr>\n",
       "    <tr>\n",
       "      <th>worst smoothness</th>\n",
       "      <td>569.0</td>\n",
       "      <td>0.132369</td>\n",
       "      <td>0.022832</td>\n",
       "      <td>0.071170</td>\n",
       "      <td>0.116600</td>\n",
       "      <td>0.131300</td>\n",
       "      <td>0.146000</td>\n",
       "      <td>0.22260</td>\n",
       "    </tr>\n",
       "    <tr>\n",
       "      <th>worst compactness</th>\n",
       "      <td>569.0</td>\n",
       "      <td>0.254265</td>\n",
       "      <td>0.157336</td>\n",
       "      <td>0.027290</td>\n",
       "      <td>0.147200</td>\n",
       "      <td>0.211900</td>\n",
       "      <td>0.339100</td>\n",
       "      <td>1.05800</td>\n",
       "    </tr>\n",
       "    <tr>\n",
       "      <th>worst concavity</th>\n",
       "      <td>569.0</td>\n",
       "      <td>0.272188</td>\n",
       "      <td>0.208624</td>\n",
       "      <td>0.000000</td>\n",
       "      <td>0.114500</td>\n",
       "      <td>0.226700</td>\n",
       "      <td>0.382900</td>\n",
       "      <td>1.25200</td>\n",
       "    </tr>\n",
       "    <tr>\n",
       "      <th>worst concave points</th>\n",
       "      <td>569.0</td>\n",
       "      <td>0.114606</td>\n",
       "      <td>0.065732</td>\n",
       "      <td>0.000000</td>\n",
       "      <td>0.064930</td>\n",
       "      <td>0.099930</td>\n",
       "      <td>0.161400</td>\n",
       "      <td>0.29100</td>\n",
       "    </tr>\n",
       "    <tr>\n",
       "      <th>worst symmetry</th>\n",
       "      <td>569.0</td>\n",
       "      <td>0.290076</td>\n",
       "      <td>0.061867</td>\n",
       "      <td>0.156500</td>\n",
       "      <td>0.250400</td>\n",
       "      <td>0.282200</td>\n",
       "      <td>0.317900</td>\n",
       "      <td>0.66380</td>\n",
       "    </tr>\n",
       "    <tr>\n",
       "      <th>worst fractal dimension</th>\n",
       "      <td>569.0</td>\n",
       "      <td>0.083946</td>\n",
       "      <td>0.018061</td>\n",
       "      <td>0.055040</td>\n",
       "      <td>0.071460</td>\n",
       "      <td>0.080040</td>\n",
       "      <td>0.092080</td>\n",
       "      <td>0.20750</td>\n",
       "    </tr>\n",
       "    <tr>\n",
       "      <th>benign_0__mal_1</th>\n",
       "      <td>569.0</td>\n",
       "      <td>0.627417</td>\n",
       "      <td>0.483918</td>\n",
       "      <td>0.000000</td>\n",
       "      <td>0.000000</td>\n",
       "      <td>1.000000</td>\n",
       "      <td>1.000000</td>\n",
       "      <td>1.00000</td>\n",
       "    </tr>\n",
       "  </tbody>\n",
       "</table>\n",
       "</div>"
      ],
      "text/plain": [
       "                         count        mean         std         min  \\\n",
       "mean radius              569.0   14.127292    3.524049    6.981000   \n",
       "mean texture             569.0   19.289649    4.301036    9.710000   \n",
       "mean perimeter           569.0   91.969033   24.298981   43.790000   \n",
       "mean area                569.0  654.889104  351.914129  143.500000   \n",
       "mean smoothness          569.0    0.096360    0.014064    0.052630   \n",
       "mean compactness         569.0    0.104341    0.052813    0.019380   \n",
       "mean concavity           569.0    0.088799    0.079720    0.000000   \n",
       "mean concave points      569.0    0.048919    0.038803    0.000000   \n",
       "mean symmetry            569.0    0.181162    0.027414    0.106000   \n",
       "mean fractal dimension   569.0    0.062798    0.007060    0.049960   \n",
       "radius error             569.0    0.405172    0.277313    0.111500   \n",
       "texture error            569.0    1.216853    0.551648    0.360200   \n",
       "perimeter error          569.0    2.866059    2.021855    0.757000   \n",
       "area error               569.0   40.337079   45.491006    6.802000   \n",
       "smoothness error         569.0    0.007041    0.003003    0.001713   \n",
       "compactness error        569.0    0.025478    0.017908    0.002252   \n",
       "concavity error          569.0    0.031894    0.030186    0.000000   \n",
       "concave points error     569.0    0.011796    0.006170    0.000000   \n",
       "symmetry error           569.0    0.020542    0.008266    0.007882   \n",
       "fractal dimension error  569.0    0.003795    0.002646    0.000895   \n",
       "worst radius             569.0   16.269190    4.833242    7.930000   \n",
       "worst texture            569.0   25.677223    6.146258   12.020000   \n",
       "worst perimeter          569.0  107.261213   33.602542   50.410000   \n",
       "worst area               569.0  880.583128  569.356993  185.200000   \n",
       "worst smoothness         569.0    0.132369    0.022832    0.071170   \n",
       "worst compactness        569.0    0.254265    0.157336    0.027290   \n",
       "worst concavity          569.0    0.272188    0.208624    0.000000   \n",
       "worst concave points     569.0    0.114606    0.065732    0.000000   \n",
       "worst symmetry           569.0    0.290076    0.061867    0.156500   \n",
       "worst fractal dimension  569.0    0.083946    0.018061    0.055040   \n",
       "benign_0__mal_1          569.0    0.627417    0.483918    0.000000   \n",
       "\n",
       "                                25%         50%          75%         max  \n",
       "mean radius               11.700000   13.370000    15.780000    28.11000  \n",
       "mean texture              16.170000   18.840000    21.800000    39.28000  \n",
       "mean perimeter            75.170000   86.240000   104.100000   188.50000  \n",
       "mean area                420.300000  551.100000   782.700000  2501.00000  \n",
       "mean smoothness            0.086370    0.095870     0.105300     0.16340  \n",
       "mean compactness           0.064920    0.092630     0.130400     0.34540  \n",
       "mean concavity             0.029560    0.061540     0.130700     0.42680  \n",
       "mean concave points        0.020310    0.033500     0.074000     0.20120  \n",
       "mean symmetry              0.161900    0.179200     0.195700     0.30400  \n",
       "mean fractal dimension     0.057700    0.061540     0.066120     0.09744  \n",
       "radius error               0.232400    0.324200     0.478900     2.87300  \n",
       "texture error              0.833900    1.108000     1.474000     4.88500  \n",
       "perimeter error            1.606000    2.287000     3.357000    21.98000  \n",
       "area error                17.850000   24.530000    45.190000   542.20000  \n",
       "smoothness error           0.005169    0.006380     0.008146     0.03113  \n",
       "compactness error          0.013080    0.020450     0.032450     0.13540  \n",
       "concavity error            0.015090    0.025890     0.042050     0.39600  \n",
       "concave points error       0.007638    0.010930     0.014710     0.05279  \n",
       "symmetry error             0.015160    0.018730     0.023480     0.07895  \n",
       "fractal dimension error    0.002248    0.003187     0.004558     0.02984  \n",
       "worst radius              13.010000   14.970000    18.790000    36.04000  \n",
       "worst texture             21.080000   25.410000    29.720000    49.54000  \n",
       "worst perimeter           84.110000   97.660000   125.400000   251.20000  \n",
       "worst area               515.300000  686.500000  1084.000000  4254.00000  \n",
       "worst smoothness           0.116600    0.131300     0.146000     0.22260  \n",
       "worst compactness          0.147200    0.211900     0.339100     1.05800  \n",
       "worst concavity            0.114500    0.226700     0.382900     1.25200  \n",
       "worst concave points       0.064930    0.099930     0.161400     0.29100  \n",
       "worst symmetry             0.250400    0.282200     0.317900     0.66380  \n",
       "worst fractal dimension    0.071460    0.080040     0.092080     0.20750  \n",
       "benign_0__mal_1            0.000000    1.000000     1.000000     1.00000  "
      ]
     },
     "execution_count": 59,
     "metadata": {},
     "output_type": "execute_result"
    }
   ],
   "source": [
    "df.describe().transpose()"
   ]
  },
  {
   "cell_type": "code",
   "execution_count": 60,
   "metadata": {},
   "outputs": [],
   "source": [
    "import seaborn as sns\n",
    "import matplotlib.pyplot as plt"
   ]
  },
  {
   "cell_type": "code",
   "execution_count": 62,
   "metadata": {},
   "outputs": [
    {
     "data": {
      "text/plain": [
       "<matplotlib.axes._subplots.AxesSubplot at 0x25e52e6d8c8>"
      ]
     },
     "execution_count": 62,
     "metadata": {},
     "output_type": "execute_result"
    },
    {
     "data": {
      "image/png": "[encoded data removed]",
      "text/plain": [
       "<Figure size 432x288 with 1 Axes>"
      ]
     },
     "metadata": {
      "needs_background": "light"
     },
     "output_type": "display_data"
    }
   ],
   "source": [
    "sns.countplot(x='benign_0__mal_1',data=df)"
   ]
  },
  {
   "cell_type": "code",
   "execution_count": 63,
   "metadata": {},
   "outputs": [
    {
     "data": {
      "text/plain": [
       "<matplotlib.axes._subplots.AxesSubplot at 0x25e52edfa48>"
      ]
     },
     "execution_count": 63,
     "metadata": {},
     "output_type": "execute_result"
    },
    {
     "data": {
      "image/png": "[encoded data removed]",
      "text/plain": [
       "<Figure size 432x288 with 2 Axes>"
      ]
     },
     "metadata": {
      "needs_background": "light"
     },
     "output_type": "display_data"
    }
   ],
   "source": [
    "sns.heatmap(df.corr())"
   ]
  },
  {
   "cell_type": "code",
   "execution_count": 68,
   "metadata": {},
   "outputs": [
    {
     "data": {
      "text/plain": [
       "<matplotlib.axes._subplots.AxesSubplot at 0x25e530c9348>"
      ]
     },
     "execution_count": 68,
     "metadata": {},
     "output_type": "execute_result"
    },
    {
     "data": {
      "image/png": "[encoded data removed]",
      "text/plain": [
       "<Figure size 432x288 with 1 Axes>"
      ]
     },
     "metadata": {
      "needs_background": "light"
     },
     "output_type": "display_data"
    }
   ],
   "source": [
    "df.corr()['benign_0__mal_1'].sort_values().plot(kind='bar')"
   ]
  },
  {
   "cell_type": "code",
   "execution_count": 70,
   "metadata": {},
   "outputs": [
    {
     "data": {
      "text/plain": [
       "<matplotlib.axes._subplots.AxesSubplot at 0x25e532c8f08>"
      ]
     },
     "execution_count": 70,
     "metadata": {},
     "output_type": "execute_result"
    },
    {
     "data": {
      "image/png": "[encoded data removed]",
      "text/plain": [
       "<Figure size 432x288 with 1 Axes>"
      ]
     },
     "metadata": {
      "needs_background": "light"
     },
     "output_type": "display_data"
    }
   ],
   "source": [
    "df.corr()['benign_0__mal_1'][:-1].sort_values().plot(kind='bar')"
   ]
  },
  {
   "cell_type": "markdown",
   "metadata": {},
   "source": [
    "## Train Test Split"
   ]
  },
  {
   "cell_type": "code",
   "execution_count": 73,
   "metadata": {},
   "outputs": [],
   "source": [
    "X = df.drop('benign_0__mal_1',axis=1).values\n",
    "y = df['benign_0__mal_1'].values"
   ]
  },
  {
   "cell_type": "code",
   "execution_count": 74,
   "metadata": {},
   "outputs": [],
   "source": [
    "from sklearn.model_selection import train_test_split"
   ]
  },
  {
   "cell_type": "code",
   "execution_count": 76,
   "metadata": {},
   "outputs": [],
   "source": [
    "X_train, X_test, y_train, y_test = train_test_split(X,y,test_size=0.25,random_state=101)"
   ]
  },
  {
   "cell_type": "code",
   "execution_count": 77,
   "metadata": {},
   "outputs": [],
   "source": [
    "from sklearn.preprocessing import MinMaxScaler"
   ]
  },
  {
   "cell_type": "code",
   "execution_count": 78,
   "metadata": {},
   "outputs": [],
   "source": [
    "scaler = MinMaxScaler()"
   ]
  },
  {
   "cell_type": "code",
   "execution_count": 79,
   "metadata": {},
   "outputs": [
    {
     "data": {
      "text/plain": [
       "MinMaxScaler(copy=True, feature_range=(0, 1))"
      ]
     },
     "execution_count": 79,
     "metadata": {},
     "output_type": "execute_result"
    }
   ],
   "source": [
    "scaler.fit(X_train)"
   ]
  },
  {
   "cell_type": "code",
   "execution_count": 80,
   "metadata": {},
   "outputs": [],
   "source": [
    "X_train = scaler.transform(X_train)\n",
    "X_test = scaler.transform(X_test)"
   ]
  },
  {
   "cell_type": "code",
   "execution_count": 98,
   "metadata": {},
   "outputs": [],
   "source": [
    "import tensorflow as tf\n",
    "from tensorflow.keras.models import Sequential\n",
    "from tensorflow.keras.layers import Dense, Activation,Dropout"
   ]
  },
  {
   "cell_type": "code",
   "execution_count": 99,
   "metadata": {},
   "outputs": [
    {
     "data": {
      "text/plain": [
       "(426, 30)"
      ]
     },
     "execution_count": 99,
     "metadata": {},
     "output_type": "execute_result"
    }
   ],
   "source": [
    "X_train.shape"
   ]
  },
  {
   "cell_type": "code",
   "execution_count": 119,
   "metadata": {},
   "outputs": [],
   "source": [
    "from tensorflow.keras.callbacks import EarlyStopping"
   ]
  },
  {
   "cell_type": "markdown",
   "metadata": {},
   "source": [
    "Stop training when a monitored quantity has stopped improving.\n",
    "\n",
    "    Arguments:\n",
    "        monitor: Quantity to be monitored.\n",
    "        min_delta: Minimum change in the monitored quantity\n",
    "            to qualify as an improvement, i.e. an absolute\n",
    "            change of less than min_delta, will count as no\n",
    "            improvement.\n",
    "        patience: Number of epochs with no improvement\n",
    "            after which training will be stopped.\n",
    "        verbose: verbosity mode.\n",
    "        mode: One of `{\"auto\", \"min\", \"max\"}`. In `min` mode,\n",
    "            training will stop when the quantity\n",
    "            monitored has stopped decreasing; in `max`\n",
    "            mode it will stop when the quantity\n",
    "            monitored has stopped increasing; in `auto`\n",
    "            mode, the direction is automatically inferred\n",
    "            from the name of the monitored quantity."
   ]
  },
  {
   "cell_type": "code",
   "execution_count": 121,
   "metadata": {},
   "outputs": [],
   "source": [
    "early_stop = EarlyStopping(monitor='val_loss', mode='min', verbose=1, patience=25)"
   ]
  },
  {
   "cell_type": "code",
   "execution_count": 125,
   "metadata": {},
   "outputs": [],
   "source": [
    "from tensorflow.keras.layers import Dropout"
   ]
  },
  {
   "cell_type": "code",
   "execution_count": 126,
   "metadata": {},
   "outputs": [],
   "source": [
    "model = Sequential()\n",
    "model.add(Dense(units=30,activation='relu'))\n",
    "model.add(Dropout(0.5))\n",
    "\n",
    "model.add(Dense(units=15,activation='relu'))\n",
    "model.add(Dropout(0.5))\n",
    "\n",
    "model.add(Dense(units=1,activation='sigmoid'))\n",
    "model.compile(loss='binary_crossentropy', optimizer='adam')"
   ]
  },
  {
   "cell_type": "code",
   "execution_count": 127,
   "metadata": {},
   "outputs": [
    {
     "name": "stdout",
     "output_type": "stream",
     "text": [
      "Train on 426 samples, validate on 143 samples\n",
      "Epoch 1/600\n",
      "426/426 [==============================] - 0s 1ms/sample - loss: 0.6894 - val_loss: 0.6833\n",
      "Epoch 2/600\n",
      "426/426 [==============================] - 0s 101us/sample - loss: 0.6828 - val_loss: 0.6722\n",
      "Epoch 3/600\n",
      "426/426 [==============================] - 0s 103us/sample - loss: 0.6817 - val_loss: 0.6584\n",
      "Epoch 4/600\n",
      "426/426 [==============================] - 0s 99us/sample - loss: 0.6626 - val_loss: 0.6439\n",
      "Epoch 5/600\n",
      "426/426 [==============================] - 0s 97us/sample - loss: 0.6450 - val_loss: 0.6319\n",
      "Epoch 6/600\n",
      "426/426 [==============================] - 0s 101us/sample - loss: 0.6343 - val_loss: 0.6138\n",
      "Epoch 7/600\n",
      "426/426 [==============================] - 0s 108us/sample - loss: 0.6207 - val_loss: 0.5962\n",
      "Epoch 8/600\n",
      "426/426 [==============================] - 0s 103us/sample - loss: 0.6005 - val_loss: 0.5744\n",
      "Epoch 9/600\n",
      "426/426 [==============================] - 0s 103us/sample - loss: 0.5897 - val_loss: 0.5444\n",
      "Epoch 10/600\n",
      "426/426 [==============================] - 0s 103us/sample - loss: 0.5627 - val_loss: 0.5118\n",
      "Epoch 11/600\n",
      "426/426 [==============================] - 0s 105us/sample - loss: 0.5253 - val_loss: 0.4753\n",
      "Epoch 12/600\n",
      "426/426 [==============================] - 0s 103us/sample - loss: 0.5047 - val_loss: 0.4371\n",
      "Epoch 13/600\n",
      "426/426 [==============================] - 0s 117us/sample - loss: 0.5106 - val_loss: 0.4084\n",
      "Epoch 14/600\n",
      "426/426 [==============================] - 0s 112us/sample - loss: 0.4720 - val_loss: 0.3854\n",
      "Epoch 15/600\n",
      "426/426 [==============================] - 0s 108us/sample - loss: 0.4493 - val_loss: 0.3616\n",
      "Epoch 16/600\n",
      "426/426 [==============================] - 0s 110us/sample - loss: 0.4197 - val_loss: 0.3379\n",
      "Epoch 17/600\n",
      "426/426 [==============================] - 0s 101us/sample - loss: 0.4065 - val_loss: 0.3203\n",
      "Epoch 18/600\n",
      "426/426 [==============================] - 0s 110us/sample - loss: 0.4075 - val_loss: 0.2978\n",
      "Epoch 19/600\n",
      "426/426 [==============================] - 0s 98us/sample - loss: 0.3697 - val_loss: 0.2815\n",
      "Epoch 20/600\n",
      "426/426 [==============================] - 0s 100us/sample - loss: 0.3830 - val_loss: 0.2639\n",
      "Epoch 21/600\n",
      "426/426 [==============================] - 0s 105us/sample - loss: 0.3382 - val_loss: 0.2479\n",
      "Epoch 22/600\n",
      "426/426 [==============================] - 0s 100us/sample - loss: 0.3434 - val_loss: 0.2353\n",
      "Epoch 23/600\n",
      "426/426 [==============================] - 0s 101us/sample - loss: 0.3226 - val_loss: 0.2264\n",
      "Epoch 24/600\n",
      "426/426 [==============================] - 0s 103us/sample - loss: 0.3114 - val_loss: 0.2149\n",
      "Epoch 25/600\n",
      "426/426 [==============================] - 0s 103us/sample - loss: 0.3048 - val_loss: 0.2018\n",
      "Epoch 26/600\n",
      "426/426 [==============================] - 0s 103us/sample - loss: 0.2849 - val_loss: 0.1914\n",
      "Epoch 27/600\n",
      "426/426 [==============================] - 0s 112us/sample - loss: 0.3049 - val_loss: 0.1915\n",
      "Epoch 28/600\n",
      "426/426 [==============================] - 0s 103us/sample - loss: 0.2759 - val_loss: 0.1818\n",
      "Epoch 29/600\n",
      "426/426 [==============================] - 0s 105us/sample - loss: 0.2556 - val_loss: 0.1692\n",
      "Epoch 30/600\n",
      "426/426 [==============================] - 0s 105us/sample - loss: 0.2710 - val_loss: 0.1626\n",
      "Epoch 31/600\n",
      "426/426 [==============================] - 0s 103us/sample - loss: 0.2513 - val_loss: 0.1651\n",
      "Epoch 32/600\n",
      "426/426 [==============================] - 0s 108us/sample - loss: 0.2271 - val_loss: 0.1604\n",
      "Epoch 33/600\n",
      "426/426 [==============================] - 0s 101us/sample - loss: 0.2228 - val_loss: 0.1485\n",
      "Epoch 34/600\n",
      "426/426 [==============================] - 0s 103us/sample - loss: 0.2075 - val_loss: 0.1436\n",
      "Epoch 35/600\n",
      "426/426 [==============================] - 0s 106us/sample - loss: 0.2497 - val_loss: 0.1485\n",
      "Epoch 36/600\n",
      "426/426 [==============================] - 0s 110us/sample - loss: 0.2471 - val_loss: 0.1463\n",
      "Epoch 37/600\n",
      "426/426 [==============================] - 0s 103us/sample - loss: 0.2297 - val_loss: 0.1353\n",
      "Epoch 38/600\n",
      "426/426 [==============================] - 0s 105us/sample - loss: 0.2069 - val_loss: 0.1347\n",
      "Epoch 39/600\n",
      "426/426 [==============================] - 0s 101us/sample - loss: 0.2065 - val_loss: 0.1362\n",
      "Epoch 40/600\n",
      "426/426 [==============================] - 0s 105us/sample - loss: 0.2121 - val_loss: 0.1332\n",
      "Epoch 41/600\n",
      "426/426 [==============================] - 0s 103us/sample - loss: 0.2117 - val_loss: 0.1285\n",
      "Epoch 42/600\n",
      "426/426 [==============================] - 0s 103us/sample - loss: 0.2076 - val_loss: 0.1344\n",
      "Epoch 43/600\n",
      "426/426 [==============================] - 0s 103us/sample - loss: 0.2027 - val_loss: 0.1351\n",
      "Epoch 44/600\n",
      "426/426 [==============================] - 0s 112us/sample - loss: 0.1709 - val_loss: 0.1189\n",
      "Epoch 45/600\n",
      "426/426 [==============================] - 0s 109us/sample - loss: 0.1620 - val_loss: 0.1149\n",
      "Epoch 46/600\n",
      "426/426 [==============================] - 0s 117us/sample - loss: 0.1735 - val_loss: 0.1234\n",
      "Epoch 47/600\n",
      "426/426 [==============================] - 0s 115us/sample - loss: 0.1710 - val_loss: 0.1131\n",
      "Epoch 48/600\n",
      "426/426 [==============================] - 0s 105us/sample - loss: 0.1628 - val_loss: 0.1112\n",
      "Epoch 49/600\n",
      "426/426 [==============================] - 0s 103us/sample - loss: 0.1824 - val_loss: 0.1270\n",
      "Epoch 50/600\n",
      "426/426 [==============================] - 0s 106us/sample - loss: 0.1905 - val_loss: 0.1101\n",
      "Epoch 51/600\n",
      "426/426 [==============================] - 0s 110us/sample - loss: 0.1841 - val_loss: 0.1075\n",
      "Epoch 52/600\n",
      "426/426 [==============================] - 0s 119us/sample - loss: 0.1650 - val_loss: 0.1062\n",
      "Epoch 53/600\n",
      "426/426 [==============================] - 0s 103us/sample - loss: 0.1576 - val_loss: 0.1089\n",
      "Epoch 54/600\n",
      "426/426 [==============================] - 0s 101us/sample - loss: 0.1636 - val_loss: 0.1059\n",
      "Epoch 55/600\n",
      "426/426 [==============================] - 0s 97us/sample - loss: 0.1857 - val_loss: 0.1050\n",
      "Epoch 56/600\n",
      "426/426 [==============================] - 0s 96us/sample - loss: 0.1671 - val_loss: 0.1035\n",
      "Epoch 57/600\n",
      "426/426 [==============================] - 0s 100us/sample - loss: 0.1833 - val_loss: 0.1034\n",
      "Epoch 58/600\n",
      "426/426 [==============================] - 0s 102us/sample - loss: 0.1444 - val_loss: 0.1045\n",
      "Epoch 59/600\n",
      "426/426 [==============================] - 0s 102us/sample - loss: 0.1601 - val_loss: 0.1026\n",
      "Epoch 60/600\n",
      "426/426 [==============================] - 0s 97us/sample - loss: 0.1622 - val_loss: 0.1004\n",
      "Epoch 61/600\n",
      "426/426 [==============================] - 0s 97us/sample - loss: 0.1687 - val_loss: 0.1115\n",
      "Epoch 62/600\n",
      "426/426 [==============================] - 0s 100us/sample - loss: 0.1508 - val_loss: 0.1101\n",
      "Epoch 63/600\n",
      "426/426 [==============================] - 0s 100us/sample - loss: 0.1349 - val_loss: 0.1008\n",
      "Epoch 64/600\n",
      "426/426 [==============================] - 0s 97us/sample - loss: 0.1498 - val_loss: 0.0994\n",
      "Epoch 65/600\n",
      "426/426 [==============================] - 0s 99us/sample - loss: 0.1401 - val_loss: 0.0989\n",
      "Epoch 66/600\n",
      "426/426 [==============================] - 0s 97us/sample - loss: 0.1494 - val_loss: 0.1005\n",
      "Epoch 67/600\n",
      "426/426 [==============================] - 0s 98us/sample - loss: 0.1411 - val_loss: 0.1055\n",
      "Epoch 68/600\n",
      "426/426 [==============================] - 0s 99us/sample - loss: 0.1453 - val_loss: 0.0959\n",
      "Epoch 69/600\n",
      "426/426 [==============================] - 0s 101us/sample - loss: 0.1608 - val_loss: 0.0978\n",
      "Epoch 70/600\n",
      "426/426 [==============================] - 0s 103us/sample - loss: 0.1537 - val_loss: 0.1042\n",
      "Epoch 71/600\n",
      "426/426 [==============================] - 0s 102us/sample - loss: 0.1324 - val_loss: 0.1009\n",
      "Epoch 72/600\n",
      "426/426 [==============================] - 0s 101us/sample - loss: 0.1238 - val_loss: 0.1012\n",
      "Epoch 73/600\n",
      "426/426 [==============================] - 0s 108us/sample - loss: 0.1334 - val_loss: 0.0958\n",
      "Epoch 74/600\n",
      "426/426 [==============================] - 0s 113us/sample - loss: 0.1238 - val_loss: 0.0956\n",
      "Epoch 75/600\n",
      "426/426 [==============================] - 0s 101us/sample - loss: 0.1210 - val_loss: 0.1081\n",
      "Epoch 76/600\n",
      "426/426 [==============================] - 0s 98us/sample - loss: 0.1400 - val_loss: 0.1109\n",
      "Epoch 77/600\n",
      "426/426 [==============================] - 0s 103us/sample - loss: 0.1371 - val_loss: 0.0992\n",
      "Epoch 78/600\n",
      "426/426 [==============================] - 0s 98us/sample - loss: 0.1228 - val_loss: 0.1019\n",
      "Epoch 79/600\n",
      "426/426 [==============================] - 0s 103us/sample - loss: 0.1097 - val_loss: 0.0958\n",
      "Epoch 80/600\n",
      "426/426 [==============================] - 0s 104us/sample - loss: 0.1086 - val_loss: 0.0939\n",
      "Epoch 81/600\n",
      "426/426 [==============================] - 0s 102us/sample - loss: 0.1100 - val_loss: 0.0974\n",
      "Epoch 82/600\n",
      "426/426 [==============================] - 0s 107us/sample - loss: 0.1394 - val_loss: 0.0995\n",
      "Epoch 83/600\n",
      "426/426 [==============================] - 0s 110us/sample - loss: 0.1069 - val_loss: 0.0951\n",
      "Epoch 84/600\n",
      "426/426 [==============================] - 0s 108us/sample - loss: 0.1095 - val_loss: 0.0961\n",
      "Epoch 85/600\n",
      "426/426 [==============================] - 0s 108us/sample - loss: 0.1262 - val_loss: 0.0995\n",
      "Epoch 86/600\n",
      "426/426 [==============================] - 0s 105us/sample - loss: 0.1187 - val_loss: 0.1073\n",
      "Epoch 87/600\n",
      "426/426 [==============================] - 0s 98us/sample - loss: 0.1299 - val_loss: 0.1042\n",
      "Epoch 88/600\n",
      "426/426 [==============================] - 0s 100us/sample - loss: 0.1254 - val_loss: 0.0914\n",
      "Epoch 89/600\n",
      "426/426 [==============================] - 0s 101us/sample - loss: 0.1074 - val_loss: 0.0981\n",
      "Epoch 90/600\n",
      "426/426 [==============================] - 0s 100us/sample - loss: 0.1012 - val_loss: 0.0926\n",
      "Epoch 91/600\n",
      "426/426 [==============================] - 0s 101us/sample - loss: 0.1200 - val_loss: 0.0911\n",
      "Epoch 92/600\n",
      "426/426 [==============================] - 0s 103us/sample - loss: 0.1301 - val_loss: 0.0937\n",
      "Epoch 93/600\n",
      "426/426 [==============================] - 0s 98us/sample - loss: 0.1004 - val_loss: 0.0917\n",
      "Epoch 94/600\n",
      "426/426 [==============================] - 0s 100us/sample - loss: 0.0971 - val_loss: 0.1013\n",
      "Epoch 95/600\n",
      "426/426 [==============================] - 0s 108us/sample - loss: 0.1240 - val_loss: 0.0910\n",
      "Epoch 96/600\n",
      "426/426 [==============================] - 0s 112us/sample - loss: 0.0974 - val_loss: 0.0979\n",
      "Epoch 97/600\n",
      "426/426 [==============================] - 0s 112us/sample - loss: 0.1092 - val_loss: 0.0995\n",
      "Epoch 98/600\n",
      "426/426 [==============================] - 0s 108us/sample - loss: 0.1039 - val_loss: 0.0935\n",
      "Epoch 99/600\n",
      "426/426 [==============================] - 0s 103us/sample - loss: 0.1138 - val_loss: 0.0942\n",
      "Epoch 100/600\n",
      "426/426 [==============================] - 0s 110us/sample - loss: 0.1013 - val_loss: 0.0886\n",
      "Epoch 101/600\n",
      "426/426 [==============================] - 0s 103us/sample - loss: 0.0931 - val_loss: 0.0962\n",
      "Epoch 102/600\n",
      "426/426 [==============================] - 0s 114us/sample - loss: 0.1034 - val_loss: 0.1038\n",
      "Epoch 103/600\n",
      "426/426 [==============================] - 0s 103us/sample - loss: 0.1084 - val_loss: 0.0904\n",
      "Epoch 104/600\n",
      "426/426 [==============================] - 0s 102us/sample - loss: 0.1028 - val_loss: 0.0936\n",
      "Epoch 105/600\n",
      "426/426 [==============================] - 0s 98us/sample - loss: 0.1086 - val_loss: 0.1150\n",
      "Epoch 106/600\n",
      "426/426 [==============================] - 0s 100us/sample - loss: 0.0957 - val_loss: 0.1001\n",
      "Epoch 107/600\n",
      "426/426 [==============================] - 0s 102us/sample - loss: 0.1069 - val_loss: 0.0919\n",
      "Epoch 108/600\n",
      "426/426 [==============================] - 0s 103us/sample - loss: 0.1133 - val_loss: 0.0909\n",
      "Epoch 109/600\n",
      "426/426 [==============================] - 0s 101us/sample - loss: 0.0913 - val_loss: 0.0921\n",
      "Epoch 110/600\n",
      "426/426 [==============================] - 0s 102us/sample - loss: 0.1035 - val_loss: 0.0972\n",
      "Epoch 111/600\n",
      "426/426 [==============================] - 0s 103us/sample - loss: 0.0948 - val_loss: 0.0918\n",
      "Epoch 112/600\n",
      "426/426 [==============================] - 0s 101us/sample - loss: 0.0935 - val_loss: 0.0879\n",
      "Epoch 113/600\n",
      "426/426 [==============================] - 0s 103us/sample - loss: 0.0926 - val_loss: 0.0895\n",
      "Epoch 114/600\n",
      "426/426 [==============================] - 0s 103us/sample - loss: 0.1118 - val_loss: 0.0948\n",
      "Epoch 115/600\n",
      "426/426 [==============================] - 0s 103us/sample - loss: 0.0988 - val_loss: 0.0949\n",
      "Epoch 116/600\n",
      "426/426 [==============================] - 0s 101us/sample - loss: 0.0989 - val_loss: 0.0998\n",
      "Epoch 117/600\n",
      "426/426 [==============================] - 0s 99us/sample - loss: 0.0862 - val_loss: 0.0958\n",
      "Epoch 118/600\n",
      "426/426 [==============================] - 0s 106us/sample - loss: 0.0874 - val_loss: 0.1016\n",
      "Epoch 119/600\n",
      "426/426 [==============================] - 0s 114us/sample - loss: 0.0872 - val_loss: 0.0903\n",
      "Epoch 120/600\n",
      "426/426 [==============================] - 0s 101us/sample - loss: 0.0837 - val_loss: 0.0891\n",
      "Epoch 121/600\n",
      "426/426 [==============================] - 0s 102us/sample - loss: 0.0792 - val_loss: 0.0958\n",
      "Epoch 122/600\n",
      "426/426 [==============================] - 0s 103us/sample - loss: 0.0897 - val_loss: 0.0931\n",
      "Epoch 123/600\n",
      "426/426 [==============================] - 0s 101us/sample - loss: 0.0768 - val_loss: 0.1000\n",
      "Epoch 124/600\n",
      "426/426 [==============================] - 0s 103us/sample - loss: 0.1034 - val_loss: 0.1016\n",
      "Epoch 125/600\n",
      "426/426 [==============================] - 0s 105us/sample - loss: 0.0951 - val_loss: 0.0962\n",
      "Epoch 126/600\n",
      "426/426 [==============================] - 0s 112us/sample - loss: 0.1027 - val_loss: 0.0997\n",
      "Epoch 127/600\n",
      "426/426 [==============================] - 0s 105us/sample - loss: 0.1118 - val_loss: 0.0951\n",
      "Epoch 128/600\n",
      "426/426 [==============================] - 0s 99us/sample - loss: 0.0911 - val_loss: 0.0979\n",
      "Epoch 129/600\n",
      "426/426 [==============================] - 0s 103us/sample - loss: 0.0955 - val_loss: 0.0954\n",
      "Epoch 130/600\n",
      "426/426 [==============================] - 0s 105us/sample - loss: 0.1043 - val_loss: 0.0945\n",
      "Epoch 131/600\n",
      "426/426 [==============================] - 0s 99us/sample - loss: 0.0746 - val_loss: 0.0893\n",
      "Epoch 132/600\n",
      "426/426 [==============================] - 0s 103us/sample - loss: 0.0892 - val_loss: 0.0981\n",
      "Epoch 133/600\n",
      "426/426 [==============================] - 0s 103us/sample - loss: 0.0792 - val_loss: 0.0917\n",
      "Epoch 134/600\n",
      "426/426 [==============================] - 0s 101us/sample - loss: 0.0745 - val_loss: 0.0945\n",
      "Epoch 135/600\n",
      "426/426 [==============================] - 0s 105us/sample - loss: 0.1174 - val_loss: 0.0962\n",
      "Epoch 136/600\n",
      "426/426 [==============================] - 0s 99us/sample - loss: 0.1183 - val_loss: 0.0955\n",
      "Epoch 137/600\n",
      "426/426 [==============================] - 0s 104us/sample - loss: 0.0861 - val_loss: 0.0970\n",
      "Epoch 00137: early stopping\n"
     ]
    },
    {
     "data": {
      "text/plain": [
       "<tensorflow.python.keras.callbacks.History at 0x260b3c18288>"
      ]
     },
     "execution_count": 127,
     "metadata": {},
     "output_type": "execute_result"
    }
   ],
   "source": [
    "model.fit(x=X_train, \n",
    "          y=y_train, \n",
    "          epochs=600,\n",
    "          validation_data=(X_test, y_test), verbose=1,\n",
    "          callbacks=[early_stop]\n",
    "          )"
   ]
  },
  {
   "cell_type": "code",
   "execution_count": 128,
   "metadata": {},
   "outputs": [
    {
     "data": {
      "text/plain": [
       "<matplotlib.axes._subplots.AxesSubplot at 0x260b4590288>"
      ]
     },
     "execution_count": 128,
     "metadata": {},
     "output_type": "execute_result"
    },
    {
     "data": {
      "image/png": "[encoded data removed]",
      "text/plain": [
       "<Figure size 432x288 with 1 Axes>"
      ]
     },
     "metadata": {
      "needs_background": "light"
     },
     "output_type": "display_data"
    }
   ],
   "source": [
    "model_loss = pd.DataFrame(model.history.history)\n",
    "model_loss.plot()"
   ]
  },
  {
   "cell_type": "markdown",
   "metadata": {},
   "source": [
    "# Model Evaluation"
   ]
  },
  {
   "cell_type": "code",
   "execution_count": 129,
   "metadata": {},
   "outputs": [],
   "source": [
    "predictions = model.predict_classes(X_test)"
   ]
  },
  {
   "cell_type": "code",
   "execution_count": 130,
   "metadata": {},
   "outputs": [],
   "source": [
    "from sklearn.metrics import classification_report,confusion_matrix"
   ]
  },
  {
   "cell_type": "code",
   "execution_count": 131,
   "metadata": {},
   "outputs": [
    {
     "name": "stdout",
     "output_type": "stream",
     "text": [
      "              precision    recall  f1-score   support\n",
      "\n",
      "           0       0.96      0.98      0.97        55\n",
      "           1       0.99      0.98      0.98        88\n",
      "\n",
      "    accuracy                           0.98       143\n",
      "   macro avg       0.98      0.98      0.98       143\n",
      "weighted avg       0.98      0.98      0.98       143\n",
      "\n"
     ]
    }
   ],
   "source": [
    "print(classification_report(y_test,predictions))"
   ]
  },
  {
   "cell_type": "code",
   "execution_count": 133,
   "metadata": {},
   "outputs": [
    {
     "name": "stdout",
     "output_type": "stream",
     "text": [
      "[[54  1]\n",
      " [ 2 86]]\n"
     ]
    }
   ],
   "source": [
    "print(confusion_matrix(y_test,predictions))"
   ]
  }
 ],
 "metadata": {
  "kernelspec": {
   "display_name": "Python 3 (ipykernel)",
   "language": "python",
   "name": "python3"
  },
  "language_info": {
   "codemirror_mode": {
    "name": "ipython",
    "version": 3
   },
   "file_extension": ".py",
   "mimetype": "text/x-python",
   "name": "python",
   "nbconvert_exporter": "python",
   "pygments_lexer": "ipython3",
   "version": "3.10.9"
  }
 },
 "nbformat": 4,
 "nbformat_minor": 2
}
