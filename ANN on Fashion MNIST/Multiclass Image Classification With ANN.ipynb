{
 "cells": [
  {
   "cell_type": "markdown",
   "id": "97d98af6",
   "metadata": {},
   "source": [
    "# Multiclass Image Classifiation with ANN"
   ]
  },
  {
   "cell_type": "markdown",
   "id": "96387ae8",
   "metadata": {},
   "source": [
    "Multiclass image classification is a type of machine learning problem where the goal is to classify an image into one of several possible classes. For example, given an image of a fruit, the task might be to classify the fruit as an apple, banana, or orange."
   ]
  },
  {
   "cell_type": "markdown",
   "id": "d65107a8",
   "metadata": {},
   "source": [
    "# Importing The Libraries"
   ]
  },
  {
   "cell_type": "code",
   "execution_count": 1,
   "id": "a8babaec",
   "metadata": {},
   "outputs": [],
   "source": [
    "import pandas as pd\n",
    "import numpy as np\n",
    "import matplotlib.pyplot as plt\n",
    "import seaborn as sns\n",
    "\n",
    "%matplotlib inline"
   ]
  },
  {
   "cell_type": "code",
   "execution_count": 2,
   "id": "bafdfb53",
   "metadata": {},
   "outputs": [],
   "source": [
    "import tensorflow as tf"
   ]
  },
  {
   "cell_type": "code",
   "execution_count": 3,
   "id": "793bc85b",
   "metadata": {},
   "outputs": [],
   "source": [
    "from tensorflow.keras.datasets import fashion_mnist"
   ]
  },
  {
   "cell_type": "code",
   "execution_count": 4,
   "id": "bf67def5",
   "metadata": {},
   "outputs": [
    {
     "name": "stdout",
     "output_type": "stream",
     "text": [
      "Downloading data from https://storage.googleapis.com/tensorflow/tf-keras-datasets/train-labels-idx1-ubyte.gz\n",
      "29515/29515 [==============================] - 0s 3us/step\n",
      "Downloading data from https://storage.googleapis.com/tensorflow/tf-keras-datasets/train-images-idx3-ubyte.gz\n",
      "26421880/26421880 [==============================] - 8s 0us/step\n",
      "Downloading data from https://storage.googleapis.com/tensorflow/tf-keras-datasets/t10k-labels-idx1-ubyte.gz\n",
      "5148/5148 [==============================] - 0s 0s/step\n",
      "Downloading data from https://storage.googleapis.com/tensorflow/tf-keras-datasets/t10k-images-idx3-ubyte.gz\n",
      "4422102/4422102 [==============================] - 4s 1us/step\n"
     ]
    }
   ],
   "source": [
    "(x_train, y_train), (x_test, y_test) = fashion_mnist.load_data()"
   ]
  },
  {
   "cell_type": "code",
   "execution_count": 5,
   "id": "99158e42",
   "metadata": {},
   "outputs": [
    {
     "data": {
      "text/plain": [
       "((60000, 28, 28), (10000, 28, 28))"
      ]
     },
     "execution_count": 5,
     "metadata": {},
     "output_type": "execute_result"
    }
   ],
   "source": [
    "x_train.shape, x_test.shape"
   ]
  },
  {
   "cell_type": "code",
   "execution_count": 6,
   "id": "55038703",
   "metadata": {},
   "outputs": [
    {
     "data": {
      "text/plain": [
       "((60000,), (10000,))"
      ]
     },
     "execution_count": 6,
     "metadata": {},
     "output_type": "execute_result"
    }
   ],
   "source": [
    "y_train.shape, y_test.shape"
   ]
  },
  {
   "cell_type": "code",
   "execution_count": 7,
   "id": "9aa053ed",
   "metadata": {},
   "outputs": [
    {
     "data": {
      "text/plain": [
       "array([[[0, 0, 0, ..., 0, 0, 0],\n",
       "        [0, 0, 0, ..., 0, 0, 0],\n",
       "        [0, 0, 0, ..., 0, 0, 0],\n",
       "        ...,\n",
       "        [0, 0, 0, ..., 0, 0, 0],\n",
       "        [0, 0, 0, ..., 0, 0, 0],\n",
       "        [0, 0, 0, ..., 0, 0, 0]],\n",
       "\n",
       "       [[0, 0, 0, ..., 0, 0, 0],\n",
       "        [0, 0, 0, ..., 0, 0, 0],\n",
       "        [0, 0, 0, ..., 0, 0, 0],\n",
       "        ...,\n",
       "        [0, 0, 0, ..., 0, 0, 0],\n",
       "        [0, 0, 0, ..., 0, 0, 0],\n",
       "        [0, 0, 0, ..., 0, 0, 0]],\n",
       "\n",
       "       [[0, 0, 0, ..., 0, 0, 0],\n",
       "        [0, 0, 0, ..., 0, 0, 0],\n",
       "        [0, 0, 0, ..., 0, 0, 0],\n",
       "        ...,\n",
       "        [0, 0, 0, ..., 0, 0, 0],\n",
       "        [0, 0, 0, ..., 0, 0, 0],\n",
       "        [0, 0, 0, ..., 0, 0, 0]],\n",
       "\n",
       "       ...,\n",
       "\n",
       "       [[0, 0, 0, ..., 0, 0, 0],\n",
       "        [0, 0, 0, ..., 0, 0, 0],\n",
       "        [0, 0, 0, ..., 0, 0, 0],\n",
       "        ...,\n",
       "        [0, 0, 0, ..., 0, 0, 0],\n",
       "        [0, 0, 0, ..., 0, 0, 0],\n",
       "        [0, 0, 0, ..., 0, 0, 0]],\n",
       "\n",
       "       [[0, 0, 0, ..., 0, 0, 0],\n",
       "        [0, 0, 0, ..., 0, 0, 0],\n",
       "        [0, 0, 0, ..., 0, 0, 0],\n",
       "        ...,\n",
       "        [0, 0, 0, ..., 0, 0, 0],\n",
       "        [0, 0, 0, ..., 0, 0, 0],\n",
       "        [0, 0, 0, ..., 0, 0, 0]],\n",
       "\n",
       "       [[0, 0, 0, ..., 0, 0, 0],\n",
       "        [0, 0, 0, ..., 0, 0, 0],\n",
       "        [0, 0, 0, ..., 0, 0, 0],\n",
       "        ...,\n",
       "        [0, 0, 0, ..., 0, 0, 0],\n",
       "        [0, 0, 0, ..., 0, 0, 0],\n",
       "        [0, 0, 0, ..., 0, 0, 0]]], dtype=uint8)"
      ]
     },
     "execution_count": 7,
     "metadata": {},
     "output_type": "execute_result"
    }
   ],
   "source": [
    "x_train"
   ]
  },
  {
   "cell_type": "code",
   "execution_count": 8,
   "id": "3b9575e6",
   "metadata": {},
   "outputs": [
    {
     "data": {
      "text/plain": [
       "255"
      ]
     },
     "execution_count": 8,
     "metadata": {},
     "output_type": "execute_result"
    }
   ],
   "source": [
    "np.max(x_train)"
   ]
  },
  {
   "cell_type": "code",
   "execution_count": 10,
   "id": "00c7dfab",
   "metadata": {},
   "outputs": [
    {
     "data": {
      "text/plain": [
       "(0, 72.94035223214286)"
      ]
     },
     "execution_count": 10,
     "metadata": {},
     "output_type": "execute_result"
    }
   ],
   "source": [
    "np.min(x_train), np.mean(x_train)"
   ]
  },
  {
   "cell_type": "code",
   "execution_count": 11,
   "id": "47d384e8",
   "metadata": {},
   "outputs": [
    {
     "data": {
      "text/plain": [
       "array([9, 0, 0, ..., 3, 0, 5], dtype=uint8)"
      ]
     },
     "execution_count": 11,
     "metadata": {},
     "output_type": "execute_result"
    }
   ],
   "source": [
    "y_train"
   ]
  },
  {
   "cell_type": "code",
   "execution_count": 12,
   "id": "5dd2b533",
   "metadata": {},
   "outputs": [
    {
     "data": {
      "text/plain": [
       "(9, 0)"
      ]
     },
     "execution_count": 12,
     "metadata": {},
     "output_type": "execute_result"
    }
   ],
   "source": [
    "np.max(y_train), np.min(y_train)"
   ]
  },
  {
   "cell_type": "code",
   "execution_count": 14,
   "id": "e320496c",
   "metadata": {},
   "outputs": [
    {
     "name": "stdout",
     "output_type": "stream",
     "text": [
      "['0 Top]T-shirt', '1 Trouser', '2 Pullover', '3 Dress', '4 Coat', '5 Sandal', '6 Shirt', '7 Sneaker', '8 Bag', '9 Ankle boot']\n"
     ]
    }
   ],
   "source": [
    "class_names = ['0 Top]T-shirt', '1 Trouser', '2 Pullover', '3 Dress', '4 Coat', '5 Sandal', '6 Shirt', '7 Sneaker', '8 Bag', '9 Ankle boot']\n",
    "print(class_names)"
   ]
  },
  {
   "cell_type": "markdown",
   "id": "c3f8639a",
   "metadata": {},
   "source": [
    "# Data Exploration"
   ]
  },
  {
   "cell_type": "markdown",
   "id": "8d4ab619",
   "metadata": {},
   "source": [
    "Data exploration is the process of getting to know the data you are working with in a machine learning project. It involves performing various types of analyses and visualizations to gain insights into the structure, quality, and characteristics of the data. The goal of data exploration is to identify any issues or patterns in the data that may need to be addressed before building a machine learning model."
   ]
  },
  {
   "cell_type": "code",
   "execution_count": 16,
   "id": "2bc8d27b",
   "metadata": {},
   "outputs": [
    {
     "data": {
      "text/plain": [
       "<matplotlib.image.AxesImage at 0x22d54df8910>"
      ]
     },
     "execution_count": 16,
     "metadata": {},
     "output_type": "execute_result"
    },
    {
     "data": {
      "image/png": "[encoded data removed]",
      "text/plain": [
       "<Figure size 432x288 with 1 Axes>"
      ]
     },
     "metadata": {
      "needs_background": "light"
     },
     "output_type": "display_data"
    }
   ],
   "source": [
    "plt.figure()\n",
    "plt.imshow(x_train[5])"
   ]
  },
  {
   "cell_type": "markdown",
   "id": "f92776f2",
   "metadata": {},
   "source": [
    "# Normalizing The Data"
   ]
  },
  {
   "cell_type": "markdown",
   "id": "860854c0",
   "metadata": {},
   "source": [
    "Normalizing the data refers to the process of scaling the input data so that all features have a similar scale and distribution. This is often done as a preprocessing step before feeding the data into a machine learning model."
   ]
  },
  {
   "cell_type": "markdown",
   "id": "41eea5f9",
   "metadata": {},
   "source": [
    "Normalization is important because features that are on different scales can have a disproportionate impact on the model's training process and can make it difficult for the model to learn meaningful patterns and relationships. For example, if one feature has values ranging from 0 to 100, and another feature has values ranging from 0 to 0.1, the second feature will have much less impact on the model's training process."
   ]
  },
  {
   "cell_type": "code",
   "execution_count": 17,
   "id": "5a6fe5f1",
   "metadata": {},
   "outputs": [],
   "source": [
    "x_train = x_train / 255.0\n",
    "x_test = x_test / 255.0"
   ]
  },
  {
   "cell_type": "code",
   "execution_count": 18,
   "id": "3f542233",
   "metadata": {},
   "outputs": [
    {
     "data": {
      "text/plain": [
       "<matplotlib.colorbar.Colorbar at 0x22d55036200>"
      ]
     },
     "execution_count": 18,
     "metadata": {},
     "output_type": "execute_result"
    },
    {
     "data": {
      "image/png": "[encoded data removed]",
      "text/plain": [
       "<Figure size 432x288 with 2 Axes>"
      ]
     },
     "metadata": {
      "needs_background": "light"
     },
     "output_type": "display_data"
    }
   ],
   "source": [
    "plt.figure()\n",
    "plt.imshow(x_train[20])\n",
    "plt.colorbar()"
   ]
  },
  {
   "cell_type": "markdown",
   "id": "dc5ed6cc",
   "metadata": {},
   "source": [
    "# Flattening The DataSet"
   ]
  },
  {
   "cell_type": "markdown",
   "id": "03714a1a",
   "metadata": {},
   "source": [
    "Flattening the data refers to the process of converting multi-dimensional data (such as images or tensors) into a one-dimensional array or vector. This is often done as a preprocessing step before feeding the data into a machine learning model."
   ]
  },
  {
   "cell_type": "markdown",
   "id": "a5e50677",
   "metadata": {},
   "source": [
    "By flattening the input data, we can more easily process it in a neural network and extract meaningful patterns and relationships."
   ]
  },
  {
   "cell_type": "code",
   "execution_count": 19,
   "id": "08f0ab3a",
   "metadata": {},
   "outputs": [
    {
     "data": {
      "text/plain": [
       "((60000, 28, 28), (10000, 28, 28))"
      ]
     },
     "execution_count": 19,
     "metadata": {},
     "output_type": "execute_result"
    }
   ],
   "source": [
    "x_train.shape, x_test.shape"
   ]
  },
  {
   "cell_type": "code",
   "execution_count": 20,
   "id": "49ee46d2",
   "metadata": {},
   "outputs": [],
   "source": [
    "x_train = x_train.reshape(-1, 28*28)\n",
    "x_test = x_test.reshape(-1, 28*28)"
   ]
  },
  {
   "cell_type": "code",
   "execution_count": 21,
   "id": "4b223fea",
   "metadata": {},
   "outputs": [
    {
     "data": {
      "text/plain": [
       "((60000, 784), (10000, 784))"
      ]
     },
     "execution_count": 21,
     "metadata": {},
     "output_type": "execute_result"
    }
   ],
   "source": [
    "x_train.shape, x_test.shape"
   ]
  },
  {
   "cell_type": "markdown",
   "id": "3ef88c50",
   "metadata": {},
   "source": [
    "# Building The Model"
   ]
  },
  {
   "cell_type": "code",
   "execution_count": 22,
   "id": "ff342098",
   "metadata": {},
   "outputs": [],
   "source": [
    "model = tf.keras.models.Sequential()"
   ]
  },
  {
   "cell_type": "code",
   "execution_count": 24,
   "id": "24250953",
   "metadata": {},
   "outputs": [],
   "source": [
    "model.add(tf.keras.layers.Dense(units = 128, activation = 'relu', input_shape = (784, )))"
   ]
  },
  {
   "cell_type": "code",
   "execution_count": 25,
   "id": "8ea62a2f",
   "metadata": {},
   "outputs": [],
   "source": [
    "model.add(tf.keras.layers.Dropout(0.3))"
   ]
  },
  {
   "cell_type": "code",
   "execution_count": 26,
   "id": "ba2e727b",
   "metadata": {},
   "outputs": [],
   "source": [
    "model.add(tf.keras.layers.Dense(units = 10, activation = 'softmax'))"
   ]
  },
  {
   "cell_type": "markdown",
   "id": "f437ab03",
   "metadata": {},
   "source": [
    "# Training The Model"
   ]
  },
  {
   "cell_type": "markdown",
   "id": "8095ba16",
   "metadata": {},
   "source": [
    "To train a machine learning model, we need to define the model architecture and compile it with an optimizer, a loss function, and one or more evaluation metrics. We also need to prepare the training data by preprocessing it and splitting it into batches."
   ]
  },
  {
   "cell_type": "code",
   "execution_count": 28,
   "id": "17419b02",
   "metadata": {},
   "outputs": [],
   "source": [
    "model.compile(optimizer = 'adam',\n",
    "              loss = 'sparse_categorical_crossentropy',\n",
    "              metrics = 'sparse_categorical_accuracy')"
   ]
  },
  {
   "cell_type": "code",
   "execution_count": 29,
   "id": "68d908cc",
   "metadata": {},
   "outputs": [
    {
     "name": "stdout",
     "output_type": "stream",
     "text": [
      "Model: \"sequential\"\n",
      "_________________________________________________________________\n",
      " Layer (type)                Output Shape              Param #   \n",
      "=================================================================\n",
      " dense (Dense)               (None, 128)               100480    \n",
      "                                                                 \n",
      " dropout (Dropout)           (None, 128)               0         \n",
      "                                                                 \n",
      " dense_1 (Dense)             (None, 10)                1290      \n",
      "                                                                 \n",
      "=================================================================\n",
      "Total params: 101,770\n",
      "Trainable params: 101,770\n",
      "Non-trainable params: 0\n",
      "_________________________________________________________________\n"
     ]
    }
   ],
   "source": [
    "model.summary()"
   ]
  },
  {
   "cell_type": "code",
   "execution_count": 30,
   "id": "e6dbd5a5",
   "metadata": {},
   "outputs": [
    {
     "name": "stdout",
     "output_type": "stream",
     "text": [
      "Epoch 1/10\n",
      "1875/1875 [==============================] - 32s 14ms/step - loss: 0.5557 - sparse_categorical_accuracy: 0.8041\n",
      "Epoch 2/10\n",
      "1875/1875 [==============================] - 34s 18ms/step - loss: 0.4198 - sparse_categorical_accuracy: 0.8480\n",
      "Epoch 3/10\n",
      "1875/1875 [==============================] - 51s 27ms/step - loss: 0.3856 - sparse_categorical_accuracy: 0.8600\n",
      "Epoch 4/10\n",
      "1875/1875 [==============================] - 24s 13ms/step - loss: 0.3654 - sparse_categorical_accuracy: 0.8666\n",
      "Epoch 5/10\n",
      "1875/1875 [==============================] - 19s 10ms/step - loss: 0.3509 - sparse_categorical_accuracy: 0.8710\n",
      "Epoch 6/10\n",
      "1875/1875 [==============================] - 18s 10ms/step - loss: 0.3396 - sparse_categorical_accuracy: 0.8757\n",
      "Epoch 7/10\n",
      "1875/1875 [==============================] - 30s 16ms/step - loss: 0.3300 - sparse_categorical_accuracy: 0.8758\n",
      "Epoch 8/10\n",
      "1875/1875 [==============================] - 23s 13ms/step - loss: 0.3195 - sparse_categorical_accuracy: 0.8814\n",
      "Epoch 9/10\n",
      "1875/1875 [==============================] - 26s 14ms/step - loss: 0.3132 - sparse_categorical_accuracy: 0.8841\n",
      "Epoch 10/10\n",
      "1875/1875 [==============================] - 26s 14ms/step - loss: 0.3069 - sparse_categorical_accuracy: 0.8858\n"
     ]
    },
    {
     "data": {
      "text/plain": [
       "<keras.callbacks.History at 0x22d724079d0>"
      ]
     },
     "execution_count": 30,
     "metadata": {},
     "output_type": "execute_result"
    }
   ],
   "source": [
    "model.fit(x_train, y_train, epochs = 10)\n"
   ]
  },
  {
   "cell_type": "code",
   "execution_count": 31,
   "id": "8d162272",
   "metadata": {},
   "outputs": [
    {
     "name": "stdout",
     "output_type": "stream",
     "text": [
      "313/313 [==============================] - 2s 5ms/step - loss: 0.3409 - sparse_categorical_accuracy: 0.8802\n"
     ]
    }
   ],
   "source": [
    "test_loss, test_accuracy = model.evaluate(x_test, y_test)"
   ]
  },
  {
   "cell_type": "code",
   "execution_count": 32,
   "id": "c710b490",
   "metadata": {},
   "outputs": [
    {
     "name": "stdout",
     "output_type": "stream",
     "text": [
      "Accuracy: .0.8802000284194946\n"
     ]
    }
   ],
   "source": [
    "print('Accuracy: .{}'.format(test_accuracy))"
   ]
  },
  {
   "cell_type": "code",
   "execution_count": 36,
   "id": "40d4c78a",
   "metadata": {},
   "outputs": [
    {
     "name": "stdout",
     "output_type": "stream",
     "text": [
      "313/313 [==============================] - 2s 5ms/step\n"
     ]
    }
   ],
   "source": [
    "y_pred_prob = model.predict(x_test)\n",
    "y_pred = np.argmax(y_pred_prob, axis=1)"
   ]
  },
  {
   "cell_type": "code",
   "execution_count": 37,
   "id": "3013d725",
   "metadata": {},
   "outputs": [
    {
     "name": "stdout",
     "output_type": "stream",
     "text": [
      "[9 2 1 ... 8 1 5]\n"
     ]
    }
   ],
   "source": [
    "print(y_pred)"
   ]
  },
  {
   "cell_type": "code",
   "execution_count": 38,
   "id": "82053abe",
   "metadata": {},
   "outputs": [
    {
     "data": {
      "text/plain": [
       "(3, 3)"
      ]
     },
     "execution_count": 38,
     "metadata": {},
     "output_type": "execute_result"
    }
   ],
   "source": [
    "y_pred[100], y_test[100] #predicted and actual output"
   ]
  },
  {
   "cell_type": "code",
   "execution_count": 39,
   "id": "75d4019b",
   "metadata": {},
   "outputs": [
    {
     "name": "stdout",
     "output_type": "stream",
     "text": [
      "['0 Top]T-shirt', '1 Trouser', '2 Pullover', '3 Dress', '4 Coat', '5 Sandal', '6 Shirt', '7 Sneaker', '8 Bag', '9 Ankle boot']\n"
     ]
    }
   ],
   "source": [
    "print(class_names)"
   ]
  },
  {
   "cell_type": "code",
   "execution_count": 41,
   "id": "766c18c6",
   "metadata": {},
   "outputs": [],
   "source": [
    "from sklearn.metrics import confusion_matrix, accuracy_score"
   ]
  },
  {
   "cell_type": "markdown",
   "id": "396f3382",
   "metadata": {},
   "source": [
    "A confusion matrix is a table that is often used to evaluate the performance of a classification model. It shows the number of true positives, true negatives, false positives, and false negatives for each class in the predicted versus actual classification."
   ]
  },
  {
   "cell_type": "code",
   "execution_count": 42,
   "id": "794513ce",
   "metadata": {},
   "outputs": [],
   "source": [
    "confusion_matrix = confusion_matrix(y_pred, y_test)"
   ]
  },
  {
   "cell_type": "code",
   "execution_count": 43,
   "id": "7523ce2c",
   "metadata": {},
   "outputs": [
    {
     "data": {
      "text/plain": [
       "array([[849,   3,  16,  34,   0,   0, 131,   0,   4,   0],\n",
       "       [  0, 963,   0,   5,   0,   0,   1,   0,   0,   0],\n",
       "       [ 12,   1, 789,   8,  83,   0, 100,   0,   2,   0],\n",
       "       [ 19,  25,   6, 871,  16,   0,  26,   0,   6,   0],\n",
       "       [  6,   5, 133,  56, 861,   0, 106,   0,   5,   0],\n",
       "       [  1,   0,   0,   0,   0, 967,   0,  18,   3,  11],\n",
       "       [104,   1,  54,  24,  36,   0, 623,   0,   3,   1],\n",
       "       [  0,   0,   0,   0,   0,  20,   0, 959,   3,  42],\n",
       "       [  9,   2,   2,   2,   4,   1,  13,   0, 974,   0],\n",
       "       [  0,   0,   0,   0,   0,  12,   0,  23,   0, 946]], dtype=int64)"
      ]
     },
     "execution_count": 43,
     "metadata": {},
     "output_type": "execute_result"
    }
   ],
   "source": [
    "confusion_matrix"
   ]
  },
  {
   "cell_type": "code",
   "execution_count": 44,
   "id": "49a5b9fd",
   "metadata": {},
   "outputs": [],
   "source": [
    "confusion_matrix_accuracy = accuracy_score(y_test, y_pred)"
   ]
  },
  {
   "cell_type": "code",
   "execution_count": 45,
   "id": "f07e1c7c",
   "metadata": {},
   "outputs": [
    {
     "data": {
      "text/plain": [
       "0.8802"
      ]
     },
     "execution_count": 45,
     "metadata": {},
     "output_type": "execute_result"
    }
   ],
   "source": [
    "confusion_matrix_accuracy"
   ]
  },
  {
   "cell_type": "code",
   "execution_count": null,
   "id": "90601efe",
   "metadata": {},
   "outputs": [],
   "source": []
  }
 ],
 "metadata": {
  "kernelspec": {
   "display_name": "Python 3 (ipykernel)",
   "language": "python",
   "name": "python3"
  },
  "language_info": {
   "codemirror_mode": {
    "name": "ipython",
    "version": 3
   },
   "file_extension": ".py",
   "mimetype": "text/x-python",
   "name": "python",
   "nbconvert_exporter": "python",
   "pygments_lexer": "ipython3",
   "version": "3.10.10"
  }
 },
 "nbformat": 4,
 "nbformat_minor": 5
}
