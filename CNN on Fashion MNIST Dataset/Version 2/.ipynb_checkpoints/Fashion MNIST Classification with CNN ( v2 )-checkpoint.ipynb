{
 "cells": [
  {
   "cell_type": "markdown",
   "id": "b569e611",
   "metadata": {},
   "source": [
    "# Fashion MNIST Classification with CNN ( v2 )"
   ]
  },
  {
   "cell_type": "markdown",
   "id": "f9714bdd",
   "metadata": {},
   "source": [
    "Fashion MNIST is a popular dataset that consists of grayscale images of 10 different types of clothing items, such as T-shirts, trousers, dresses, sneakers, etc.\n",
    "\n",
    "his project, we will create a more sophisticated Convolutional Neural Network (CNN) model for classifying the Fashion MNIST dataset. Our primary focus will be on achieving a higher accuracy through various techniques including advanced architecture design, data augmentation, and model optimization."
   ]
  },
  {
   "cell_type": "markdown",
   "id": "f347e518",
   "metadata": {},
   "source": [
    "# Importing Libraries :"
   ]
  },
  {
   "cell_type": "markdown",
   "id": "8f52d1eb",
   "metadata": {},
   "source": [
    "NumPy: NumPy is package for scientific computing in Python. It provides support for large, multi-dimensional arrays and matrices, as well as a wide range of mathematical functions to operate on these arrays efficiently.It is widely used for tasks such as numerical computations, data manipulation, and linear algebra operations.\n",
    "\n",
    "pandas: pandas is a powerful data manipulation and analysis library for Python. It offers data structures like DataFrames and Series, which allow you to store, manipulate, and analyze tabular data easily. pandas provides tools for data cleaning, transformation, aggregation, and exploration, making it an essential library for working with structured data.\n",
    "\n",
    "Matplotlib: Matplotlib is a popular plotting library that enables you to create a wide range of static, animated, and interactive visualizations. It provides a MATLAB-like interface and supports various types of plots, including line plots, scatter plots, bar plots, histograms, and more. Matplotlib gives you extensive control over plot customization, including labels, colors, legends, and annotations, allowing you to effectively communicate insights from your data\n",
    "\n",
    "Seaborn: Seaborn is a statistical data visualization library built on top of Matplotlib. It offers a higher-level interface for creating informative and attractive statistical graphics. Seaborn simplifies the process of creating complex visualizations, such as heatmaps, violin plots, and pair plots, by providing high-level functions with sensible default settings."
   ]
  },
  {
   "cell_type": "code",
   "execution_count": 1,
   "id": "c8592d0a",
   "metadata": {},
   "outputs": [],
   "source": [
    "import numpy as np\n",
    "import pandas as pd\n",
    "import seaborn as sns\n",
    "import matplotlib.pyplot as plt\n",
    "\n",
    "%matplotlib inline"
   ]
  },
  {
   "cell_type": "code",
   "execution_count": 2,
   "id": "e55cbb00",
   "metadata": {},
   "outputs": [],
   "source": [
    "import warnings\n",
    "warnings.filterwarnings('ignore')"
   ]
  },
  {
   "cell_type": "markdown",
   "id": "59b480b6",
   "metadata": {},
   "source": [
    "# Importing Dataset from keras.datasets :"
   ]
  },
  {
   "cell_type": "markdown",
   "id": "0803d43d",
   "metadata": {},
   "source": [
    "The Fashion MNIST dataset consists of grayscale images representing 10 fashion categories, each with 28x28 pixels. It includes 60,000 training and 10,000 test samples, serving as a benchmark for testing image classification algorithms. While not comprehensive, it aids in developing and comparing machine learning techniques and is widely accessible through libraries."
   ]
  },
  {
   "cell_type": "code",
   "execution_count": 3,
   "id": "98a8a2e1",
   "metadata": {},
   "outputs": [],
   "source": [
    "from tensorflow.keras.datasets import fashion_mnist"
   ]
  },
  {
   "cell_type": "markdown",
   "id": "09b6e3d1",
   "metadata": {},
   "source": [
    "# Splitting Dataset into Train - Test :"
   ]
  },
  {
   "cell_type": "markdown",
   "id": "34b41a24",
   "metadata": {},
   "source": [
    "Splitting the data refers to dividing the dataset into separate subsets for training, validation, and testing purposes. This division is essential to assess the performance of a machine learning model on unseen data and prevent overfitting. Here are the common types of data splits:\n",
    "\n",
    "Train-Test Split: This is the most basic type of split, where the dataset is divided into a training set and a testing set. The training set is used to train the machine learning model, while the testing set is used to evaluate its performance. The split is typically done using a fixed ratio, such as 80% for training and 20% for testing."
   ]
  },
  {
   "cell_type": "code",
   "execution_count": 4,
   "id": "1038eec1",
   "metadata": {},
   "outputs": [],
   "source": [
    "(x_train, y_train), (x_test, y_test) = fashion_mnist.load_data()"
   ]
  },
  {
   "cell_type": "code",
   "execution_count": 5,
   "id": "f016fe28",
   "metadata": {},
   "outputs": [
    {
     "data": {
      "text/plain": [
       "((60000, 28, 28), (60000,), (10000, 28, 28), (10000,))"
      ]
     },
     "execution_count": 5,
     "metadata": {},
     "output_type": "execute_result"
    }
   ],
   "source": [
    "x_train.shape, y_train.shape, x_test.shape, y_test.shape"
   ]
  },
  {
   "cell_type": "code",
   "execution_count": 6,
   "id": "f81e2e0d",
   "metadata": {},
   "outputs": [
    {
     "data": {
      "text/plain": [
       "<matplotlib.image.AxesImage at 0x227a1fa6470>"
      ]
     },
     "execution_count": 6,
     "metadata": {},
     "output_type": "execute_result"
    },
    {
     "data": {
      "image/png": "[encoded data removed]",
      "text/plain": [
       "<Figure size 432x288 with 1 Axes>"
      ]
     },
     "metadata": {
      "needs_background": "light"
     },
     "output_type": "display_data"
    }
   ],
   "source": [
    "plt.imshow(x_train[37], cmap = 'gray')"
   ]
  },
  {
   "cell_type": "code",
   "execution_count": 7,
   "id": "3851375f",
   "metadata": {},
   "outputs": [
    {
     "data": {
      "text/plain": [
       "(255, 0)"
      ]
     },
     "execution_count": 7,
     "metadata": {},
     "output_type": "execute_result"
    }
   ],
   "source": [
    "x_train.max(), x_train.min()"
   ]
  },
  {
   "cell_type": "markdown",
   "id": "e84b3eb3",
   "metadata": {},
   "source": [
    "# Normalizing :"
   ]
  },
  {
   "cell_type": "markdown",
   "id": "3b5383bb",
   "metadata": {},
   "source": [
    "Normalizing a dataset involves scaling the data values to a common range, often between 0 and 1. For the Fashion MNIST dataset, this means dividing each pixel value by 255 to transform it into the [0, 1] range. This ensures consistent and optimal data representation for machine learning algorithms."
   ]
  },
  {
   "cell_type": "code",
   "execution_count": 8,
   "id": "c4959b54",
   "metadata": {},
   "outputs": [],
   "source": [
    "x_train = x_train / 255\n",
    "x_test = x_test / 255"
   ]
  },
  {
   "cell_type": "code",
   "execution_count": 9,
   "id": "1a0ca379",
   "metadata": {},
   "outputs": [
    {
     "data": {
      "text/plain": [
       "((60000, 28, 28), (10000, 28, 28))"
      ]
     },
     "execution_count": 9,
     "metadata": {},
     "output_type": "execute_result"
    }
   ],
   "source": [
    "x_train.shape, x_test.shape"
   ]
  },
  {
   "cell_type": "markdown",
   "id": "3efe15e7",
   "metadata": {},
   "source": [
    "# Reshaping : "
   ]
  },
  {
   "cell_type": "markdown",
   "id": "3f7c2e41",
   "metadata": {},
   "source": [
    "Reshaping in the context of the Fashion MNIST dataset involves transforming the 2D grid of image pixels into a format suitable for machine learning. This can include flattening the image into a 1D array or maintaining the 2D structure, depending on the algorithm's requirements."
   ]
  },
  {
   "cell_type": "code",
   "execution_count": 10,
   "id": "b6c319ed",
   "metadata": {},
   "outputs": [],
   "source": [
    "x_train = x_train.reshape(-1, 28, 28, 1)\n",
    "x_test = x_test.reshape(-1, 28, 28, 1)"
   ]
  },
  {
   "cell_type": "code",
   "execution_count": 11,
   "id": "b2b361a9",
   "metadata": {},
   "outputs": [
    {
     "data": {
      "text/plain": [
       "((60000, 28, 28, 1), (10000, 28, 28, 1))"
      ]
     },
     "execution_count": 11,
     "metadata": {},
     "output_type": "execute_result"
    }
   ],
   "source": [
    "x_train.shape, x_test.shape"
   ]
  },
  {
   "cell_type": "markdown",
   "id": "ac6fd198",
   "metadata": {},
   "source": [
    "# Encoding :"
   ]
  },
  {
   "cell_type": "markdown",
   "id": "1d6a41f4",
   "metadata": {},
   "source": [
    "Converting labels to categorical means representing class labels as binary vectors, where each class is uniquely identified by a 'hot' (1) bit while the rest are 'cold' (0). This transformation is used for multi-class classification tasks like Fashion MNIST to make labels compatible with machine learning algorithms."
   ]
  },
  {
   "cell_type": "code",
   "execution_count": 12,
   "id": "2c1727a3",
   "metadata": {},
   "outputs": [],
   "source": [
    "from tensorflow.keras.utils import to_categorical"
   ]
  },
  {
   "cell_type": "code",
   "execution_count": 13,
   "id": "dbfd70ba",
   "metadata": {},
   "outputs": [],
   "source": [
    "y_train_categorical = to_categorical(y_train)\n",
    "y_test_categorical = to_categorical(y_test)"
   ]
  },
  {
   "cell_type": "code",
   "execution_count": 14,
   "id": "d7bd164c",
   "metadata": {},
   "outputs": [
    {
     "data": {
      "text/plain": [
       "array([[0., 0., 0., ..., 0., 0., 1.],\n",
       "       [1., 0., 0., ..., 0., 0., 0.],\n",
       "       [1., 0., 0., ..., 0., 0., 0.],\n",
       "       ...,\n",
       "       [0., 0., 0., ..., 0., 0., 0.],\n",
       "       [1., 0., 0., ..., 0., 0., 0.],\n",
       "       [0., 0., 0., ..., 0., 0., 0.]], dtype=float32)"
      ]
     },
     "execution_count": 14,
     "metadata": {},
     "output_type": "execute_result"
    }
   ],
   "source": [
    "y_train_categorical"
   ]
  },
  {
   "cell_type": "code",
   "execution_count": 15,
   "id": "2713efce",
   "metadata": {},
   "outputs": [
    {
     "data": {
      "text/plain": [
       "array([[0., 0., 0., ..., 0., 0., 1.],\n",
       "       [0., 0., 1., ..., 0., 0., 0.],\n",
       "       [0., 1., 0., ..., 0., 0., 0.],\n",
       "       ...,\n",
       "       [0., 0., 0., ..., 0., 1., 0.],\n",
       "       [0., 1., 0., ..., 0., 0., 0.],\n",
       "       [0., 0., 0., ..., 0., 0., 0.]], dtype=float32)"
      ]
     },
     "execution_count": 15,
     "metadata": {},
     "output_type": "execute_result"
    }
   ],
   "source": [
    "y_test_categorical"
   ]
  },
  {
   "cell_type": "markdown",
   "id": "b1e72834",
   "metadata": {},
   "source": [
    "# Validation Split :"
   ]
  },
  {
   "cell_type": "markdown",
   "id": "60d02e1e",
   "metadata": {},
   "source": [
    "Validation split involves creating a subset from the training data for evaluating and fine-tuning the model before testing, aiding in preventing overfitting and optimizing performance."
   ]
  },
  {
   "cell_type": "code",
   "execution_count": 16,
   "id": "680b82bb",
   "metadata": {},
   "outputs": [],
   "source": [
    "from sklearn.model_selection import train_test_split"
   ]
  },
  {
   "cell_type": "code",
   "execution_count": 17,
   "id": "080f1bde",
   "metadata": {},
   "outputs": [],
   "source": [
    "x_train, x_valid, y_train, y_valid = train_test_split(x_train, \n",
    "                                                      y_train_categorical, \n",
    "                                                      test_size = 0.2, \n",
    "                                                      random_state = 42)"
   ]
  },
  {
   "cell_type": "code",
   "execution_count": 18,
   "id": "d755af89",
   "metadata": {},
   "outputs": [
    {
     "data": {
      "text/plain": [
       "((48000, 28, 28, 1), (12000, 28, 28, 1), (48000, 10), (12000, 10))"
      ]
     },
     "execution_count": 18,
     "metadata": {},
     "output_type": "execute_result"
    }
   ],
   "source": [
    "x_train.shape, x_valid.shape, y_train.shape, y_valid.shape"
   ]
  },
  {
   "cell_type": "markdown",
   "id": "bc28ce54",
   "metadata": {},
   "source": [
    "# Building Model :"
   ]
  },
  {
   "cell_type": "markdown",
   "id": "4178230f",
   "metadata": {},
   "source": [
    "To build a model for the Fashion MNIST classification project, a Convolutional Neural Network (CNN) is crafted. This architecture involves stacking convolutional and pooling layers for feature extraction, followed by fully connected layers for classification. The model is compiled with an optimizer (e.g., Adam), categorical cross-entropy loss, and accuracy metric to guide training. This design enables the model to effectively learn and classify fashion items from the dataset"
   ]
  },
  {
   "cell_type": "code",
   "execution_count": 19,
   "id": "d42d9d72",
   "metadata": {},
   "outputs": [],
   "source": [
    "num_classes = 10"
   ]
  },
  {
   "cell_type": "code",
   "execution_count": 22,
   "id": "dcf5a8a6",
   "metadata": {},
   "outputs": [],
   "source": [
    "from tensorflow.keras.models import Sequential\n",
    "from tensorflow.keras.layers import Dense, Dropout, Flatten, Activation\n",
    "from tensorflow.keras.layers import Conv2D, MaxPooling2D\n",
    "from tensorflow.keras.optimizers import Adam\n",
    "from tensorflow.keras.layers import LeakyReLU"
   ]
  },
  {
   "cell_type": "code",
   "execution_count": 23,
   "id": "2cf419b5",
   "metadata": {},
   "outputs": [],
   "source": [
    "mnist_model = Sequential()\n",
    "mnist_model.add(Conv2D(32, kernel_size = (3, 3), padding = 'same', activation = 'linear',input_shape = (28,28,1)))\n",
    "mnist_model.add(LeakyReLU(alpha = 0.1))\n",
    "mnist_model.add(MaxPooling2D((2, 2), padding = 'same'))\n",
    "mnist_model.add(Dropout(0.25))\n",
    "\n",
    "mnist_model.add(Conv2D(64, (3, 3), padding = 'same', activation = 'linear'))\n",
    "mnist_model.add(LeakyReLU(alpha = 0.1))\n",
    "mnist_model.add(MaxPooling2D(pool_size = (2, 2), padding = 'same'))\n",
    "mnist_model.add(Dropout(0.25))\n",
    "\n",
    "mnist_model.add(Conv2D(128, (3, 3), padding = 'same', activation = 'linear'))\n",
    "mnist_model.add(LeakyReLU(alpha = 0.1))                  \n",
    "mnist_model.add(MaxPooling2D(pool_size = (2, 2),padding = 'same'))\n",
    "mnist_model.add(Dropout(0.4))\n",
    "\n",
    "mnist_model.add(Flatten())\n",
    "\n",
    "mnist_model.add(Dense(128, activation = 'linear'))\n",
    "mnist_model.add(LeakyReLU(alpha = 0.1))           \n",
    "mnist_model.add(Dropout(0.3))\n",
    "\n",
    "mnist_model.add(Dense(num_classes, activation = 'softmax'))"
   ]
  },
  {
   "cell_type": "code",
   "execution_count": 24,
   "id": "cc8e981e",
   "metadata": {},
   "outputs": [
    {
     "name": "stdout",
     "output_type": "stream",
     "text": [
      "Model: \"sequential\"\n",
      "_________________________________________________________________\n",
      " Layer (type)                Output Shape              Param #   \n",
      "=================================================================\n",
      " conv2d (Conv2D)             (None, 28, 28, 32)        320       \n",
      "                                                                 \n",
      " leaky_re_lu (LeakyReLU)     (None, 28, 28, 32)        0         \n",
      "                                                                 \n",
      " max_pooling2d (MaxPooling2D  (None, 14, 14, 32)       0         \n",
      " )                                                               \n",
      "                                                                 \n",
      " dropout (Dropout)           (None, 14, 14, 32)        0         \n",
      "                                                                 \n",
      " conv2d_1 (Conv2D)           (None, 14, 14, 64)        18496     \n",
      "                                                                 \n",
      " leaky_re_lu_1 (LeakyReLU)   (None, 14, 14, 64)        0         \n",
      "                                                                 \n",
      " max_pooling2d_1 (MaxPooling  (None, 7, 7, 64)         0         \n",
      " 2D)                                                             \n",
      "                                                                 \n",
      " dropout_1 (Dropout)         (None, 7, 7, 64)          0         \n",
      "                                                                 \n",
      " conv2d_2 (Conv2D)           (None, 7, 7, 128)         73856     \n",
      "                                                                 \n",
      " leaky_re_lu_2 (LeakyReLU)   (None, 7, 7, 128)         0         \n",
      "                                                                 \n",
      " max_pooling2d_2 (MaxPooling  (None, 4, 4, 128)        0         \n",
      " 2D)                                                             \n",
      "                                                                 \n",
      " dropout_2 (Dropout)         (None, 4, 4, 128)         0         \n",
      "                                                                 \n",
      " flatten (Flatten)           (None, 2048)              0         \n",
      "                                                                 \n",
      " dense (Dense)               (None, 128)               262272    \n",
      "                                                                 \n",
      " leaky_re_lu_3 (LeakyReLU)   (None, 128)               0         \n",
      "                                                                 \n",
      " dropout_3 (Dropout)         (None, 128)               0         \n",
      "                                                                 \n",
      " dense_1 (Dense)             (None, 10)                1290      \n",
      "                                                                 \n",
      "=================================================================\n",
      "Total params: 356,234\n",
      "Trainable params: 356,234\n",
      "Non-trainable params: 0\n",
      "_________________________________________________________________\n"
     ]
    }
   ],
   "source": [
    "mnist_model.summary()"
   ]
  },
  {
   "cell_type": "markdown",
   "id": "640be2e6",
   "metadata": {},
   "source": [
    "# Compiling Model :"
   ]
  },
  {
   "cell_type": "markdown",
   "id": "13433129",
   "metadata": {},
   "source": [
    "Compiling the model for the Fashion MNIST classification project entails configuring the model's learning process. This involves selecting a loss function to measure prediction accuracy, choosing an optimizer to update model parameters, and specifying evaluation metrics such as accuracy to monitor its performance. This setup readies the model for effective training, guiding its adjustments towards making accurate predictions on the Fashion MNIST dataset."
   ]
  },
  {
   "cell_type": "code",
   "execution_count": 25,
   "id": "6191e48c",
   "metadata": {},
   "outputs": [],
   "source": [
    "mnist_model.compile(optimizer = 'Adam', loss = 'categorical_crossentropy', metrics = ['accuracy'])"
   ]
  },
  {
   "cell_type": "markdown",
   "id": "e1bd49a1",
   "metadata": {},
   "source": [
    "# Training Model :"
   ]
  },
  {
   "cell_type": "markdown",
   "id": "453887c0",
   "metadata": {},
   "source": [
    "To train a model for the Fashion MNIST classification project, you load and preprocess the dataset, create a CNN model architecture, compile it with loss and optimizer, train the model using the training data while monitoring validation, and evaluate its accuracy on the test set."
   ]
  },
  {
   "cell_type": "code",
   "execution_count": 26,
   "id": "d78e4975",
   "metadata": {},
   "outputs": [
    {
     "name": "stdout",
     "output_type": "stream",
     "text": [
      "Epoch 1/20\n",
      "750/750 [==============================] - 88s 111ms/step - loss: 0.6029 - accuracy: 0.7748 - val_loss: 0.3698 - val_accuracy: 0.8615\n",
      "Epoch 2/20\n",
      "750/750 [==============================] - 87s 116ms/step - loss: 0.3810 - accuracy: 0.8607 - val_loss: 0.3048 - val_accuracy: 0.8855\n",
      "Epoch 3/20\n",
      "750/750 [==============================] - 95s 127ms/step - loss: 0.3296 - accuracy: 0.8775 - val_loss: 0.2739 - val_accuracy: 0.8953\n",
      "Epoch 4/20\n",
      "750/750 [==============================] - 119s 158ms/step - loss: 0.2997 - accuracy: 0.8898 - val_loss: 0.2514 - val_accuracy: 0.9051\n",
      "Epoch 5/20\n",
      "750/750 [==============================] - 117s 156ms/step - loss: 0.2846 - accuracy: 0.8943 - val_loss: 0.2481 - val_accuracy: 0.9065\n",
      "Epoch 6/20\n",
      "750/750 [==============================] - 115s 154ms/step - loss: 0.2666 - accuracy: 0.9005 - val_loss: 0.2335 - val_accuracy: 0.9134\n",
      "Epoch 7/20\n",
      "750/750 [==============================] - 112s 149ms/step - loss: 0.2555 - accuracy: 0.9042 - val_loss: 0.2336 - val_accuracy: 0.9157\n",
      "Epoch 8/20\n",
      "750/750 [==============================] - 121s 161ms/step - loss: 0.2487 - accuracy: 0.9069 - val_loss: 0.2254 - val_accuracy: 0.9146\n",
      "Epoch 9/20\n",
      "750/750 [==============================] - 100s 133ms/step - loss: 0.2399 - accuracy: 0.9104 - val_loss: 0.2182 - val_accuracy: 0.9196\n",
      "Epoch 10/20\n",
      "750/750 [==============================] - 138s 184ms/step - loss: 0.2328 - accuracy: 0.9124 - val_loss: 0.2162 - val_accuracy: 0.9206\n",
      "Epoch 11/20\n",
      "750/750 [==============================] - 108s 144ms/step - loss: 0.2271 - accuracy: 0.9150 - val_loss: 0.2190 - val_accuracy: 0.9158\n",
      "Epoch 12/20\n",
      "750/750 [==============================] - 114s 152ms/step - loss: 0.2191 - accuracy: 0.9160 - val_loss: 0.2104 - val_accuracy: 0.9216\n",
      "Epoch 13/20\n",
      "750/750 [==============================] - 121s 161ms/step - loss: 0.2216 - accuracy: 0.9163 - val_loss: 0.2061 - val_accuracy: 0.9245\n",
      "Epoch 14/20\n",
      "750/750 [==============================] - 111s 147ms/step - loss: 0.2174 - accuracy: 0.9192 - val_loss: 0.2026 - val_accuracy: 0.9237\n",
      "Epoch 15/20\n",
      "750/750 [==============================] - 116s 155ms/step - loss: 0.2094 - accuracy: 0.9215 - val_loss: 0.2102 - val_accuracy: 0.9236\n",
      "Epoch 16/20\n",
      "750/750 [==============================] - 129s 172ms/step - loss: 0.2056 - accuracy: 0.9227 - val_loss: 0.2068 - val_accuracy: 0.9253\n",
      "Epoch 17/20\n",
      "750/750 [==============================] - 107s 142ms/step - loss: 0.2060 - accuracy: 0.9227 - val_loss: 0.2032 - val_accuracy: 0.9244\n",
      "Epoch 18/20\n",
      "750/750 [==============================] - 126s 168ms/step - loss: 0.2035 - accuracy: 0.9230 - val_loss: 0.2008 - val_accuracy: 0.9263\n",
      "Epoch 19/20\n",
      "750/750 [==============================] - 97s 129ms/step - loss: 0.2007 - accuracy: 0.9254 - val_loss: 0.1980 - val_accuracy: 0.9301\n",
      "Epoch 20/20\n",
      "750/750 [==============================] - 87s 116ms/step - loss: 0.1984 - accuracy: 0.9242 - val_loss: 0.2008 - val_accuracy: 0.9275\n"
     ]
    }
   ],
   "source": [
    "history = mnist_model.fit(x_train, y_train ,\n",
    "                          batch_size = 64, \n",
    "                          epochs = 20, \n",
    "                          validation_data = (x_valid, y_valid))"
   ]
  },
  {
   "cell_type": "code",
   "execution_count": 27,
   "id": "9a7e85f1",
   "metadata": {},
   "outputs": [],
   "source": [
    "evaluation_test = mnist_model.evaluate(x_test, y_test_categorical, verbose = 0)"
   ]
  },
  {
   "cell_type": "code",
   "execution_count": 28,
   "id": "f87cabb9",
   "metadata": {},
   "outputs": [
    {
     "name": "stdout",
     "output_type": "stream",
     "text": [
      "Accuracy =  0.9200999736785889\n",
      "Loss =  0.22763130068778992\n"
     ]
    }
   ],
   "source": [
    "print(\"Accuracy = \", evaluation_test[1])\n",
    "print(\"Loss = \", evaluation_test[0])"
   ]
  },
  {
   "cell_type": "code",
   "execution_count": 29,
   "id": "b9e76364",
   "metadata": {},
   "outputs": [],
   "source": [
    "mnist_model.save('fashionMNIST_classifier_v3.h5')"
   ]
  },
  {
   "cell_type": "code",
   "execution_count": 30,
   "id": "26825da0",
   "metadata": {},
   "outputs": [],
   "source": [
    "accuracy = history.history['accuracy']\n",
    "val_accuracy = history.history['val_accuracy']\n",
    "loss = history.history['loss']\n",
    "val_loss = history.history['val_loss']\n",
    "epochs = range(len(accuracy))"
   ]
  },
  {
   "cell_type": "markdown",
   "id": "8ed65831",
   "metadata": {},
   "source": [
    "# Learning Curve :"
   ]
  },
  {
   "cell_type": "markdown",
   "id": "e6e94428",
   "metadata": {},
   "source": [
    "A learning curve illustrates how a model's performance evolves as it's trained on increasing amounts of data. It helps assess whether the model is overfitting (high training accuracy but low validation/test accuracy) or underfitting (both training and validation/test accuracy are low)."
   ]
  },
  {
   "cell_type": "markdown",
   "id": "7eaac748",
   "metadata": {},
   "source": [
    "# Accuracy Curve :"
   ]
  },
  {
   "cell_type": "markdown",
   "id": "43d65fb1",
   "metadata": {},
   "source": [
    "An accuracy curve illustrates how a model's accuracy changes over epochs during training. Higher accuracy indicates better performance. Plotting training and validation accuracy helps identify overfitting (training accuracy much higher than validation) or convergence (both stabilize). For the Fashion MNIST project, design a CNN, compile it, train, and plot accuracy over epochs to optimize the model's performance."
   ]
  },
  {
   "cell_type": "code",
   "execution_count": 32,
   "id": "2d45ef38",
   "metadata": {},
   "outputs": [
    {
     "data": {
      "text/plain": [
       "<matplotlib.legend.Legend at 0x227a1523340>"
      ]
     },
     "execution_count": 32,
     "metadata": {},
     "output_type": "execute_result"
    },
    {
     "data": {
      "image/png": "[encoded data removed]",
      "text/plain": [
       "<Figure size 432x288 with 1 Axes>"
      ]
     },
     "metadata": {
      "needs_background": "light"
     },
     "output_type": "display_data"
    }
   ],
   "source": [
    "plt.plot(epochs, accuracy, 'b', label='Training accuracy')\n",
    "plt.plot(epochs, val_accuracy, 'r', label='Validation accuracy')\n",
    "plt.title('Training and validation accuracy')\n",
    "plt.xlabel('Epochs')\n",
    "plt.ylabel('Accuracy')\n",
    "plt.legend()"
   ]
  },
  {
   "cell_type": "markdown",
   "id": "322f8abf",
   "metadata": {},
   "source": [
    "# Loss Curve :"
   ]
  },
  {
   "cell_type": "markdown",
   "id": "cab0b2bc",
   "metadata": {},
   "source": [
    "A loss curve represents how a model's error changes during training. It helps monitor convergence and identify overfitting. For the Fashion MNIST project, design a CNN, compile it, train over epochs, and plot the training and validation loss."
   ]
  },
  {
   "cell_type": "code",
   "execution_count": 33,
   "id": "0ac27a36",
   "metadata": {},
   "outputs": [
    {
     "data": {
      "text/plain": [
       "<matplotlib.legend.Legend at 0x227a1572dd0>"
      ]
     },
     "execution_count": 33,
     "metadata": {},
     "output_type": "execute_result"
    },
    {
     "data": {
      "image/png": "[encoded data removed]",
      "text/plain": [
       "<Figure size 432x288 with 1 Axes>"
      ]
     },
     "metadata": {
      "needs_background": "light"
     },
     "output_type": "display_data"
    }
   ],
   "source": [
    "plt.plot(epochs, loss, 'b', label='Training loss')\n",
    "plt.plot(epochs, val_loss, 'r', label='Validation loss')\n",
    "plt.title('Training and validation loss')\n",
    "plt.xlabel('Epochs')\n",
    "plt.ylabel('Loss')\n",
    "plt.legend()"
   ]
  },
  {
   "cell_type": "code",
   "execution_count": 36,
   "id": "a9c3b7aa",
   "metadata": {},
   "outputs": [
    {
     "name": "stdout",
     "output_type": "stream",
     "text": [
      "313/313 [==============================] - 7s 22ms/step\n"
     ]
    }
   ],
   "source": [
    "predictions = mnist_model.predict(x_test)\n",
    "predicted_classes = predictions.argmax(axis=1)"
   ]
  },
  {
   "cell_type": "markdown",
   "id": "bb8dcc89",
   "metadata": {},
   "source": [
    "# Error Analysis :"
   ]
  },
  {
   "cell_type": "markdown",
   "id": "31675d17",
   "metadata": {},
   "source": [
    "Error analysis for the Fashion MNIST project entails examining misclassified samples to uncover patterns and weaknesses. This informs adjustments to the model's architecture, parameters, or data preprocessing. Iterative refinement through techniques like data augmentation and fine-tuning helps enhance the model's performance."
   ]
  },
  {
   "cell_type": "code",
   "execution_count": 34,
   "id": "dbaa81d7",
   "metadata": {},
   "outputs": [],
   "source": [
    "from sklearn.metrics import classification_report, confusion_matrix"
   ]
  },
  {
   "cell_type": "code",
   "execution_count": 37,
   "id": "1459b2bd",
   "metadata": {},
   "outputs": [
    {
     "name": "stdout",
     "output_type": "stream",
     "text": [
      "              precision    recall  f1-score   support\n",
      "\n",
      "           0       0.85      0.89      0.87       957\n",
      "           1       0.99      0.99      0.99       995\n",
      "           2       0.85      0.89      0.87       954\n",
      "           3       0.95      0.90      0.92      1050\n",
      "           4       0.88      0.87      0.87      1012\n",
      "           5       0.98      0.99      0.99       995\n",
      "           6       0.78      0.75      0.76      1032\n",
      "           7       0.98      0.95      0.97      1033\n",
      "           8       0.98      0.99      0.99       993\n",
      "           9       0.96      0.98      0.97       979\n",
      "\n",
      "    accuracy                           0.92     10000\n",
      "   macro avg       0.92      0.92      0.92     10000\n",
      "weighted avg       0.92      0.92      0.92     10000\n",
      "\n"
     ]
    }
   ],
   "source": [
    "print(classification_report(predicted_classes, y_test))"
   ]
  },
  {
   "cell_type": "code",
   "execution_count": 40,
   "id": "0fb9e768",
   "metadata": {},
   "outputs": [],
   "source": [
    "confusion_matrix = confusion_matrix(predicted_classes, y_test)"
   ]
  },
  {
   "cell_type": "code",
   "execution_count": 41,
   "id": "8ddbf355",
   "metadata": {},
   "outputs": [
    {
     "data": {
      "text/plain": [
       "array([[854,   0,  15,   7,   0,   0,  78,   0,   3,   0],\n",
       "       [  0, 986,   1,   5,   0,   0,   2,   0,   1,   0],\n",
       "       [ 13,   0, 853,   9,  27,   0,  49,   0,   2,   1],\n",
       "       [ 14,   9,   9, 946,  41,   0,  31,   0,   0,   0],\n",
       "       [  3,   2,  62,   9, 876,   0,  60,   0,   0,   0],\n",
       "       [  2,   0,   0,   0,   0, 984,   0,   2,   2,   5],\n",
       "       [111,   1,  60,  24,  56,   0, 776,   0,   4,   0],\n",
       "       [  0,   0,   0,   0,   0,  15,   0, 981,   4,  33],\n",
       "       [  3,   2,   0,   0,   0,   0,   4,   0, 984,   0],\n",
       "       [  0,   0,   0,   0,   0,   1,   0,  17,   0, 961]], dtype=int64)"
      ]
     },
     "execution_count": 41,
     "metadata": {},
     "output_type": "execute_result"
    }
   ],
   "source": [
    "confusion_matrix"
   ]
  },
  {
   "cell_type": "code",
   "execution_count": 42,
   "id": "bbbf6e40",
   "metadata": {},
   "outputs": [
    {
     "data": {
      "text/plain": [
       "<AxesSubplot:>"
      ]
     },
     "execution_count": 42,
     "metadata": {},
     "output_type": "execute_result"
    },
    {
     "data": {
      "image/png": "[encoded data removed]",
      "text/plain": [
       "<Figure size 432x288 with 2 Axes>"
      ]
     },
     "metadata": {
      "needs_background": "light"
     },
     "output_type": "display_data"
    }
   ],
   "source": [
    "plt.figure(figsize = (6, 4))\n",
    "sns.heatmap(confusion_matrix, \n",
    "            annot = True, \n",
    "            cmap = 'coolwarm')"
   ]
  },
  {
   "cell_type": "markdown",
   "id": "545e8fa7",
   "metadata": {},
   "source": [
    "# Prediction :"
   ]
  },
  {
   "cell_type": "code",
   "execution_count": 38,
   "id": "dc35c96b",
   "metadata": {},
   "outputs": [
    {
     "data": {
      "text/plain": [
       "<matplotlib.image.AxesImage at 0x227a16f0040>"
      ]
     },
     "execution_count": 38,
     "metadata": {},
     "output_type": "execute_result"
    },
    {
     "data": {
      "image/png": "[encoded data removed]",
      "text/plain": [
       "<Figure size 432x288 with 1 Axes>"
      ]
     },
     "metadata": {
      "needs_background": "light"
     },
     "output_type": "display_data"
    }
   ],
   "source": [
    "test_prediction = x_test[10]\n",
    "plt.imshow(test_prediction.reshape(28,28))"
   ]
  },
  {
   "cell_type": "code",
   "execution_count": 39,
   "id": "d9f9a31e",
   "metadata": {},
   "outputs": [
    {
     "name": "stdout",
     "output_type": "stream",
     "text": [
      "1/1 [==============================] - 0s 102ms/step\n",
      "Predicted class: 4\n"
     ]
    }
   ],
   "source": [
    "predictions = mnist_model.predict(test_prediction.reshape(1, 28, 28, 1))\n",
    "predicted_class = np.argmax(predictions)\n",
    "\n",
    "print(\"Predicted class:\", predicted_class)"
   ]
  },
  {
   "cell_type": "markdown",
   "id": "ef0b9e92",
   "metadata": {},
   "source": [
    "# Thanks !"
   ]
  }
 ],
 "metadata": {
  "kernelspec": {
   "display_name": "Python 3 (ipykernel)",
   "language": "python",
   "name": "python3"
  },
  "language_info": {
   "codemirror_mode": {
    "name": "ipython",
    "version": 3
   },
   "file_extension": ".py",
   "mimetype": "text/x-python",
   "name": "python",
   "nbconvert_exporter": "python",
   "pygments_lexer": "ipython3",
   "version": "3.10.9"
  }
 },
 "nbformat": 4,
 "nbformat_minor": 5
}
