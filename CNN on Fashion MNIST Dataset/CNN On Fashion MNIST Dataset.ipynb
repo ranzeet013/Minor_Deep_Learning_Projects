{
 "cells": [
  {
   "cell_type": "markdown",
   "id": "83e8b081",
   "metadata": {},
   "source": [
    "# Importing Libraries"
   ]
  },
  {
   "cell_type": "markdown",
   "id": "058fa046",
   "metadata": {},
   "source": [
    "These are just a few examples of popular Python libraries. You can import any other library using the same import statement followed by the library name or alias:\n",
    "\n",
    "NumPy: for numerical operations and array manipulation\n",
    "\n",
    "Pandas: for data manipulation and analysis\n",
    "\n",
    "Matplotlib: for creating visualizations\n",
    "\n",
    "Scikit-learn: for machine learning algorithms"
   ]
  },
  {
   "cell_type": "code",
   "execution_count": 2,
   "id": "ece9a397",
   "metadata": {},
   "outputs": [],
   "source": [
    "import pandas as pd\n",
    "import matplotlib.pyplot as plt\n",
    "import seaborn as sns\n",
    "import matplotlib.pyplot as plt\n",
    "\n",
    "%matplotlib inline"
   ]
  },
  {
   "cell_type": "code",
   "execution_count": 3,
   "id": "37db855f",
   "metadata": {},
   "outputs": [],
   "source": [
    "import warnings\n",
    "warnings.filterwarnings('ignore')"
   ]
  },
  {
   "cell_type": "markdown",
   "id": "487b1ae2",
   "metadata": {},
   "source": [
    "# Reading Dataset from Keras.datasets"
   ]
  },
  {
   "cell_type": "code",
   "execution_count": 4,
   "id": "e442525a",
   "metadata": {},
   "outputs": [],
   "source": [
    "from tensorflow.keras.datasets import fashion_mnist"
   ]
  },
  {
   "cell_type": "markdown",
   "id": "51fb614a",
   "metadata": {},
   "source": [
    "# Splitting Dataset"
   ]
  },
  {
   "cell_type": "markdown",
   "id": "032844f4",
   "metadata": {},
   "source": [
    "Dataset splitting is an important step in machine learning and data analysis. It involves dividing a dataset into two or more subsets to train and evaluate a model effectively. The most common type of dataset splitting is into training and testing subsets.\n",
    "\n",
    "Train-Test Split: This is the most basic type of split, where the dataset is divided into a training set and a testing set. The training set is used to train the machine learning model, while the testing set is used to evaluate its performance. The split is typically done using a fixed ratio, such as 80% for training and 20% for testing."
   ]
  },
  {
   "cell_type": "code",
   "execution_count": 5,
   "id": "7b89dba8",
   "metadata": {},
   "outputs": [],
   "source": [
    "(x_train, y_train), (x_test, y_test) = fashion_mnist.load_data()"
   ]
  },
  {
   "cell_type": "code",
   "execution_count": 6,
   "id": "91814e34",
   "metadata": {},
   "outputs": [
    {
     "data": {
      "text/plain": [
       "((60000, 28, 28), (10000, 28, 28), (60000,), (10000,))"
      ]
     },
     "execution_count": 6,
     "metadata": {},
     "output_type": "execute_result"
    }
   ],
   "source": [
    "x_train.shape, x_test.shape, y_train.shape, y_test.shape"
   ]
  },
  {
   "cell_type": "code",
   "execution_count": 7,
   "id": "ed0ca096",
   "metadata": {},
   "outputs": [
    {
     "data": {
      "text/plain": [
       "255"
      ]
     },
     "execution_count": 7,
     "metadata": {},
     "output_type": "execute_result"
    }
   ],
   "source": [
    "x_train.max()"
   ]
  },
  {
   "cell_type": "code",
   "execution_count": 8,
   "id": "e87bd1ab",
   "metadata": {},
   "outputs": [],
   "source": [
    "x_train = x_train/255"
   ]
  },
  {
   "cell_type": "code",
   "execution_count": 9,
   "id": "2d3355a0",
   "metadata": {},
   "outputs": [],
   "source": [
    "x_test = x_test/255"
   ]
  },
  {
   "cell_type": "code",
   "execution_count": 10,
   "id": "a3b009c4",
   "metadata": {},
   "outputs": [
    {
     "data": {
      "text/plain": [
       "((60000, 28, 28), (10000, 28, 28))"
      ]
     },
     "execution_count": 10,
     "metadata": {},
     "output_type": "execute_result"
    }
   ],
   "source": [
    "x_train.shape, x_test.shape"
   ]
  },
  {
   "cell_type": "markdown",
   "id": "fbb99ec2",
   "metadata": {},
   "source": [
    "# Reshaping"
   ]
  },
  {
   "cell_type": "markdown",
   "id": "789154af",
   "metadata": {},
   "source": [
    "Reshaping data is a common operation in machine learning when you need to adjust the dimensions or structure of your data to meet the requirements of a particular algorithm or model."
   ]
  },
  {
   "cell_type": "code",
   "execution_count": 11,
   "id": "a4b0ad1a",
   "metadata": {},
   "outputs": [],
   "source": [
    "x_train = x_train.reshape(60000,28,28,1)"
   ]
  },
  {
   "cell_type": "code",
   "execution_count": 12,
   "id": "19aadc52",
   "metadata": {},
   "outputs": [],
   "source": [
    "x_test = x_test.reshape(10000,28,28,1)"
   ]
  },
  {
   "cell_type": "code",
   "execution_count": 13,
   "id": "940f34b9",
   "metadata": {},
   "outputs": [
    {
     "data": {
      "text/plain": [
       "((60000, 28, 28, 1), (10000, 28, 28, 1))"
      ]
     },
     "execution_count": 13,
     "metadata": {},
     "output_type": "execute_result"
    }
   ],
   "source": [
    "x_train.shape, x_test.shape"
   ]
  },
  {
   "cell_type": "markdown",
   "id": "5e5b0301",
   "metadata": {},
   "source": [
    "# Converting to Categorical"
   ]
  },
  {
   "cell_type": "markdown",
   "id": "61333c5e",
   "metadata": {},
   "source": [
    "Converting data to categorical format is often necessary for certain machine learning tasks, especially when dealing with categorical or nominal variables. This conversion is typically performed to represent the categorical variables as numeric values that can be processed by machine learning algorithms."
   ]
  },
  {
   "cell_type": "code",
   "execution_count": 14,
   "id": "e6294875",
   "metadata": {},
   "outputs": [],
   "source": [
    "from tensorflow.keras.utils import to_categorical"
   ]
  },
  {
   "cell_type": "code",
   "execution_count": 15,
   "id": "6c57cb1b",
   "metadata": {},
   "outputs": [],
   "source": [
    "y_cat_train = to_categorical(y_train)\n",
    "y_cat_test = to_categorical(y_test)"
   ]
  },
  {
   "cell_type": "markdown",
   "id": "a09128a8",
   "metadata": {},
   "source": [
    "# Building Model"
   ]
  },
  {
   "cell_type": "markdown",
   "id": "384921a1",
   "metadata": {},
   "source": [
    "Creating a deep learning model involves defining the architecture and structure of the neural network, specifying the layers, and configuring the parameters for training."
   ]
  },
  {
   "cell_type": "code",
   "execution_count": 16,
   "id": "35b01c51",
   "metadata": {},
   "outputs": [],
   "source": [
    "from tensorflow.keras.models import Sequential\n",
    "from tensorflow.keras.layers import Dense, Conv2D, MaxPool2D, Flatten"
   ]
  },
  {
   "cell_type": "code",
   "execution_count": 17,
   "id": "691e260d",
   "metadata": {},
   "outputs": [],
   "source": [
    "model = Sequential()\n",
    "\n",
    "model.add(Conv2D(filters=32, kernel_size=(4,4),input_shape=(28, 28, 1), activation='relu',))\n",
    "model.add(MaxPool2D(pool_size=(2, 2)))\n",
    "\n",
    "model.add(Flatten())\n",
    "\n",
    "model.add(Dense(128, activation='relu'))\n",
    "\n",
    "model.add(Dense(10, activation='softmax'))\n",
    "\n",
    "model.compile(loss='categorical_crossentropy',\n",
    "              optimizer='rmsprop',\n",
    "              metrics=['accuracy'])"
   ]
  },
  {
   "cell_type": "markdown",
   "id": "5d24e03c",
   "metadata": {},
   "source": [
    "# Model Summary"
   ]
  },
  {
   "cell_type": "markdown",
   "id": "58a2425b",
   "metadata": {},
   "source": [
    "A model summary provides a concise overview of the architecture and parameters of a machine learning model. It typically includes information about the layers in the model, the number of parameters in each layer, and the total number of trainable parameters in the model."
   ]
  },
  {
   "cell_type": "code",
   "execution_count": 18,
   "id": "23377937",
   "metadata": {},
   "outputs": [
    {
     "name": "stdout",
     "output_type": "stream",
     "text": [
      "Model: \"sequential\"\n",
      "_________________________________________________________________\n",
      " Layer (type)                Output Shape              Param #   \n",
      "=================================================================\n",
      " conv2d (Conv2D)             (None, 25, 25, 32)        544       \n",
      "                                                                 \n",
      " max_pooling2d (MaxPooling2D  (None, 12, 12, 32)       0         \n",
      " )                                                               \n",
      "                                                                 \n",
      " flatten (Flatten)           (None, 4608)              0         \n",
      "                                                                 \n",
      " dense (Dense)               (None, 128)               589952    \n",
      "                                                                 \n",
      " dense_1 (Dense)             (None, 10)                1290      \n",
      "                                                                 \n",
      "=================================================================\n",
      "Total params: 591,786\n",
      "Trainable params: 591,786\n",
      "Non-trainable params: 0\n",
      "_________________________________________________________________\n"
     ]
    }
   ],
   "source": [
    "model.summary()"
   ]
  },
  {
   "cell_type": "markdown",
   "id": "548ff91d",
   "metadata": {},
   "source": [
    "# Training Model"
   ]
  },
  {
   "cell_type": "markdown",
   "id": "0efd95c7",
   "metadata": {},
   "source": [
    "Training the model in deep learning involves the process of iteratively updating the model's parameters (weights and biases) based on the provided training data to minimize the loss function and improve the model's performance"
   ]
  },
  {
   "cell_type": "code",
   "execution_count": 19,
   "id": "00c76398",
   "metadata": {},
   "outputs": [
    {
     "name": "stdout",
     "output_type": "stream",
     "text": [
      "Epoch 1/10\n",
      "1875/1875 [==============================] - 58s 29ms/step - loss: 0.4061 - accuracy: 0.8545\n",
      "Epoch 2/10\n",
      "1875/1875 [==============================] - 52s 28ms/step - loss: 0.2795 - accuracy: 0.9003\n",
      "Epoch 3/10\n",
      "1875/1875 [==============================] - 49s 26ms/step - loss: 0.2403 - accuracy: 0.9135\n",
      "Epoch 4/10\n",
      "1875/1875 [==============================] - 51s 27ms/step - loss: 0.2165 - accuracy: 0.9225\n",
      "Epoch 5/10\n",
      "1875/1875 [==============================] - 49s 26ms/step - loss: 0.1975 - accuracy: 0.9301\n",
      "Epoch 6/10\n",
      "1875/1875 [==============================] - 51s 27ms/step - loss: 0.1837 - accuracy: 0.9348\n",
      "Epoch 7/10\n",
      "1875/1875 [==============================] - 50s 26ms/step - loss: 0.1753 - accuracy: 0.9377\n",
      "Epoch 8/10\n",
      "1875/1875 [==============================] - 50s 26ms/step - loss: 0.1641 - accuracy: 0.9419\n",
      "Epoch 9/10\n",
      "1875/1875 [==============================] - 50s 26ms/step - loss: 0.1568 - accuracy: 0.9450\n",
      "Epoch 10/10\n",
      "1875/1875 [==============================] - 54s 29ms/step - loss: 0.1496 - accuracy: 0.9469\n"
     ]
    },
    {
     "data": {
      "text/plain": [
       "<keras.callbacks.History at 0x25c4e1b95d0>"
      ]
     },
     "execution_count": 19,
     "metadata": {},
     "output_type": "execute_result"
    }
   ],
   "source": [
    "model.fit(x_train,y_cat_train,epochs=10)"
   ]
  },
  {
   "cell_type": "code",
   "execution_count": 21,
   "id": "6066f6e4",
   "metadata": {},
   "outputs": [],
   "source": [
    "model.save('model_mnist_fashion.h5')"
   ]
  },
  {
   "cell_type": "markdown",
   "id": "9a3bc367",
   "metadata": {},
   "source": [
    "# Learning Curve"
   ]
  },
  {
   "cell_type": "markdown",
   "id": "2769e567",
   "metadata": {},
   "source": [
    "A learning curve is a graphical representation of the performance of a machine learning model on a training dataset and a validation dataset as a function of the training iterations or the amount of training data. It helps visualize how the model's performance improves or plateaus over time as it learns from the data."
   ]
  },
  {
   "cell_type": "code",
   "execution_count": 20,
   "id": "37f388d3",
   "metadata": {},
   "outputs": [],
   "source": [
    "loss = pd.DataFrame(model.history.history)"
   ]
  },
  {
   "cell_type": "code",
   "execution_count": 22,
   "id": "18785b05",
   "metadata": {},
   "outputs": [
    {
     "data": {
      "text/html": [
       "<div>\n",
       "<style scoped>\n",
       "    .dataframe tbody tr th:only-of-type {\n",
       "        vertical-align: middle;\n",
       "    }\n",
       "\n",
       "    .dataframe tbody tr th {\n",
       "        vertical-align: top;\n",
       "    }\n",
       "\n",
       "    .dataframe thead th {\n",
       "        text-align: right;\n",
       "    }\n",
       "</style>\n",
       "<table border=\"1\" class=\"dataframe\">\n",
       "  <thead>\n",
       "    <tr style=\"text-align: right;\">\n",
       "      <th></th>\n",
       "      <th>loss</th>\n",
       "      <th>accuracy</th>\n",
       "    </tr>\n",
       "  </thead>\n",
       "  <tbody>\n",
       "    <tr>\n",
       "      <th>0</th>\n",
       "      <td>0.406099</td>\n",
       "      <td>0.854483</td>\n",
       "    </tr>\n",
       "    <tr>\n",
       "      <th>1</th>\n",
       "      <td>0.279500</td>\n",
       "      <td>0.900300</td>\n",
       "    </tr>\n",
       "    <tr>\n",
       "      <th>2</th>\n",
       "      <td>0.240256</td>\n",
       "      <td>0.913467</td>\n",
       "    </tr>\n",
       "    <tr>\n",
       "      <th>3</th>\n",
       "      <td>0.216533</td>\n",
       "      <td>0.922500</td>\n",
       "    </tr>\n",
       "    <tr>\n",
       "      <th>4</th>\n",
       "      <td>0.197526</td>\n",
       "      <td>0.930050</td>\n",
       "    </tr>\n",
       "  </tbody>\n",
       "</table>\n",
       "</div>"
      ],
      "text/plain": [
       "       loss  accuracy\n",
       "0  0.406099  0.854483\n",
       "1  0.279500  0.900300\n",
       "2  0.240256  0.913467\n",
       "3  0.216533  0.922500\n",
       "4  0.197526  0.930050"
      ]
     },
     "execution_count": 22,
     "metadata": {},
     "output_type": "execute_result"
    }
   ],
   "source": [
    "loss.head()"
   ]
  },
  {
   "cell_type": "code",
   "execution_count": 23,
   "id": "c69fbcd1",
   "metadata": {},
   "outputs": [
    {
     "data": {
      "text/plain": [
       "<AxesSubplot:>"
      ]
     },
     "execution_count": 23,
     "metadata": {},
     "output_type": "execute_result"
    },
    {
     "data": {
      "image/png": "[encoded data removed]",
      "text/plain": [
       "<Figure size 432x288 with 1 Axes>"
      ]
     },
     "metadata": {
      "needs_background": "light"
     },
     "output_type": "display_data"
    }
   ],
   "source": [
    "loss.plot()"
   ]
  },
  {
   "cell_type": "markdown",
   "id": "0ee3fe5c",
   "metadata": {},
   "source": [
    "# Predictiong On x-Test"
   ]
  },
  {
   "cell_type": "code",
   "execution_count": 24,
   "id": "f8f58cf4",
   "metadata": {},
   "outputs": [
    {
     "name": "stdout",
     "output_type": "stream",
     "text": [
      "313/313 [==============================] - 3s 7ms/step\n"
     ]
    }
   ],
   "source": [
    "y_pred = model.predict(x_test)"
   ]
  },
  {
   "cell_type": "code",
   "execution_count": 25,
   "id": "43350373",
   "metadata": {},
   "outputs": [],
   "source": [
    "predict_class = y_pred.argmax(axis = 1)"
   ]
  },
  {
   "cell_type": "code",
   "execution_count": 26,
   "id": "fe285e33",
   "metadata": {},
   "outputs": [
    {
     "data": {
      "text/plain": [
       "array([9, 2, 1, ..., 8, 1, 7], dtype=int64)"
      ]
     },
     "execution_count": 26,
     "metadata": {},
     "output_type": "execute_result"
    }
   ],
   "source": [
    "predict_class"
   ]
  },
  {
   "cell_type": "code",
   "execution_count": 27,
   "id": "e628f42b",
   "metadata": {},
   "outputs": [
    {
     "name": "stdout",
     "output_type": "stream",
     "text": [
      "7\n",
      "7\n"
     ]
    },
    {
     "data": {
      "text/plain": [
       "(None, None)"
      ]
     },
     "execution_count": 27,
     "metadata": {},
     "output_type": "execute_result"
    }
   ],
   "source": [
    "print(y_test[9]), print(predict_class[9])"
   ]
  },
  {
   "cell_type": "markdown",
   "id": "a5f277b8",
   "metadata": {},
   "source": [
    "# Error Analysis "
   ]
  },
  {
   "cell_type": "markdown",
   "id": "38026b58",
   "metadata": {},
   "source": [
    "Error analysis is an important step in evaluating and improving the performance of a machine learning model. It involves analyzing the errors made by the model during predictions to gain insights into the patterns, sources, and potential improvements."
   ]
  },
  {
   "cell_type": "code",
   "execution_count": 28,
   "id": "9754fd18",
   "metadata": {},
   "outputs": [],
   "source": [
    "from sklearn.metrics import accuracy_score, classification_report, confusion_matrix"
   ]
  },
  {
   "cell_type": "markdown",
   "id": "63fb23bb",
   "metadata": {},
   "source": [
    "# Accuracy Score"
   ]
  },
  {
   "cell_type": "markdown",
   "id": "9cb7a26a",
   "metadata": {},
   "source": [
    "To compute the accuracy score of your model's predictions on the x_test dataset, we need access to the true labels or targets associated with the x_test samples. Since we have the true labels available as y_test, we can use the scikit-learn library's accuracy_score() function to calculate the accuracy."
   ]
  },
  {
   "cell_type": "code",
   "execution_count": 29,
   "id": "3a5f9e79",
   "metadata": {},
   "outputs": [],
   "source": [
    "accuracy_score = accuracy_score(y_test, predict_class)"
   ]
  },
  {
   "cell_type": "code",
   "execution_count": 30,
   "id": "a63510ac",
   "metadata": {},
   "outputs": [
    {
     "data": {
      "text/plain": [
       "0.9002"
      ]
     },
     "execution_count": 30,
     "metadata": {},
     "output_type": "execute_result"
    }
   ],
   "source": [
    "accuracy_score"
   ]
  },
  {
   "cell_type": "markdown",
   "id": "6b2f57b6",
   "metadata": {},
   "source": [
    "# Classification Report"
   ]
  },
  {
   "cell_type": "markdown",
   "id": "6d4e4934",
   "metadata": {},
   "source": [
    "To generate a classification report for evaluating the performance of a classification model on the x_test dataset, we need access to the true labels or targets associated with the samples. Since we have the true labels available as y_test, we can use the scikit-learn library's classification_report() function to generate the report."
   ]
  },
  {
   "cell_type": "code",
   "execution_count": 31,
   "id": "6555b812",
   "metadata": {},
   "outputs": [
    {
     "name": "stdout",
     "output_type": "stream",
     "text": [
      "              precision    recall  f1-score   support\n",
      "\n",
      "           0       0.80      0.89      0.84      1000\n",
      "           1       0.99      0.98      0.98      1000\n",
      "           2       0.87      0.80      0.83      1000\n",
      "           3       0.88      0.95      0.91      1000\n",
      "           4       0.78      0.90      0.84      1000\n",
      "           5       0.98      0.96      0.97      1000\n",
      "           6       0.82      0.61      0.70      1000\n",
      "           7       0.93      0.98      0.96      1000\n",
      "           8       0.98      0.98      0.98      1000\n",
      "           9       0.97      0.95      0.96      1000\n",
      "\n",
      "    accuracy                           0.90     10000\n",
      "   macro avg       0.90      0.90      0.90     10000\n",
      "weighted avg       0.90      0.90      0.90     10000\n",
      "\n"
     ]
    }
   ],
   "source": [
    "print(classification_report(y_test, predict_class))"
   ]
  },
  {
   "cell_type": "markdown",
   "id": "6a665296",
   "metadata": {},
   "source": [
    "# Confusion Matrix"
   ]
  },
  {
   "cell_type": "markdown",
   "id": "ae172709",
   "metadata": {},
   "source": [
    "To generate a confusion matrix for evaluating the performance of a classification model on the x_test dataset, we need access to the true labels or targets associated with the samples. Since we have the true labels available as y_test, we can use the scikit-learn library's confusion_matrix() function to generate the matrix."
   ]
  },
  {
   "cell_type": "code",
   "execution_count": 32,
   "id": "d3356fcc",
   "metadata": {},
   "outputs": [],
   "source": [
    "confusion_matrix = confusion_matrix(y_test, predict_class)"
   ]
  },
  {
   "cell_type": "code",
   "execution_count": 33,
   "id": "f68a3903",
   "metadata": {},
   "outputs": [
    {
     "data": {
      "text/plain": [
       "array([[887,   2,  15,  27,   6,   0,  56,   0,   7,   0],\n",
       "       [  2, 976,   0,  17,   1,   0,   1,   0,   3,   0],\n",
       "       [ 27,   0, 801,  13, 114,   0,  43,   0,   2,   0],\n",
       "       [ 14,   4,   6, 949,  20,   0,   7,   0,   0,   0],\n",
       "       [  1,   1,  31,  36, 902,   0,  27,   0,   2,   0],\n",
       "       [  0,   0,   0,   1,   0, 962,   0,  22,   0,  15],\n",
       "       [168,   0,  63,  36, 108,   0, 615,   0,  10,   0],\n",
       "       [  0,   0,   0,   0,   0,   9,   0, 979,   1,  11],\n",
       "       [  4,   0,   3,   2,   1,   3,   3,   2, 981,   1],\n",
       "       [  0,   0,   0,   0,   0,   4,   1,  45,   0, 950]], dtype=int64)"
      ]
     },
     "execution_count": 33,
     "metadata": {},
     "output_type": "execute_result"
    }
   ],
   "source": [
    "confusion_matrix"
   ]
  },
  {
   "cell_type": "code",
   "execution_count": 35,
   "id": "09e10090",
   "metadata": {},
   "outputs": [
    {
     "data": {
      "text/plain": [
       "<AxesSubplot:>"
      ]
     },
     "execution_count": 35,
     "metadata": {},
     "output_type": "execute_result"
    },
    {
     "data": {
      "image/png": "[encoded data removed]",
      "text/plain": [
       "<Figure size 720x576 with 2 Axes>"
      ]
     },
     "metadata": {
      "needs_background": "light"
     },
     "output_type": "display_data"
    }
   ],
   "source": [
    "plt.figure(figsize = (10, 8))\n",
    "sns.heatmap(confusion_matrix, \n",
    "            annot =  True, \n",
    "            cmap = 'RdPu')"
   ]
  },
  {
   "cell_type": "markdown",
   "id": "c8da0dfd",
   "metadata": {},
   "source": [
    "# Thanks !"
   ]
  }
 ],
 "metadata": {
  "kernelspec": {
   "display_name": "Python 3 (ipykernel)",
   "language": "python",
   "name": "python3"
  },
  "language_info": {
   "codemirror_mode": {
    "name": "ipython",
    "version": 3
   },
   "file_extension": ".py",
   "mimetype": "text/x-python",
   "name": "python",
   "nbconvert_exporter": "python",
   "pygments_lexer": "ipython3",
   "version": "3.10.9"
  }
 },
 "nbformat": 4,
 "nbformat_minor": 5
}
